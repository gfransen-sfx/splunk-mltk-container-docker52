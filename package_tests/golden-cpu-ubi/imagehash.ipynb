{
 "cells": [
  {
   "cell_type": "code",
   "execution_count": 1,
   "id": "02f324ed",
   "metadata": {},
   "outputs": [
    {
     "name": "stdout",
     "output_type": "stream",
     "text": [
      "Step 1: Importing imagehash and PIL passed.\n",
      "Step 2: Basic ImageHash functionality (Average Hash) passed.\n",
      "Step 3: Compare two similar images using hash passed.\n",
      "Step 4: Test different hash algorithms (phash, dhash, whash) passed.\n",
      "Step 5: Verifying hash consistency with slight image modifications passed.\n",
      "All extensive tests for the 'imagehash' package completed successfully.\n"
     ]
    }
   ],
   "source": [
    "# Step 1: Import the package\n",
    "try:\n",
    "    import imagehash\n",
    "    from PIL import Image\n",
    "    print(\"Step 1: Importing imagehash and PIL passed.\")\n",
    "except ImportError:\n",
    "    print(\"Step 1 failed: 'imagehash' or 'PIL' (Pillow) is not installed.\")\n",
    "    sys.exit(1)\n",
    "except Exception as e:\n",
    "    print(f\"Step 1 failed with an unexpected error: {str(e)}\")\n",
    "    sys.exit(1)\n",
    "\n",
    "# Step 2: Basic ImageHash functionality (Average Hash)\n",
    "try:\n",
    "    image = Image.new('RGB', (8, 8), color = 'red')\n",
    "    hash_value = imagehash.average_hash(image)\n",
    "    assert isinstance(hash_value, imagehash.ImageHash), f\"Expected ImageHash object, got {type(hash_value)}\"\n",
    "    print(\"Step 2: Basic ImageHash functionality (Average Hash) passed.\")\n",
    "except Exception as e:\n",
    "    print(f\"Step 2 failed: {str(e)}\")\n",
    "    sys.exit(1)\n",
    "\n",
    "# Step 3: Compare two similar images using hash\n",
    "try:\n",
    "    image1 = Image.new('RGB', (8, 8), color = 'red')\n",
    "    image2 = Image.new('RGB', (8, 8), color = 'red')\n",
    "    hash1 = imagehash.average_hash(image1)\n",
    "    hash2 = imagehash.average_hash(image2)\n",
    "    \n",
    "    difference = hash1 - hash2\n",
    "    assert difference == 0, f\"Expected hash difference of 0, got {difference}\"\n",
    "    print(\"Step 3: Compare two similar images using hash passed.\")\n",
    "except Exception as e:\n",
    "    print(f\"Step 3 failed: {str(e)}\")\n",
    "    sys.exit(1)\n",
    "\n",
    "# Step 4: Test different hash algorithms (phash, dhash, whash)\n",
    "try:\n",
    "    phash = imagehash.phash(image)\n",
    "    dhash = imagehash.dhash(image)\n",
    "    whash = imagehash.whash(image)\n",
    "    \n",
    "    assert isinstance(phash, imagehash.ImageHash), \"phash failed to generate a valid hash.\"\n",
    "    assert isinstance(dhash, imagehash.ImageHash), \"dhash failed to generate a valid hash.\"\n",
    "    assert isinstance(whash, imagehash.ImageHash), \"whash failed to generate a valid hash.\"\n",
    "    \n",
    "    print(\"Step 4: Test different hash algorithms (phash, dhash, whash) passed.\")\n",
    "except Exception as e:\n",
    "    print(f\"Step 4 failed: {str(e)}\")\n",
    "    sys.exit(1)\n",
    "\n",
    "# Step 5: Verifying hash consistency with slight image modifications\n",
    "try:\n",
    "    image_modified = Image.new('RGB', (8, 8), color = (255, 0, 0))\n",
    "    original_hash = imagehash.average_hash(image)\n",
    "    modified_hash = imagehash.average_hash(image_modified)\n",
    "    \n",
    "    difference = original_hash - modified_hash\n",
    "    assert difference <= 10, f\"Expected small hash difference for similar images, got {difference}\"\n",
    "    \n",
    "    print(\"Step 5: Verifying hash consistency with slight image modifications passed.\")\n",
    "except Exception as e:\n",
    "    print(f\"Step 5 failed: {str(e)}\")\n",
    "    sys.exit(1)\n",
    "\n",
    "# Final Confirmation\n",
    "print(\"All extensive tests for the 'imagehash' package completed successfully.\")\n"
   ]
  },
  {
   "cell_type": "code",
   "execution_count": null,
   "id": "b53c3624-230c-4960-ae62-ab26533528c9",
   "metadata": {},
   "outputs": [],
   "source": []
  }
 ],
 "metadata": {
  "kernelspec": {
   "display_name": "Python 3 (ipykernel)",
   "language": "python",
   "name": "python3"
  },
  "language_info": {
   "codemirror_mode": {
    "name": "ipython",
    "version": 3
   },
   "file_extension": ".py",
   "mimetype": "text/x-python",
   "name": "python",
   "nbconvert_exporter": "python",
   "pygments_lexer": "ipython3",
   "version": "3.9.13"
  }
 },
 "nbformat": 4,
 "nbformat_minor": 5
}
