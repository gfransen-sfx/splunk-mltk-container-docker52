{
 "cells": [
  {
   "cell_type": "code",
   "execution_count": 3,
   "id": "93d54126",
   "metadata": {},
   "outputs": [
    {
     "name": "stdout",
     "output_type": "stream",
     "text": [
      "Step 1: Importing mlflow and required libraries passed.\n",
      "Step 2: Setting up an MLflow experiment passed.\n",
      "Step 3: Logging a simple metric and parameter passed.\n"
     ]
    },
    {
     "data": {
      "application/vnd.jupyter.widget-view+json": {
       "model_id": "eb53c096fe0243b28338fb57b0e0204d",
       "version_major": 2,
       "version_minor": 0
      },
      "text/plain": [
       "Downloading artifacts:   0%|          | 0/7 [00:00<?, ?it/s]"
      ]
     },
     "metadata": {},
     "output_type": "display_data"
    },
    {
     "name": "stdout",
     "output_type": "stream",
     "text": [
      "Step 4: Logging a model passed.\n",
      "All tests for the 'mlflow' package completed successfully.\n"
     ]
    }
   ],
   "source": [
    "# Step 1: Import the package\n",
    "try:\n",
    "    import mlflow\n",
    "    from sklearn.ensemble import RandomForestClassifier\n",
    "    from sklearn.datasets import load_iris\n",
    "    from sklearn.model_selection import train_test_split\n",
    "    \n",
    "    print(\"Step 1: Importing mlflow and required libraries passed.\")\n",
    "except ImportError as e:\n",
    "    print(f\"Step 1 failed: {str(e)}. Required packages are not installed.\")\n",
    "    sys.exit(1)\n",
    "except Exception as e:\n",
    "    print(f\"Step 1 failed with an unexpected error: {str(e)}\")\n",
    "    sys.exit(1)\n",
    "\n",
    "# Step 2: Set up an MLflow experiment\n",
    "try:\n",
    "    mlflow.set_experiment(\"test_experiment\")\n",
    "    print(\"Step 2: Setting up an MLflow experiment passed.\")\n",
    "except Exception as e:\n",
    "    print(f\"Step 2 failed: {str(e)}\")\n",
    "    sys.exit(1)\n",
    "\n",
    "# Step 3: Log a simple metric and parameter\n",
    "try:\n",
    "    with mlflow.start_run():\n",
    "        mlflow.log_metric(\"accuracy\", 0.9)\n",
    "        mlflow.log_param(\"learning_rate\", 0.01)\n",
    "    print(\"Step 3: Logging a simple metric and parameter passed.\")\n",
    "except Exception as e:\n",
    "    print(f\"Step 3 failed: {str(e)}\")\n",
    "    sys.exit(1)\n",
    "\n",
    "# Step 4: Log a model\n",
    "try:\n",
    "    # Load data and train the model\n",
    "    iris = load_iris()\n",
    "    X_train, X_test, y_train, y_test = train_test_split(iris.data, iris.target, random_state=42)\n",
    "    model = RandomForestClassifier()\n",
    "    model.fit(X_train, y_train)\n",
    "\n",
    "    # Log the model with an input example for better model signature\n",
    "    with mlflow.start_run():\n",
    "        input_example = X_test[:5]\n",
    "        mlflow.sklearn.log_model(model, \"random_forest_model\", input_example=input_example)\n",
    "    print(\"Step 4: Logging a model passed.\")\n",
    "except ImportError as e:\n",
    "    print(f\"Step 4 failed: {str(e)}. Required dependencies for model training are not installed (e.g., sklearn).\")\n",
    "    sys.exit(1)\n",
    "except Exception as e:\n",
    "    print(f\"Step 4 failed: {str(e)}\")\n",
    "    sys.exit(1)\n",
    "\n",
    "# Final Confirmation\n",
    "print(\"All tests for the 'mlflow' package completed successfully.\")\n"
   ]
  },
  {
   "cell_type": "code",
   "execution_count": null,
   "id": "db9f2b1c-677f-4f0a-b017-28a7fb4fd6c6",
   "metadata": {},
   "outputs": [],
   "source": []
  }
 ],
 "metadata": {
  "kernelspec": {
   "display_name": "Python 3 (ipykernel)",
   "language": "python",
   "name": "python3"
  },
  "language_info": {
   "codemirror_mode": {
    "name": "ipython",
    "version": 3
   },
   "file_extension": ".py",
   "mimetype": "text/x-python",
   "name": "python",
   "nbconvert_exporter": "python",
   "pygments_lexer": "ipython3",
   "version": "3.9.13"
  }
 },
 "nbformat": 4,
 "nbformat_minor": 5
}
