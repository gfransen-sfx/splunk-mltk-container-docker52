{
 "cells": [
  {
   "cell_type": "code",
   "execution_count": null,
   "id": "14474565-a2ab-4a45-9a52-032bd0bc31eb",
   "metadata": {},
   "outputs": [],
   "source": []
  },
  {
   "cell_type": "markdown",
   "id": "6d94910a-8835-4da5-8d4f-2e32e6b3bb01",
   "metadata": {},
   "source": [
    "# Splunk App for Data Science and Deep Learning - Notebook Template "
   ]
  },
  {
   "cell_type": "markdown",
   "id": "4104601e-320a-40b3-83d1-9cb357e8c19c",
   "metadata": {},
   "source": [
    "This notebook contains a barebone example workflow how to work on custom containerized code that seamlessly interfaces with you Splunk platform by utilizing the Splunk App for Data Science and Deep Learning (DSDL) - formerly known as the Deep Learning Toolkit for Splunk (DLTK). Find more examples and information in the app and on the [DSDL splunkbase page](https://splunkbase.splunk.com/app/4607/#/details)."
   ]
  },
  {
   "cell_type": "markdown",
   "id": "6e795909-97b1-4626-8b23-61cbe1d44207",
   "metadata": {},
   "source": [
    "Note: By default every time you save this notebook the stages main cells are exported into a python module which can then get invoked by Splunk's MLTK SPL commands like <code> | fit ... | apply ... | summary </code>. Please read the Model Development Guide in the DSDL app for more information about this workflow."
   ]
  },
  {
   "cell_type": "markdown",
   "id": "b8b56130-2ea6-4d05-a362-458e23b7b6d1",
   "metadata": {},
   "source": [
    "## Stage 0 - import libraries\n",
    "At stage 0 we define all imports necessary to run our subsequent code depending on various libraries."
   ]
  },
  {
   "cell_type": "code",
   "execution_count": 1,
   "id": "96320164-ae78-4fbc-8524-434b37958399",
   "metadata": {
    "name": "mltkc_import"
   },
   "outputs": [],
   "source": [
    "# this definition exposes all python module imports that should be available in all subsequent commands\n",
    "import json\n",
    "import numpy as np\n",
    "import pandas as pd\n",
    "import os\n",
    "# ...\n",
    "# global constants\n",
    "MODEL_DIRECTORY = \"/srv/app/model/data/\""
   ]
  },
  {
   "cell_type": "code",
   "execution_count": 2,
   "id": "89a888ac-6bc4-49da-b8c4-dd9843ac7652",
   "metadata": {},
   "outputs": [
    {
     "name": "stdout",
     "output_type": "stream",
     "text": [
      "numpy version: 1.26.4\n",
      "pandas version: 2.2.3\n"
     ]
    }
   ],
   "source": [
    "# THIS CELL IS NOT EXPORTED - free notebook cell for testing or development purposes\n",
    "print(\"numpy version: \" + np.__version__)\n",
    "print(\"pandas version: \" + pd.__version__)"
   ]
  },
  {
   "cell_type": "markdown",
   "id": "918e9eea-c539-43f1-8a01-89d687124b40",
   "metadata": {},
   "source": [
    "## Stage 1 - get a data sample from Splunk\n",
    "There are currently 2 ways to retrieve data from Splunk: Option 1 is to interactively pull data from Splunk into the DSDL Jupyter Lab environment. This is useful when the Splunk REST API is accessible from the Jupyter environment and a valid Splunk auth token is defined in the DSDL app. This option has advantages to quickly experiment with different Splunk SPL queries and further interactively work with the search results in Jupyter.\n",
    "\n",
    "### Option 1 - pull data from Splunk"
   ]
  },
  {
   "cell_type": "code",
   "execution_count": 3,
   "id": "a95e3269-a625-44e7-b50c-52ed3a2111f6",
   "metadata": {},
   "outputs": [],
   "source": [
    "from dsdlsupport import SplunkSearch as SplunkSearch"
   ]
  },
  {
   "cell_type": "code",
   "execution_count": 4,
   "id": "abf1aa84-30ef-4632-bd9e-22efaed0f900",
   "metadata": {},
   "outputs": [
    {
     "data": {
      "application/vnd.jupyter.widget-view+json": {
       "model_id": "02f5e31bafd540b8af68627b8f3c360c",
       "version_major": 2,
       "version_minor": 0
      },
      "text/plain": [
       "VBox(children=(HBox(children=(Textarea(value='| makeresults count=10 \\n| streamstats c as i \\n| eval s = i%3 \\…"
      ]
     },
     "metadata": {},
     "output_type": "display_data"
    }
   ],
   "source": [
    "search = SplunkSearch.SplunkSearch()"
   ]
  },
  {
   "cell_type": "code",
   "execution_count": 5,
   "id": "797c2f6b-b2fb-4aba-92ac-5df9be8787cc",
   "metadata": {},
   "outputs": [
    {
     "data": {
      "text/html": [
       "<div>\n",
       "<style scoped>\n",
       "    .dataframe tbody tr th:only-of-type {\n",
       "        vertical-align: middle;\n",
       "    }\n",
       "\n",
       "    .dataframe tbody tr th {\n",
       "        vertical-align: top;\n",
       "    }\n",
       "\n",
       "    .dataframe thead th {\n",
       "        text-align: right;\n",
       "    }\n",
       "</style>\n",
       "<table border=\"1\" class=\"dataframe\">\n",
       "  <thead>\n",
       "    <tr style=\"text-align: right;\">\n",
       "      <th></th>\n",
       "      <th>_time</th>\n",
       "      <th>feature_0</th>\n",
       "      <th>feature_1</th>\n",
       "      <th>feature_2</th>\n",
       "      <th>i</th>\n",
       "      <th>s</th>\n",
       "    </tr>\n",
       "  </thead>\n",
       "  <tbody>\n",
       "    <tr>\n",
       "      <th>0</th>\n",
       "      <td>2024-09-20T17:39:24.000+02:00</td>\n",
       "      <td>0.7479193396866322</td>\n",
       "      <td>0.6095915557816625</td>\n",
       "      <td>0.35341535741463304</td>\n",
       "      <td>1</td>\n",
       "      <td>1</td>\n",
       "    </tr>\n",
       "    <tr>\n",
       "      <th>1</th>\n",
       "      <td>2024-09-20T17:39:24.000+02:00</td>\n",
       "      <td>0.7684882110916078</td>\n",
       "      <td>0.9494387060403824</td>\n",
       "      <td>0.3567090374417603</td>\n",
       "      <td>2</td>\n",
       "      <td>2</td>\n",
       "    </tr>\n",
       "    <tr>\n",
       "      <th>2</th>\n",
       "      <td>2024-09-20T17:39:24.000+02:00</td>\n",
       "      <td>0.4815087844617665</td>\n",
       "      <td>0.5215603411197662</td>\n",
       "      <td>0.5110989357344806</td>\n",
       "      <td>3</td>\n",
       "      <td>0</td>\n",
       "    </tr>\n",
       "    <tr>\n",
       "      <th>3</th>\n",
       "      <td>2024-09-20T17:39:24.000+02:00</td>\n",
       "      <td>0.7850361596792936</td>\n",
       "      <td>0.6264563561417162</td>\n",
       "      <td>0.730981633067131</td>\n",
       "      <td>4</td>\n",
       "      <td>1</td>\n",
       "    </tr>\n",
       "    <tr>\n",
       "      <th>4</th>\n",
       "      <td>2024-09-20T17:39:24.000+02:00</td>\n",
       "      <td>0.18881695484742522</td>\n",
       "      <td>0.46552519127726555</td>\n",
       "      <td>0.16302273701876402</td>\n",
       "      <td>5</td>\n",
       "      <td>2</td>\n",
       "    </tr>\n",
       "    <tr>\n",
       "      <th>5</th>\n",
       "      <td>2024-09-20T17:39:24.000+02:00</td>\n",
       "      <td>0.37600346421822906</td>\n",
       "      <td>0.10779458377510309</td>\n",
       "      <td>0.009006098844110966</td>\n",
       "      <td>6</td>\n",
       "      <td>0</td>\n",
       "    </tr>\n",
       "    <tr>\n",
       "      <th>6</th>\n",
       "      <td>2024-09-20T17:39:24.000+02:00</td>\n",
       "      <td>0.36187303718179464</td>\n",
       "      <td>0.4258803175762296</td>\n",
       "      <td>0.23626281367614865</td>\n",
       "      <td>7</td>\n",
       "      <td>1</td>\n",
       "    </tr>\n",
       "    <tr>\n",
       "      <th>7</th>\n",
       "      <td>2024-09-20T17:39:24.000+02:00</td>\n",
       "      <td>0.7082957876846194</td>\n",
       "      <td>0.2869397671893239</td>\n",
       "      <td>0.6502283890731633</td>\n",
       "      <td>8</td>\n",
       "      <td>2</td>\n",
       "    </tr>\n",
       "    <tr>\n",
       "      <th>8</th>\n",
       "      <td>2024-09-20T17:39:24.000+02:00</td>\n",
       "      <td>0.7963134637102485</td>\n",
       "      <td>0.8004127754829824</td>\n",
       "      <td>0.8560442295856774</td>\n",
       "      <td>9</td>\n",
       "      <td>0</td>\n",
       "    </tr>\n",
       "    <tr>\n",
       "      <th>9</th>\n",
       "      <td>2024-09-20T17:39:24.000+02:00</td>\n",
       "      <td>0.8209263710305095</td>\n",
       "      <td>0.24220526218414307</td>\n",
       "      <td>0.6967716538347304</td>\n",
       "      <td>10</td>\n",
       "      <td>1</td>\n",
       "    </tr>\n",
       "  </tbody>\n",
       "</table>\n",
       "</div>"
      ],
      "text/plain": [
       "                           _time            feature_0            feature_1  \\\n",
       "0  2024-09-20T17:39:24.000+02:00   0.7479193396866322   0.6095915557816625   \n",
       "1  2024-09-20T17:39:24.000+02:00   0.7684882110916078   0.9494387060403824   \n",
       "2  2024-09-20T17:39:24.000+02:00   0.4815087844617665   0.5215603411197662   \n",
       "3  2024-09-20T17:39:24.000+02:00   0.7850361596792936   0.6264563561417162   \n",
       "4  2024-09-20T17:39:24.000+02:00  0.18881695484742522  0.46552519127726555   \n",
       "5  2024-09-20T17:39:24.000+02:00  0.37600346421822906  0.10779458377510309   \n",
       "6  2024-09-20T17:39:24.000+02:00  0.36187303718179464   0.4258803175762296   \n",
       "7  2024-09-20T17:39:24.000+02:00   0.7082957876846194   0.2869397671893239   \n",
       "8  2024-09-20T17:39:24.000+02:00   0.7963134637102485   0.8004127754829824   \n",
       "9  2024-09-20T17:39:24.000+02:00   0.8209263710305095  0.24220526218414307   \n",
       "\n",
       "              feature_2   i  s  \n",
       "0   0.35341535741463304   1  1  \n",
       "1    0.3567090374417603   2  2  \n",
       "2    0.5110989357344806   3  0  \n",
       "3     0.730981633067131   4  1  \n",
       "4   0.16302273701876402   5  2  \n",
       "5  0.009006098844110966   6  0  \n",
       "6   0.23626281367614865   7  1  \n",
       "7    0.6502283890731633   8  2  \n",
       "8    0.8560442295856774   9  0  \n",
       "9    0.6967716538347304  10  1  "
      ]
     },
     "execution_count": 5,
     "metadata": {},
     "output_type": "execute_result"
    }
   ],
   "source": [
    "df = search.as_df()\n",
    "df"
   ]
  },
  {
   "cell_type": "markdown",
   "id": "cb901f33-717f-4175-9ed0-9393d9465570",
   "metadata": {},
   "source": [
    "### Option 2 - push data from Splunk\n",
    "In Splunk run a search to pipe a dataset into your notebook environment. You utilize the `mode=stage` flag in the in the `| fit` command to do this. The search results are accessible then as csv file with the same model name that is defined in the `into app:<modelname>` part of the fit statement. Additionally, meta data is retrieved and accessible as json file. In the same way you can further work with the meta data object as it is exposed in the fit and apply function definitions below in stage 3 and 4."
   ]
  },
  {
   "cell_type": "markdown",
   "id": "d923ba98-2204-4667-b028-a541b586dc83",
   "metadata": {},
   "source": [
    "| makeresults count=10<br>\n",
    "| streamstats c as i <br>\n",
    "| eval s = i%3 <br>\n",
    "| eval feature_{s}=0 <br>\n",
    "| foreach feature_* [eval \\<\\<FIELD\\>\\>=random()/pow(2,31)]<br>\n",
    "| fit MLTKContainer mode=stage algo=barebone_template _time feature_* i into app:barebone_template<br>"
   ]
  },
  {
   "cell_type": "markdown",
   "id": "6a2a4996-e835-4bd5-811d-8912881bf453",
   "metadata": {},
   "source": [
    "After you run this search your data set sample is available as a csv inside the container to develop your model. The name is taken from the into keyword (\"barebone_model\" in the example above) or set to \"default\" if no into keyword is present. This step is intended to work with a subset of your data to create your custom model."
   ]
  },
  {
   "cell_type": "code",
   "execution_count": 14,
   "id": "51e91a24-e731-4556-b8df-f0f384a9e82b",
   "metadata": {
    "name": "mltkc_stage"
   },
   "outputs": [],
   "source": [
    "# this cell is not executed from MLTK and should only be used for staging data into the notebook environment\n",
    "def stage(name):\n",
    "    with open(\"/srv/notebooks/data/\"+name+\".csv\", 'r') as f:\n",
    "        df = pd.read_csv(f)\n",
    "    with open(\"/srv/notebooks/data/\"+name+\".json\", 'r') as f:\n",
    "        param = json.load(f)\n",
    "    return df, param"
   ]
  },
  {
   "cell_type": "code",
   "execution_count": 15,
   "id": "fc479f3d-34b0-4188-9311-a00471bbbaeb",
   "metadata": {},
   "outputs": [],
   "source": [
    "# THIS CELL IS NOT EXPORTED - free notebook cell for testing or development purposes\n",
    "df, param = stage(\"barebone_template\")"
   ]
  },
  {
   "cell_type": "code",
   "execution_count": 16,
   "id": "33956728-e5a8-4311-a43f-e0ad3d8ddca2",
   "metadata": {},
   "outputs": [
    {
     "data": {
      "text/html": [
       "<div>\n",
       "<style scoped>\n",
       "    .dataframe tbody tr th:only-of-type {\n",
       "        vertical-align: middle;\n",
       "    }\n",
       "\n",
       "    .dataframe tbody tr th {\n",
       "        vertical-align: top;\n",
       "    }\n",
       "\n",
       "    .dataframe thead th {\n",
       "        text-align: right;\n",
       "    }\n",
       "</style>\n",
       "<table border=\"1\" class=\"dataframe\">\n",
       "  <thead>\n",
       "    <tr style=\"text-align: right;\">\n",
       "      <th></th>\n",
       "      <th>_time</th>\n",
       "      <th>i</th>\n",
       "      <th>feature_1</th>\n",
       "      <th>feature_2</th>\n",
       "      <th>feature_0</th>\n",
       "    </tr>\n",
       "  </thead>\n",
       "  <tbody>\n",
       "    <tr>\n",
       "      <th>0</th>\n",
       "      <td>1725374037</td>\n",
       "      <td>1</td>\n",
       "      <td>0.031864</td>\n",
       "      <td>0.284246</td>\n",
       "      <td>0.766344</td>\n",
       "    </tr>\n",
       "    <tr>\n",
       "      <th>1</th>\n",
       "      <td>1725374037</td>\n",
       "      <td>2</td>\n",
       "      <td>0.530662</td>\n",
       "      <td>0.393207</td>\n",
       "      <td>0.390361</td>\n",
       "    </tr>\n",
       "    <tr>\n",
       "      <th>2</th>\n",
       "      <td>1725374037</td>\n",
       "      <td>3</td>\n",
       "      <td>0.726139</td>\n",
       "      <td>0.496824</td>\n",
       "      <td>0.115615</td>\n",
       "    </tr>\n",
       "    <tr>\n",
       "      <th>3</th>\n",
       "      <td>1725374037</td>\n",
       "      <td>4</td>\n",
       "      <td>0.653525</td>\n",
       "      <td>0.426098</td>\n",
       "      <td>0.837128</td>\n",
       "    </tr>\n",
       "    <tr>\n",
       "      <th>4</th>\n",
       "      <td>1725374037</td>\n",
       "      <td>5</td>\n",
       "      <td>0.035622</td>\n",
       "      <td>0.322095</td>\n",
       "      <td>0.554212</td>\n",
       "    </tr>\n",
       "    <tr>\n",
       "      <th>5</th>\n",
       "      <td>1725374037</td>\n",
       "      <td>6</td>\n",
       "      <td>0.925372</td>\n",
       "      <td>0.668078</td>\n",
       "      <td>0.979063</td>\n",
       "    </tr>\n",
       "    <tr>\n",
       "      <th>6</th>\n",
       "      <td>1725374037</td>\n",
       "      <td>7</td>\n",
       "      <td>0.830713</td>\n",
       "      <td>0.803215</td>\n",
       "      <td>0.445145</td>\n",
       "    </tr>\n",
       "    <tr>\n",
       "      <th>7</th>\n",
       "      <td>1725374037</td>\n",
       "      <td>8</td>\n",
       "      <td>0.906020</td>\n",
       "      <td>0.782279</td>\n",
       "      <td>0.312434</td>\n",
       "    </tr>\n",
       "    <tr>\n",
       "      <th>8</th>\n",
       "      <td>1725374037</td>\n",
       "      <td>9</td>\n",
       "      <td>0.964099</td>\n",
       "      <td>0.633082</td>\n",
       "      <td>0.340853</td>\n",
       "    </tr>\n",
       "    <tr>\n",
       "      <th>9</th>\n",
       "      <td>1725374037</td>\n",
       "      <td>10</td>\n",
       "      <td>0.807695</td>\n",
       "      <td>0.792692</td>\n",
       "      <td>0.248587</td>\n",
       "    </tr>\n",
       "  </tbody>\n",
       "</table>\n",
       "</div>"
      ],
      "text/plain": [
       "        _time   i  feature_1  feature_2  feature_0\n",
       "0  1725374037   1   0.031864   0.284246   0.766344\n",
       "1  1725374037   2   0.530662   0.393207   0.390361\n",
       "2  1725374037   3   0.726139   0.496824   0.115615\n",
       "3  1725374037   4   0.653525   0.426098   0.837128\n",
       "4  1725374037   5   0.035622   0.322095   0.554212\n",
       "5  1725374037   6   0.925372   0.668078   0.979063\n",
       "6  1725374037   7   0.830713   0.803215   0.445145\n",
       "7  1725374037   8   0.906020   0.782279   0.312434\n",
       "8  1725374037   9   0.964099   0.633082   0.340853\n",
       "9  1725374037  10   0.807695   0.792692   0.248587"
      ]
     },
     "execution_count": 16,
     "metadata": {},
     "output_type": "execute_result"
    }
   ],
   "source": [
    "df"
   ]
  },
  {
   "cell_type": "code",
   "execution_count": 17,
   "id": "7d456647-5f70-4b76-82c5-5d62d1131c1f",
   "metadata": {},
   "outputs": [
    {
     "data": {
      "text/plain": [
       "{'options': {'params': {'mode': 'stage', 'algo': 'barebone_template'},\n",
       "  'args': ['_time', 'feature*', 'i'],\n",
       "  'feature_variables': ['_time', 'feature*', 'i'],\n",
       "  'model_name': 'barebone_template3',\n",
       "  'algo_name': 'MLTKContainer',\n",
       "  'mlspl_limits': {'handle_new_cat': 'default',\n",
       "   'max_distinct_cat_values': '100',\n",
       "   'max_distinct_cat_values_for_classifiers': '100',\n",
       "   'max_distinct_cat_values_for_scoring': '100',\n",
       "   'max_fit_time': '600',\n",
       "   'max_inputs': '100000',\n",
       "   'max_memory_usage_mb': '4000',\n",
       "   'max_model_size_mb': '30',\n",
       "   'max_score_time': '600',\n",
       "   'use_sampling': 'true'},\n",
       "  'kfold_cv': None},\n",
       " 'feature_variables': ['_time', 'feature_1', 'feature_2', 'feature_0', 'i']}"
      ]
     },
     "execution_count": 17,
     "metadata": {},
     "output_type": "execute_result"
    }
   ],
   "source": [
    "param"
   ]
  },
  {
   "cell_type": "markdown",
   "id": "9abfb636-c57b-44da-b356-f56dea66c37a",
   "metadata": {},
   "source": [
    "## Stage 2 - create and initialize a model"
   ]
  },
  {
   "cell_type": "code",
   "execution_count": 18,
   "id": "d270f220-e4ef-4a66-9922-b0358b4db0c8",
   "metadata": {
    "name": "mltkc_init"
   },
   "outputs": [],
   "source": [
    "# initialize your model\n",
    "# available inputs: data and parameters\n",
    "# returns the model object which will be used as a reference to call fit, apply and summary subsequently\n",
    "def init(df,param):\n",
    "    model = {}\n",
    "    model['hyperparameter'] = 42.0\n",
    "    return model"
   ]
  },
  {
   "cell_type": "code",
   "execution_count": 19,
   "id": "0b849531-ed3d-4586-b94a-2ec2da11aee3",
   "metadata": {
    "scrolled": true
   },
   "outputs": [
    {
     "name": "stdout",
     "output_type": "stream",
     "text": [
      "{'hyperparameter': 42.0}\n"
     ]
    }
   ],
   "source": [
    "# THIS CELL IS NOT EXPORTED - free notebook cell for testing or development purposes\n",
    "model = init(df,param)\n",
    "print(model)"
   ]
  },
  {
   "cell_type": "markdown",
   "id": "58a07e8e-5f45-4a00-ab6b-9a1bbd3813cd",
   "metadata": {},
   "source": [
    "## Stage 3 - fit the model"
   ]
  },
  {
   "cell_type": "code",
   "execution_count": 20,
   "id": "2ccbb316-79f4-4cfc-bf68-5f7cfb54a36b",
   "metadata": {
    "name": "mltkc_fit"
   },
   "outputs": [],
   "source": [
    "# train your model\n",
    "# returns a fit info json object and may modify the model object\n",
    "def fit(model,df,param):\n",
    "    # model.fit()\n",
    "    info = {\"message\": \"model trained\"}\n",
    "    return info"
   ]
  },
  {
   "cell_type": "code",
   "execution_count": 21,
   "id": "2774b2b6-b511-440e-afc8-3acab91bacb2",
   "metadata": {},
   "outputs": [
    {
     "name": "stdout",
     "output_type": "stream",
     "text": [
      "{'message': 'model trained'}\n"
     ]
    }
   ],
   "source": [
    "# THIS CELL IS NOT EXPORTED - free notebook cell for testing or development purposes\n",
    "print(fit(model,df,param))"
   ]
  },
  {
   "cell_type": "markdown",
   "id": "aa26e2e4-374a-408f-ae0c-3e31b025877a",
   "metadata": {},
   "source": [
    "## Stage 4 - apply the model"
   ]
  },
  {
   "cell_type": "code",
   "execution_count": 22,
   "id": "08d3746d-d3ec-46f0-bce2-9ca8adf874a0",
   "metadata": {
    "name": "mltkc_apply"
   },
   "outputs": [],
   "source": [
    "# apply your model\n",
    "# returns the calculated results\n",
    "def apply(model,df,param):\n",
    "    y_hat = df.index\n",
    "    result = pd.DataFrame(y_hat, columns=['index'])\n",
    "    return result"
   ]
  },
  {
   "cell_type": "code",
   "execution_count": 23,
   "id": "b4ddefd5-9355-42aa-a03a-b67956a36cb1",
   "metadata": {},
   "outputs": [
    {
     "name": "stdout",
     "output_type": "stream",
     "text": [
      "   index\n",
      "0      0\n",
      "1      1\n",
      "2      2\n",
      "3      3\n",
      "4      4\n",
      "5      5\n",
      "6      6\n",
      "7      7\n",
      "8      8\n",
      "9      9\n"
     ]
    }
   ],
   "source": [
    "# THIS CELL IS NOT EXPORTED - free notebook cell for testing or development purposes\n",
    "print(apply(model,df,param))"
   ]
  },
  {
   "cell_type": "markdown",
   "id": "5fb7bece-263f-45dc-ad2e-882688294c9e",
   "metadata": {},
   "source": [
    "## Stage 5 - save the model"
   ]
  },
  {
   "cell_type": "code",
   "execution_count": 24,
   "id": "d7864e52-795a-4a91-8d60-ed3985254667",
   "metadata": {
    "name": "mltkc_save"
   },
   "outputs": [],
   "source": [
    "# save model to name in expected convention \"<algo_name>_<model_name>\"\n",
    "def save(model,name):\n",
    "    with open(MODEL_DIRECTORY + name + \".json\", 'w') as file:\n",
    "        json.dump(model, file)\n",
    "    return model"
   ]
  },
  {
   "cell_type": "markdown",
   "id": "effad682-a695-4f4b-892b-31283505ced8",
   "metadata": {},
   "source": [
    "## Stage 6 - load the model"
   ]
  },
  {
   "cell_type": "code",
   "execution_count": 25,
   "id": "ae66a96e-b626-41d8-98c0-f0e312f47ea6",
   "metadata": {
    "name": "mltkc_load"
   },
   "outputs": [],
   "source": [
    "# load model from name in expected convention \"<algo_name>_<model_name>\"\n",
    "def load(name):\n",
    "    model = {}\n",
    "    with open(MODEL_DIRECTORY + name + \".json\", 'r') as file:\n",
    "        model = json.load(file)\n",
    "    return model"
   ]
  },
  {
   "cell_type": "markdown",
   "id": "783c343e-aa4a-4fe0-bcd8-fe02ddfe0678",
   "metadata": {},
   "source": [
    "## Stage 7 - provide a summary of the model"
   ]
  },
  {
   "cell_type": "code",
   "execution_count": 26,
   "id": "c34cc73f-5784-41b3-aeb9-e9505bfcd271",
   "metadata": {
    "name": "mltkc_summary"
   },
   "outputs": [],
   "source": [
    "# return a model summary\n",
    "def summary(model=None):\n",
    "    returns = {\"version\": {\"numpy\": np.__version__, \"pandas\": pd.__version__} }\n",
    "    return returns"
   ]
  },
  {
   "cell_type": "markdown",
   "id": "fbd777b8-1fe9-45bf-8896-f69a14d02392",
   "metadata": {},
   "source": [
    "After implementing your fit, apply, save and load you can train your model:<br>\n",
    "| makeresults count=10<br>\n",
    "| streamstats c as i<br>\n",
    "| eval s = i%3<br>\n",
    "| eval feature_{s}=0<br>\n",
    "| foreach feature_* [eval &lt;&lt;FIELD&gt;&gt;=random()/pow(2,31)]<br>\n",
    "| fit MLTKContainer algo=barebone s from feature_* into app:barebone_model<br>"
   ]
  },
  {
   "cell_type": "markdown",
   "id": "83a11ff0-fe23-4c89-9455-d73688926f0d",
   "metadata": {},
   "source": [
    "Or apply your model:<br>\n",
    "| makeresults count=10<br>\n",
    "| streamstats c as i<br>\n",
    "| eval s = i%3<br>\n",
    "| eval feature_{s}=0<br>\n",
    "| foreach feature_* [eval &lt;&lt;FIELD&gt;&gt;=random()/pow(2,31)]<br>\n",
    "| apply barebone_model as the_meaning_of_life"
   ]
  },
  {
   "cell_type": "markdown",
   "id": "0af37cf0-b8b8-433b-af38-301328cd0b22",
   "metadata": {},
   "source": [
    "## Send data back to Splunk HEC\n",
    "When you configured the Splunk HEC Settings in the DSDL app you can easily send back data to an index with [Splunk's HTTP Event Collector (HEC)](https://docs.splunk.com/Documentation/Splunk/latest/Data/UsetheHTTPEventCollector). Read more about data formats and options in the [documentation](https://docs.splunk.com/Documentation/Splunk/latest/Data/FormateventsforHTTPEventCollector#Event_metadata).\n",
    "\n",
    "### Use cases\n",
    "- you want to offload longer running, possibly distributed computations that need to deliver results asynchroneously back into Splunk. \n",
    "- you might not want to present results back into the search pipeline after your `| fit` or `| apply` command. \n",
    "- you can easily utilize this approach for any logging purposes or other profiling tasks in your ML code so you can actively monitor and analyze your processes.\n",
    "\n",
    "### Example"
   ]
  },
  {
   "cell_type": "code",
   "execution_count": 27,
   "id": "88fc198e-cd54-4885-9f2d-44a97cc47f31",
   "metadata": {},
   "outputs": [],
   "source": [
    "import os\n",
    "import sys\n",
    "import time\n",
    "import json\n",
    "import numpy as np\n",
    "import pandas as pd\n",
    "import requests\n",
    "from datetime import datetime, timezone\n",
    "\n",
    "class SplunkHEC(object):\n",
    "    def __init__(self, url='', token=''):\n",
    "        self.url = url + \"/services/collector/event\"\n",
    "        self.token = token\n",
    "        self.authHeader = ''\n",
    "\n",
    "        print(f\"Initial URL from constructor: {self.url}\")\n",
    "        print(f\"Initial Token from constructor: {self.token}\")\n",
    "\n",
    "        if \"splunk_hec_enabled\" in os.environ:\n",
    "            access_enabled = os.environ[\"splunk_hec_enabled\"]\n",
    "            if access_enabled == \"1\":\n",
    "                self.url = os.environ[\"splunk_hec_url\"] + \"/services/collector/event\"\n",
    "                self.token = os.environ[\"splunk_hec_token\"]\n",
    "\n",
    "                print(f\"URL from environment: {self.url}\")\n",
    "                print(f\"Token from environment: {self.token}\")\n",
    "\n",
    "        if self.token:\n",
    "            self.authHeader = {'Authorization': 'Splunk {}'.format(self.token)}\n",
    "\n",
    "    def send_to_hec(self, jsonDict, url, token):\n",
    "        return requests.post(url, headers=self.authHeader, json=jsonDict, verify=False)\n",
    "    \n",
    "    def send(self, events):\n",
    "        return self.send_to_hec(events, self.url, self.token)\n",
    "\n",
    "    def send_hello_world(self, num=1):\n",
    "        data = []\n",
    "        for i in range(0, num):\n",
    "            event = {'event': {'message': 'hello world ' + str(i)}, 'time': datetime.now().timestamp()}\n",
    "            time.sleep(0.001)\n",
    "            data.append(event)\n",
    "        return self.send(data)\n",
    "\n",
    "    def get_url(self):\n",
    "        return self.url"
   ]
  },
  {
   "cell_type": "code",
   "execution_count": 28,
   "id": "75905880-8e8d-4d52-ad4d-4c88c77251a9",
   "metadata": {},
   "outputs": [
    {
     "name": "stdout",
     "output_type": "stream",
     "text": [
      "Initial URL from constructor: /services/collector/event\n",
      "Initial Token from constructor: \n",
      "URL from environment: http://host.docker.internal:8088/services/collector/event\n",
      "Token from environment: cdf776b5-b257-41e5-8002-eaa14fcb9354\n",
      "URL with environment variables: http://host.docker.internal:8088/services/collector/event\n"
     ]
    }
   ],
   "source": [
    "# Create an instance of the class\n",
    "hec = SplunkHEC()\n",
    "\n",
    "# Print the URL using the get_url method\n",
    "print(f\"URL with environment variables: {hec.get_url()}\")"
   ]
  },
  {
   "cell_type": "code",
   "execution_count": 29,
   "id": "959c93bf-2a73-4ffe-9c6e-1838666b1c85",
   "metadata": {},
   "outputs": [],
   "source": [
    "from dsdlsupport import SplunkHEC as SplunkHEC\n",
    "hec = SplunkHEC.SplunkHEC()"
   ]
  },
  {
   "cell_type": "code",
   "execution_count": 30,
   "id": "738fc888-c553-46a6-b9f3-52afdd727fbc",
   "metadata": {},
   "outputs": [
    {
     "name": "stdout",
     "output_type": "stream",
     "text": [
      "The value of splunk_hec_url is: http://host.docker.internal:8088\n"
     ]
    }
   ],
   "source": [
    "import os\n",
    "\n",
    "# Check if the environment variable exists\n",
    "if \"splunk_hec_url\" in os.environ:\n",
    "    splunk_hec_url = os.environ[\"splunk_hec_url\"]\n",
    "    print(f\"The value of splunk_hec_url is: {splunk_hec_url}\")\n",
    "else:\n",
    "    print(\"The environment variable splunk_hec_url does not exist.\")"
   ]
  },
  {
   "cell_type": "code",
   "execution_count": 31,
   "id": "ddeb24a7-9fe7-4fa2-903b-d8aa46aeaf0b",
   "metadata": {},
   "outputs": [],
   "source": [
    "# example to send 10 hello world events\n",
    "response = hec.send_hello_world(10)"
   ]
  },
  {
   "cell_type": "code",
   "execution_count": 32,
   "id": "6765095a-bab6-48fc-ab85-348a32fb0f7e",
   "metadata": {},
   "outputs": [
    {
     "name": "stdout",
     "output_type": "stream",
     "text": [
      "HEC endpoint http://host.docker.internal:8088/services/collector/event \n",
      "returned with status code 200 \n",
      "and response message: {\"text\":\"Success\",\"code\":0}\n"
     ]
    }
   ],
   "source": [
    "print(\"HEC endpoint %s \\nreturned with status code %s \\nand response message: %s\" % (response.url, response.status_code, response.text))"
   ]
  },
  {
   "cell_type": "code",
   "execution_count": 33,
   "id": "3fa38d9a-262b-440b-8528-c6f19b6fcf63",
   "metadata": {},
   "outputs": [],
   "source": [
    "# example to send a JSON object, e.g. to log some data\n",
    "from datetime import datetime\n",
    "response = hec.send({'event': {'message': 'operation done', 'log_level': 'INFO' }, 'time': datetime.now().timestamp()})"
   ]
  },
  {
   "cell_type": "code",
   "execution_count": 34,
   "id": "490e0efb-1f62-4655-b0be-a4ab83e7ab70",
   "metadata": {},
   "outputs": [
    {
     "name": "stdout",
     "output_type": "stream",
     "text": [
      "HEC endpoint http://host.docker.internal:8088/services/collector/event \n",
      "returned with status code 200 \n",
      "and response message: {\"text\":\"Success\",\"code\":0}\n"
     ]
    }
   ],
   "source": [
    "print(\"HEC endpoint %s \\nreturned with status code %s \\nand response message: %s\" % (response.url, response.status_code, response.text))"
   ]
  },
  {
   "cell_type": "markdown",
   "id": "90fd69d7-d199-4452-b101-e0b41c385b2f",
   "metadata": {},
   "source": [
    "## End of Stages\n",
    "All subsequent cells are not tagged and can be used for further freeform code"
   ]
  },
  {
   "cell_type": "code",
   "execution_count": null,
   "id": "d90ea79a-1b08-4d65-a9e9-ed8a917602aa",
   "metadata": {},
   "outputs": [],
   "source": []
  },
  {
   "cell_type": "code",
   "execution_count": null,
   "id": "6a27f8fa-da67-4e49-90f6-e7baa8c25db4",
   "metadata": {},
   "outputs": [],
   "source": []
  }
 ],
 "metadata": {
  "kernelspec": {
   "display_name": "Python 3 (ipykernel)",
   "language": "python",
   "name": "python3"
  },
  "language_info": {
   "codemirror_mode": {
    "name": "ipython",
    "version": 3
   },
   "file_extension": ".py",
   "mimetype": "text/x-python",
   "name": "python",
   "nbconvert_exporter": "python",
   "pygments_lexer": "ipython3",
   "version": "3.9.13"
  }
 },
 "nbformat": 4,
 "nbformat_minor": 5
}
