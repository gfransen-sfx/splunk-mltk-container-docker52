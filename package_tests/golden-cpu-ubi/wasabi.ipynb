{
 "cells": [
  {
   "cell_type": "code",
   "execution_count": 1,
   "id": "08a5f822",
   "metadata": {},
   "outputs": [
    {
     "name": "stdout",
     "output_type": "stream",
     "text": [
      "Step 1: Importing wasabi passed.\n",
      "\u001b[38;5;4mℹ This is an informational message.\u001b[0m\n",
      "\u001b[38;5;2m✔ This is a success message.\u001b[0m\n",
      "\u001b[38;5;3m⚠ This is a warning message.\u001b[0m\n",
      "\u001b[38;5;1m✘ This is a failure message.\u001b[0m\n",
      "Step 2: Basic messaging functions passed.\n",
      "\u001b[38;5;4mThis is a regular text message with styling.\u001b[0m\n",
      "Step 3: Printer class with styled message passed.\n",
      "Formatted Table:\n",
      " Name      Age   Occupation Alice     30    Engineer   Bob       25    Designer\n",
      "Charlie   35    Teacher\n"
     ]
    },
    {
     "data": {
      "image/png": "[encoded data removed]",
      "text/plain": [
       "<Figure size 600x400 with 1 Axes>"
      ]
     },
     "metadata": {},
     "output_type": "display_data"
    },
    {
     "name": "stdout",
     "output_type": "stream",
     "text": [
      "Step 4: Table formatting with visualization passed.\n",
      "\u001b[1m\n",
      "======================== Testing the divider function ========================\u001b[0m\n",
      "\u001b[38;5;4mℹ First section of the output.\u001b[0m\n",
      "\u001b[1m\n",
      "============================================================================\u001b[0m\n",
      "\u001b[38;5;2m✔ Second section of the output.\u001b[0m\n",
      "\u001b[1m\n",
      "============================== End of the test ==============================\u001b[0m\n",
      "Step 5: Divider function passed.\n",
      "All extensive tests for the 'wasabi' package completed successfully.\n"
     ]
    }
   ],
   "source": [
    "# Initialize a flag to track if all steps pass\n",
    "all_steps_passed = True\n",
    "\n",
    "# Step 1: Import the necessary package\n",
    "try:\n",
    "    from wasabi import msg, Printer, table\n",
    "    print(\"Step 1: Importing wasabi passed.\")\n",
    "except ImportError as e:\n",
    "    all_steps_passed = False\n",
    "    print(f\"Step 1 failed: {e}\")\n",
    "\n",
    "# Step 2: Test basic messaging functions\n",
    "try:\n",
    "    msg.info(\"This is an informational message.\")\n",
    "    msg.good(\"This is a success message.\")\n",
    "    msg.warn(\"This is a warning message.\")\n",
    "    msg.fail(\"This is a failure message.\")\n",
    "    \n",
    "    print(\"Step 2: Basic messaging functions passed.\")\n",
    "except Exception as e:\n",
    "    all_steps_passed = False\n",
    "    print(f\"Step 2 failed: {e}\")\n",
    "\n",
    "# Step 3: Test the Printer class with a styled message\n",
    "try:\n",
    "    printer = Printer(no_print=False, pretty=True)\n",
    "    printer.text(\"This is a regular text message with styling.\", color=\"blue\")\n",
    "    \n",
    "    print(\"Step 3: Printer class with styled message passed.\")\n",
    "except Exception as e:\n",
    "    all_steps_passed = False\n",
    "    print(f\"Step 3 failed: {e}\")\n",
    "\n",
    "# Step 4: Test table formatting with visualization\n",
    "try:\n",
    "    # Define data for the table\n",
    "    headers = [\"Name\", \"Age\", \"Occupation\"]\n",
    "    data = [\n",
    "        [\"Alice\", 30, \"Engineer\"],\n",
    "        [\"Bob\", 25, \"Designer\"],\n",
    "        [\"Charlie\", 35, \"Teacher\"]\n",
    "    ]\n",
    "    \n",
    "    # Create a formatted table\n",
    "    formatted_table = table(data, header=headers)\n",
    "    \n",
    "    # Display the formatted table\n",
    "    msg.text(\"Formatted Table:\")\n",
    "    msg.text(formatted_table)\n",
    "    \n",
    "    # Visualization using matplotlib (bar chart for ages)\n",
    "    import matplotlib.pyplot as plt\n",
    "    \n",
    "    names = [row[0] for row in data]\n",
    "    ages = [row[1] for row in data]\n",
    "    \n",
    "    plt.figure(figsize=(6, 4))\n",
    "    plt.bar(names, ages, color='teal')\n",
    "    plt.title(\"Age Distribution\")\n",
    "    plt.xlabel(\"Name\")\n",
    "    plt.ylabel(\"Age\")\n",
    "    plt.show()\n",
    "    \n",
    "    print(\"Step 4: Table formatting with visualization passed.\")\n",
    "except Exception as e:\n",
    "    all_steps_passed = False\n",
    "    print(f\"Step 4 failed: {e}\")\n",
    "\n",
    "# Step 5: Test the \"msg.divider()\" function to organize output\n",
    "try:\n",
    "    msg.divider(\"Testing the divider function\")\n",
    "    \n",
    "    msg.info(\"First section of the output.\")\n",
    "    msg.divider()\n",
    "    msg.good(\"Second section of the output.\")\n",
    "    msg.divider(\"End of the test\")\n",
    "    \n",
    "    print(\"Step 5: Divider function passed.\")\n",
    "except Exception as e:\n",
    "    all_steps_passed = False\n",
    "    print(f\"Step 5 failed: {e}\")\n",
    "\n",
    "# Final confirmation message\n",
    "if all_steps_passed:\n",
    "    print(\"All extensive tests for the 'wasabi' package completed successfully.\")\n"
   ]
  },
  {
   "cell_type": "code",
   "execution_count": null,
   "id": "0a4ddf6e-c204-4414-82c8-7044abd78979",
   "metadata": {},
   "outputs": [],
   "source": []
  }
 ],
 "metadata": {
  "kernelspec": {
   "display_name": "Python 3 (ipykernel)",
   "language": "python",
   "name": "python3"
  },
  "language_info": {
   "codemirror_mode": {
    "name": "ipython",
    "version": 3
   },
   "file_extension": ".py",
   "mimetype": "text/x-python",
   "name": "python",
   "nbconvert_exporter": "python",
   "pygments_lexer": "ipython3",
   "version": "3.9.13"
  }
 },
 "nbformat": 4,
 "nbformat_minor": 5
}
