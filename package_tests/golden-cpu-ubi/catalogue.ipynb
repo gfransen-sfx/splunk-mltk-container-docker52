{
 "cells": [
  {
   "cell_type": "code",
   "execution_count": 2,
   "id": "97c4574b-c839-4870-80ce-c12914629073",
   "metadata": {},
   "outputs": [
    {
     "name": "stdout",
     "output_type": "stream",
     "text": [
      "Step 2: Importing catalogue module passed.\n",
      "Step 3: Registry creation passed.\n",
      "Step 4: Function registration and retrieval passed.\n",
      "Step 5: Registered functions: {'my_function': <function my_function at 0xffff840a6550>}\n",
      "Step 6: Non-existent function retrieval correctly raised RegistryError: Cant't find 'non_existent_function' in registry test -> functions. Available names: my_function\n",
      "All tests for the 'catalogue' package completed successfully.\n"
     ]
    }
   ],
   "source": [
    "# Test for the 'catalogue' Python package\n",
    "\n",
    "# Step 1: Install catalogue if not already installed\n",
    "# If running in an environment where catalogue isn't installed, uncomment the next line\n",
    "# !pip install catalogue\n",
    "\n",
    "# Step 2: Import necessary modules from the catalogue package\n",
    "try:\n",
    "    import catalogue\n",
    "    print(\"Step 2: Importing catalogue module passed.\")\n",
    "except Exception as e:\n",
    "    print(f\"Step 2 failed: {str(e)}\")\n",
    "    raise e\n",
    "\n",
    "# Step 3: Create a simple registry using catalogue\n",
    "try:\n",
    "    registry = catalogue.create(\"test\", \"functions\")\n",
    "    print(\"Step 3: Registry creation passed.\")\n",
    "except Exception as e:\n",
    "    print(f\"Step 3 failed: {str(e)}\")\n",
    "    raise e\n",
    "\n",
    "# Step 4: Register a function and test if it can be retrieved\n",
    "try:\n",
    "    @registry(\"my_function\")\n",
    "    def my_function(x):\n",
    "        return x * 2\n",
    "\n",
    "    # Retrieve the registered function\n",
    "    retrieved_function = registry.get(\"my_function\")\n",
    "    assert retrieved_function is not None, \"Failed to retrieve the registered function.\"\n",
    "    assert retrieved_function(2) == 4, \"The registered function did not return the expected result.\"\n",
    "    print(\"Step 4: Function registration and retrieval passed.\")\n",
    "except Exception as e:\n",
    "    print(f\"Step 4 failed: {str(e)}\")\n",
    "    raise e\n",
    "\n",
    "# Step 5: Check the list of registered functions\n",
    "try:\n",
    "    registered_names = registry.get_all()\n",
    "    assert \"my_function\" in registered_names, \"The function 'my_function' is not listed in the registry.\"\n",
    "    print(f\"Step 5: Registered functions: {registered_names}\")\n",
    "except Exception as e:\n",
    "    print(f\"Step 5 failed: {str(e)}\")\n",
    "    raise e\n",
    "\n",
    "# Step 6: Handle cases where the function is not registered\n",
    "try:\n",
    "    try:\n",
    "        non_existent_function = registry.get(\"non_existent_function\")\n",
    "        assert False, \"Non-existent function should have raised a RegistryError.\"\n",
    "    except catalogue.RegistryError as e:\n",
    "        print(f\"Step 6: Non-existent function retrieval correctly raised RegistryError: {str(e)}\")\n",
    "except Exception as e:\n",
    "    print(f\"Step 6 failed: {str(e)}\")\n",
    "    raise e\n",
    "\n",
    "# Final Confirmation\n",
    "print(\"All tests for the 'catalogue' package completed successfully.\")\n"
   ]
  },
  {
   "cell_type": "code",
   "execution_count": null,
   "id": "989d4a02-7e96-4e93-bf8a-01ddf817a947",
   "metadata": {},
   "outputs": [],
   "source": []
  }
 ],
 "metadata": {
  "kernelspec": {
   "display_name": "Python 3 (ipykernel)",
   "language": "python",
   "name": "python3"
  },
  "language_info": {
   "codemirror_mode": {
    "name": "ipython",
    "version": 3
   },
   "file_extension": ".py",
   "mimetype": "text/x-python",
   "name": "python",
   "nbconvert_exporter": "python",
   "pygments_lexer": "ipython3",
   "version": "3.9.13"
  }
 },
 "nbformat": 4,
 "nbformat_minor": 5
}
