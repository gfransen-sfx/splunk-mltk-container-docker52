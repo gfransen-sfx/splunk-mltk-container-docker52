{
 "cells": [
  {
   "cell_type": "code",
   "execution_count": 3,
   "id": "c60a7969",
   "metadata": {},
   "outputs": [
    {
     "name": "stdout",
     "output_type": "stream",
     "text": [
      "Step 1: Importing jupyterlab passed.\n",
      "Step 2: JupyterLab version 4.2.5 detected.\n",
      "Step 3: JupyterLab server version 4.2.5 can be started.\n",
      "Step 4: JupyterLab extensions system is working. Extensions list:\n",
      "\n",
      "Step 5: JupyterLab configuration directory found at /dltk/.jupyter/.\n",
      "All extensive tests for the 'jupyterlab' package completed successfully.\n"
     ]
    }
   ],
   "source": [
    "import sys\n",
    "import os\n",
    "\n",
    "# Step 1: Import the package\n",
    "try:\n",
    "    import jupyterlab\n",
    "    print(\"Step 1: Importing jupyterlab passed.\")\n",
    "except ImportError:\n",
    "    print(\"Step 1 failed: 'jupyterlab' is not installed.\")\n",
    "    sys.exit(1)\n",
    "except Exception as e:\n",
    "    print(f\"Step 1 failed with an unexpected error: {str(e)}\")\n",
    "    sys.exit(1)\n",
    "\n",
    "# Step 2: Check JupyterLab version\n",
    "try:\n",
    "    version = jupyterlab.__version__\n",
    "    print(f\"Step 2: JupyterLab version {version} detected.\")\n",
    "except Exception as e:\n",
    "    print(f\"Step 2 failed: {str(e)}\")\n",
    "    sys.exit(1)\n",
    "\n",
    "# Step 3: Verify JupyterLab can start a server\n",
    "try:\n",
    "    import subprocess\n",
    "    result = subprocess.run(['jupyter', 'lab', '--version'], capture_output=True, text=True)\n",
    "    \n",
    "    if result.returncode == 0:\n",
    "        print(f\"Step 3: JupyterLab server version {result.stdout.strip()} can be started.\")\n",
    "    else:\n",
    "        print(\"Step 3 failed: JupyterLab server could not be started.\")\n",
    "        sys.exit(1)\n",
    "except Exception as e:\n",
    "    print(f\"Step 3 failed: {str(e)}\")\n",
    "    sys.exit(1)\n",
    "\n",
    "# Step 4: Check JupyterLab extensions system\n",
    "try:\n",
    "    result = subprocess.run(['jupyter', 'labextension', 'list'], capture_output=True, text=True)\n",
    "    \n",
    "    if result.returncode == 0:\n",
    "        print(\"Step 4: JupyterLab extensions system is working. Extensions list:\")\n",
    "        print(result.stdout)\n",
    "    else:\n",
    "        print(\"Step 4 failed: Unable to list JupyterLab extensions.\")\n",
    "        sys.exit(1)\n",
    "except Exception as e:\n",
    "    print(f\"Step 4 failed: {str(e)}\")\n",
    "    sys.exit(1)\n",
    "\n",
    "# Step 5: Verify JupyterLab configuration\n",
    "try:\n",
    "    config_dir = os.path.expanduser('~/.jupyter/')\n",
    "    if os.path.exists(config_dir):\n",
    "        print(f\"Step 5: JupyterLab configuration directory found at {config_dir}.\")\n",
    "    else:\n",
    "        print(f\"Step 5: JupyterLab configuration directory not found at {config_dir}.\")\n",
    "        sys.exit(1)\n",
    "except Exception as e:\n",
    "    print(f\"Step 5 failed: {str(e)}\")\n",
    "    sys.exit(1)\n",
    "\n",
    "# Final Confirmation\n",
    "print(\"All extensive tests for the 'jupyterlab' package completed successfully.\")\n"
   ]
  },
  {
   "cell_type": "code",
   "execution_count": null,
   "id": "91750932-a05e-49af-9796-bd1414d60289",
   "metadata": {},
   "outputs": [],
   "source": []
  }
 ],
 "metadata": {
  "kernelspec": {
   "display_name": "Python 3 (ipykernel)",
   "language": "python",
   "name": "python3"
  },
  "language_info": {
   "codemirror_mode": {
    "name": "ipython",
    "version": 3
   },
   "file_extension": ".py",
   "mimetype": "text/x-python",
   "name": "python",
   "nbconvert_exporter": "python",
   "pygments_lexer": "ipython3",
   "version": "3.9.13"
  }
 },
 "nbformat": 4,
 "nbformat_minor": 5
}
