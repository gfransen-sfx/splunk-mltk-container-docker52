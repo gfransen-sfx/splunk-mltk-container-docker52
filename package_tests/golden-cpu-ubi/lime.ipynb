{
 "cells": [
  {
   "cell_type": "code",
   "execution_count": 2,
   "id": "0ed587c1",
   "metadata": {},
   "outputs": [
    {
     "name": "stdout",
     "output_type": "stream",
     "text": [
      "Step 1 failed: 'lime' or required dependencies are not installed.\n"
     ]
    },
    {
     "ename": "NameError",
     "evalue": "name 'sys' is not defined",
     "output_type": "error",
     "traceback": [
      "\u001b[0;31m---------------------------------------------------------------------------\u001b[0m",
      "\u001b[0;31mModuleNotFoundError\u001b[0m                       Traceback (most recent call last)",
      "Cell \u001b[0;32mIn[2], line 3\u001b[0m\n\u001b[1;32m      2\u001b[0m \u001b[38;5;28;01mtry\u001b[39;00m:\n\u001b[0;32m----> 3\u001b[0m     \u001b[38;5;28;01mimport\u001b[39;00m \u001b[38;5;21;01mlime\u001b[39;00m\n\u001b[1;32m      4\u001b[0m     \u001b[38;5;28;01mimport\u001b[39;00m \u001b[38;5;21;01msys\u001b[39;00m\n",
      "\u001b[0;31mModuleNotFoundError\u001b[0m: No module named 'lime'",
      "\nDuring handling of the above exception, another exception occurred:\n",
      "\u001b[0;31mNameError\u001b[0m                                 Traceback (most recent call last)",
      "Cell \u001b[0;32mIn[2], line 12\u001b[0m\n\u001b[1;32m     10\u001b[0m \u001b[38;5;28;01mexcept\u001b[39;00m \u001b[38;5;167;01mImportError\u001b[39;00m:\n\u001b[1;32m     11\u001b[0m     \u001b[38;5;28mprint\u001b[39m(\u001b[38;5;124m\"\u001b[39m\u001b[38;5;124mStep 1 failed: \u001b[39m\u001b[38;5;124m'\u001b[39m\u001b[38;5;124mlime\u001b[39m\u001b[38;5;124m'\u001b[39m\u001b[38;5;124m or required dependencies are not installed.\u001b[39m\u001b[38;5;124m\"\u001b[39m)\n\u001b[0;32m---> 12\u001b[0m     \u001b[43msys\u001b[49m\u001b[38;5;241m.\u001b[39mexit(\u001b[38;5;241m1\u001b[39m)\n\u001b[1;32m     13\u001b[0m \u001b[38;5;28;01mexcept\u001b[39;00m \u001b[38;5;167;01mException\u001b[39;00m \u001b[38;5;28;01mas\u001b[39;00m e:\n\u001b[1;32m     14\u001b[0m     \u001b[38;5;28mprint\u001b[39m(\u001b[38;5;124mf\u001b[39m\u001b[38;5;124m\"\u001b[39m\u001b[38;5;124mStep 1 failed with an unexpected error: \u001b[39m\u001b[38;5;132;01m{\u001b[39;00m\u001b[38;5;28mstr\u001b[39m(e)\u001b[38;5;132;01m}\u001b[39;00m\u001b[38;5;124m\"\u001b[39m)\n",
      "\u001b[0;31mNameError\u001b[0m: name 'sys' is not defined"
     ]
    }
   ],
   "source": [
    "# Step 1: Import the package\n",
    "try:\n",
    "    import lime\n",
    "    import sys\n",
    "    from lime.lime_tabular import LimeTabularExplainer\n",
    "    from sklearn.datasets import load_iris\n",
    "    from sklearn.model_selection import train_test_split\n",
    "    from sklearn.ensemble import RandomForestClassifier\n",
    "    print(\"Step 1: Importing lime and required dependencies passed.\")\n",
    "except ImportError:\n",
    "    print(\"Step 1 failed: 'lime' or required dependencies are not installed.\")\n",
    "    sys.exit(1)\n",
    "except Exception as e:\n",
    "    print(f\"Step 1 failed with an unexpected error: {str(e)}\")\n",
    "    sys.exit(1)\n",
    "\n",
    "# Step 2: Load a dataset and train a model\n",
    "try:\n",
    "    iris = load_iris()\n",
    "    X_train, X_test, y_train, y_test = train_test_split(iris.data, iris.target, random_state=42)\n",
    "    model = RandomForestClassifier(random_state=42)\n",
    "    model.fit(X_train, y_train)\n",
    "    print(\"Step 2: Loading dataset and training model passed.\")\n",
    "except Exception as e:\n",
    "    print(f\"Step 2 failed: {str(e)}\")\n",
    "    sys.exit(1)\n",
    "\n",
    "# Step 3: Initialize LimeTabularExplainer\n",
    "try:\n",
    "    explainer = LimeTabularExplainer(X_train, feature_names=iris.feature_names, class_names=iris.target_names, discretize_continuous=True)\n",
    "    print(\"Step 3: Initializing LimeTabularExplainer passed.\")\n",
    "except Exception as e:\n",
    "    print(f\"Step 3 failed: {str(e)}\")\n",
    "    sys.exit(1)\n",
    "\n",
    "# Step 4: Generate an explanation for a single prediction\n",
    "try:\n",
    "    i = 0  # Index of the test sample\n",
    "    exp = explainer.explain_instance(X_test[i], model.predict_proba, num_features=2, top_labels=1)\n",
    "    assert len(exp.as_list()) > 0, \"Expected explanation list to contain features.\"\n",
    "    print(f\"Step 4: Generating explanation for a single prediction passed. Explanation: {exp.as_list()}\")\n",
    "except Exception as e:\n",
    "    print(f\"Step 4 failed: {str(e)}\")\n",
    "    sys.exit(1)\n",
    "\n",
    "# Step 5: Visualize the explanation\n",
    "try:\n",
    "    exp.show_in_notebook(show_table=True, show_all=False)\n",
    "    print(\"Step 5: Visualizing the explanation in the notebook passed.\")\n",
    "except Exception as e:\n",
    "    print(f\"Step 5 failed: {str(e)}\")\n",
    "    sys.exit(1)\n",
    "\n",
    "# Final Confirmation\n",
    "print(\"All extensive tests for the 'lime' package completed successfully.\")\n"
   ]
  },
  {
   "cell_type": "code",
   "execution_count": null,
   "id": "069b4bb5-d18d-42c0-869e-b6988fbff174",
   "metadata": {},
   "outputs": [],
   "source": []
  }
 ],
 "metadata": {
  "kernelspec": {
   "display_name": "Python 3 (ipykernel)",
   "language": "python",
   "name": "python3"
  },
  "language_info": {
   "codemirror_mode": {
    "name": "ipython",
    "version": 3
   },
   "file_extension": ".py",
   "mimetype": "text/x-python",
   "name": "python",
   "nbconvert_exporter": "python",
   "pygments_lexer": "ipython3",
   "version": "3.9.13"
  }
 },
 "nbformat": 4,
 "nbformat_minor": 5
}
