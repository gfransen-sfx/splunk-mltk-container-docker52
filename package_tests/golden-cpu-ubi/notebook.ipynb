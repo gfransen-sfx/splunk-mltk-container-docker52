{
 "cells": [
  {
   "cell_type": "code",
   "execution_count": 5,
   "id": "4134f41f",
   "metadata": {},
   "outputs": [
    {
     "name": "stdout",
     "output_type": "stream",
     "text": [
      "Step 1: Importing notebook package passed.\n",
      "Step 2: Notebook version 7.2.2 detected.\n",
      "Step 3: Found running notebook server(s): [{'base_url': '/', 'hostname': '0.0.0.0', 'password': True, 'pid': 12, 'port': 8888, 'root_dir': '/srv', 'secure': True, 'sock': '', 'token': '', 'url': 'https://259852355ce7:8888/', 'version': '2.14.2'}]\n",
      "Step 4: Creating and saving a new notebook passed.\n",
      "Step 5: Verifying the notebook file content passed.\n",
      "All extensive tests for the 'notebook' package completed successfully.\n"
     ]
    }
   ],
   "source": [
    "import os\n",
    "import sys\n",
    "\n",
    "# Step 1: Import the package\n",
    "try:\n",
    "    import notebook\n",
    "    print(\"Step 1: Importing notebook package passed.\")\n",
    "except ImportError:\n",
    "    print(\"Step 1 failed: 'notebook' is not installed.\")\n",
    "    sys.exit(1)\n",
    "except Exception as e:\n",
    "    print(f\"Step 1 failed with an unexpected error: {str(e)}\")\n",
    "    sys.exit(1)\n",
    "\n",
    "# Step 2: Check the notebook version\n",
    "try:\n",
    "    version = notebook.__version__\n",
    "    print(f\"Step 2: Notebook version {version} detected.\")\n",
    "except Exception as e:\n",
    "    print(f\"Step 2 failed: {str(e)}\")\n",
    "    sys.exit(1)\n",
    "\n",
    "# Step 3: Start a notebook server\n",
    "try:\n",
    "    from jupyter_server import serverapp  # Use jupyter_server.serverapp in newer versions\n",
    "    servers = list(serverapp.list_running_servers())\n",
    "    \n",
    "    if not servers:\n",
    "        print(\"Step 3: No running notebook servers found.\")\n",
    "    else:\n",
    "        print(f\"Step 3: Found running notebook server(s): {servers}\")\n",
    "except ImportError:\n",
    "    print(\"Step 3 failed: 'serverapp' could not be imported. Please ensure the 'jupyter_server' package is properly installed.\")\n",
    "    sys.exit(1)\n",
    "except Exception as e:\n",
    "    print(f\"Step 3 failed: {str(e)}\")\n",
    "    sys.exit(1)\n",
    "\n",
    "# Step 4: Create and open a new notebook\n",
    "try:\n",
    "    # This step is more symbolic since actual notebook creation and interaction requires browser interaction.\n",
    "    # Instead, we will check if the notebook module can handle basic operations.\n",
    "    from nbformat import v4 as nbf\n",
    "    import nbformat\n",
    "    \n",
    "    nb = nbf.new_notebook()\n",
    "    nb['cells'] = [nbf.new_code_cell(\"print('Hello, Jupyter!')\")]\n",
    "    \n",
    "    with open(\"test_notebook.ipynb\", \"w\") as f:\n",
    "        nbformat.write(nb, f)  # Use the correct write method from nbformat\n",
    "    \n",
    "    assert os.path.exists(\"test_notebook.ipynb\"), \"Failed to create the notebook file.\"\n",
    "    print(\"Step 4: Creating and saving a new notebook passed.\")\n",
    "except Exception as e:\n",
    "    print(f\"Step 4 failed: {str(e)}\")\n",
    "    sys.exit(1)\n",
    "\n",
    "# Step 5: Verify the notebook file content\n",
    "try:\n",
    "    with open(\"test_notebook.ipynb\", \"r\") as f:\n",
    "        content = f.read()\n",
    "    \n",
    "    assert \"Hello, Jupyter!\" in content, \"The notebook content is not as expected.\"\n",
    "    print(\"Step 5: Verifying the notebook file content passed.\")\n",
    "except Exception as e:\n",
    "    print(f\"Step 5 failed: {str(e)}\")\n",
    "    sys.exit(1)\n",
    "\n",
    "# Final Confirmation\n",
    "print(\"All extensive tests for the 'notebook' package completed successfully.\")\n"
   ]
  },
  {
   "cell_type": "code",
   "execution_count": null,
   "id": "912c1788-4945-41d2-ab16-8ea40e59a133",
   "metadata": {},
   "outputs": [],
   "source": []
  }
 ],
 "metadata": {
  "kernelspec": {
   "display_name": "Python 3 (ipykernel)",
   "language": "python",
   "name": "python3"
  },
  "language_info": {
   "codemirror_mode": {
    "name": "ipython",
    "version": 3
   },
   "file_extension": ".py",
   "mimetype": "text/x-python",
   "name": "python",
   "nbconvert_exporter": "python",
   "pygments_lexer": "ipython3",
   "version": "3.9.13"
  }
 },
 "nbformat": 4,
 "nbformat_minor": 5
}
