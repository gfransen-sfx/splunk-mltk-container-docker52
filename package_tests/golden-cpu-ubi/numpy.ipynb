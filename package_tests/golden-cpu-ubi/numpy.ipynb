{
 "cells": [
  {
   "cell_type": "code",
   "execution_count": 1,
   "id": "17d8cb70",
   "metadata": {},
   "outputs": [
    {
     "name": "stdout",
     "output_type": "stream",
     "text": [
      "Step 1: Importing numpy passed.\n",
      "Step 2: Creating and manipulating an array passed.\n",
      "Step 3: Performing basic arithmetic operations passed.\n",
      "Step 4: Reshaping and transposing an array passed.\n",
      "Step 5: Generating random numbers and applying a mathematical function passed.\n",
      "Step 6: Matrix multiplication passed.\n",
      "All extensive tests for the 'numpy' package completed successfully.\n"
     ]
    }
   ],
   "source": [
    "# Step 1: Import the package\n",
    "try:\n",
    "    import numpy as np\n",
    "    print(\"Step 1: Importing numpy passed.\")\n",
    "except ImportError:\n",
    "    print(\"Step 1 failed: 'numpy' is not installed.\")\n",
    "    sys.exit(1)\n",
    "except Exception as e:\n",
    "    print(f\"Step 1 failed with an unexpected error: {str(e)}\")\n",
    "    sys.exit(1)\n",
    "\n",
    "# Step 2: Create and manipulate an array\n",
    "try:\n",
    "    arr = np.array([1, 2, 3, 4, 5])\n",
    "    arr_squared = arr ** 2\n",
    "    expected_result = np.array([1, 4, 9, 16, 25])\n",
    "    assert np.array_equal(arr_squared, expected_result), f\"Expected {expected_result}, got {arr_squared}\"\n",
    "    print(\"Step 2: Creating and manipulating an array passed.\")\n",
    "except Exception as e:\n",
    "    print(f\"Step 2 failed: {str(e)}\")\n",
    "    sys.exit(1)\n",
    "\n",
    "# Step 3: Perform basic arithmetic operations\n",
    "try:\n",
    "    arr_sum = np.sum(arr)\n",
    "    arr_mean = np.mean(arr)\n",
    "    assert arr_sum == 15, f\"Expected sum 15, got {arr_sum}\"\n",
    "    assert arr_mean == 3, f\"Expected mean 3, got {arr_mean}\"\n",
    "    print(\"Step 3: Performing basic arithmetic operations passed.\")\n",
    "except Exception as e:\n",
    "    print(f\"Step 3 failed: {str(e)}\")\n",
    "    sys.exit(1)\n",
    "\n",
    "# Step 4: Reshape and transpose an array\n",
    "try:\n",
    "    arr_reshaped = arr.reshape(1, 5)\n",
    "    arr_transposed = arr_reshaped.T\n",
    "    expected_transpose = np.array([[1], [2], [3], [4], [5]])\n",
    "    assert np.array_equal(arr_transposed, expected_transpose), f\"Expected {expected_transpose}, got {arr_transposed}\"\n",
    "    print(\"Step 4: Reshaping and transposing an array passed.\")\n",
    "except Exception as e:\n",
    "    print(f\"Step 4 failed: {str(e)}\")\n",
    "    sys.exit(1)\n",
    "\n",
    "# Step 5: Generate random numbers and apply a mathematical function\n",
    "try:\n",
    "    random_numbers = np.random.rand(100)\n",
    "    sin_values = np.sin(random_numbers)\n",
    "    assert len(sin_values) == 100, f\"Expected 100 sin values, got {len(sin_values)}\"\n",
    "    print(\"Step 5: Generating random numbers and applying a mathematical function passed.\")\n",
    "except Exception as e:\n",
    "    print(f\"Step 5 failed: {str(e)}\")\n",
    "    sys.exit(1)\n",
    "\n",
    "# Step 6: Matrix multiplication\n",
    "try:\n",
    "    matrix_a = np.array([[1, 2], [3, 4]])\n",
    "    matrix_b = np.array([[5, 6], [7, 8]])\n",
    "    matrix_product = np.dot(matrix_a, matrix_b)\n",
    "    expected_product = np.array([[19, 22], [43, 50]])\n",
    "    assert np.array_equal(matrix_product, expected_product), f\"Expected {expected_product}, got {matrix_product}\"\n",
    "    print(\"Step 6: Matrix multiplication passed.\")\n",
    "except Exception as e:\n",
    "    print(f\"Step 6 failed: {str(e)}\")\n",
    "    sys.exit(1)\n",
    "\n",
    "# Final Confirmation\n",
    "print(\"All extensive tests for the 'numpy' package completed successfully.\")\n"
   ]
  },
  {
   "cell_type": "code",
   "execution_count": null,
   "id": "445af7e9-0237-438c-869f-8361a97167ad",
   "metadata": {},
   "outputs": [],
   "source": []
  }
 ],
 "metadata": {
  "kernelspec": {
   "display_name": "Python 3 (ipykernel)",
   "language": "python",
   "name": "python3"
  },
  "language_info": {
   "codemirror_mode": {
    "name": "ipython",
    "version": 3
   },
   "file_extension": ".py",
   "mimetype": "text/x-python",
   "name": "python",
   "nbconvert_exporter": "python",
   "pygments_lexer": "ipython3",
   "version": "3.9.13"
  }
 },
 "nbformat": 4,
 "nbformat_minor": 5
}
