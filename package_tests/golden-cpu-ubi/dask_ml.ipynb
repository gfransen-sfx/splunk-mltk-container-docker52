{
 "cells": [
  {
   "cell_type": "code",
   "execution_count": 1,
   "id": "45414ba8",
   "metadata": {},
   "outputs": [
    {
     "name": "stdout",
     "output_type": "stream",
     "text": [
      "Step 1: Importing dask_ml and necessary modules passed.\n",
      "Step 2: Dask client set up successfully.\n",
      "Step 2: Synthetic dataset created successfully.\n",
      "Step 2: Dataset split into training and test sets successfully.\n"
     ]
    },
    {
     "name": "stderr",
     "output_type": "stream",
     "text": [
      "/usr/local/lib/python3.9/site-packages/dask/base.py:1487: UserWarning: Running on a single-machine scheduler when a distributed client is active might lead to unexpected results.\n",
      "  warnings.warn(\n"
     ]
    },
    {
     "name": "stdout",
     "output_type": "stream",
     "text": [
      "Step 2: Logistic regression model fitted successfully.\n",
      "Step 2: Predictions made successfully. Sample predictions: [False  True False False  True]\n",
      "Step 2: Model accuracy on test set: 0.64\n",
      "Step 3: Dask client shut down successfully.\n",
      "All tests for the 'dask_ml' package completed successfully.\n"
     ]
    }
   ],
   "source": [
    "# Test for the 'dask_ml' Python package\n",
    "\n",
    "# Step 1: Import the package\n",
    "try:\n",
    "    import dask_ml\n",
    "    from dask_ml.linear_model import LogisticRegression\n",
    "    from dask_ml.model_selection import train_test_split\n",
    "    from dask_ml.datasets import make_classification\n",
    "    from dask.distributed import Client\n",
    "    print(\"Step 1: Importing dask_ml and necessary modules passed.\")\n",
    "except Exception as e:\n",
    "    print(f\"Step 1 failed: {str(e)}\")\n",
    "    raise e\n",
    "\n",
    "# Step 2: Perform a simple operation with dask_ml\n",
    "try:\n",
    "    # Set up a Dask client\n",
    "    client = Client()  # This sets up a Dask scheduler\n",
    "    print(\"Step 2: Dask client set up successfully.\")\n",
    "\n",
    "    # Create a synthetic dataset with specified chunks\n",
    "    X, y = make_classification(n_samples=1000, n_features=20, random_state=42, chunks=100)\n",
    "    print(\"Step 2: Synthetic dataset created successfully.\")\n",
    "\n",
    "    # Split the dataset\n",
    "    X_train, X_test, y_train, y_test = train_test_split(X, y, test_size=0.2, random_state=42)\n",
    "    print(\"Step 2: Dataset split into training and test sets successfully.\")\n",
    "\n",
    "    # Initialize and fit a logistic regression model\n",
    "    model = LogisticRegression()\n",
    "    model.fit(X_train, y_train)\n",
    "    print(\"Step 2: Logistic regression model fitted successfully.\")\n",
    "\n",
    "    # Make predictions\n",
    "    predictions = model.predict(X_test)\n",
    "    print(f\"Step 2: Predictions made successfully. Sample predictions: {predictions[:5].compute()}\")\n",
    "\n",
    "    # Check if the model has been trained\n",
    "    score = model.score(X_test, y_test).compute()  # Compute the score to get a float value\n",
    "    print(f\"Step 2: Model accuracy on test set: {score:.2f}\")\n",
    "except Exception as e:\n",
    "    print(f\"Step 2 failed: {str(e)}\")\n",
    "    raise e\n",
    "\n",
    "# Step 3: Shut down the Dask client\n",
    "try:\n",
    "    client.close()\n",
    "    print(\"Step 3: Dask client shut down successfully.\")\n",
    "except Exception as e:\n",
    "    print(f\"Step 3 failed: {str(e)}\")\n",
    "    raise e\n",
    "\n",
    "# Final Confirmation\n",
    "print(\"All tests for the 'dask_ml' package completed successfully.\")\n"
   ]
  },
  {
   "cell_type": "code",
   "execution_count": null,
   "id": "9793971e-cbd0-4b61-92c7-c08962fc675d",
   "metadata": {},
   "outputs": [],
   "source": []
  }
 ],
 "metadata": {
  "kernelspec": {
   "display_name": "Python 3 (ipykernel)",
   "language": "python",
   "name": "python3"
  },
  "language_info": {
   "codemirror_mode": {
    "name": "ipython",
    "version": 3
   },
   "file_extension": ".py",
   "mimetype": "text/x-python",
   "name": "python",
   "nbconvert_exporter": "python",
   "pygments_lexer": "ipython3",
   "version": "3.9.13"
  }
 },
 "nbformat": 4,
 "nbformat_minor": 5
}
