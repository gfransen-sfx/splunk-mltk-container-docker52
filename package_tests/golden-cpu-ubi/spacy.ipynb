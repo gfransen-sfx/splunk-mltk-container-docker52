{
 "cells": [
  {
   "cell_type": "code",
   "execution_count": 1,
   "id": "60baaf93",
   "metadata": {},
   "outputs": [
    {
     "name": "stdout",
     "output_type": "stream",
     "text": [
      "Step 1: Importing spacy passed.\n",
      "Step 2: Loading spacy's 'en_core_web_sm' model passed.\n",
      "Step 3: Processing a sample text passed.\n",
      "Step 4: Testing named entity recognition passed.\n",
      "Step 5: Testing part-of-speech tagging and dependency parsing passed.\n",
      "All extensive tests for the 'spacy' package completed successfully.\n"
     ]
    }
   ],
   "source": [
    "# Initialize a flag to track if all steps pass\n",
    "all_steps_passed = True\n",
    "\n",
    "# Step 1: Import the necessary package\n",
    "try:\n",
    "    import spacy\n",
    "    print(\"Step 1: Importing spacy passed.\")\n",
    "except ImportError as e:\n",
    "    all_steps_passed = False\n",
    "    print(f\"Step 1 failed: {e}\")\n",
    "\n",
    "# Step 2: Load a pre-trained model in spacy\n",
    "try:\n",
    "    nlp = spacy.load(\"en_core_web_sm\")\n",
    "    print(\"Step 2: Loading spacy's 'en_core_web_sm' model passed.\")\n",
    "except Exception as e:\n",
    "    all_steps_passed = False\n",
    "    print(f\"Step 2 failed: {e}\")\n",
    "\n",
    "# Step 3: Process a sample text to test NLP pipeline components\n",
    "try:\n",
    "    doc = nlp(\"Spacy is an excellent NLP library.\")\n",
    "    assert len(doc) > 0, \"The processed document is empty.\"\n",
    "    \n",
    "    print(\"Step 3: Processing a sample text passed.\")\n",
    "except AssertionError as e:\n",
    "    all_steps_passed = False\n",
    "    print(f\"Step 3 failed: {e}\")\n",
    "except Exception as e:\n",
    "    all_steps_passed = False\n",
    "    print(f\"Step 3 failed: {e}\")\n",
    "\n",
    "# Step 4: Test named entity recognition (NER)\n",
    "try:\n",
    "    entities = [(ent.text, ent.label_) for ent in doc.ents]\n",
    "    \n",
    "    assert len(entities) > 0, \"No entities were detected.\"\n",
    "    \n",
    "    print(\"Step 4: Testing named entity recognition passed.\")\n",
    "except AssertionError as e:\n",
    "    all_steps_passed = False\n",
    "    print(f\"Step 4 failed: {e}\")\n",
    "except Exception as e:\n",
    "    all_steps_passed = False\n",
    "    print(f\"Step 4 failed: {e}\")\n",
    "\n",
    "# Step 5: Test part-of-speech tagging and dependency parsing\n",
    "try:\n",
    "    pos_tags = [(token.text, token.pos_) for token in doc]\n",
    "    dependencies = [(token.text, token.dep_, token.head.text) for token in doc]\n",
    "    \n",
    "    assert len(pos_tags) == len(doc), \"Part-of-speech tagging failed.\"\n",
    "    assert len(dependencies) == len(doc), \"Dependency parsing failed.\"\n",
    "    \n",
    "    print(\"Step 5: Testing part-of-speech tagging and dependency parsing passed.\")\n",
    "except AssertionError as e:\n",
    "    all_steps_passed = False\n",
    "    print(f\"Step 5 failed: {e}\")\n",
    "except Exception as e:\n",
    "    all_steps_passed = False\n",
    "    print(f\"Step 5 failed: {e}\")\n",
    "\n",
    "# Final confirmation message\n",
    "if all_steps_passed:\n",
    "    print(\"All extensive tests for the 'spacy' package completed successfully.\")\n"
   ]
  },
  {
   "cell_type": "code",
   "execution_count": null,
   "id": "82b9eae1-901c-4879-aad9-8dfe830b9822",
   "metadata": {},
   "outputs": [],
   "source": []
  }
 ],
 "metadata": {
  "kernelspec": {
   "display_name": "Python 3 (ipykernel)",
   "language": "python",
   "name": "python3"
  },
  "language_info": {
   "codemirror_mode": {
    "name": "ipython",
    "version": 3
   },
   "file_extension": ".py",
   "mimetype": "text/x-python",
   "name": "python",
   "nbconvert_exporter": "python",
   "pygments_lexer": "ipython3",
   "version": "3.9.13"
  }
 },
 "nbformat": 4,
 "nbformat_minor": 5
}
