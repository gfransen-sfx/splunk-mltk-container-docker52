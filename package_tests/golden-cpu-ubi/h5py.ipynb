{
 "cells": [
  {
   "cell_type": "code",
   "execution_count": 1,
   "id": "6b0a7416",
   "metadata": {},
   "outputs": [
    {
     "name": "stdout",
     "output_type": "stream",
     "text": [
      "Step 1: Importing h5py passed.\n",
      "Step 2: Basic HDF5 file creation and data writing passed.\n",
      "Step 3: Reading data from HDF5 file passed.\n",
      "Step 4: Creating groups and nested datasets passed.\n",
      "Step 5: Handling attributes in HDF5 datasets passed.\n",
      "All extensive tests for the 'h5py' package completed successfully.\n"
     ]
    }
   ],
   "source": [
    "# Step 1: Import the package\n",
    "try:\n",
    "    import h5py\n",
    "    print(\"Step 1: Importing h5py passed.\")\n",
    "except ImportError:\n",
    "    print(\"Step 1 failed: 'h5py' is not installed.\")\n",
    "    sys.exit(1)\n",
    "except Exception as e:\n",
    "    print(f\"Step 1 failed with an unexpected error: {str(e)}\")\n",
    "    sys.exit(1)\n",
    "\n",
    "# Step 2: Basic HDF5 file creation and data writing\n",
    "try:\n",
    "    with h5py.File('test_file.h5', 'w') as file:\n",
    "        dataset = file.create_dataset('default', data=[1, 2, 3, 4, 5])\n",
    "    print(\"Step 2: Basic HDF5 file creation and data writing passed.\")\n",
    "except Exception as e:\n",
    "    print(f\"Step 2 failed: {str(e)}\")\n",
    "    sys.exit(1)\n",
    "\n",
    "# Step 3: Reading data from HDF5 file\n",
    "try:\n",
    "    with h5py.File('test_file.h5', 'r') as file:\n",
    "        data = file['default'][:]\n",
    "        assert (data == [1, 2, 3, 4, 5]).all(), f\"Expected [1, 2, 3, 4, 5], got {data}\"\n",
    "    print(\"Step 3: Reading data from HDF5 file passed.\")\n",
    "except Exception as e:\n",
    "    print(f\"Step 3 failed: {str(e)}\")\n",
    "    sys.exit(1)\n",
    "\n",
    "# Step 4: Creating groups and nested datasets\n",
    "try:\n",
    "    with h5py.File('test_file.h5', 'w') as file:\n",
    "        group = file.create_group('my_group')\n",
    "        group.create_dataset('nested_dataset', data=[10, 20, 30])\n",
    "    \n",
    "    with h5py.File('test_file.h5', 'r') as file:\n",
    "        data = file['my_group/nested_dataset'][:]\n",
    "        assert (data == [10, 20, 30]).all(), f\"Expected [10, 20, 30], got {data}\"\n",
    "    print(\"Step 4: Creating groups and nested datasets passed.\")\n",
    "except Exception as e:\n",
    "    print(f\"Step 4 failed: {str(e)}\")\n",
    "    sys.exit(1)\n",
    "\n",
    "# Step 5: Handling attributes in HDF5 datasets\n",
    "try:\n",
    "    with h5py.File('test_file.h5', 'w') as file:\n",
    "        dataset = file.create_dataset('default', data=[1, 2, 3, 4, 5])\n",
    "        dataset.attrs['description'] = 'This is a default dataset'\n",
    "    \n",
    "    with h5py.File('test_file.h5', 'r') as file:\n",
    "        attr_value = file['default'].attrs['description']\n",
    "        assert attr_value == 'This is a default dataset', f\"Expected 'This is a default dataset', got {attr_value}\"\n",
    "    print(\"Step 5: Handling attributes in HDF5 datasets passed.\")\n",
    "except Exception as e:\n",
    "    print(f\"Step 5 failed: {str(e)}\")\n",
    "    sys.exit(1)\n",
    "\n",
    "# Final Confirmation\n",
    "print(\"All extensive tests for the 'h5py' package completed successfully.\")\n"
   ]
  },
  {
   "cell_type": "code",
   "execution_count": null,
   "id": "20fd0eb0-049a-4af0-895d-88426a752483",
   "metadata": {},
   "outputs": [],
   "source": []
  }
 ],
 "metadata": {
  "kernelspec": {
   "display_name": "Python 3 (ipykernel)",
   "language": "python",
   "name": "python3"
  },
  "language_info": {
   "codemirror_mode": {
    "name": "ipython",
    "version": 3
   },
   "file_extension": ".py",
   "mimetype": "text/x-python",
   "name": "python",
   "nbconvert_exporter": "python",
   "pygments_lexer": "ipython3",
   "version": "3.9.13"
  }
 },
 "nbformat": 4,
 "nbformat_minor": 5
}
