{
 "cells": [
  {
   "cell_type": "code",
   "execution_count": null,
   "id": "34a093cc",
   "metadata": {},
   "outputs": [],
   "source": [
    "print('Hello, Jupyter!')"
   ]
  }
 ],
 "metadata": {},
 "nbformat": 4,
 "nbformat_minor": 5
}
