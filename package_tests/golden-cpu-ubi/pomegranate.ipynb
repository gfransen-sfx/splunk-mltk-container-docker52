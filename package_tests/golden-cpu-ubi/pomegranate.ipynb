{
 "cells": [
  {
   "cell_type": "code",
   "execution_count": 7,
   "id": "c39e12f3",
   "metadata": {},
   "outputs": [
    {
     "name": "stdout",
     "output_type": "stream",
     "text": [
      "Step 1 failed: Parameter probs must have 2 dims\n",
      "One or more steps failed. Please check the output for details.\n"
     ]
    }
   ],
   "source": [
    "import torch\n",
    "from pomegranate.distributions import Categorical, ConditionalCategorical\n",
    "\n",
    "# Initialize a flag to track the success of all steps\n",
    "all_steps_passed = True\n",
    "\n",
    "# Step 1: Test Categorical Distribution\n",
    "try:\n",
    "    sunny_probs = torch.tensor([0.7, 0.3])\n",
    "    sunny = Categorical(probs=sunny_probs)\n",
    "    assert sunny is not None, \"Categorical distribution creation failed.\"\n",
    "    print(\"Step 1: Categorical Distribution passed.\")\n",
    "except Exception as e:\n",
    "    print(f\"Step 1 failed: {e}\")\n",
    "    all_steps_passed = False\n",
    "\n",
    "# Step 2: Test Conditional Categorical Distribution\n",
    "if all_steps_passed:\n",
    "    try:\n",
    "        umbrella_probs = torch.tensor([\n",
    "            [0.1, 0.9],  # Given sunny\n",
    "            [0.8, 0.2]   # Given rainy\n",
    "        ])\n",
    "        umbrella_given_weather = ConditionalCategorical(probs=[umbrella_probs])\n",
    "        assert umbrella_given_weather is not None, \"ConditionalCategorical creation failed.\"\n",
    "        print(\"Step 2: Conditional Categorical Distribution passed.\")\n",
    "    except Exception as e:\n",
    "        print(f\"Step 2 failed: {e}\")\n",
    "        all_steps_passed = False\n",
    "\n",
    "# Final confirmation message\n",
    "if all_steps_passed:\n",
    "    print(\"All tests for the 'pomegranate' package completed successfully.\")\n",
    "else:\n",
    "    print(\"One or more steps failed. Please check the output for details.\")\n"
   ]
  },
  {
   "cell_type": "code",
   "execution_count": null,
   "id": "9b995947-33ed-4aaf-9b21-8552329f5d02",
   "metadata": {},
   "outputs": [],
   "source": []
  },
  {
   "cell_type": "code",
   "execution_count": null,
   "id": "3c6a5357-6782-4fb5-8b04-324683e87308",
   "metadata": {},
   "outputs": [],
   "source": []
  }
 ],
 "metadata": {
  "kernelspec": {
   "display_name": "Python 3 (ipykernel)",
   "language": "python",
   "name": "python3"
  },
  "language_info": {
   "codemirror_mode": {
    "name": "ipython",
    "version": 3
   },
   "file_extension": ".py",
   "mimetype": "text/x-python",
   "name": "python",
   "nbconvert_exporter": "python",
   "pygments_lexer": "ipython3",
   "version": "3.9.13"
  }
 },
 "nbformat": 4,
 "nbformat_minor": 5
}
