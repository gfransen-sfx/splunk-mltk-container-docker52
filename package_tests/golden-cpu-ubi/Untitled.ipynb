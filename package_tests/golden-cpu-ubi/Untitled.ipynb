{
 "cells": [
  {
   "cell_type": "code",
   "execution_count": 1,
   "id": "ef0adeb4-209c-4226-9309-1a61b849e589",
   "metadata": {},
   "outputs": [
    {
     "name": "stdout",
     "output_type": "stream",
     "text": [
      "Detected notebook directory: /srv/Package_tests/golden-cpu-ubi\n",
      "Test file created at: /srv/Package_tests/golden-cpu-ubi/test_folder/test_file.txt\n"
     ]
    }
   ],
   "source": [
    "import os\n",
    "from pathlib import Path\n",
    "\n",
    "def get_notebook_dir():\n",
    "    try:\n",
    "        notebook_dir = Path(os.getcwd())\n",
    "        print(f\"Detected notebook directory: {notebook_dir}\")\n",
    "        return notebook_dir\n",
    "    except Exception as e:\n",
    "        print(f\"Unable to determine notebook directory: {str(e)}\")\n",
    "        return None\n",
    "\n",
    "def save_test_file():\n",
    "    notebook_dir = get_notebook_dir()\n",
    "    if notebook_dir is None:\n",
    "        print(\"Failed to get notebook directory.\")\n",
    "        return\n",
    "\n",
    "    output_folder = os.path.join(notebook_dir, 'test_folder')\n",
    "    os.makedirs(output_folder, exist_ok=True)\n",
    "\n",
    "    test_file_path = os.path.join(output_folder, 'test_file.txt')\n",
    "    with open(test_file_path, 'w') as f:\n",
    "        f.write('This is a test.')\n",
    "    \n",
    "    print(f\"Test file created at: {test_file_path}\")\n",
    "\n",
    "save_test_file()\n"
   ]
  },
  {
   "cell_type": "code",
   "execution_count": null,
   "id": "92f36f86-aa63-48fa-bece-aec77e11b0d3",
   "metadata": {},
   "outputs": [],
   "source": []
  }
 ],
 "metadata": {
  "kernelspec": {
   "display_name": "Python 3 (ipykernel)",
   "language": "python",
   "name": "python3"
  },
  "language_info": {
   "codemirror_mode": {
    "name": "ipython",
    "version": 3
   },
   "file_extension": ".py",
   "mimetype": "text/x-python",
   "name": "python",
   "nbconvert_exporter": "python",
   "pygments_lexer": "ipython3",
   "version": "3.9.13"
  }
 },
 "nbformat": 4,
 "nbformat_minor": 5
}
