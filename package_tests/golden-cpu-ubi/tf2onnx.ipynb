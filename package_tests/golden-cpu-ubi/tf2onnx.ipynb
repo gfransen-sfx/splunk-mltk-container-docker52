{
 "cells": [
  {
   "cell_type": "code",
   "execution_count": 4,
   "id": "76c53ffe-7bed-4367-b225-1fd746e8d790",
   "metadata": {},
   "outputs": [
    {
     "name": "stderr",
     "output_type": "stream",
     "text": [
      "/usr/local/lib/python3.9/site-packages/tf2onnx/utils.py:46: FutureWarning: In the future `np.bool` will be defined as the corresponding NumPy scalar.\n",
      "  onnx_pb.TensorProto.BOOL: np.bool,\n"
     ]
    },
    {
     "ename": "AttributeError",
     "evalue": "module 'numpy' has no attribute 'bool'.\n`np.bool` was a deprecated alias for the builtin `bool`. To avoid this error in existing code, use `bool` by itself. Doing this will not modify any behavior and is safe. If you specifically wanted the numpy scalar type, use `np.bool_` here.\nThe aliases was originally deprecated in NumPy 1.20; for more details and guidance see the original release note at:\n    https://numpy.org/devdocs/release/1.20.0-notes.html#deprecations",
     "output_type": "error",
     "traceback": [
      "\u001b[0;31m---------------------------------------------------------------------------\u001b[0m",
      "\u001b[0;31mAttributeError\u001b[0m                            Traceback (most recent call last)",
      "Cell \u001b[0;32mIn[4], line 1\u001b[0m\n\u001b[0;32m----> 1\u001b[0m \u001b[38;5;28;01mimport\u001b[39;00m \u001b[38;5;21;01mtf2onnx\u001b[39;00m\n\u001b[1;32m      2\u001b[0m \u001b[38;5;28mprint\u001b[39m(tf2onnx\u001b[38;5;241m.\u001b[39m\u001b[38;5;18m__file__\u001b[39m)\n",
      "File \u001b[0;32m/usr/local/lib/python3.9/site-packages/tf2onnx/__init__.py:15\u001b[0m\n\u001b[1;32m     13\u001b[0m \u001b[38;5;28;01mfrom\u001b[39;00m \u001b[38;5;21;01m.\u001b[39;00m\u001b[38;5;21;01mversion\u001b[39;00m \u001b[38;5;28;01mimport\u001b[39;00m version \u001b[38;5;28;01mas\u001b[39;00m __version__\n\u001b[1;32m     14\u001b[0m \u001b[38;5;28;01mfrom\u001b[39;00m \u001b[38;5;21;01m.\u001b[39;00m \u001b[38;5;28;01mimport\u001b[39;00m verbose_logging \u001b[38;5;28;01mas\u001b[39;00m logging\n\u001b[0;32m---> 15\u001b[0m \u001b[38;5;28;01mfrom\u001b[39;00m \u001b[38;5;21;01mtf2onnx\u001b[39;00m \u001b[38;5;28;01mimport\u001b[39;00m tfonnx, utils, graph, graph_builder, graph_matcher, shape_inference, schemas, convert  \u001b[38;5;66;03m# pylint: disable=wrong-import-order\u001b[39;00m\n\u001b[1;32m     16\u001b[0m \u001b[38;5;66;03m#from tf2onnx import tf_utils, tf_loader\u001b[39;00m\n",
      "File \u001b[0;32m/usr/local/lib/python3.9/site-packages/tf2onnx/tfonnx.py:20\u001b[0m\n\u001b[1;32m     17\u001b[0m \u001b[38;5;28;01mfrom\u001b[39;00m \u001b[38;5;21;01monnx\u001b[39;00m \u001b[38;5;28;01mimport\u001b[39;00m onnx_pb\n\u001b[1;32m     19\u001b[0m \u001b[38;5;28;01mimport\u001b[39;00m \u001b[38;5;21;01mtf2onnx\u001b[39;00m\n\u001b[0;32m---> 20\u001b[0m \u001b[38;5;28;01mimport\u001b[39;00m \u001b[38;5;21;01mtf2onnx\u001b[39;00m\u001b[38;5;21;01m.\u001b[39;00m\u001b[38;5;21;01monnx_opset\u001b[39;00m  \u001b[38;5;66;03m# pylint: disable=unused-import\u001b[39;00m\n\u001b[1;32m     21\u001b[0m \u001b[38;5;28;01mimport\u001b[39;00m \u001b[38;5;21;01mtf2onnx\u001b[39;00m\u001b[38;5;21;01m.\u001b[39;00m\u001b[38;5;21;01mtflite_handlers\u001b[39;00m  \u001b[38;5;66;03m# pylint: disable=unused-import\u001b[39;00m\n\u001b[1;32m     22\u001b[0m \u001b[38;5;28;01mimport\u001b[39;00m \u001b[38;5;21;01mtf2onnx\u001b[39;00m\u001b[38;5;21;01m.\u001b[39;00m\u001b[38;5;21;01mcustom_opsets\u001b[39;00m  \u001b[38;5;66;03m# pylint: disable=unused-import\u001b[39;00m\n",
      "File \u001b[0;32m/usr/local/lib/python3.9/site-packages/tf2onnx/onnx_opset/__init__.py:5\u001b[0m\n\u001b[1;32m      1\u001b[0m \u001b[38;5;66;03m# SPDX-License-Identifier: Apache-2.0\u001b[39;00m\n\u001b[1;32m      3\u001b[0m \u001b[38;5;124;03m\"\"\"tf2onnx.onnx_opset module\"\"\"\u001b[39;00m\n\u001b[0;32m----> 5\u001b[0m \u001b[38;5;28;01mfrom\u001b[39;00m \u001b[38;5;21;01m.\u001b[39;00m \u001b[38;5;28;01mimport\u001b[39;00m (\n\u001b[1;32m      6\u001b[0m     common,\n\u001b[1;32m      7\u001b[0m     controlflow,\n\u001b[1;32m      8\u001b[0m     generator,\n\u001b[1;32m      9\u001b[0m     logical,\n\u001b[1;32m     10\u001b[0m     math,\n\u001b[1;32m     11\u001b[0m     misc,\n\u001b[1;32m     12\u001b[0m     nn,\n\u001b[1;32m     13\u001b[0m     quantize,\n\u001b[1;32m     14\u001b[0m     reduction,\n\u001b[1;32m     15\u001b[0m     rnn,\n\u001b[1;32m     16\u001b[0m     signal,\n\u001b[1;32m     17\u001b[0m     tensor,\n\u001b[1;32m     18\u001b[0m     traditionalml\n\u001b[1;32m     19\u001b[0m )\n",
      "File \u001b[0;32m/usr/local/lib/python3.9/site-packages/tf2onnx/onnx_opset/controlflow.py:19\u001b[0m\n\u001b[1;32m     17\u001b[0m \u001b[38;5;28;01mfrom\u001b[39;00m \u001b[38;5;21;01monnx\u001b[39;00m \u001b[38;5;28;01mimport\u001b[39;00m onnx_pb\n\u001b[1;32m     18\u001b[0m \u001b[38;5;28;01mfrom\u001b[39;00m \u001b[38;5;21;01monnx\u001b[39;00m\u001b[38;5;21;01m.\u001b[39;00m\u001b[38;5;21;01monnx_pb\u001b[39;00m \u001b[38;5;28;01mimport\u001b[39;00m TensorProto\n\u001b[0;32m---> 19\u001b[0m \u001b[38;5;28;01mfrom\u001b[39;00m \u001b[38;5;21;01mtf2onnx\u001b[39;00m \u001b[38;5;28;01mimport\u001b[39;00m utils\n\u001b[1;32m     20\u001b[0m \u001b[38;5;28;01mfrom\u001b[39;00m \u001b[38;5;21;01mtf2onnx\u001b[39;00m\u001b[38;5;21;01m.\u001b[39;00m\u001b[38;5;21;01mhandler\u001b[39;00m \u001b[38;5;28;01mimport\u001b[39;00m tf_op\n\u001b[1;32m     21\u001b[0m \u001b[38;5;28;01mfrom\u001b[39;00m \u001b[38;5;21;01mtf2onnx\u001b[39;00m\u001b[38;5;21;01m.\u001b[39;00m\u001b[38;5;21;01mtf_loader\u001b[39;00m \u001b[38;5;28;01mimport\u001b[39;00m find_function\n",
      "File \u001b[0;32m/usr/local/lib/python3.9/site-packages/tf2onnx/utils.py:46\u001b[0m\n\u001b[1;32m     29\u001b[0m logger \u001b[38;5;241m=\u001b[39m logging\u001b[38;5;241m.\u001b[39mgetLogger(\u001b[38;5;18m__file__\u001b[39m)\n\u001b[1;32m     32\u001b[0m \u001b[38;5;66;03m#\u001b[39;00m\n\u001b[1;32m     33\u001b[0m \u001b[38;5;66;03m# mapping dtypes from onnx to numpy\u001b[39;00m\n\u001b[1;32m     34\u001b[0m \u001b[38;5;66;03m#\u001b[39;00m\n\u001b[1;32m     35\u001b[0m ONNX_TO_NUMPY_DTYPE \u001b[38;5;241m=\u001b[39m {\n\u001b[1;32m     36\u001b[0m     onnx_pb\u001b[38;5;241m.\u001b[39mTensorProto\u001b[38;5;241m.\u001b[39mFLOAT: np\u001b[38;5;241m.\u001b[39mfloat32,\n\u001b[1;32m     37\u001b[0m     onnx_pb\u001b[38;5;241m.\u001b[39mTensorProto\u001b[38;5;241m.\u001b[39mFLOAT16: np\u001b[38;5;241m.\u001b[39mfloat16,\n\u001b[1;32m     38\u001b[0m     onnx_pb\u001b[38;5;241m.\u001b[39mTensorProto\u001b[38;5;241m.\u001b[39mDOUBLE: np\u001b[38;5;241m.\u001b[39mfloat64,\n\u001b[1;32m     39\u001b[0m     onnx_pb\u001b[38;5;241m.\u001b[39mTensorProto\u001b[38;5;241m.\u001b[39mINT32: np\u001b[38;5;241m.\u001b[39mint32,\n\u001b[1;32m     40\u001b[0m     onnx_pb\u001b[38;5;241m.\u001b[39mTensorProto\u001b[38;5;241m.\u001b[39mINT16: np\u001b[38;5;241m.\u001b[39mint16,\n\u001b[1;32m     41\u001b[0m     onnx_pb\u001b[38;5;241m.\u001b[39mTensorProto\u001b[38;5;241m.\u001b[39mINT8: np\u001b[38;5;241m.\u001b[39mint8,\n\u001b[1;32m     42\u001b[0m     onnx_pb\u001b[38;5;241m.\u001b[39mTensorProto\u001b[38;5;241m.\u001b[39mUINT8: np\u001b[38;5;241m.\u001b[39muint8,\n\u001b[1;32m     43\u001b[0m     onnx_pb\u001b[38;5;241m.\u001b[39mTensorProto\u001b[38;5;241m.\u001b[39mUINT16: np\u001b[38;5;241m.\u001b[39muint16,\n\u001b[1;32m     44\u001b[0m     onnx_pb\u001b[38;5;241m.\u001b[39mTensorProto\u001b[38;5;241m.\u001b[39mINT64: np\u001b[38;5;241m.\u001b[39mint64,\n\u001b[1;32m     45\u001b[0m     onnx_pb\u001b[38;5;241m.\u001b[39mTensorProto\u001b[38;5;241m.\u001b[39mUINT64: np\u001b[38;5;241m.\u001b[39muint64,\n\u001b[0;32m---> 46\u001b[0m     onnx_pb\u001b[38;5;241m.\u001b[39mTensorProto\u001b[38;5;241m.\u001b[39mBOOL: \u001b[43mnp\u001b[49m\u001b[38;5;241;43m.\u001b[39;49m\u001b[43mbool\u001b[49m,\n\u001b[1;32m     47\u001b[0m     onnx_pb\u001b[38;5;241m.\u001b[39mTensorProto\u001b[38;5;241m.\u001b[39mCOMPLEX64: np\u001b[38;5;241m.\u001b[39mcomplex64,\n\u001b[1;32m     48\u001b[0m     onnx_pb\u001b[38;5;241m.\u001b[39mTensorProto\u001b[38;5;241m.\u001b[39mCOMPLEX128: np\u001b[38;5;241m.\u001b[39mcomplex128,\n\u001b[1;32m     49\u001b[0m     onnx_pb\u001b[38;5;241m.\u001b[39mTensorProto\u001b[38;5;241m.\u001b[39mSTRING: np\u001b[38;5;241m.\u001b[39mobject,\n\u001b[1;32m     50\u001b[0m }\n\u001b[1;32m     52\u001b[0m \u001b[38;5;66;03m#\u001b[39;00m\n\u001b[1;32m     53\u001b[0m \u001b[38;5;66;03m#  onnx dtype names\u001b[39;00m\n\u001b[1;32m     54\u001b[0m \u001b[38;5;66;03m#\u001b[39;00m\n\u001b[1;32m     55\u001b[0m ONNX_DTYPE_NAMES \u001b[38;5;241m=\u001b[39m {\n\u001b[1;32m     56\u001b[0m     onnx_pb\u001b[38;5;241m.\u001b[39mTensorProto\u001b[38;5;241m.\u001b[39mFLOAT: \u001b[38;5;124m\"\u001b[39m\u001b[38;5;124mfloat\u001b[39m\u001b[38;5;124m\"\u001b[39m,\n\u001b[1;32m     57\u001b[0m     onnx_pb\u001b[38;5;241m.\u001b[39mTensorProto\u001b[38;5;241m.\u001b[39mFLOAT16: \u001b[38;5;124m\"\u001b[39m\u001b[38;5;124mfloat16\u001b[39m\u001b[38;5;124m\"\u001b[39m,\n\u001b[0;32m   (...)\u001b[0m\n\u001b[1;32m     68\u001b[0m     onnx_pb\u001b[38;5;241m.\u001b[39mTensorProto\u001b[38;5;241m.\u001b[39mCOMPLEX128: \u001b[38;5;124m\"\u001b[39m\u001b[38;5;124mcomplex128\u001b[39m\u001b[38;5;124m\"\u001b[39m\n\u001b[1;32m     69\u001b[0m }\n",
      "File \u001b[0;32m/usr/local/lib/python3.9/site-packages/numpy/__init__.py:324\u001b[0m, in \u001b[0;36m__getattr__\u001b[0;34m(attr)\u001b[0m\n\u001b[1;32m    319\u001b[0m     warnings\u001b[38;5;241m.\u001b[39mwarn(\n\u001b[1;32m    320\u001b[0m         \u001b[38;5;124mf\u001b[39m\u001b[38;5;124m\"\u001b[39m\u001b[38;5;124mIn the future `np.\u001b[39m\u001b[38;5;132;01m{\u001b[39;00mattr\u001b[38;5;132;01m}\u001b[39;00m\u001b[38;5;124m` will be defined as the \u001b[39m\u001b[38;5;124m\"\u001b[39m\n\u001b[1;32m    321\u001b[0m         \u001b[38;5;124m\"\u001b[39m\u001b[38;5;124mcorresponding NumPy scalar.\u001b[39m\u001b[38;5;124m\"\u001b[39m, \u001b[38;5;167;01mFutureWarning\u001b[39;00m, stacklevel\u001b[38;5;241m=\u001b[39m\u001b[38;5;241m2\u001b[39m)\n\u001b[1;32m    323\u001b[0m \u001b[38;5;28;01mif\u001b[39;00m attr \u001b[38;5;129;01min\u001b[39;00m __former_attrs__:\n\u001b[0;32m--> 324\u001b[0m     \u001b[38;5;28;01mraise\u001b[39;00m \u001b[38;5;167;01mAttributeError\u001b[39;00m(__former_attrs__[attr])\n\u001b[1;32m    326\u001b[0m \u001b[38;5;28;01mif\u001b[39;00m attr \u001b[38;5;241m==\u001b[39m \u001b[38;5;124m'\u001b[39m\u001b[38;5;124mtesting\u001b[39m\u001b[38;5;124m'\u001b[39m:\n\u001b[1;32m    327\u001b[0m     \u001b[38;5;28;01mimport\u001b[39;00m \u001b[38;5;21;01mnumpy\u001b[39;00m\u001b[38;5;21;01m.\u001b[39;00m\u001b[38;5;21;01mtesting\u001b[39;00m \u001b[38;5;28;01mas\u001b[39;00m \u001b[38;5;21;01mtesting\u001b[39;00m\n",
      "\u001b[0;31mAttributeError\u001b[0m: module 'numpy' has no attribute 'bool'.\n`np.bool` was a deprecated alias for the builtin `bool`. To avoid this error in existing code, use `bool` by itself. Doing this will not modify any behavior and is safe. If you specifically wanted the numpy scalar type, use `np.bool_` here.\nThe aliases was originally deprecated in NumPy 1.20; for more details and guidance see the original release note at:\n    https://numpy.org/devdocs/release/1.20.0-notes.html#deprecations"
     ]
    }
   ],
   "source": [
    "import tf2onnx\n",
    "print(tf2onnx.__file__)\n"
   ]
  },
  {
   "cell_type": "code",
   "execution_count": null,
   "id": "9540f094-120a-4876-bf71-e27115d1ce9a",
   "metadata": {},
   "outputs": [],
   "source": []
  }
 ],
 "metadata": {
  "kernelspec": {
   "display_name": "Python 3 (ipykernel)",
   "language": "python",
   "name": "python3"
  },
  "language_info": {
   "codemirror_mode": {
    "name": "ipython",
    "version": 3
   },
   "file_extension": ".py",
   "mimetype": "text/x-python",
   "name": "python",
   "nbconvert_exporter": "python",
   "pygments_lexer": "ipython3",
   "version": "3.9.13"
  }
 },
 "nbformat": 4,
 "nbformat_minor": 5
}
