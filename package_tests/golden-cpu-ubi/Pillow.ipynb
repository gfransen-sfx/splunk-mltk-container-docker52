{
 "cells": [
  {
   "cell_type": "code",
   "execution_count": 2,
   "id": "ae73c23a",
   "metadata": {},
   "outputs": [
    {
     "name": "stdout",
     "output_type": "stream",
     "text": [
      "Step 1: Import Pillow passed.\n",
      "Step 2: Open image passed.\n",
      "Step 3: Apply filter passed.\n",
      "Step 4: Convert to grayscale passed.\n",
      "Step 5: Resize image passed.\n",
      "Step 6: Save image passed.\n",
      "All extensive tests for the 'Pillow' package completed successfully.\n"
     ]
    }
   ],
   "source": [
    "# Initialize a flag to track the success of all steps\n",
    "all_steps_passed = True\n",
    "\n",
    "# Step 1: Import the necessary packages\n",
    "try:\n",
    "    from PIL import Image, ImageFilter, ImageOps\n",
    "    print(\"Step 1: Import Pillow passed.\")\n",
    "except ImportError as e:\n",
    "    print(f\"Step 1 failed: {e}\")\n",
    "    all_steps_passed = False\n",
    "\n",
    "# Step 2: Open an image\n",
    "if all_steps_passed:\n",
    "    try:\n",
    "        img = Image.new('RGB', (100, 100), color='red')\n",
    "        assert img.size == (100, 100), \"Image size mismatch\"\n",
    "        print(\"Step 2: Open image passed.\")\n",
    "    except Exception as e:\n",
    "        print(f\"Step 2 failed: {e}\")\n",
    "        all_steps_passed = False\n",
    "\n",
    "# Step 3: Apply a filter to the image\n",
    "if all_steps_passed:\n",
    "    try:\n",
    "        blurred_img = img.filter(ImageFilter.BLUR)\n",
    "        assert blurred_img.size == img.size, \"Blurred image size mismatch\"\n",
    "        print(\"Step 3: Apply filter passed.\")\n",
    "    except Exception as e:\n",
    "        print(f\"Step 3 failed: {e}\")\n",
    "        all_steps_passed = False\n",
    "\n",
    "# Step 4: Convert image to grayscale\n",
    "if all_steps_passed:\n",
    "    try:\n",
    "        gray_img = ImageOps.grayscale(img)\n",
    "        assert gray_img.mode == 'L', \"Image mode after grayscale conversion mismatch\"\n",
    "        print(\"Step 4: Convert to grayscale passed.\")\n",
    "    except Exception as e:\n",
    "        print(f\"Step 4 failed: {e}\")\n",
    "        all_steps_passed = False\n",
    "\n",
    "# Step 5: Resize the image\n",
    "if all_steps_passed:\n",
    "    try:\n",
    "        resized_img = img.resize((50, 50))\n",
    "        assert resized_img.size == (50, 50), \"Resized image size mismatch\"\n",
    "        print(\"Step 5: Resize image passed.\")\n",
    "    except Exception as e:\n",
    "        print(f\"Step 5 failed: {e}\")\n",
    "        all_steps_passed = False\n",
    "\n",
    "# Step 6: Save the image\n",
    "if all_steps_passed:\n",
    "    try:\n",
    "        resized_img.save(\"test_image.png\")\n",
    "        reopened_img = Image.open(\"test_image.png\")\n",
    "        assert reopened_img.size == resized_img.size, \"Reopened image size mismatch\"\n",
    "        print(\"Step 6: Save image passed.\")\n",
    "    except Exception as e:\n",
    "        print(f\"Step 6 failed: {e}\")\n",
    "        all_steps_passed = False\n",
    "\n",
    "# Final confirmation message\n",
    "if all_steps_passed:\n",
    "    print(\"All extensive tests for the 'Pillow' package completed successfully.\")\n",
    "else:\n",
    "    print(\"One or more steps failed. Please check the output for details.\")\n"
   ]
  },
  {
   "cell_type": "code",
   "execution_count": null,
   "id": "e74e77ad-39aa-4f42-babc-a058d8dd1ec4",
   "metadata": {},
   "outputs": [],
   "source": []
  }
 ],
 "metadata": {
  "kernelspec": {
   "display_name": "Python 3 (ipykernel)",
   "language": "python",
   "name": "python3"
  },
  "language_info": {
   "codemirror_mode": {
    "name": "ipython",
    "version": 3
   },
   "file_extension": ".py",
   "mimetype": "text/x-python",
   "name": "python",
   "nbconvert_exporter": "python",
   "pygments_lexer": "ipython3",
   "version": "3.9.13"
  }
 },
 "nbformat": 4,
 "nbformat_minor": 5
}
