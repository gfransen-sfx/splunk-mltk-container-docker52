{
 "cells": [
  {
   "cell_type": "code",
   "execution_count": 1,
   "id": "0a7310b6",
   "metadata": {},
   "outputs": [
    {
     "name": "stdout",
     "output_type": "stream",
     "text": [
      "Processing the request for testing the 'scikit-learn' package...\n",
      "Step 1: scikit-learn package imported successfully.\n",
      "Step 2: scikit-learn version is up to date.\n",
      "Step 3: Iris dataset loaded successfully.\n",
      "Step 4: Dataset split into training and testing sets successfully.\n",
      "Step 5: Logistic Regression model trained successfully.\n",
      "Step 6: Model prediction tested successfully.\n",
      "Step 7: Model accuracy evaluated successfully with an accuracy of 1.00.\n"
     ]
    },
    {
     "data": {
      "image/png": "[encoded data removed]",
      "text/plain": [
       "<Figure size 640x480 with 2 Axes>"
      ]
     },
     "metadata": {},
     "output_type": "display_data"
    },
    {
     "name": "stdout",
     "output_type": "stream",
     "text": [
      "Step 8: Confusion matrix visualized successfully.\n",
      "All extensive tests for the 'scikit-learn' package completed successfully.\n"
     ]
    }
   ],
   "source": [
    "# Confirmation message that the requested package is being processed\n",
    "print(\"Processing the request for testing the 'scikit-learn' package...\")\n",
    "\n",
    "# Initialize success flag\n",
    "all_steps_successful = True\n",
    "\n",
    "# Import necessary packages and check version\n",
    "try:\n",
    "    import sklearn\n",
    "    from sklearn import datasets, model_selection, linear_model, metrics\n",
    "    print(\"Step 1: scikit-learn package imported successfully.\")\n",
    "    assert sklearn.__version__ >= '0.24', \"scikit-learn version must be 0.24 or later.\"\n",
    "    print(\"Step 2: scikit-learn version is up to date.\")\n",
    "except ImportError as e:\n",
    "    all_steps_successful = False\n",
    "    print(f\"Step 1 failed: {str(e)}\")\n",
    "except AssertionError as e:\n",
    "    all_steps_successful = False\n",
    "    print(f\"Step 2 failed: {str(e)}\")\n",
    "\n",
    "# Load dataset\n",
    "if all_steps_successful:\n",
    "    try:\n",
    "        # Load the iris dataset\n",
    "        iris = datasets.load_iris()\n",
    "        print(\"Step 3: Iris dataset loaded successfully.\")\n",
    "    except Exception as e:\n",
    "        all_steps_successful = False\n",
    "        print(f\"Step 3 failed: {str(e)}\")\n",
    "\n",
    "# Split dataset into training and testing sets\n",
    "if all_steps_successful:\n",
    "    try:\n",
    "        X_train, X_test, y_train, y_test = model_selection.train_test_split(iris.data, iris.target, test_size=0.3, random_state=42)\n",
    "        assert len(X_train) > 0 and len(X_test) > 0, \"Training and testing sets should not be empty.\"\n",
    "        print(\"Step 4: Dataset split into training and testing sets successfully.\")\n",
    "    except Exception as e:\n",
    "        all_steps_successful = False\n",
    "        print(f\"Step 4 failed: {str(e)}\")\n",
    "\n",
    "# Train a logistic regression model\n",
    "if all_steps_successful:\n",
    "    try:\n",
    "        model = linear_model.LogisticRegression(max_iter=200)\n",
    "        model.fit(X_train, y_train)\n",
    "        print(\"Step 5: Logistic Regression model trained successfully.\")\n",
    "    except Exception as e:\n",
    "        all_steps_successful = False\n",
    "        print(f\"Step 5 failed: {str(e)}\")\n",
    "\n",
    "# Test model prediction\n",
    "if all_steps_successful:\n",
    "    try:\n",
    "        predictions = model.predict(X_test)\n",
    "        assert len(predictions) == len(y_test), \"Predictions should match the number of test samples.\"\n",
    "        print(\"Step 6: Model prediction tested successfully.\")\n",
    "    except Exception as e:\n",
    "        all_steps_successful = False\n",
    "        print(f\"Step 6 failed: {str(e)}\")\n",
    "\n",
    "# Evaluate model accuracy\n",
    "if all_steps_successful:\n",
    "    try:\n",
    "        accuracy = metrics.accuracy_score(y_test, predictions)\n",
    "        assert accuracy > 0, \"Accuracy should be greater than 0.\"\n",
    "        print(f\"Step 7: Model accuracy evaluated successfully with an accuracy of {accuracy:.2f}.\")\n",
    "    except Exception as e:\n",
    "        all_steps_successful = False\n",
    "        print(f\"Step 7 failed: {str(e)}\")\n",
    "\n",
    "# Visualize the results (Optional: Plot confusion matrix)\n",
    "if all_steps_successful:\n",
    "    try:\n",
    "        import matplotlib.pyplot as plt\n",
    "        from sklearn.metrics import ConfusionMatrixDisplay\n",
    "\n",
    "        ConfusionMatrixDisplay.from_estimator(model, X_test, y_test)\n",
    "        plt.title(\"Confusion Matrix\")\n",
    "        plt.show()\n",
    "        print(\"Step 8: Confusion matrix visualized successfully.\")\n",
    "    except ImportError as e:\n",
    "        all_steps_successful = False\n",
    "        print(f\"Step 8 failed: {str(e)}\")\n",
    "    except Exception as e:\n",
    "        all_steps_successful = False\n",
    "        print(f\"Step 8 failed: {str(e)}\")\n",
    "\n",
    "# Final confirmation message if all steps succeed\n",
    "if all_steps_successful:\n",
    "    print(\"All extensive tests for the 'scikit-learn' package completed successfully.\")\n",
    "else:\n",
    "    print(\"Some steps failed. Please check the messages above for details.\")\n"
   ]
  },
  {
   "cell_type": "code",
   "execution_count": null,
   "id": "da5908a3-c90b-44c6-8d51-b5f3df7e95b6",
   "metadata": {},
   "outputs": [],
   "source": []
  }
 ],
 "metadata": {
  "kernelspec": {
   "display_name": "Python 3 (ipykernel)",
   "language": "python",
   "name": "python3"
  },
  "language_info": {
   "codemirror_mode": {
    "name": "ipython",
    "version": 3
   },
   "file_extension": ".py",
   "mimetype": "text/x-python",
   "name": "python",
   "nbconvert_exporter": "python",
   "pygments_lexer": "ipython3",
   "version": "3.9.13"
  }
 },
 "nbformat": 4,
 "nbformat_minor": 5
}
