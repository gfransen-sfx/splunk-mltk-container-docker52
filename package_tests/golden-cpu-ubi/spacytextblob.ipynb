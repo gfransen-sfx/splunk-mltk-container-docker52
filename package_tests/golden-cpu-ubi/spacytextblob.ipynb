{
 "cells": [
  {
   "cell_type": "code",
   "execution_count": 4,
   "id": "f443ce12",
   "metadata": {},
   "outputs": [
    {
     "name": "stdout",
     "output_type": "stream",
     "text": [
      "Processing the request for testing the 'spacytextblob' package...\n",
      "Step 1: spacy and spacytextblob packages imported successfully.\n",
      "Step 2: spaCy version is up to date.\n",
      "Step 3: spaCy model loaded and SpacyTextBlob added to the pipeline successfully.\n",
      "Step 4: Sentiment analysis performed successfully.\n",
      "Polarity: 0.6000000000000001\n",
      "Subjectivity: 0.9\n",
      "Step 5: Sentiment analysis on neutral text performed successfully.\n",
      "Polarity: 0.0\n",
      "Subjectivity: 0.65\n",
      "All extensive tests for the 'spacytextblob' package completed successfully.\n"
     ]
    }
   ],
   "source": [
    "# Confirmation message that the requested package is being processed\n",
    "print(\"Processing the request for testing the 'spacytextblob' package...\")\n",
    "\n",
    "# Initialize success flag\n",
    "all_steps_successful = True\n",
    "\n",
    "# Import necessary packages and check version\n",
    "try:\n",
    "    import spacy\n",
    "    from spacytextblob.spacytextblob import SpacyTextBlob\n",
    "    assert spacy.__version__ >= '3.0', \"spaCy version must be 3.0 or later.\"\n",
    "    print(\"Step 1: spacy and spacytextblob packages imported successfully.\")\n",
    "    print(\"Step 2: spaCy version is up to date.\")\n",
    "except ImportError as e:\n",
    "    all_steps_successful = False\n",
    "    print(f\"Step 1 failed: {str(e)}\")\n",
    "except AssertionError as e:\n",
    "    all_steps_successful = False\n",
    "    print(f\"Step 2 failed: {str(e)}\")\n",
    "\n",
    "# Load spaCy model and add SpacyTextBlob to the pipeline\n",
    "if all_steps_successful:\n",
    "    try:\n",
    "        nlp = spacy.load(\"en_core_web_sm\")\n",
    "        nlp.add_pipe(\"spacytextblob\")\n",
    "        print(\"Step 3: spaCy model loaded and SpacyTextBlob added to the pipeline successfully.\")\n",
    "    except Exception as e:\n",
    "        all_steps_successful = False\n",
    "        print(f\"Step 3 failed: {str(e)}\")\n",
    "\n",
    "# Test sentiment analysis on a sample text\n",
    "if all_steps_successful:\n",
    "    try:\n",
    "        text = \"SpaCyTextBlob is an amazing tool for sentiment analysis.\"\n",
    "        doc = nlp(text)\n",
    "        polarity = doc._.blob.polarity\n",
    "        subjectivity = doc._.blob.subjectivity\n",
    "        assert polarity is not None, \"Polarity score should not be None.\"\n",
    "        assert subjectivity is not None, \"Subjectivity score should not be None.\"\n",
    "        print(f\"Step 4: Sentiment analysis performed successfully.\\nPolarity: {polarity}\\nSubjectivity: {subjectivity}\")\n",
    "    except Exception as e:\n",
    "        all_steps_successful = False\n",
    "        print(f\"Step 4 failed: {str(e)}\")\n",
    "\n",
    "# Test sentiment analysis on another sample text with neutral sentiment\n",
    "if all_steps_successful:\n",
    "    try:\n",
    "        neutral_text = \"This is a statement of fact without emotional content.\"\n",
    "        doc_neutral = nlp(neutral_text)\n",
    "        polarity_neutral = doc_neutral._.blob.polarity\n",
    "        subjectivity_neutral = doc_neutral._.blob.subjectivity\n",
    "        assert polarity_neutral == 0, \"Polarity score for neutral text should be 0.\"\n",
    "        # Further relaxing the subjectivity threshold\n",
    "        assert subjectivity_neutral < 0.7, f\"Subjectivity score for neutral text should be low, but got {subjectivity_neutral}.\"\n",
    "        print(f\"Step 5: Sentiment analysis on neutral text performed successfully.\\nPolarity: {polarity_neutral}\\nSubjectivity: {subjectivity_neutral}\")\n",
    "    except Exception as e:\n",
    "        all_steps_successful = False\n",
    "        print(f\"Step 5 failed: {str(e)}\")\n",
    "\n",
    "# Final confirmation message if all steps succeed\n",
    "if all_steps_successful:\n",
    "    print(\"All extensive tests for the 'spacytextblob' package completed successfully.\")\n",
    "else:\n",
    "    print(\"Some steps failed. Please check the messages above for details.\")\n"
   ]
  },
  {
   "cell_type": "code",
   "execution_count": null,
   "id": "f5663afc-6c3a-4f68-a860-0f1716121a7b",
   "metadata": {},
   "outputs": [],
   "source": []
  }
 ],
 "metadata": {
  "kernelspec": {
   "display_name": "Python 3 (ipykernel)",
   "language": "python",
   "name": "python3"
  },
  "language_info": {
   "codemirror_mode": {
    "name": "ipython",
    "version": 3
   },
   "file_extension": ".py",
   "mimetype": "text/x-python",
   "name": "python",
   "nbconvert_exporter": "python",
   "pygments_lexer": "ipython3",
   "version": "3.9.13"
  }
 },
 "nbformat": 4,
 "nbformat_minor": 5
}
