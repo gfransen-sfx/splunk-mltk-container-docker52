{
 "cells": [
  {
   "attachments": {},
   "cell_type": "markdown",
   "metadata": {},
   "source": [
    "# Push to Milvus"
   ]
  },
  {
   "attachments": {},
   "cell_type": "markdown",
   "metadata": {},
   "source": [
    "## Stage 0 - import libraries\n",
    "At stage 0 we define all imports necessary to run our subsequent code depending on various libraries."
   ]
  },
  {
   "cell_type": "code",
   "execution_count": 1,
   "metadata": {
    "deletable": false,
    "name": "mltkc_import",
    "tags": []
   },
   "outputs": [],
   "source": [
    "# this definition exposes all python module imports that should be available in all subsequent commands\n",
    "import json\n",
    "import numpy as np\n",
    "import pandas as pd\n",
    "import os\n",
    "\n",
    "import time\n",
    "\n",
    "import pymilvus\n",
    "\n",
    "from pymilvus import (\n",
    "    connections,\n",
    "    utility,\n",
    "    FieldSchema, CollectionSchema, DataType,\n",
    "    Collection,\n",
    ")\n",
    "\n",
    "# ...\n",
    "# global constants\n",
    "MODEL_DIRECTORY = \"/srv/app/model/data/\""
   ]
  },
  {
   "cell_type": "code",
   "execution_count": 2,
   "metadata": {
    "tags": []
   },
   "outputs": [
    {
     "name": "stdout",
     "output_type": "stream",
     "text": [
      "numpy version: 1.23.5\n",
      "pandas version: 2.0.2\n",
      "pymilvus version: 2.2.9\n"
     ]
    }
   ],
   "source": [
    "# THIS CELL IS NOT EXPORTED - free notebook cell for testing or development purposes\n",
    "print(\"numpy version: \" + np.__version__)\n",
    "print(\"pandas version: \" + pd.__version__)\n",
    "print(\"pymilvus version: \" + pymilvus.__version__)"
   ]
  },
  {
   "attachments": {},
   "cell_type": "markdown",
   "metadata": {},
   "source": [
    "### Option 2 - push data from Splunk\n",
    "In Splunk run a search to pipe a dataset into your notebook environment. You utilize the `mode=stage` flag in the in the `| fit` command to do this. The search results are accessible then as csv file with the same model name that is defined in the `into app:<modelname>` part of the fit statement. Additionally, meta data is retrieved and accessible as json file. In the same way you can further work with the meta data object as it is exposed in the fit and apply function definitions below in stage 3 and 4."
   ]
  },
  {
   "attachments": {},
   "cell_type": "markdown",
   "metadata": {},
   "source": [
    "| makeresults count=10<br>\n",
    "| streamstats c as i <br>\n",
    "| eval s = i%3 <br>\n",
    "| eval feature_{s}=0 <br>\n",
    "| foreach feature_* [eval \\<\\<FIELD\\>\\>=random()/pow(2,31)]<br>\n",
    "| fit MLTKContainer mode=stage algo=barebone_template _time feature_* i into app:barebone_template<br>"
   ]
  },
  {
   "attachments": {},
   "cell_type": "markdown",
   "metadata": {},
   "source": [
    "After you run this search your data set sample is available as a csv inside the container to develop your model. The name is taken from the into keyword (\"barebone_model\" in the example above) or set to \"default\" if no into keyword is present. This step is intended to work with a subset of your data to create your custom model."
   ]
  },
  {
   "cell_type": "code",
   "execution_count": 3,
   "metadata": {
    "deletable": false,
    "name": "mltkc_stage",
    "tags": []
   },
   "outputs": [],
   "source": [
    "# this cell is not executed from MLTK and should only be used for staging data into the notebook environment\n",
    "def stage(name):\n",
    "    with open(\"data/\"+name+\".csv\", 'r') as f:\n",
    "        df = pd.read_csv(f)\n",
    "    with open(\"data/\"+name+\".json\", 'r') as f:\n",
    "        param = json.load(f)\n",
    "    return df, param"
   ]
  },
  {
   "cell_type": "code",
   "execution_count": 17,
   "metadata": {
    "tags": []
   },
   "outputs": [],
   "source": [
    "# THIS CELL IS NOT EXPORTED - free notebook cell for testing or development purposes\n",
    "df, param = stage(\"push_to_milvus_ua\")"
   ]
  },
  {
   "cell_type": "code",
   "execution_count": 18,
   "metadata": {
    "tags": []
   },
   "outputs": [
    {
     "data": {
      "text/html": [
       "<div>\n",
       "<style scoped>\n",
       "    .dataframe tbody tr th:only-of-type {\n",
       "        vertical-align: middle;\n",
       "    }\n",
       "\n",
       "    .dataframe tbody tr th {\n",
       "        vertical-align: top;\n",
       "    }\n",
       "\n",
       "    .dataframe thead th {\n",
       "        text-align: right;\n",
       "    }\n",
       "</style>\n",
       "<table border=\"1\" class=\"dataframe\">\n",
       "  <thead>\n",
       "    <tr style=\"text-align: right;\">\n",
       "      <th></th>\n",
       "      <th>user_agent</th>\n",
       "      <th>vector_0</th>\n",
       "      <th>vector_1</th>\n",
       "      <th>vector_2</th>\n",
       "      <th>vector_3</th>\n",
       "      <th>vector_4</th>\n",
       "      <th>vector_5</th>\n",
       "      <th>vector_6</th>\n",
       "      <th>vector_7</th>\n",
       "      <th>vector_8</th>\n",
       "      <th>...</th>\n",
       "      <th>vector_22</th>\n",
       "      <th>vector_23</th>\n",
       "      <th>vector_24</th>\n",
       "      <th>vector_25</th>\n",
       "      <th>vector_26</th>\n",
       "      <th>vector_27</th>\n",
       "      <th>vector_28</th>\n",
       "      <th>vector_29</th>\n",
       "      <th>vector_30</th>\n",
       "      <th>vector_31</th>\n",
       "    </tr>\n",
       "  </thead>\n",
       "  <tbody>\n",
       "    <tr>\n",
       "      <th>0</th>\n",
       "      <td>Mozilla/5.0 (Linux; U; Android 4.0.4; en-us; G...</td>\n",
       "      <td>1</td>\n",
       "      <td>0</td>\n",
       "      <td>2</td>\n",
       "      <td>0</td>\n",
       "      <td>0</td>\n",
       "      <td>0</td>\n",
       "      <td>0</td>\n",
       "      <td>0</td>\n",
       "      <td>0</td>\n",
       "      <td>...</td>\n",
       "      <td>0</td>\n",
       "      <td>3</td>\n",
       "      <td>1</td>\n",
       "      <td>0</td>\n",
       "      <td>2</td>\n",
       "      <td>2</td>\n",
       "      <td>0</td>\n",
       "      <td>0</td>\n",
       "      <td>1</td>\n",
       "      <td>2</td>\n",
       "    </tr>\n",
       "    <tr>\n",
       "      <th>1</th>\n",
       "      <td>Mozilla/5.0 (iPad; CPU OS 7_0 like Mac OS X) A...</td>\n",
       "      <td>0</td>\n",
       "      <td>0</td>\n",
       "      <td>0</td>\n",
       "      <td>0</td>\n",
       "      <td>0</td>\n",
       "      <td>0</td>\n",
       "      <td>0</td>\n",
       "      <td>0</td>\n",
       "      <td>1</td>\n",
       "      <td>...</td>\n",
       "      <td>0</td>\n",
       "      <td>1</td>\n",
       "      <td>1</td>\n",
       "      <td>1</td>\n",
       "      <td>1</td>\n",
       "      <td>1</td>\n",
       "      <td>2</td>\n",
       "      <td>0</td>\n",
       "      <td>0</td>\n",
       "      <td>0</td>\n",
       "    </tr>\n",
       "    <tr>\n",
       "      <th>2</th>\n",
       "      <td>Mozilla/5.0 (Windows NT 10.0; Win64; x64; Trid...</td>\n",
       "      <td>0</td>\n",
       "      <td>0</td>\n",
       "      <td>0</td>\n",
       "      <td>2</td>\n",
       "      <td>1</td>\n",
       "      <td>0</td>\n",
       "      <td>0</td>\n",
       "      <td>0</td>\n",
       "      <td>2</td>\n",
       "      <td>...</td>\n",
       "      <td>0</td>\n",
       "      <td>0</td>\n",
       "      <td>1</td>\n",
       "      <td>0</td>\n",
       "      <td>4</td>\n",
       "      <td>0</td>\n",
       "      <td>0</td>\n",
       "      <td>0</td>\n",
       "      <td>0</td>\n",
       "      <td>0</td>\n",
       "    </tr>\n",
       "    <tr>\n",
       "      <th>3</th>\n",
       "      <td>Mozilla/5.0 (Macintosh; Intel Mac OS X 10_10_3...</td>\n",
       "      <td>0</td>\n",
       "      <td>0</td>\n",
       "      <td>2</td>\n",
       "      <td>0</td>\n",
       "      <td>0</td>\n",
       "      <td>0</td>\n",
       "      <td>0</td>\n",
       "      <td>0</td>\n",
       "      <td>0</td>\n",
       "      <td>...</td>\n",
       "      <td>0</td>\n",
       "      <td>0</td>\n",
       "      <td>1</td>\n",
       "      <td>3</td>\n",
       "      <td>2</td>\n",
       "      <td>0</td>\n",
       "      <td>0</td>\n",
       "      <td>0</td>\n",
       "      <td>2</td>\n",
       "      <td>0</td>\n",
       "    </tr>\n",
       "    <tr>\n",
       "      <th>4</th>\n",
       "      <td>Mozilla/5.0 (Windows NT 10.0; WOW64; Trident/7...</td>\n",
       "      <td>0</td>\n",
       "      <td>0</td>\n",
       "      <td>0</td>\n",
       "      <td>2</td>\n",
       "      <td>1</td>\n",
       "      <td>0</td>\n",
       "      <td>0</td>\n",
       "      <td>0</td>\n",
       "      <td>1</td>\n",
       "      <td>...</td>\n",
       "      <td>0</td>\n",
       "      <td>0</td>\n",
       "      <td>1</td>\n",
       "      <td>0</td>\n",
       "      <td>4</td>\n",
       "      <td>0</td>\n",
       "      <td>0</td>\n",
       "      <td>0</td>\n",
       "      <td>1</td>\n",
       "      <td>0</td>\n",
       "    </tr>\n",
       "    <tr>\n",
       "      <th>...</th>\n",
       "      <td>...</td>\n",
       "      <td>...</td>\n",
       "      <td>...</td>\n",
       "      <td>...</td>\n",
       "      <td>...</td>\n",
       "      <td>...</td>\n",
       "      <td>...</td>\n",
       "      <td>...</td>\n",
       "      <td>...</td>\n",
       "      <td>...</td>\n",
       "      <td>...</td>\n",
       "      <td>...</td>\n",
       "      <td>...</td>\n",
       "      <td>...</td>\n",
       "      <td>...</td>\n",
       "      <td>...</td>\n",
       "      <td>...</td>\n",
       "      <td>...</td>\n",
       "      <td>...</td>\n",
       "      <td>...</td>\n",
       "      <td>...</td>\n",
       "    </tr>\n",
       "    <tr>\n",
       "      <th>9995</th>\n",
       "      <td>Mozilla/5.0 (Linux; Android 4.1.2; Panasonic T...</td>\n",
       "      <td>0</td>\n",
       "      <td>0</td>\n",
       "      <td>3</td>\n",
       "      <td>1</td>\n",
       "      <td>0</td>\n",
       "      <td>0</td>\n",
       "      <td>0</td>\n",
       "      <td>0</td>\n",
       "      <td>0</td>\n",
       "      <td>...</td>\n",
       "      <td>1</td>\n",
       "      <td>1</td>\n",
       "      <td>2</td>\n",
       "      <td>2</td>\n",
       "      <td>3</td>\n",
       "      <td>1</td>\n",
       "      <td>0</td>\n",
       "      <td>1</td>\n",
       "      <td>0</td>\n",
       "      <td>1</td>\n",
       "    </tr>\n",
       "    <tr>\n",
       "      <th>9996</th>\n",
       "      <td>Mozilla/4.0 (compatible; MSIE 7.0; Windows NT ...</td>\n",
       "      <td>0</td>\n",
       "      <td>0</td>\n",
       "      <td>2</td>\n",
       "      <td>1</td>\n",
       "      <td>1</td>\n",
       "      <td>0</td>\n",
       "      <td>0</td>\n",
       "      <td>1</td>\n",
       "      <td>1</td>\n",
       "      <td>...</td>\n",
       "      <td>0</td>\n",
       "      <td>1</td>\n",
       "      <td>1</td>\n",
       "      <td>0</td>\n",
       "      <td>7</td>\n",
       "      <td>0</td>\n",
       "      <td>2</td>\n",
       "      <td>1</td>\n",
       "      <td>1</td>\n",
       "      <td>0</td>\n",
       "    </tr>\n",
       "    <tr>\n",
       "      <th>9997</th>\n",
       "      <td>Mozilla/5.0 (X11; U; Linux x86_64; en-gb) Appl...</td>\n",
       "      <td>0</td>\n",
       "      <td>0</td>\n",
       "      <td>1</td>\n",
       "      <td>0</td>\n",
       "      <td>0</td>\n",
       "      <td>1</td>\n",
       "      <td>1</td>\n",
       "      <td>0</td>\n",
       "      <td>0</td>\n",
       "      <td>...</td>\n",
       "      <td>1</td>\n",
       "      <td>1</td>\n",
       "      <td>2</td>\n",
       "      <td>2</td>\n",
       "      <td>3</td>\n",
       "      <td>0</td>\n",
       "      <td>0</td>\n",
       "      <td>1</td>\n",
       "      <td>0</td>\n",
       "      <td>1</td>\n",
       "    </tr>\n",
       "    <tr>\n",
       "      <th>9998</th>\n",
       "      <td>Mozilla/5.0 (Linux; U; Android 4.1.2; en-US; P...</td>\n",
       "      <td>1</td>\n",
       "      <td>0</td>\n",
       "      <td>1</td>\n",
       "      <td>1</td>\n",
       "      <td>0</td>\n",
       "      <td>0</td>\n",
       "      <td>0</td>\n",
       "      <td>0</td>\n",
       "      <td>0</td>\n",
       "      <td>...</td>\n",
       "      <td>1</td>\n",
       "      <td>1</td>\n",
       "      <td>1</td>\n",
       "      <td>0</td>\n",
       "      <td>2</td>\n",
       "      <td>4</td>\n",
       "      <td>1</td>\n",
       "      <td>0</td>\n",
       "      <td>2</td>\n",
       "      <td>2</td>\n",
       "    </tr>\n",
       "    <tr>\n",
       "      <th>9999</th>\n",
       "      <td>Mozilla/5.0 (Linux; U; Android 4.0.4; en-us; E...</td>\n",
       "      <td>0</td>\n",
       "      <td>0</td>\n",
       "      <td>2</td>\n",
       "      <td>0</td>\n",
       "      <td>0</td>\n",
       "      <td>0</td>\n",
       "      <td>0</td>\n",
       "      <td>0</td>\n",
       "      <td>0</td>\n",
       "      <td>...</td>\n",
       "      <td>0</td>\n",
       "      <td>2</td>\n",
       "      <td>1</td>\n",
       "      <td>1</td>\n",
       "      <td>2</td>\n",
       "      <td>2</td>\n",
       "      <td>0</td>\n",
       "      <td>0</td>\n",
       "      <td>2</td>\n",
       "      <td>2</td>\n",
       "    </tr>\n",
       "  </tbody>\n",
       "</table>\n",
       "<p>10000 rows × 33 columns</p>\n",
       "</div>"
      ],
      "text/plain": [
       "                                             user_agent  vector_0  vector_1  \\\n",
       "0     Mozilla/5.0 (Linux; U; Android 4.0.4; en-us; G...         1         0   \n",
       "1     Mozilla/5.0 (iPad; CPU OS 7_0 like Mac OS X) A...         0         0   \n",
       "2     Mozilla/5.0 (Windows NT 10.0; Win64; x64; Trid...         0         0   \n",
       "3     Mozilla/5.0 (Macintosh; Intel Mac OS X 10_10_3...         0         0   \n",
       "4     Mozilla/5.0 (Windows NT 10.0; WOW64; Trident/7...         0         0   \n",
       "...                                                 ...       ...       ...   \n",
       "9995  Mozilla/5.0 (Linux; Android 4.1.2; Panasonic T...         0         0   \n",
       "9996  Mozilla/4.0 (compatible; MSIE 7.0; Windows NT ...         0         0   \n",
       "9997  Mozilla/5.0 (X11; U; Linux x86_64; en-gb) Appl...         0         0   \n",
       "9998  Mozilla/5.0 (Linux; U; Android 4.1.2; en-US; P...         1         0   \n",
       "9999  Mozilla/5.0 (Linux; U; Android 4.0.4; en-us; E...         0         0   \n",
       "\n",
       "      vector_2  vector_3  vector_4  vector_5  vector_6  vector_7  vector_8  \\\n",
       "0            2         0         0         0         0         0         0   \n",
       "1            0         0         0         0         0         0         1   \n",
       "2            0         2         1         0         0         0         2   \n",
       "3            2         0         0         0         0         0         0   \n",
       "4            0         2         1         0         0         0         1   \n",
       "...        ...       ...       ...       ...       ...       ...       ...   \n",
       "9995         3         1         0         0         0         0         0   \n",
       "9996         2         1         1         0         0         1         1   \n",
       "9997         1         0         0         1         1         0         0   \n",
       "9998         1         1         0         0         0         0         0   \n",
       "9999         2         0         0         0         0         0         0   \n",
       "\n",
       "      ...  vector_22  vector_23  vector_24  vector_25  vector_26  vector_27  \\\n",
       "0     ...          0          3          1          0          2          2   \n",
       "1     ...          0          1          1          1          1          1   \n",
       "2     ...          0          0          1          0          4          0   \n",
       "3     ...          0          0          1          3          2          0   \n",
       "4     ...          0          0          1          0          4          0   \n",
       "...   ...        ...        ...        ...        ...        ...        ...   \n",
       "9995  ...          1          1          2          2          3          1   \n",
       "9996  ...          0          1          1          0          7          0   \n",
       "9997  ...          1          1          2          2          3          0   \n",
       "9998  ...          1          1          1          0          2          4   \n",
       "9999  ...          0          2          1          1          2          2   \n",
       "\n",
       "      vector_28  vector_29  vector_30  vector_31  \n",
       "0             0          0          1          2  \n",
       "1             2          0          0          0  \n",
       "2             0          0          0          0  \n",
       "3             0          0          2          0  \n",
       "4             0          0          1          0  \n",
       "...         ...        ...        ...        ...  \n",
       "9995          0          1          0          1  \n",
       "9996          2          1          1          0  \n",
       "9997          0          1          0          1  \n",
       "9998          1          0          2          2  \n",
       "9999          0          0          2          2  \n",
       "\n",
       "[10000 rows x 33 columns]"
      ]
     },
     "execution_count": 18,
     "metadata": {},
     "output_type": "execute_result"
    }
   ],
   "source": [
    "df"
   ]
  },
  {
   "cell_type": "code",
   "execution_count": 19,
   "metadata": {
    "tags": []
   },
   "outputs": [
    {
     "data": {
      "text/plain": [
       "{'options': {'params': {'mode': 'stage',\n",
       "   'algo': 'push_to_milvus',\n",
       "   'collection_name': 'user_agent_collection',\n",
       "   'n_dims': '32',\n",
       "   'label_field_name': 'user_agent'},\n",
       "  'args': ['user_agent', 'vector_*'],\n",
       "  'feature_variables': ['user_agent', 'vector_*'],\n",
       "  'model_name': 'push_to_milvus_ua',\n",
       "  'algo_name': 'MLTKContainer',\n",
       "  'mlspl_limits': {'handle_new_cat': 'default',\n",
       "   'max_distinct_cat_values': '100',\n",
       "   'max_distinct_cat_values_for_classifiers': '100',\n",
       "   'max_distinct_cat_values_for_scoring': '100',\n",
       "   'max_fit_time': '600',\n",
       "   'max_inputs': '100000',\n",
       "   'max_memory_usage_mb': '4000',\n",
       "   'max_model_size_mb': '30',\n",
       "   'max_score_time': '600',\n",
       "   'use_sampling': 'true'},\n",
       "  'kfold_cv': None},\n",
       " 'feature_variables': ['user_agent',\n",
       "  'vector_0',\n",
       "  'vector_1',\n",
       "  'vector_2',\n",
       "  'vector_3',\n",
       "  'vector_4',\n",
       "  'vector_5',\n",
       "  'vector_6',\n",
       "  'vector_7',\n",
       "  'vector_8',\n",
       "  'vector_9',\n",
       "  'vector_10',\n",
       "  'vector_11',\n",
       "  'vector_12',\n",
       "  'vector_13',\n",
       "  'vector_14',\n",
       "  'vector_15',\n",
       "  'vector_16',\n",
       "  'vector_17',\n",
       "  'vector_18',\n",
       "  'vector_19',\n",
       "  'vector_20',\n",
       "  'vector_21',\n",
       "  'vector_22',\n",
       "  'vector_23',\n",
       "  'vector_24',\n",
       "  'vector_25',\n",
       "  'vector_26',\n",
       "  'vector_27',\n",
       "  'vector_28',\n",
       "  'vector_29',\n",
       "  'vector_30',\n",
       "  'vector_31']}"
      ]
     },
     "execution_count": 19,
     "metadata": {},
     "output_type": "execute_result"
    }
   ],
   "source": [
    "param"
   ]
  },
  {
   "attachments": {},
   "cell_type": "markdown",
   "metadata": {},
   "source": [
    "## Stage 2 - create and initialize a model"
   ]
  },
  {
   "cell_type": "code",
   "execution_count": 20,
   "metadata": {
    "deletable": false,
    "name": "mltkc_init",
    "tags": []
   },
   "outputs": [],
   "source": [
    "# initialize your model\n",
    "# available inputs: data and parameters\n",
    "# returns the model object which will be used as a reference to call fit, apply and summary subsequently\n",
    "def init(df,param):\n",
    "    model = {}\n",
    "\n",
    "    try:\n",
    "        n_dims=int(param['options']['params']['n_dims'])\n",
    "    except:\n",
    "        n_dims=8\n",
    "        \n",
    "    pk_type=DataType.VARCHAR        \n",
    "    embedding_type=DataType.FLOAT_VECTOR\n",
    "    \n",
    "    try:\n",
    "        collection_name=param['options']['params']['collection_name']\n",
    "    except:\n",
    "        collection_name=\"default_collection\"\n",
    "    \n",
    "    print(\"start connecting to Milvus\")\n",
    "    # this hostname may need changing to a specific local docker network ip address depending on docker configuration\n",
    "    connections.connect(\"default\", host=\"milvus-standalone\", port=\"19530\")\n",
    "\n",
    "    collection_exists = utility.has_collection(collection_name)\n",
    "        \n",
    "    fields = [\n",
    "        FieldSchema(name=\"_key\", is_primary=True, auto_id=True, dtype=DataType.INT64),\n",
    "        FieldSchema(name=\"embeddings\", dtype=embedding_type, dim=n_dims),\n",
    "        FieldSchema(name=\"label\", dtype=DataType.VARCHAR, max_length=1000),\n",
    "    ]\n",
    "\n",
    "    schema = CollectionSchema(fields, f\"dsdl schema for {collection_name}\")\n",
    "    \n",
    "    if collection_exists:\n",
    "        print(f\"The collection {collection_name} already exists\")\n",
    "        collection = Collection(collection_name)\n",
    "        collection.load()\n",
    "    else:\n",
    "        print(f\"The collection {collection_name} does not exist\")\n",
    "        print(f\"creating new collection: {collection_name}\")\n",
    "        collection = Collection(collection_name, schema, consistency_level=\"Strong\")\n",
    "        index = {\n",
    "            \"index_type\": \"IVF_FLAT\",\n",
    "            \"metric_type\": \"L2\",\n",
    "            \"params\": {\"nlist\": 1024},\n",
    "        }\n",
    "        collection.create_index(\"embeddings\", index)\n",
    "    \n",
    "    model['collection']=collection\n",
    "    model['collection_name']=collection_name\n",
    "\n",
    "    return model"
   ]
  },
  {
   "cell_type": "code",
   "execution_count": 21,
   "metadata": {
    "scrolled": true,
    "tags": []
   },
   "outputs": [
    {
     "name": "stdout",
     "output_type": "stream",
     "text": [
      "start connecting to Milvus\n",
      "The collection user_agent_collection already exists\n",
      "{'collection': <Collection>:\n",
      "-------------\n",
      "<name>: user_agent_collection\n",
      "<description>: dsdl schema for user_agent_collection\n",
      "<schema>: {'auto_id': True, 'description': 'dsdl schema for user_agent_collection', 'fields': [{'name': '_key', 'description': '', 'type': <DataType.INT64: 5>, 'is_primary': True, 'auto_id': True}, {'name': 'embeddings', 'description': '', 'type': <DataType.FLOAT_VECTOR: 101>, 'params': {'dim': 32}}, {'name': 'label', 'description': '', 'type': <DataType.VARCHAR: 21>, 'params': {'max_length': 1000}}]}\n",
      ", 'collection_name': 'user_agent_collection'}\n"
     ]
    }
   ],
   "source": [
    "# THIS CELL IS NOT EXPORTED - free notebook cell for testing or development purposes\n",
    "model = init(df,param)\n",
    "print(model)"
   ]
  },
  {
   "attachments": {},
   "cell_type": "markdown",
   "metadata": {},
   "source": [
    "## Stage 3 - fit the model"
   ]
  },
  {
   "cell_type": "code",
   "execution_count": 28,
   "metadata": {
    "deletable": false,
    "name": "mltkc_fit",
    "tags": []
   },
   "outputs": [],
   "source": [
    "# train your model\n",
    "# returns a fit info json object and may modify the model object\n",
    "def fit(model,df,param):\n",
    "    df=df.copy()\n",
    "    label_field_name=param['options']['params']['label_field_name']\n",
    "    label_column = df[label_field_name].astype(str)\n",
    "    df.drop(label_field_name, axis=1, inplace=True)\n",
    "    df_list=df.values.tolist()\n",
    "    data=[ df_list, label_column.tolist() ]\n",
    "    model['collection'].insert(data)    \n",
    "    info = {\"message\": f\"inserted data to collection {model['collection_name']}\"}\n",
    "    return df"
   ]
  },
  {
   "cell_type": "code",
   "execution_count": 29,
   "metadata": {
    "tags": []
   },
   "outputs": [
    {
     "name": "stdout",
     "output_type": "stream",
     "text": [
      "      vector_0  vector_1  vector_2  vector_3  vector_4  vector_5  vector_6  \\\n",
      "0            1         0         2         0         0         0         0   \n",
      "1            0         0         0         0         0         0         0   \n",
      "2            0         0         0         2         1         0         0   \n",
      "3            0         0         2         0         0         0         0   \n",
      "4            0         0         0         2         1         0         0   \n",
      "...        ...       ...       ...       ...       ...       ...       ...   \n",
      "9995         0         0         3         1         0         0         0   \n",
      "9996         0         0         2         1         1         0         0   \n",
      "9997         0         0         1         0         0         1         1   \n",
      "9998         1         0         1         1         0         0         0   \n",
      "9999         0         0         2         0         0         0         0   \n",
      "\n",
      "      vector_7  vector_8  vector_9  ...  vector_22  vector_23  vector_24  \\\n",
      "0            0         0         1  ...          0          3          1   \n",
      "1            0         1         1  ...          0          1          1   \n",
      "2            0         2         1  ...          0          0          1   \n",
      "3            0         0         1  ...          0          0          1   \n",
      "4            0         1         1  ...          0          0          1   \n",
      "...        ...       ...       ...  ...        ...        ...        ...   \n",
      "9995         0         0         3  ...          1          1          2   \n",
      "9996         1         1         0  ...          0          1          1   \n",
      "9997         0         0         1  ...          1          1          2   \n",
      "9998         0         0         1  ...          1          1          1   \n",
      "9999         0         0         1  ...          0          2          1   \n",
      "\n",
      "      vector_25  vector_26  vector_27  vector_28  vector_29  vector_30  \\\n",
      "0             0          2          2          0          0          1   \n",
      "1             1          1          1          2          0          0   \n",
      "2             0          4          0          0          0          0   \n",
      "3             3          2          0          0          0          2   \n",
      "4             0          4          0          0          0          1   \n",
      "...         ...        ...        ...        ...        ...        ...   \n",
      "9995          2          3          1          0          1          0   \n",
      "9996          0          7          0          2          1          1   \n",
      "9997          2          3          0          0          1          0   \n",
      "9998          0          2          4          1          0          2   \n",
      "9999          1          2          2          0          0          2   \n",
      "\n",
      "      vector_31  \n",
      "0             2  \n",
      "1             0  \n",
      "2             0  \n",
      "3             0  \n",
      "4             0  \n",
      "...         ...  \n",
      "9995          1  \n",
      "9996          0  \n",
      "9997          1  \n",
      "9998          2  \n",
      "9999          2  \n",
      "\n",
      "[10000 rows x 32 columns]\n"
     ]
    }
   ],
   "source": [
    "# THIS CELL IS NOT EXPORTED - free notebook cell for testing or development purposes\n",
    "print(fit(model,df,param))"
   ]
  },
  {
   "attachments": {},
   "cell_type": "markdown",
   "metadata": {},
   "source": [
    "## Stage 4 - apply the model"
   ]
  },
  {
   "cell_type": "code",
   "execution_count": 30,
   "metadata": {
    "deletable": false,
    "name": "mltkc_apply",
    "tags": []
   },
   "outputs": [],
   "source": [
    "# apply your model\n",
    "# returns the calculated results\n",
    "def apply(model,df,param):\n",
    "    return df"
   ]
  },
  {
   "cell_type": "code",
   "execution_count": 31,
   "metadata": {
    "tags": []
   },
   "outputs": [
    {
     "name": "stdout",
     "output_type": "stream",
     "text": [
      "                                             user_agent  vector_0  vector_1  \\\n",
      "0     Mozilla/5.0 (Linux; U; Android 4.0.4; en-us; G...         1         0   \n",
      "1     Mozilla/5.0 (iPad; CPU OS 7_0 like Mac OS X) A...         0         0   \n",
      "2     Mozilla/5.0 (Windows NT 10.0; Win64; x64; Trid...         0         0   \n",
      "3     Mozilla/5.0 (Macintosh; Intel Mac OS X 10_10_3...         0         0   \n",
      "4     Mozilla/5.0 (Windows NT 10.0; WOW64; Trident/7...         0         0   \n",
      "...                                                 ...       ...       ...   \n",
      "9995  Mozilla/5.0 (Linux; Android 4.1.2; Panasonic T...         0         0   \n",
      "9996  Mozilla/4.0 (compatible; MSIE 7.0; Windows NT ...         0         0   \n",
      "9997  Mozilla/5.0 (X11; U; Linux x86_64; en-gb) Appl...         0         0   \n",
      "9998  Mozilla/5.0 (Linux; U; Android 4.1.2; en-US; P...         1         0   \n",
      "9999  Mozilla/5.0 (Linux; U; Android 4.0.4; en-us; E...         0         0   \n",
      "\n",
      "      vector_2  vector_3  vector_4  vector_5  vector_6  vector_7  vector_8  \\\n",
      "0            2         0         0         0         0         0         0   \n",
      "1            0         0         0         0         0         0         1   \n",
      "2            0         2         1         0         0         0         2   \n",
      "3            2         0         0         0         0         0         0   \n",
      "4            0         2         1         0         0         0         1   \n",
      "...        ...       ...       ...       ...       ...       ...       ...   \n",
      "9995         3         1         0         0         0         0         0   \n",
      "9996         2         1         1         0         0         1         1   \n",
      "9997         1         0         0         1         1         0         0   \n",
      "9998         1         1         0         0         0         0         0   \n",
      "9999         2         0         0         0         0         0         0   \n",
      "\n",
      "      ...  vector_22  vector_23  vector_24  vector_25  vector_26  vector_27  \\\n",
      "0     ...          0          3          1          0          2          2   \n",
      "1     ...          0          1          1          1          1          1   \n",
      "2     ...          0          0          1          0          4          0   \n",
      "3     ...          0          0          1          3          2          0   \n",
      "4     ...          0          0          1          0          4          0   \n",
      "...   ...        ...        ...        ...        ...        ...        ...   \n",
      "9995  ...          1          1          2          2          3          1   \n",
      "9996  ...          0          1          1          0          7          0   \n",
      "9997  ...          1          1          2          2          3          0   \n",
      "9998  ...          1          1          1          0          2          4   \n",
      "9999  ...          0          2          1          1          2          2   \n",
      "\n",
      "      vector_28  vector_29  vector_30  vector_31  \n",
      "0             0          0          1          2  \n",
      "1             2          0          0          0  \n",
      "2             0          0          0          0  \n",
      "3             0          0          2          0  \n",
      "4             0          0          1          0  \n",
      "...         ...        ...        ...        ...  \n",
      "9995          0          1          0          1  \n",
      "9996          2          1          1          0  \n",
      "9997          0          1          0          1  \n",
      "9998          1          0          2          2  \n",
      "9999          0          0          2          2  \n",
      "\n",
      "[10000 rows x 33 columns]\n"
     ]
    }
   ],
   "source": [
    "# THIS CELL IS NOT EXPORTED - free notebook cell for testing or development purposes\n",
    "print(apply(model,df,param))"
   ]
  },
  {
   "attachments": {},
   "cell_type": "markdown",
   "metadata": {},
   "source": [
    "## Stage 5 - save the model"
   ]
  },
  {
   "cell_type": "code",
   "execution_count": 1,
   "metadata": {
    "deletable": false,
    "name": "mltkc_save",
    "tags": []
   },
   "outputs": [],
   "source": [
    "# save model to name in expected convention \"<algo_name>_<model_name>\"\n",
    "def save(model,name):\n",
    "    return model"
   ]
  },
  {
   "attachments": {},
   "cell_type": "markdown",
   "metadata": {},
   "source": [
    "## Stage 6 - load the model"
   ]
  },
  {
   "cell_type": "code",
   "execution_count": 2,
   "metadata": {
    "deletable": false,
    "name": "mltkc_load",
    "tags": []
   },
   "outputs": [],
   "source": [
    "# load model from name in expected convention \"<algo_name>_<model_name>\"\n",
    "def load(name):\n",
    "    return model"
   ]
  },
  {
   "attachments": {},
   "cell_type": "markdown",
   "metadata": {},
   "source": [
    "## Stage 7 - provide a summary of the model"
   ]
  },
  {
   "cell_type": "code",
   "execution_count": 17,
   "metadata": {
    "deletable": false,
    "name": "mltkc_summary"
   },
   "outputs": [],
   "source": [
    "# return a model summary\n",
    "def summary(model=None):\n",
    "    returns = {\"version\": {\"numpy\": np.__version__, \"pandas\": pd.__version__} }\n",
    "    return returns"
   ]
  },
  {
   "attachments": {},
   "cell_type": "markdown",
   "metadata": {},
   "source": [
    "After implementing your fit, apply, save and load you can train your model:<br>\n",
    "| makeresults count=10<br>\n",
    "| streamstats c as i<br>\n",
    "| eval s = i%3<br>\n",
    "| eval feature_{s}=0<br>\n",
    "| foreach feature_* [eval &lt;&lt;FIELD&gt;&gt;=random()/pow(2,31)]<br>\n",
    "| fit MLTKContainer algo=barebone s from feature_* into app:barebone_model<br>"
   ]
  },
  {
   "attachments": {},
   "cell_type": "markdown",
   "metadata": {},
   "source": [
    "Or apply your model:<br>\n",
    "| makeresults count=10<br>\n",
    "| streamstats c as i<br>\n",
    "| eval s = i%3<br>\n",
    "| eval feature_{s}=0<br>\n",
    "| foreach feature_* [eval &lt;&lt;FIELD&gt;&gt;=random()/pow(2,31)]<br>\n",
    "| apply barebone_model as the_meaning_of_life"
   ]
  },
  {
   "attachments": {},
   "cell_type": "markdown",
   "metadata": {},
   "source": [
    "## Send data back to Splunk HEC\n",
    "When you configured the Splunk HEC Settings in the DSDL app you can easily send back data to an index with [Splunk's HTTP Event Collector (HEC)](https://docs.splunk.com/Documentation/Splunk/latest/Data/UsetheHTTPEventCollector). Read more about data formats and options in the [documentation](https://docs.splunk.com/Documentation/Splunk/latest/Data/FormateventsforHTTPEventCollector#Event_metadata).\n",
    "\n",
    "### Use cases\n",
    "- you want to offload longer running, possibly distributed computations that need to deliver results asynchroneously back into Splunk. \n",
    "- you might not want to present results back into the search pipeline after your `| fit` or `| apply` command. \n",
    "- you can easily utilize this approach for any logging purposes or other profiling tasks in your ML code so you can actively monitor and analyze your processes.\n",
    "\n",
    "### Example"
   ]
  },
  {
   "cell_type": "code",
   "execution_count": 18,
   "metadata": {},
   "outputs": [],
   "source": [
    "from dsdlsupport import SplunkHEC as SplunkHEC\n",
    "hec = SplunkHEC.SplunkHEC()"
   ]
  },
  {
   "cell_type": "code",
   "execution_count": 19,
   "metadata": {},
   "outputs": [],
   "source": [
    "# example to send 10 hello world events\n",
    "response = hec.send_hello_world(10)"
   ]
  },
  {
   "cell_type": "code",
   "execution_count": 20,
   "metadata": {},
   "outputs": [
    {
     "name": "stdout",
     "output_type": "stream",
     "text": [
      "HEC endpoint http://host.docker.internal:8088/services/collector/event \n",
      "returned with status code 200 \n",
      "and response message: {\"text\":\"Success\",\"code\":0}\n"
     ]
    }
   ],
   "source": [
    "print(\"HEC endpoint %s \\nreturned with status code %s \\nand response message: %s\" % (response.url, response.status_code, response.text))"
   ]
  },
  {
   "cell_type": "code",
   "execution_count": 21,
   "metadata": {},
   "outputs": [],
   "source": [
    "# example to send a JSON object, e.g. to log some data\n",
    "from datetime import datetime\n",
    "response = hec.send({'event': {'message': 'operation done', 'log_level': 'INFO' }, 'time': datetime.now().timestamp()})"
   ]
  },
  {
   "cell_type": "code",
   "execution_count": 22,
   "metadata": {},
   "outputs": [
    {
     "name": "stdout",
     "output_type": "stream",
     "text": [
      "HEC endpoint http://host.docker.internal:8088/services/collector/event \n",
      "returned with status code 200 \n",
      "and response message: {\"text\":\"Success\",\"code\":0}\n"
     ]
    }
   ],
   "source": [
    "print(\"HEC endpoint %s \\nreturned with status code %s \\nand response message: %s\" % (response.url, response.status_code, response.text))"
   ]
  },
  {
   "attachments": {},
   "cell_type": "markdown",
   "metadata": {},
   "source": [
    "## End of Stages\n",
    "All subsequent cells are not tagged and can be used for further freeform code"
   ]
  },
  {
   "cell_type": "code",
   "execution_count": null,
   "metadata": {},
   "outputs": [],
   "source": []
  },
  {
   "cell_type": "code",
   "execution_count": null,
   "metadata": {},
   "outputs": [],
   "source": []
  }
 ],
 "metadata": {
  "kernelspec": {
   "display_name": "Python 3 (ipykernel)",
   "language": "python",
   "name": "python3"
  },
  "language_info": {
   "codemirror_mode": {
    "name": "ipython",
    "version": 3
   },
   "file_extension": ".py",
   "mimetype": "text/x-python",
   "name": "python",
   "nbconvert_exporter": "python",
   "pygments_lexer": "ipython3",
   "version": "3.9.13"
  }
 },
 "nbformat": 4,
 "nbformat_minor": 4
}
