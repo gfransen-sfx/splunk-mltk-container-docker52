{
 "cells": [
  {
   "cell_type": "markdown",
   "metadata": {},
   "source": [
    "# Deep Learning Toolkit for Splunk - Simple Hidden Markov Model"
   ]
  },
  {
   "cell_type": "markdown",
   "metadata": {},
   "source": [
    "This notebook contains a barebone example workflow how to work on custom containerized code that seamlessly interfaces with the Deep Learning Toolkit for Splunk."
   ]
  },
  {
   "cell_type": "markdown",
   "metadata": {},
   "source": [
    "Note: By default every time you save this notebook the cells are exported into a python module which is then invoked by Splunk MLTK commands like <code> | fit ... | apply ... | summary </code>. Please read the Model Development Guide in the Deep Learning Toolkit app for more information."
   ]
  },
  {
   "cell_type": "markdown",
   "metadata": {},
   "source": [
    "## Stage 0 - import libraries\n",
    "At stage 0 we define all imports necessary to run our subsequent code depending on various libraries."
   ]
  },
  {
   "cell_type": "code",
   "execution_count": 186,
   "metadata": {
    "deletable": false,
    "name": "mltkc_import"
   },
   "outputs": [],
   "source": [
    "# this definition exposes all python module imports that should be available in all subsequent commands\n",
    "import json\n",
    "import numpy as np\n",
    "import pandas as pd\n",
    "import pomegranate as pg\n",
    "from pomegranate import *\n",
    "# ...\n",
    "# global constants\n",
    "MODEL_DIRECTORY = \"/srv/app/model/data/\""
   ]
  },
  {
   "cell_type": "code",
   "execution_count": 187,
   "metadata": {},
   "outputs": [
    {
     "name": "stdout",
     "output_type": "stream",
     "text": [
      "numpy version: 1.19.2\n",
      "pandas version: 1.1.3\n",
      "pomegranate version: 0.13.2\n"
     ]
    }
   ],
   "source": [
    "# THIS CELL IS NOT EXPORTED - free notebook cell for testing or development purposes\n",
    "print(\"numpy version: \" + np.__version__)\n",
    "print(\"pandas version: \" + pd.__version__)\n",
    "print(\"pomegranate version: \" + pg.__version__)"
   ]
  },
  {
   "cell_type": "code",
   "execution_count": 188,
   "metadata": {},
   "outputs": [],
   "source": [
    "#import warnings\n",
    "#warnings.filterwarnings('ignore')"
   ]
  },
  {
   "cell_type": "markdown",
   "metadata": {},
   "source": [
    "## Stage 1 - get a data sample from Splunk\n",
    "In Splunk run a search to pipe a dataset into your notebook environment. Note: mode=stage is used in the | fit command to do this."
   ]
  },
  {
   "cell_type": "markdown",
   "metadata": {},
   "source": [
    "index=_internal<br>\n",
    "| table _time host punct<br>\n",
    "| eventstats count as total_by_host by host<br>\n",
    "| eventstats count as count_by_host by host punct<br>\n",
    "| eval punct_freq_by_host=count_by_host/total_by_host<br>\n",
    "| fit MLTKContainer mode=stage algo=hidden_markov_model punct into app:hidden_markov_model<br>\n"
   ]
  },
  {
   "cell_type": "markdown",
   "metadata": {},
   "source": [
    "After you run this search your data set sample is available as a csv inside the container to develop your model. The name is taken from the into keyword (\"barebone_model\" in the example above) or set to \"default\" if no into keyword is present. This step is intended to work with a subset of your data to create your custom model."
   ]
  },
  {
   "cell_type": "code",
   "execution_count": 189,
   "metadata": {
    "deletable": false,
    "name": "mltkc_stage"
   },
   "outputs": [],
   "source": [
    "# this cell is not executed from MLTK and should only be used for staging data into the notebook environment\n",
    "def stage(name):\n",
    "    with open(\"data/\"+name+\".csv\", 'r') as f:\n",
    "        df = pd.read_csv(f)\n",
    "    with open(\"data/\"+name+\".json\", 'r') as f:\n",
    "        param = json.load(f)\n",
    "    return df, param"
   ]
  },
  {
   "cell_type": "code",
   "execution_count": 190,
   "metadata": {},
   "outputs": [
    {
     "name": "stdout",
     "output_type": "stream",
     "text": [
      "{'options': {'params': {'mode': 'stage', 'algo': 'hidden_markov_model'}, 'args': ['punct'], 'feature_variables': ['punct'], 'model_name': 'hidden_markov_model', 'algo_name': 'MLTKContainer', 'mlspl_limits': {'disabled': False, 'handle_new_cat': 'default', 'max_distinct_cat_values': '10000', 'max_distinct_cat_values_for_classifiers': '10000', 'max_distinct_cat_values_for_scoring': '10000', 'max_fit_time': '6000', 'max_inputs': '100000000', 'max_memory_usage_mb': '10000', 'max_model_size_mb': '150', 'max_score_time': '6000', 'streaming_apply': '0', 'use_sampling': '1'}, 'kfold_cv': None}, 'feature_variables': ['punct']}\n"
     ]
    },
    {
     "data": {
      "text/html": [
       "<div>\n",
       "<style scoped>\n",
       "    .dataframe tbody tr th:only-of-type {\n",
       "        vertical-align: middle;\n",
       "    }\n",
       "\n",
       "    .dataframe tbody tr th {\n",
       "        vertical-align: top;\n",
       "    }\n",
       "\n",
       "    .dataframe thead th {\n",
       "        text-align: right;\n",
       "    }\n",
       "</style>\n",
       "<table border=\"1\" class=\"dataframe\">\n",
       "  <thead>\n",
       "    <tr style=\"text-align: right;\">\n",
       "      <th></th>\n",
       "      <th>punct</th>\n",
       "    </tr>\n",
       "  </thead>\n",
       "  <tbody>\n",
       "    <tr>\n",
       "      <th>0</th>\n",
       "      <td>--_::._+____-_=,_=\"/////////.\",_=.,_=.,_=.,_=,...</td>\n",
       "    </tr>\n",
       "    <tr>\n",
       "      <th>1</th>\n",
       "      <td>--_::._+____-_=,_=\"/////////.\",_=.,_=.,_=.,_=,...</td>\n",
       "    </tr>\n",
       "    <tr>\n",
       "      <th>2</th>\n",
       "      <td>--_::._+____-_=,_=\"\",_=.,_=.,_=.,_=,_=.,_=</td>\n",
       "    </tr>\n",
       "    <tr>\n",
       "      <th>3</th>\n",
       "      <td>--_::._+____-_=,_=\"\",_=.,_=.,_=.,_=,_=.,_=</td>\n",
       "    </tr>\n",
       "    <tr>\n",
       "      <th>4</th>\n",
       "      <td>--_::._+____-_=,_=\"\",_=.,_=.,_=.,_=,_=.,_=</td>\n",
       "    </tr>\n",
       "    <tr>\n",
       "      <th>...</th>\n",
       "      <td>...</td>\n",
       "    </tr>\n",
       "    <tr>\n",
       "      <th>6315</th>\n",
       "      <td>--_::._+____-_=,_=,_=-,_=.</td>\n",
       "    </tr>\n",
       "    <tr>\n",
       "      <th>6316</th>\n",
       "      <td>--_::._+____-_=,_=,_=-,_=.</td>\n",
       "    </tr>\n",
       "    <tr>\n",
       "      <th>6317</th>\n",
       "      <td>--_::._+____-_=,_=,_=-,_=.</td>\n",
       "    </tr>\n",
       "    <tr>\n",
       "      <th>6318</th>\n",
       "      <td>--_::._+____-_=,_=,_=-,_=.</td>\n",
       "    </tr>\n",
       "    <tr>\n",
       "      <th>6319</th>\n",
       "      <td>--_::._+____-_=,_=,_=.,_=.,_=.,_=.,_=.,_=,_=.</td>\n",
       "    </tr>\n",
       "  </tbody>\n",
       "</table>\n",
       "<p>6320 rows × 1 columns</p>\n",
       "</div>"
      ],
      "text/plain": [
       "                                                  punct\n",
       "0     --_::._+____-_=,_=\"/////////.\",_=.,_=.,_=.,_=,...\n",
       "1     --_::._+____-_=,_=\"/////////.\",_=.,_=.,_=.,_=,...\n",
       "2            --_::._+____-_=,_=\"\",_=.,_=.,_=.,_=,_=.,_=\n",
       "3            --_::._+____-_=,_=\"\",_=.,_=.,_=.,_=,_=.,_=\n",
       "4            --_::._+____-_=,_=\"\",_=.,_=.,_=.,_=,_=.,_=\n",
       "...                                                 ...\n",
       "6315                         --_::._+____-_=,_=,_=-,_=.\n",
       "6316                         --_::._+____-_=,_=,_=-,_=.\n",
       "6317                         --_::._+____-_=,_=,_=-,_=.\n",
       "6318                         --_::._+____-_=,_=,_=-,_=.\n",
       "6319      --_::._+____-_=,_=,_=.,_=.,_=.,_=.,_=.,_=,_=.\n",
       "\n",
       "[6320 rows x 1 columns]"
      ]
     },
     "execution_count": 190,
     "metadata": {},
     "output_type": "execute_result"
    }
   ],
   "source": [
    "# THIS CELL IS NOT EXPORTED - free notebook cell for testing or development purposes\n",
    "df, param = stage(\"hidden_markov_model\")\n",
    "print(param)\n",
    "df"
   ]
  },
  {
   "cell_type": "markdown",
   "metadata": {},
   "source": [
    "## Stage 2 - create and initialize a model"
   ]
  },
  {
   "cell_type": "code",
   "execution_count": 191,
   "metadata": {
    "deletable": false,
    "name": "mltkc_init"
   },
   "outputs": [],
   "source": [
    "# initialize your model\n",
    "# available inputs: data and parameters\n",
    "# returns the model object which will be used as a reference to call fit, apply and summary subsequently\n",
    "def init(df,param):\n",
    "    model = {}\n",
    "    #model['hmm'] = HiddenMarkovModel(\"HMM\")\n",
    "    return model"
   ]
  },
  {
   "cell_type": "code",
   "execution_count": 192,
   "metadata": {
    "scrolled": true
   },
   "outputs": [
    {
     "data": {
      "text/plain": [
       "{}"
      ]
     },
     "execution_count": 192,
     "metadata": {},
     "output_type": "execute_result"
    }
   ],
   "source": [
    "# THIS CELL IS NOT EXPORTED - free notebook cell for testing or development purposes\n",
    "model = init(df,param)\n",
    "model"
   ]
  },
  {
   "cell_type": "markdown",
   "metadata": {},
   "source": [
    "## Stage 3 - fit the model"
   ]
  },
  {
   "cell_type": "code",
   "execution_count": 205,
   "metadata": {
    "deletable": false,
    "name": "mltkc_fit"
   },
   "outputs": [],
   "source": [
    "# train your model\n",
    "# returns a fit info json object and may modify the model object\n",
    "def fit(model,df,param):\n",
    "    X = df[param['feature_variables'][0]]\n",
    "\n",
    "    distinct_states = set(''.join(X.unique()))\n",
    "    equal_probability = 1.0 / len(distinct_states)\n",
    "    discreet_equal_states = { state : equal_probability for state in distinct_states }\n",
    "    discreet_equal_states_distribution = DiscreteDistribution( discreet_equal_states )\n",
    "    equal_state = State( discreet_equal_states_distribution, name=\"equal_state\" )\n",
    "\n",
    "    #model = {}\n",
    "    hmm_model = HiddenMarkovModel(\"HMM\")\n",
    "    hmm_model.add_states( [equal_state] )\n",
    "    hmm_model.add_transition( hmm_model.start, equal_state, 1.00 )\n",
    "    hmm_model.add_transition( equal_state, equal_state, 0.99 )\n",
    "    hmm_model.add_transition( equal_state, hmm_model.end, 0.01)\n",
    "    hmm_model.bake()\n",
    "\n",
    "    info = hmm_model.fit( [ list(x) for x in X ] , max_iterations=10, n_jobs=6 )\n",
    "    model['hmm'] = hmm_model\n",
    "    model['info'] = info\n",
    "    #info = {\"message\": \"model trained\"}\n",
    "\n",
    "    return info"
   ]
  },
  {
   "cell_type": "code",
   "execution_count": 206,
   "metadata": {},
   "outputs": [
    {
     "name": "stdout",
     "output_type": "stream",
     "text": [
      "HMM:{\n",
      "    \"class\" : \"State\",\n",
      "    \"distribution\" : {\n",
      "        \"class\" : \"Distribution\",\n",
      "        \"dtype\" : \"str\",\n",
      "        \"name\" : \"DiscreteDistribution\",\n",
      "        \"parameters\" : [\n",
      "            {\n",
      "                \";\" : 0.0005303121610220602,\n",
      "                \"=\" : 0.15459563697722067,\n",
      "                \">\" : 0.0003615764734241291,\n",
      "                \"&\" : 0.0016005785223575488,\n",
      "                \"'\" : 0.00028926117873930533,\n",
      "                \",\" : 0.11854887308665789,\n",
      "                \":\" : 0.06534892129685432,\n",
      "                \"\\\"\" : 0.030435097023020677,\n",
      "                \"/\" : 0.03593105941906945,\n",
      "                \"]\" : 0.003991804266602511,\n",
      "                \"?\" : 0.0010943714595637556,\n",
      "                \"<\" : 0.0003615764734241291,\n",
      "                \"[\" : 0.003991804266602509,\n",
      "                \".\" : 0.08566469808364488,\n",
      "                \"+\" : 0.029890321803061348,\n",
      "                \")\" : 0.0002892611787393033,\n",
      "                \"_\" : 0.3580137399059901,\n",
      "                \"-\" : 0.1065204290707485,\n",
      "                \"%\" : 0.0016632517777510733,\n",
      "                \"(\" : 0.0007327949861395542,\n",
      "                \"!\" : 0.00014463058936965164\n",
      "            }\n",
      "        ],\n",
      "        \"frozen\" : false\n",
      "    },\n",
      "    \"name\" : \"equal_state\",\n",
      "    \"weight\" : 1.0\n",
      "}{\n",
      "    \"class\" : \"State\",\n",
      "    \"distribution\" : null,\n",
      "    \"name\" : \"HMM-start\",\n",
      "    \"weight\" : 1.0\n",
      "}{\n",
      "    \"class\" : \"State\",\n",
      "    \"distribution\" : null,\n",
      "    \"name\" : \"HMM-end\",\n",
      "    \"weight\" : 1.0\n",
      "}\n"
     ]
    }
   ],
   "source": [
    "# THIS CELL IS NOT EXPORTED - free notebook cell for testing or development purposes\n",
    "info = fit(model,df,param)\n",
    "print(info)"
   ]
  },
  {
   "cell_type": "markdown",
   "metadata": {},
   "source": [
    "## Stage 4 - apply the model"
   ]
  },
  {
   "cell_type": "code",
   "execution_count": 199,
   "metadata": {
    "deletable": false,
    "name": "mltkc_apply"
   },
   "outputs": [],
   "source": [
    "# apply your model\n",
    "# returns the calculated results\n",
    "def apply(model,df,param):\n",
    "    field = param['feature_variables'][0]\n",
    "    X = df[field]\n",
    "    y_hat = X.apply(lambda x: model['hmm'].log_probability(list(x)))\n",
    "    result = pd.DataFrame(y_hat).rename(columns={field: param['feature_variables'][0]+\"_log_probability\"})\n",
    "    return result"
   ]
  },
  {
   "cell_type": "code",
   "execution_count": 200,
   "metadata": {},
   "outputs": [
    {
     "data": {
      "text/html": [
       "<div>\n",
       "<style scoped>\n",
       "    .dataframe tbody tr th:only-of-type {\n",
       "        vertical-align: middle;\n",
       "    }\n",
       "\n",
       "    .dataframe tbody tr th {\n",
       "        vertical-align: top;\n",
       "    }\n",
       "\n",
       "    .dataframe thead th {\n",
       "        text-align: right;\n",
       "    }\n",
       "</style>\n",
       "<table border=\"1\" class=\"dataframe\">\n",
       "  <thead>\n",
       "    <tr style=\"text-align: right;\">\n",
       "      <th></th>\n",
       "      <th>punct_log_probability</th>\n",
       "    </tr>\n",
       "  </thead>\n",
       "  <tbody>\n",
       "    <tr>\n",
       "      <th>0</th>\n",
       "      <td>-113.704326</td>\n",
       "    </tr>\n",
       "    <tr>\n",
       "      <th>1</th>\n",
       "      <td>-113.704326</td>\n",
       "    </tr>\n",
       "    <tr>\n",
       "      <th>2</th>\n",
       "      <td>-83.958218</td>\n",
       "    </tr>\n",
       "    <tr>\n",
       "      <th>3</th>\n",
       "      <td>-83.958218</td>\n",
       "    </tr>\n",
       "    <tr>\n",
       "      <th>4</th>\n",
       "      <td>-83.958218</td>\n",
       "    </tr>\n",
       "    <tr>\n",
       "      <th>...</th>\n",
       "      <td>...</td>\n",
       "    </tr>\n",
       "    <tr>\n",
       "      <th>6315</th>\n",
       "      <td>-51.240068</td>\n",
       "    </tr>\n",
       "    <tr>\n",
       "      <th>6316</th>\n",
       "      <td>-51.240068</td>\n",
       "    </tr>\n",
       "    <tr>\n",
       "      <th>6317</th>\n",
       "      <td>-51.240068</td>\n",
       "    </tr>\n",
       "    <tr>\n",
       "      <th>6318</th>\n",
       "      <td>-51.240068</td>\n",
       "    </tr>\n",
       "    <tr>\n",
       "      <th>6319</th>\n",
       "      <td>-87.007914</td>\n",
       "    </tr>\n",
       "  </tbody>\n",
       "</table>\n",
       "<p>6320 rows × 1 columns</p>\n",
       "</div>"
      ],
      "text/plain": [
       "      punct_log_probability\n",
       "0               -113.704326\n",
       "1               -113.704326\n",
       "2                -83.958218\n",
       "3                -83.958218\n",
       "4                -83.958218\n",
       "...                     ...\n",
       "6315             -51.240068\n",
       "6316             -51.240068\n",
       "6317             -51.240068\n",
       "6318             -51.240068\n",
       "6319             -87.007914\n",
       "\n",
       "[6320 rows x 1 columns]"
      ]
     },
     "execution_count": 200,
     "metadata": {},
     "output_type": "execute_result"
    }
   ],
   "source": [
    "# THIS CELL IS NOT EXPORTED - free notebook cell for testing or development purposes\n",
    "res = apply(model,df,param)\n",
    "res"
   ]
  },
  {
   "cell_type": "markdown",
   "metadata": {},
   "source": [
    "## Stage 5 - save the model"
   ]
  },
  {
   "cell_type": "code",
   "execution_count": 201,
   "metadata": {
    "deletable": false,
    "name": "mltkc_save"
   },
   "outputs": [],
   "source": [
    "# save model to name in expected convention \"<algo_name>_<model_name>\"\n",
    "def save(model,name):\n",
    "    with open(MODEL_DIRECTORY + name + \".json\", 'w') as file:\n",
    "        file.write(model['hmm'].to_json())\n",
    "    return model"
   ]
  },
  {
   "cell_type": "code",
   "execution_count": 202,
   "metadata": {
    "collapsed": true,
    "jupyter": {
     "outputs_hidden": true
    }
   },
   "outputs": [
    {
     "data": {
      "text/plain": [
       "{'hmm': {\n",
       "     \"class\" : \"HiddenMarkovModel\",\n",
       "     \"name\" : \"HMM\",\n",
       "     \"start\" : {\n",
       "         \"class\" : \"State\",\n",
       "         \"distribution\" : null,\n",
       "         \"name\" : \"HMM-start\",\n",
       "         \"weight\" : 1.0\n",
       "     },\n",
       "     \"end\" : {\n",
       "         \"class\" : \"State\",\n",
       "         \"distribution\" : null,\n",
       "         \"name\" : \"HMM-end\",\n",
       "         \"weight\" : 1.0\n",
       "     },\n",
       "     \"states\" : [\n",
       "         {\n",
       "             \"class\" : \"State\",\n",
       "             \"distribution\" : {\n",
       "                 \"class\" : \"Distribution\",\n",
       "                 \"dtype\" : \"str\",\n",
       "                 \"name\" : \"DiscreteDistribution\",\n",
       "                 \"parameters\" : [\n",
       "                     {\n",
       "                         \";\" : 0.0005303121610220602,\n",
       "                         \"=\" : 0.15459563697722067,\n",
       "                         \">\" : 0.0003615764734241291,\n",
       "                         \"&\" : 0.0016005785223575488,\n",
       "                         \"'\" : 0.00028926117873930533,\n",
       "                         \",\" : 0.11854887308665789,\n",
       "                         \":\" : 0.06534892129685434,\n",
       "                         \"\\\"\" : 0.03043509702302069,\n",
       "                         \"/\" : 0.035931059419069454,\n",
       "                         \"]\" : 0.003991804266602514,\n",
       "                         \"?\" : 0.0010943714595637556,\n",
       "                         \"<\" : 0.0003615764734241291,\n",
       "                         \"[\" : 0.003991804266602512,\n",
       "                         \".\" : 0.08566469808364488,\n",
       "                         \"+\" : 0.029890321803061348,\n",
       "                         \")\" : 0.0002892611787393033,\n",
       "                         \"_\" : 0.3580137399059901,\n",
       "                         \"-\" : 0.10652042907074852,\n",
       "                         \"%\" : 0.0016632517777510733,\n",
       "                         \"(\" : 0.0007327949861395542,\n",
       "                         \"!\" : 0.00014463058936965164\n",
       "                     }\n",
       "                 ],\n",
       "                 \"frozen\" : false\n",
       "             },\n",
       "             \"name\" : \"equal_state\",\n",
       "             \"weight\" : 1.0\n",
       "         },\n",
       "         {\n",
       "             \"class\" : \"State\",\n",
       "             \"distribution\" : null,\n",
       "             \"name\" : \"HMM-start\",\n",
       "             \"weight\" : 1.0\n",
       "         },\n",
       "         {\n",
       "             \"class\" : \"State\",\n",
       "             \"distribution\" : null,\n",
       "             \"name\" : \"HMM-end\",\n",
       "             \"weight\" : 1.0\n",
       "         }\n",
       "     ],\n",
       "     \"end_index\" : 2,\n",
       "     \"start_index\" : 1,\n",
       "     \"silent_index\" : 1,\n",
       "     \"edges\" : [\n",
       "         [\n",
       "             1,\n",
       "             0,\n",
       "             1.0,\n",
       "             1.0,\n",
       "             null\n",
       "         ],\n",
       "         [\n",
       "             0,\n",
       "             0,\n",
       "             0.9695311558394601,\n",
       "             0.99,\n",
       "             null\n",
       "         ],\n",
       "         [\n",
       "             0,\n",
       "             2,\n",
       "             0.030468844160539865,\n",
       "             0.01,\n",
       "             null\n",
       "         ]\n",
       "     ],\n",
       "     \"distribution ties\" : []\n",
       " }}"
      ]
     },
     "execution_count": 202,
     "metadata": {},
     "output_type": "execute_result"
    }
   ],
   "source": [
    "save(model,\"hmm_test\")"
   ]
  },
  {
   "cell_type": "markdown",
   "metadata": {},
   "source": [
    "## Stage 6 - load the model"
   ]
  },
  {
   "cell_type": "code",
   "execution_count": 203,
   "metadata": {
    "deletable": false,
    "name": "mltkc_load"
   },
   "outputs": [],
   "source": [
    "# load model from name in expected convention \"<algo_name>_<model_name>\"\n",
    "def load(name):\n",
    "    model = {}\n",
    "    with open(MODEL_DIRECTORY + name + \".json\", 'r') as file:\n",
    "        model_json = file.read()\n",
    "        hmm = HiddenMarkovModel(\"HMM\").from_json(model_json)\n",
    "        model['hmm'] = hmm\n",
    "    return model"
   ]
  },
  {
   "cell_type": "code",
   "execution_count": 204,
   "metadata": {
    "collapsed": true,
    "jupyter": {
     "outputs_hidden": true
    }
   },
   "outputs": [
    {
     "data": {
      "text/plain": [
       "{'hmm': {\n",
       "     \"class\" : \"HiddenMarkovModel\",\n",
       "     \"name\" : \"HMM\",\n",
       "     \"start\" : {\n",
       "         \"class\" : \"State\",\n",
       "         \"distribution\" : null,\n",
       "         \"name\" : \"HMM-start\",\n",
       "         \"weight\" : 1.0\n",
       "     },\n",
       "     \"end\" : {\n",
       "         \"class\" : \"State\",\n",
       "         \"distribution\" : null,\n",
       "         \"name\" : \"HMM-end\",\n",
       "         \"weight\" : 1.0\n",
       "     },\n",
       "     \"states\" : [\n",
       "         {\n",
       "             \"class\" : \"State\",\n",
       "             \"distribution\" : {\n",
       "                 \"class\" : \"Distribution\",\n",
       "                 \"dtype\" : \"str\",\n",
       "                 \"name\" : \"DiscreteDistribution\",\n",
       "                 \"parameters\" : [\n",
       "                     {\n",
       "                         \";\" : 0.0005303121610220602,\n",
       "                         \"=\" : 0.15459563697722067,\n",
       "                         \">\" : 0.0003615764734241291,\n",
       "                         \"&\" : 0.0016005785223575488,\n",
       "                         \"'\" : 0.00028926117873930533,\n",
       "                         \",\" : 0.11854887308665789,\n",
       "                         \":\" : 0.06534892129685434,\n",
       "                         \"\\\"\" : 0.03043509702302069,\n",
       "                         \"/\" : 0.035931059419069454,\n",
       "                         \"]\" : 0.003991804266602514,\n",
       "                         \"?\" : 0.0010943714595637556,\n",
       "                         \"<\" : 0.0003615764734241291,\n",
       "                         \"[\" : 0.003991804266602512,\n",
       "                         \".\" : 0.08566469808364488,\n",
       "                         \"+\" : 0.029890321803061348,\n",
       "                         \")\" : 0.0002892611787393033,\n",
       "                         \"_\" : 0.3580137399059901,\n",
       "                         \"-\" : 0.10652042907074852,\n",
       "                         \"%\" : 0.0016632517777510733,\n",
       "                         \"(\" : 0.0007327949861395542,\n",
       "                         \"!\" : 0.00014463058936965164\n",
       "                     }\n",
       "                 ],\n",
       "                 \"frozen\" : false\n",
       "             },\n",
       "             \"name\" : \"equal_state\",\n",
       "             \"weight\" : 1.0\n",
       "         },\n",
       "         {\n",
       "             \"class\" : \"State\",\n",
       "             \"distribution\" : null,\n",
       "             \"name\" : \"HMM-start\",\n",
       "             \"weight\" : 1.0\n",
       "         },\n",
       "         {\n",
       "             \"class\" : \"State\",\n",
       "             \"distribution\" : null,\n",
       "             \"name\" : \"HMM-end\",\n",
       "             \"weight\" : 1.0\n",
       "         }\n",
       "     ],\n",
       "     \"end_index\" : 2,\n",
       "     \"start_index\" : 1,\n",
       "     \"silent_index\" : 1,\n",
       "     \"edges\" : [\n",
       "         [\n",
       "             0,\n",
       "             0,\n",
       "             0.9695311558394601,\n",
       "             0.99,\n",
       "             null\n",
       "         ],\n",
       "         [\n",
       "             0,\n",
       "             2,\n",
       "             0.030468844160539865,\n",
       "             0.01,\n",
       "             null\n",
       "         ],\n",
       "         [\n",
       "             1,\n",
       "             0,\n",
       "             1.0,\n",
       "             1.0,\n",
       "             null\n",
       "         ]\n",
       "     ],\n",
       "     \"distribution ties\" : []\n",
       " }}"
      ]
     },
     "execution_count": 204,
     "metadata": {},
     "output_type": "execute_result"
    }
   ],
   "source": [
    "saved_model = load(\"hmm_test\")\n",
    "saved_model"
   ]
  },
  {
   "cell_type": "markdown",
   "metadata": {},
   "source": [
    "## Stage 7 - provide a summary of the model"
   ]
  },
  {
   "cell_type": "code",
   "execution_count": 213,
   "metadata": {
    "deletable": false,
    "name": "mltkc_summary"
   },
   "outputs": [],
   "source": [
    "# return a model summary\n",
    "def summary(model=None):    \n",
    "    returns = {\"version\": {\"pomegranate\": pg.__version__ } }\n",
    "    if model!=None:\n",
    "        if 'info' in model:\n",
    "            returns['info'] = model['info']\n",
    "        elif 'hmm' in model:\n",
    "            returns['info'] = model['hmm'].to_json()\n",
    "    return returns"
   ]
  },
  {
   "cell_type": "code",
   "execution_count": 214,
   "metadata": {
    "collapsed": true,
    "jupyter": {
     "outputs_hidden": true
    }
   },
   "outputs": [
    {
     "data": {
      "text/plain": [
       "{'version': {'pomegranate': '0.13.2'},\n",
       " 'info': {\n",
       "     \"class\" : \"HiddenMarkovModel\",\n",
       "     \"name\" : \"HMM\",\n",
       "     \"start\" : {\n",
       "         \"class\" : \"State\",\n",
       "         \"distribution\" : null,\n",
       "         \"name\" : \"HMM-start\",\n",
       "         \"weight\" : 1.0\n",
       "     },\n",
       "     \"end\" : {\n",
       "         \"class\" : \"State\",\n",
       "         \"distribution\" : null,\n",
       "         \"name\" : \"HMM-end\",\n",
       "         \"weight\" : 1.0\n",
       "     },\n",
       "     \"states\" : [\n",
       "         {\n",
       "             \"class\" : \"State\",\n",
       "             \"distribution\" : {\n",
       "                 \"class\" : \"Distribution\",\n",
       "                 \"dtype\" : \"str\",\n",
       "                 \"name\" : \"DiscreteDistribution\",\n",
       "                 \"parameters\" : [\n",
       "                     {\n",
       "                         \";\" : 0.0005303121610220602,\n",
       "                         \"=\" : 0.15459563697722067,\n",
       "                         \">\" : 0.0003615764734241291,\n",
       "                         \"&\" : 0.0016005785223575488,\n",
       "                         \"'\" : 0.00028926117873930533,\n",
       "                         \",\" : 0.11854887308665789,\n",
       "                         \":\" : 0.06534892129685432,\n",
       "                         \"\\\"\" : 0.030435097023020677,\n",
       "                         \"/\" : 0.03593105941906945,\n",
       "                         \"]\" : 0.003991804266602511,\n",
       "                         \"?\" : 0.0010943714595637556,\n",
       "                         \"<\" : 0.0003615764734241291,\n",
       "                         \"[\" : 0.003991804266602509,\n",
       "                         \".\" : 0.08566469808364488,\n",
       "                         \"+\" : 0.029890321803061348,\n",
       "                         \")\" : 0.0002892611787393033,\n",
       "                         \"_\" : 0.3580137399059901,\n",
       "                         \"-\" : 0.1065204290707485,\n",
       "                         \"%\" : 0.0016632517777510733,\n",
       "                         \"(\" : 0.0007327949861395542,\n",
       "                         \"!\" : 0.00014463058936965164\n",
       "                     }\n",
       "                 ],\n",
       "                 \"frozen\" : false\n",
       "             },\n",
       "             \"name\" : \"equal_state\",\n",
       "             \"weight\" : 1.0\n",
       "         },\n",
       "         {\n",
       "             \"class\" : \"State\",\n",
       "             \"distribution\" : null,\n",
       "             \"name\" : \"HMM-start\",\n",
       "             \"weight\" : 1.0\n",
       "         },\n",
       "         {\n",
       "             \"class\" : \"State\",\n",
       "             \"distribution\" : null,\n",
       "             \"name\" : \"HMM-end\",\n",
       "             \"weight\" : 1.0\n",
       "         }\n",
       "     ],\n",
       "     \"end_index\" : 2,\n",
       "     \"start_index\" : 1,\n",
       "     \"silent_index\" : 1,\n",
       "     \"edges\" : [\n",
       "         [\n",
       "             1,\n",
       "             0,\n",
       "             1.0,\n",
       "             1.0,\n",
       "             null\n",
       "         ],\n",
       "         [\n",
       "             0,\n",
       "             0,\n",
       "             0.9695311558394601,\n",
       "             0.99,\n",
       "             null\n",
       "         ],\n",
       "         [\n",
       "             0,\n",
       "             2,\n",
       "             0.030468844160539865,\n",
       "             0.01,\n",
       "             null\n",
       "         ]\n",
       "     ],\n",
       "     \"distribution ties\" : []\n",
       " }}"
      ]
     },
     "execution_count": 214,
     "metadata": {},
     "output_type": "execute_result"
    }
   ],
   "source": [
    "summary(model)"
   ]
  },
  {
   "cell_type": "markdown",
   "metadata": {},
   "source": [
    "## End of Stages\n",
    "All subsequent cells are not tagged and can be used for further freeform code"
   ]
  },
  {
   "cell_type": "code",
   "execution_count": null,
   "metadata": {},
   "outputs": [],
   "source": []
  },
  {
   "cell_type": "code",
   "execution_count": null,
   "metadata": {},
   "outputs": [],
   "source": []
  }
 ],
 "metadata": {
  "kernelspec": {
   "display_name": "Python 3",
   "language": "python",
   "name": "python3"
  },
  "language_info": {
   "codemirror_mode": {
    "name": "ipython",
    "version": 3
   },
   "file_extension": ".py",
   "mimetype": "text/x-python",
   "name": "python",
   "nbconvert_exporter": "python",
   "pygments_lexer": "ipython3",
   "version": "3.8.5"
  }
 },
 "nbformat": 4,
 "nbformat_minor": 4
}
