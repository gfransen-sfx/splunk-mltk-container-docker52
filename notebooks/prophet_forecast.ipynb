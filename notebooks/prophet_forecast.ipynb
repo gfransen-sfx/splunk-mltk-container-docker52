{
 "cells": [
  {
   "cell_type": "markdown",
   "metadata": {},
   "source": [
    "# Splunk App for Data Science and Deep Learning - Forecasting with Prophet"
   ]
  },
  {
   "cell_type": "markdown",
   "metadata": {},
   "source": [
    "This notebook contains an example how to use the Prophet library for forecasting with the Splunk App for Data Science and Deep Learning."
   ]
  },
  {
   "cell_type": "markdown",
   "metadata": {},
   "source": [
    "Note: By default every time you save this notebook the cells are exported into a python module which is then invoked by Splunk MLTK commands like <code> | fit ... | apply ... | summary </code>. Please read the Model Development Guide in the Deep Learning Toolkit app for more information."
   ]
  },
  {
   "cell_type": "markdown",
   "metadata": {},
   "source": [
    "## Stage 0 - import libraries\n",
    "At stage 0 we define all imports necessary to run our subsequent code depending on various libraries."
   ]
  },
  {
   "cell_type": "code",
   "execution_count": 3,
   "metadata": {
    "deletable": false,
    "name": "mltkc_import"
   },
   "outputs": [
    {
     "name": "stderr",
     "output_type": "stream",
     "text": [
      "Importing plotly failed. Interactive plots will not work.\n"
     ]
    }
   ],
   "source": [
    "# this definition exposes all python module imports that should be available in all subsequent commands\n",
    "import json\n",
    "import numpy as np\n",
    "import pandas as pd\n",
    "import prophet\n",
    "# ...\n",
    "# global constants\n",
    "MODEL_DIRECTORY = \"/srv/app/model/data/\""
   ]
  },
  {
   "cell_type": "code",
   "execution_count": 4,
   "metadata": {},
   "outputs": [
    {
     "name": "stdout",
     "output_type": "stream",
     "text": [
      "numpy version: 1.25.2\n",
      "pandas version: 2.1.1\n",
      "Prophet: 1.1.5\n"
     ]
    }
   ],
   "source": [
    "# THIS CELL IS NOT EXPORTED - free notebook cell for testing or development purposes\n",
    "print(\"numpy version: \" + np.__version__)\n",
    "print(\"pandas version: \" + pd.__version__)\n",
    "print(\"Prophet: \" + prophet.__version__)"
   ]
  },
  {
   "cell_type": "markdown",
   "metadata": {},
   "source": [
    "## Stage 1 - get a data sample from Splunk\n",
    "In Splunk run a search to pipe a dataset into your notebook environment. Note: mode=stage is used in the | fit command to do this."
   ]
  },
  {
   "cell_type": "markdown",
   "metadata": {},
   "source": [
    "| inputlookup bluetooth.csv</br>\n",
    "| where probe=\"AxisBoard-5\" </br>\n",
    "| timechart dc(address) as distinct_addresses span=1h </br>\n",
    "| eval ds=strftime(_time, \"%Y-%m-%d\"), y=distinct_addresses </br>\n",
    "| fit MLTKContainer mode=stage algo=prophet_forecast fit_range_start=0 fit_range_end=1981 y from ds into app:prophet_forecast </br>"
   ]
  },
  {
   "cell_type": "markdown",
   "metadata": {},
   "source": [
    "After you run this search your data set sample is available as a csv inside the container to develop your model. The name is taken from the into keyword (\"barebone_model\" in the example above) or set to \"default\" if no into keyword is present. This step is intended to work with a subset of your data to create your custom model."
   ]
  },
  {
   "cell_type": "code",
   "execution_count": 14,
   "metadata": {
    "deletable": false,
    "name": "mltkc_stage"
   },
   "outputs": [],
   "source": [
    "# this cell is not executed from MLTK and should only be used for staging data into the notebook environment\n",
    "def stage(name):\n",
    "    with open(\"data/\"+name+\".csv\", 'r') as f:\n",
    "        df = pd.read_csv(f)\n",
    "    with open(\"data/\"+name+\".json\", 'r') as f:\n",
    "        param = json.load(f)\n",
    "    return df, param"
   ]
  },
  {
   "cell_type": "code",
   "execution_count": 15,
   "metadata": {},
   "outputs": [
    {
     "name": "stdout",
     "output_type": "stream",
     "text": [
      "              ds  y\n",
      "0     2006-01-11  5\n",
      "1     2006-01-11  8\n",
      "2     2006-01-11  7\n",
      "3     2006-01-12  6\n",
      "4     2006-01-12  2\n",
      "...          ... ..\n",
      "2116  2006-04-10  1\n",
      "2117  2006-04-10  1\n",
      "2118  2006-04-10  1\n",
      "2119  2006-04-10  1\n",
      "2120  2006-04-10  1\n",
      "\n",
      "[2121 rows x 2 columns]\n",
      "{'options': {'params': {'mode': 'stage', 'algo': 'prophet_forecast', 'fit_range_start': '0', 'fit_range_end': '1981'}, 'args': ['y', 'ds'], 'target_variable': ['y'], 'feature_variables': ['ds'], 'model_name': 'prophet_forecast', 'algo_name': 'MLTKContainer', 'mlspl_limits': {'disabled': False, 'handle_new_cat': 'default', 'max_distinct_cat_values': '10000', 'max_distinct_cat_values_for_classifiers': '10000', 'max_distinct_cat_values_for_scoring': '10000', 'max_fit_time': '6000', 'max_inputs': '10000000', 'max_memory_usage_mb': '16000', 'max_model_size_mb': '3000', 'max_score_time': '6000', 'use_sampling': '1'}, 'kfold_cv': None}, 'feature_variables': ['ds'], 'target_variables': ['y']}\n"
     ]
    }
   ],
   "source": [
    "# THIS CELL IS NOT EXPORTED - free notebook cell for testing or development purposes\n",
    "df, param = stage(\"prophet_forecast\")\n",
    "print(df)\n",
    "print(param)"
   ]
  },
  {
   "cell_type": "markdown",
   "metadata": {},
   "source": [
    "## Stage 2 - create and initialize a model"
   ]
  },
  {
   "cell_type": "code",
   "execution_count": 16,
   "metadata": {
    "deletable": false,
    "name": "mltkc_init"
   },
   "outputs": [],
   "source": [
    "# initialize your model\n",
    "# available inputs: data and parameters\n",
    "# returns the model object which will be used as a reference to call fit, apply and summary subsequently\n",
    "def init(df,param):\n",
    "    model = prophet.Prophet()\n",
    "    return model"
   ]
  },
  {
   "cell_type": "code",
   "execution_count": 17,
   "metadata": {
    "scrolled": true
   },
   "outputs": [],
   "source": [
    "# THIS CELL IS NOT EXPORTED - free notebook cell for testing or development purposes\n",
    "model = init(df,param)"
   ]
  },
  {
   "cell_type": "markdown",
   "metadata": {},
   "source": [
    "## Stage 3 - fit the model"
   ]
  },
  {
   "cell_type": "code",
   "execution_count": 18,
   "metadata": {
    "deletable": false,
    "name": "mltkc_fit"
   },
   "outputs": [],
   "source": [
    "# train your model\n",
    "# returns a fit info json object and may modify the model object\n",
    "def fit(model,df,param):\n",
    "    fit_range_start = int(param['options']['params']['fit_range_start'].lstrip(\"\\\"\").rstrip(\"\\\"\"))\n",
    "    fit_range_end = int(param['options']['params']['fit_range_end'].lstrip(\"\\\"\").rstrip(\"\\\"\"))\n",
    "    df_fit = df[fit_range_start:fit_range_end]\n",
    "    model.fit(df_fit)\n",
    "    info = {\"message\": \"model trained on range \" + str(fit_range_start)+\":\"+str(fit_range_end) }\n",
    "    return info"
   ]
  },
  {
   "cell_type": "code",
   "execution_count": 19,
   "metadata": {},
   "outputs": [
    {
     "name": "stderr",
     "output_type": "stream",
     "text": [
      "13:54:46 - cmdstanpy - INFO - Chain [1] start processing\n",
      "13:54:46 - cmdstanpy - INFO - Chain [1] done processing\n"
     ]
    },
    {
     "name": "stdout",
     "output_type": "stream",
     "text": [
      "{'message': 'model trained on range 0:1981'}\n"
     ]
    }
   ],
   "source": [
    "# THIS CELL IS NOT EXPORTED - free notebook cell for testing or development purposes\n",
    "print(fit(model,df,param))"
   ]
  },
  {
   "cell_type": "markdown",
   "metadata": {},
   "source": [
    "## Stage 4 - apply the model"
   ]
  },
  {
   "cell_type": "code",
   "execution_count": 20,
   "metadata": {
    "deletable": false,
    "name": "mltkc_apply"
   },
   "outputs": [],
   "source": [
    "# apply your model\n",
    "# returns the calculated results\n",
    "def apply(model,df,param):\n",
    "    #future = model.make_future_dataframe(periods=365)\n",
    "    forecast = model.predict(df)\n",
    "    changepoints = pd.DataFrame(model.changepoints)\n",
    "    changepoints['changepoint'] = 1\n",
    "    result = pd.concat([forecast, changepoints], axis=1)\n",
    "    return result"
   ]
  },
  {
   "cell_type": "code",
   "execution_count": 21,
   "metadata": {},
   "outputs": [
    {
     "data": {
      "text/html": [
       "<div>\n",
       "<style scoped>\n",
       "    .dataframe tbody tr th:only-of-type {\n",
       "        vertical-align: middle;\n",
       "    }\n",
       "\n",
       "    .dataframe tbody tr th {\n",
       "        vertical-align: top;\n",
       "    }\n",
       "\n",
       "    .dataframe thead th {\n",
       "        text-align: right;\n",
       "    }\n",
       "</style>\n",
       "<table border=\"1\" class=\"dataframe\">\n",
       "  <thead>\n",
       "    <tr style=\"text-align: right;\">\n",
       "      <th></th>\n",
       "      <th>ds</th>\n",
       "      <th>trend</th>\n",
       "      <th>yhat_lower</th>\n",
       "      <th>yhat_upper</th>\n",
       "      <th>trend_lower</th>\n",
       "      <th>trend_upper</th>\n",
       "      <th>additive_terms</th>\n",
       "      <th>additive_terms_lower</th>\n",
       "      <th>additive_terms_upper</th>\n",
       "      <th>weekly</th>\n",
       "      <th>weekly_lower</th>\n",
       "      <th>weekly_upper</th>\n",
       "      <th>multiplicative_terms</th>\n",
       "      <th>multiplicative_terms_lower</th>\n",
       "      <th>multiplicative_terms_upper</th>\n",
       "      <th>yhat</th>\n",
       "      <th>ds</th>\n",
       "      <th>changepoint</th>\n",
       "    </tr>\n",
       "  </thead>\n",
       "  <tbody>\n",
       "    <tr>\n",
       "      <th>0</th>\n",
       "      <td>2006-01-11</td>\n",
       "      <td>1.190388</td>\n",
       "      <td>-1.450200</td>\n",
       "      <td>5.037910</td>\n",
       "      <td>1.190388</td>\n",
       "      <td>1.190388</td>\n",
       "      <td>0.529852</td>\n",
       "      <td>0.529852</td>\n",
       "      <td>0.529852</td>\n",
       "      <td>0.529852</td>\n",
       "      <td>0.529852</td>\n",
       "      <td>0.529852</td>\n",
       "      <td>0.0</td>\n",
       "      <td>0.0</td>\n",
       "      <td>0.0</td>\n",
       "      <td>1.720240</td>\n",
       "      <td>NaT</td>\n",
       "      <td>NaN</td>\n",
       "    </tr>\n",
       "    <tr>\n",
       "      <th>1</th>\n",
       "      <td>2006-01-11</td>\n",
       "      <td>1.190388</td>\n",
       "      <td>-1.672855</td>\n",
       "      <td>4.968082</td>\n",
       "      <td>1.190388</td>\n",
       "      <td>1.190388</td>\n",
       "      <td>0.529852</td>\n",
       "      <td>0.529852</td>\n",
       "      <td>0.529852</td>\n",
       "      <td>0.529852</td>\n",
       "      <td>0.529852</td>\n",
       "      <td>0.529852</td>\n",
       "      <td>0.0</td>\n",
       "      <td>0.0</td>\n",
       "      <td>0.0</td>\n",
       "      <td>1.720240</td>\n",
       "      <td>NaT</td>\n",
       "      <td>NaN</td>\n",
       "    </tr>\n",
       "    <tr>\n",
       "      <th>2</th>\n",
       "      <td>2006-01-11</td>\n",
       "      <td>1.190388</td>\n",
       "      <td>-1.560725</td>\n",
       "      <td>4.967689</td>\n",
       "      <td>1.190388</td>\n",
       "      <td>1.190388</td>\n",
       "      <td>0.529852</td>\n",
       "      <td>0.529852</td>\n",
       "      <td>0.529852</td>\n",
       "      <td>0.529852</td>\n",
       "      <td>0.529852</td>\n",
       "      <td>0.529852</td>\n",
       "      <td>0.0</td>\n",
       "      <td>0.0</td>\n",
       "      <td>0.0</td>\n",
       "      <td>1.720240</td>\n",
       "      <td>NaT</td>\n",
       "      <td>NaN</td>\n",
       "    </tr>\n",
       "    <tr>\n",
       "      <th>3</th>\n",
       "      <td>2006-01-12</td>\n",
       "      <td>1.206666</td>\n",
       "      <td>-1.218421</td>\n",
       "      <td>5.187648</td>\n",
       "      <td>1.206666</td>\n",
       "      <td>1.206666</td>\n",
       "      <td>0.772286</td>\n",
       "      <td>0.772286</td>\n",
       "      <td>0.772286</td>\n",
       "      <td>0.772286</td>\n",
       "      <td>0.772286</td>\n",
       "      <td>0.772286</td>\n",
       "      <td>0.0</td>\n",
       "      <td>0.0</td>\n",
       "      <td>0.0</td>\n",
       "      <td>1.978952</td>\n",
       "      <td>NaT</td>\n",
       "      <td>NaN</td>\n",
       "    </tr>\n",
       "    <tr>\n",
       "      <th>4</th>\n",
       "      <td>2006-01-12</td>\n",
       "      <td>1.206666</td>\n",
       "      <td>-1.271108</td>\n",
       "      <td>5.226345</td>\n",
       "      <td>1.206666</td>\n",
       "      <td>1.206666</td>\n",
       "      <td>0.772286</td>\n",
       "      <td>0.772286</td>\n",
       "      <td>0.772286</td>\n",
       "      <td>0.772286</td>\n",
       "      <td>0.772286</td>\n",
       "      <td>0.772286</td>\n",
       "      <td>0.0</td>\n",
       "      <td>0.0</td>\n",
       "      <td>0.0</td>\n",
       "      <td>1.978952</td>\n",
       "      <td>NaT</td>\n",
       "      <td>NaN</td>\n",
       "    </tr>\n",
       "    <tr>\n",
       "      <th>...</th>\n",
       "      <td>...</td>\n",
       "      <td>...</td>\n",
       "      <td>...</td>\n",
       "      <td>...</td>\n",
       "      <td>...</td>\n",
       "      <td>...</td>\n",
       "      <td>...</td>\n",
       "      <td>...</td>\n",
       "      <td>...</td>\n",
       "      <td>...</td>\n",
       "      <td>...</td>\n",
       "      <td>...</td>\n",
       "      <td>...</td>\n",
       "      <td>...</td>\n",
       "      <td>...</td>\n",
       "      <td>...</td>\n",
       "      <td>...</td>\n",
       "      <td>...</td>\n",
       "    </tr>\n",
       "    <tr>\n",
       "      <th>2116</th>\n",
       "      <td>2006-04-10</td>\n",
       "      <td>2.744948</td>\n",
       "      <td>-0.865130</td>\n",
       "      <td>5.780842</td>\n",
       "      <td>2.744510</td>\n",
       "      <td>2.745344</td>\n",
       "      <td>-0.478032</td>\n",
       "      <td>-0.478032</td>\n",
       "      <td>-0.478032</td>\n",
       "      <td>-0.478032</td>\n",
       "      <td>-0.478032</td>\n",
       "      <td>-0.478032</td>\n",
       "      <td>0.0</td>\n",
       "      <td>0.0</td>\n",
       "      <td>0.0</td>\n",
       "      <td>2.266916</td>\n",
       "      <td>NaT</td>\n",
       "      <td>NaN</td>\n",
       "    </tr>\n",
       "    <tr>\n",
       "      <th>2117</th>\n",
       "      <td>2006-04-10</td>\n",
       "      <td>2.744948</td>\n",
       "      <td>-0.890093</td>\n",
       "      <td>5.692588</td>\n",
       "      <td>2.744504</td>\n",
       "      <td>2.745349</td>\n",
       "      <td>-0.478032</td>\n",
       "      <td>-0.478032</td>\n",
       "      <td>-0.478032</td>\n",
       "      <td>-0.478032</td>\n",
       "      <td>-0.478032</td>\n",
       "      <td>-0.478032</td>\n",
       "      <td>0.0</td>\n",
       "      <td>0.0</td>\n",
       "      <td>0.0</td>\n",
       "      <td>2.266916</td>\n",
       "      <td>NaT</td>\n",
       "      <td>NaN</td>\n",
       "    </tr>\n",
       "    <tr>\n",
       "      <th>2118</th>\n",
       "      <td>2006-04-10</td>\n",
       "      <td>2.744948</td>\n",
       "      <td>-0.977771</td>\n",
       "      <td>5.483853</td>\n",
       "      <td>2.744499</td>\n",
       "      <td>2.745354</td>\n",
       "      <td>-0.478032</td>\n",
       "      <td>-0.478032</td>\n",
       "      <td>-0.478032</td>\n",
       "      <td>-0.478032</td>\n",
       "      <td>-0.478032</td>\n",
       "      <td>-0.478032</td>\n",
       "      <td>0.0</td>\n",
       "      <td>0.0</td>\n",
       "      <td>0.0</td>\n",
       "      <td>2.266916</td>\n",
       "      <td>NaT</td>\n",
       "      <td>NaN</td>\n",
       "    </tr>\n",
       "    <tr>\n",
       "      <th>2119</th>\n",
       "      <td>2006-04-10</td>\n",
       "      <td>2.744948</td>\n",
       "      <td>-0.976668</td>\n",
       "      <td>5.550365</td>\n",
       "      <td>2.744496</td>\n",
       "      <td>2.745358</td>\n",
       "      <td>-0.478032</td>\n",
       "      <td>-0.478032</td>\n",
       "      <td>-0.478032</td>\n",
       "      <td>-0.478032</td>\n",
       "      <td>-0.478032</td>\n",
       "      <td>-0.478032</td>\n",
       "      <td>0.0</td>\n",
       "      <td>0.0</td>\n",
       "      <td>0.0</td>\n",
       "      <td>2.266916</td>\n",
       "      <td>NaT</td>\n",
       "      <td>NaN</td>\n",
       "    </tr>\n",
       "    <tr>\n",
       "      <th>2120</th>\n",
       "      <td>2006-04-10</td>\n",
       "      <td>2.744948</td>\n",
       "      <td>-0.900935</td>\n",
       "      <td>5.351496</td>\n",
       "      <td>2.744492</td>\n",
       "      <td>2.745364</td>\n",
       "      <td>-0.478032</td>\n",
       "      <td>-0.478032</td>\n",
       "      <td>-0.478032</td>\n",
       "      <td>-0.478032</td>\n",
       "      <td>-0.478032</td>\n",
       "      <td>-0.478032</td>\n",
       "      <td>0.0</td>\n",
       "      <td>0.0</td>\n",
       "      <td>0.0</td>\n",
       "      <td>2.266916</td>\n",
       "      <td>NaT</td>\n",
       "      <td>NaN</td>\n",
       "    </tr>\n",
       "  </tbody>\n",
       "</table>\n",
       "<p>2121 rows × 18 columns</p>\n",
       "</div>"
      ],
      "text/plain": [
       "             ds     trend  yhat_lower  yhat_upper  trend_lower  trend_upper  \\\n",
       "0    2006-01-11  1.190388   -1.450200    5.037910     1.190388     1.190388   \n",
       "1    2006-01-11  1.190388   -1.672855    4.968082     1.190388     1.190388   \n",
       "2    2006-01-11  1.190388   -1.560725    4.967689     1.190388     1.190388   \n",
       "3    2006-01-12  1.206666   -1.218421    5.187648     1.206666     1.206666   \n",
       "4    2006-01-12  1.206666   -1.271108    5.226345     1.206666     1.206666   \n",
       "...         ...       ...         ...         ...          ...          ...   \n",
       "2116 2006-04-10  2.744948   -0.865130    5.780842     2.744510     2.745344   \n",
       "2117 2006-04-10  2.744948   -0.890093    5.692588     2.744504     2.745349   \n",
       "2118 2006-04-10  2.744948   -0.977771    5.483853     2.744499     2.745354   \n",
       "2119 2006-04-10  2.744948   -0.976668    5.550365     2.744496     2.745358   \n",
       "2120 2006-04-10  2.744948   -0.900935    5.351496     2.744492     2.745364   \n",
       "\n",
       "      additive_terms  additive_terms_lower  additive_terms_upper    weekly  \\\n",
       "0           0.529852              0.529852              0.529852  0.529852   \n",
       "1           0.529852              0.529852              0.529852  0.529852   \n",
       "2           0.529852              0.529852              0.529852  0.529852   \n",
       "3           0.772286              0.772286              0.772286  0.772286   \n",
       "4           0.772286              0.772286              0.772286  0.772286   \n",
       "...              ...                   ...                   ...       ...   \n",
       "2116       -0.478032             -0.478032             -0.478032 -0.478032   \n",
       "2117       -0.478032             -0.478032             -0.478032 -0.478032   \n",
       "2118       -0.478032             -0.478032             -0.478032 -0.478032   \n",
       "2119       -0.478032             -0.478032             -0.478032 -0.478032   \n",
       "2120       -0.478032             -0.478032             -0.478032 -0.478032   \n",
       "\n",
       "      weekly_lower  weekly_upper  multiplicative_terms  \\\n",
       "0         0.529852      0.529852                   0.0   \n",
       "1         0.529852      0.529852                   0.0   \n",
       "2         0.529852      0.529852                   0.0   \n",
       "3         0.772286      0.772286                   0.0   \n",
       "4         0.772286      0.772286                   0.0   \n",
       "...            ...           ...                   ...   \n",
       "2116     -0.478032     -0.478032                   0.0   \n",
       "2117     -0.478032     -0.478032                   0.0   \n",
       "2118     -0.478032     -0.478032                   0.0   \n",
       "2119     -0.478032     -0.478032                   0.0   \n",
       "2120     -0.478032     -0.478032                   0.0   \n",
       "\n",
       "      multiplicative_terms_lower  multiplicative_terms_upper      yhat  ds  \\\n",
       "0                            0.0                         0.0  1.720240 NaT   \n",
       "1                            0.0                         0.0  1.720240 NaT   \n",
       "2                            0.0                         0.0  1.720240 NaT   \n",
       "3                            0.0                         0.0  1.978952 NaT   \n",
       "4                            0.0                         0.0  1.978952 NaT   \n",
       "...                          ...                         ...       ...  ..   \n",
       "2116                         0.0                         0.0  2.266916 NaT   \n",
       "2117                         0.0                         0.0  2.266916 NaT   \n",
       "2118                         0.0                         0.0  2.266916 NaT   \n",
       "2119                         0.0                         0.0  2.266916 NaT   \n",
       "2120                         0.0                         0.0  2.266916 NaT   \n",
       "\n",
       "      changepoint  \n",
       "0             NaN  \n",
       "1             NaN  \n",
       "2             NaN  \n",
       "3             NaN  \n",
       "4             NaN  \n",
       "...           ...  \n",
       "2116          NaN  \n",
       "2117          NaN  \n",
       "2118          NaN  \n",
       "2119          NaN  \n",
       "2120          NaN  \n",
       "\n",
       "[2121 rows x 18 columns]"
      ]
     },
     "execution_count": 21,
     "metadata": {},
     "output_type": "execute_result"
    }
   ],
   "source": [
    "# THIS CELL IS NOT EXPORTED - free notebook cell for testing or development purposes\n",
    "apply(model,df,param)"
   ]
  },
  {
   "cell_type": "markdown",
   "metadata": {},
   "source": [
    "## Stage 5 - save the model"
   ]
  },
  {
   "cell_type": "code",
   "execution_count": 22,
   "metadata": {
    "deletable": false,
    "name": "mltkc_save"
   },
   "outputs": [],
   "source": [
    "# save model to name in expected convention \"<algo_name>_<model_name>\"\n",
    "def save(model,name):\n",
    "    model = {}\n",
    "    return model"
   ]
  },
  {
   "cell_type": "markdown",
   "metadata": {},
   "source": [
    "## Stage 6 - load the model"
   ]
  },
  {
   "cell_type": "code",
   "execution_count": 23,
   "metadata": {
    "deletable": false,
    "name": "mltkc_load"
   },
   "outputs": [],
   "source": [
    "# load model from name in expected convention \"<algo_name>_<model_name>\"\n",
    "def load(name):\n",
    "    model = {}\n",
    "    return model"
   ]
  },
  {
   "cell_type": "markdown",
   "metadata": {},
   "source": [
    "## Stage 7 - provide a summary of the model"
   ]
  },
  {
   "cell_type": "code",
   "execution_count": 24,
   "metadata": {
    "deletable": false,
    "name": "mltkc_summary"
   },
   "outputs": [],
   "source": [
    "# return a model summary\n",
    "def summary(model=None):\n",
    "    returns = {\"version\": {\"numpy\": np.__version__, \"pandas\": pd.__version__} }\n",
    "    return returns"
   ]
  },
  {
   "cell_type": "markdown",
   "metadata": {},
   "source": [
    "## End of Stages\n",
    "All subsequent cells are not tagged and can be used for further freeform code"
   ]
  },
  {
   "cell_type": "code",
   "execution_count": null,
   "metadata": {},
   "outputs": [],
   "source": []
  },
  {
   "cell_type": "code",
   "execution_count": null,
   "metadata": {},
   "outputs": [],
   "source": []
  }
 ],
 "metadata": {
  "kernelspec": {
   "display_name": "Python 3 (ipykernel)",
   "language": "python",
   "name": "python3"
  },
  "language_info": {
   "codemirror_mode": {
    "name": "ipython",
    "version": 3
   },
   "file_extension": ".py",
   "mimetype": "text/x-python",
   "name": "python",
   "nbconvert_exporter": "python",
   "pygments_lexer": "ipython3",
   "version": "3.9.13"
  }
 },
 "nbformat": 4,
 "nbformat_minor": 4
}
