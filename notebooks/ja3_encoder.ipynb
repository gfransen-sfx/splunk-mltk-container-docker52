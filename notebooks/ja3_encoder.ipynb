{
 "cells": [
  {
   "cell_type": "markdown",
   "metadata": {},
   "source": [
    "# Deep Learning Toolkit for Splunk - ja3 encoder example"
   ]
  },
  {
   "cell_type": "markdown",
   "metadata": {},
   "source": [
    "Authors: Josh Cowling, Philipp Drieger"
   ]
  },
  {
   "cell_type": "markdown",
   "metadata": {},
   "source": [
    "This notebook contains an example of applied security research on ja3 hashing. It seamlessly interfaces with your Splunk data through the Deep Learning Toolkit App for Splunk."
   ]
  },
  {
   "cell_type": "markdown",
   "metadata": {},
   "source": [
    "## Stage 0 - import libraries\n",
    "At stage 0 we define all imports necessary to run our subsequent code depending on various libraries."
   ]
  },
  {
   "cell_type": "code",
   "execution_count": 1,
   "metadata": {
    "deletable": false,
    "name": "mltkc_import"
   },
   "outputs": [
    {
     "name": "stderr",
     "output_type": "stream",
     "text": [
      "2022-10-22 16:32:16.353721: I tensorflow/core/platform/cpu_feature_guard.cc:193] This TensorFlow binary is optimized with oneAPI Deep Neural Network Library (oneDNN) to use the following CPU instructions in performance-critical operations:  AVX2 FMA\n",
      "To enable them in other operations, rebuild TensorFlow with the appropriate compiler flags.\n",
      "2022-10-22 16:32:16.524144: W tensorflow/stream_executor/platform/default/dso_loader.cc:64] Could not load dynamic library 'libcudart.so.11.0'; dlerror: libcudart.so.11.0: cannot open shared object file: No such file or directory\n",
      "2022-10-22 16:32:16.524184: I tensorflow/stream_executor/cuda/cudart_stub.cc:29] Ignore above cudart dlerror if you do not have a GPU set up on your machine.\n",
      "2022-10-22 16:32:16.562139: E tensorflow/stream_executor/cuda/cuda_blas.cc:2981] Unable to register cuBLAS factory: Attempting to register factory for plugin cuBLAS when one has already been registered\n",
      "2022-10-22 16:32:17.525557: W tensorflow/stream_executor/platform/default/dso_loader.cc:64] Could not load dynamic library 'libnvinfer.so.7'; dlerror: libnvinfer.so.7: cannot open shared object file: No such file or directory\n",
      "2022-10-22 16:32:17.525713: W tensorflow/stream_executor/platform/default/dso_loader.cc:64] Could not load dynamic library 'libnvinfer_plugin.so.7'; dlerror: libnvinfer_plugin.so.7: cannot open shared object file: No such file or directory\n",
      "2022-10-22 16:32:17.525729: W tensorflow/compiler/tf2tensorrt/utils/py_utils.cc:38] TF-TRT Warning: Cannot dlopen some TensorRT libraries. If you would like to use Nvidia GPU with TensorRT, please make sure the missing libraries mentioned above are installed properly.\n"
     ]
    }
   ],
   "source": [
    "# this definition exposes all python module imports that should be available in all subsequent commands\n",
    "import json\n",
    "import numpy as np\n",
    "import pandas as pd\n",
    "import string\n",
    "import urllib.request\n",
    "import hashlib\n",
    "import ssl\n",
    "import os.path\n",
    "from sklearn.preprocessing import MultiLabelBinarizer\n",
    "import matplotlib.pyplot as plt\n",
    "import umap\n",
    "from dsdlsupport.SplunkGenerateGraphicsObjects import SplunkGenerateGraphicsObjects\n",
    "\n",
    "# global constants\n",
    "MODEL_DIRECTORY = \"/srv/app/model/data/\"\n",
    "CACHE_DIRECTORY = \"/srv/app/model/data/ja3_cache\"\n",
    "\n",
    "# SUPPORTING FUNCTION TO PARSE JA3 INTO A DATAFRAME\n",
    "def ja3_list_to_df(ja3_list):\n",
    "    ja3_sig_cols=pd.DataFrame(ja3_list.str.split(\",\").tolist())\n",
    "    ja3_sig_cols.columns = [\"SSLVersion\",\"Cipher\",\"SSLExtension\",\"EllipticCurve\",\"EllipticCurvePointFormat\"]\n",
    "    ja3_sig_cols=ja3_sig_cols.fillna('None')\n",
    "    return ja3_sig_cols\n",
    "\n",
    "# SUPPORTING FUNCTIONS TO CREATE CIPHER FREQUENCY LISTS\n",
    "def get_value_counts(df,col):\n",
    "    return df[col].str.split(\"-\",expand=True).stack().value_counts()\n",
    "\n",
    "def create_common_lists(ja3_df,dc=100):\n",
    "    counts = dict()\n",
    "    common_lists = dict()\n",
    "    for column in ja3_df.columns:\n",
    "        print(\"finding common \"+column+\"s\")\n",
    "        counts[column] = get_value_counts(ja3_df,column)\n",
    "        common_lists[column] = counts[column].head(dc).index.values.tolist()\n",
    "        print(common_lists[column])\n",
    "    return common_lists\n",
    "\n",
    "# SUPPORTING FUNCTIONS FOR ONEHOT ENCODING\n",
    "def onehot_from_multivalue(df,col):\n",
    "    mlb = MultiLabelBinarizer()\n",
    "    df = df.join(pd.DataFrame(mlb.fit_transform(df.pop(col)),columns=col+\"_\"+mlb.classes_,index=df.index))\n",
    "    return df\n",
    "\n",
    "def onehot_encode_ja3(df,common_lists):\n",
    "    df2=df\n",
    "    for col in df.columns:\n",
    "        df2[col]=df[col].str.split(\"-\")\n",
    "        df2[col] = df2[col].transform(lambda x: list(set(x) & set(common_lists[col])))\n",
    "        df2 = onehot_from_multivalue(df2,col)\n",
    "    return df2"
   ]
  },
  {
   "cell_type": "code",
   "execution_count": 2,
   "metadata": {},
   "outputs": [
    {
     "name": "stdout",
     "output_type": "stream",
     "text": [
      "numpy version: 1.22.1\n",
      "pandas version: 1.5.1\n"
     ]
    }
   ],
   "source": [
    "# THIS CELL IS NOT EXPORTED - free notebook cell for testing or development purposes\n",
    "print(\"numpy version: \" + np.__version__)\n",
    "print(\"pandas version: \" + pd.__version__)"
   ]
  },
  {
   "cell_type": "markdown",
   "metadata": {},
   "source": [
    "## Stage 1 - get a data sample from Splunk\n",
    "\n",
    "There are several ways to test this notebook. You may choose to:\n",
    "1) Use the sample data from ja3er.com for which a download and cleanup has been implemented in the next few cells (note, this data has been intermittantly available for the last few months and may not be available)\n",
    "2) Push sample lab data from a lookup provided in the DSDL app in Splunk (see below)\n",
    "3) Pull sample lab data from a lookup provided in the DSDL app in Splunk (see below)"
   ]
  },
  {
   "cell_type": "markdown",
   "metadata": {},
   "source": [
    "### Option 1 - Download sample data from ja3er.com"
   ]
  },
  {
   "cell_type": "code",
   "execution_count": null,
   "metadata": {},
   "outputs": [],
   "source": [
    "# SUPPORTING FUNCTION TO DOWNLOAD DATA\n",
    "def disk_cache_reference_data(url: string, filepath: string):\n",
    "    hash = hashlib.md5(str.encode(url))\n",
    "    filepath=filepath+\"/\"+hash.hexdigest()+'.txt'\n",
    "\n",
    "    if not os.path.exists(filepath):\n",
    "        print(\"No file with hash from that url exists, downloading new file from:\"+url+\"with hash/name:\"+filepath)\n",
    "        ctx = ssl.create_default_context()\n",
    "        ctx.check_hostname = False\n",
    "        ctx.verify_mode = ssl.CERT_NONE\n",
    "        with urllib.request.urlopen(url, context=ctx) as response:\n",
    "            html = response.read().decode('utf-8')\n",
    "            with open(filepath,\"w\") as file:\n",
    "                file.write(html)\n",
    "    else:\n",
    "        print(\"cached_file already exists\")\n",
    "    return filepath"
   ]
  },
  {
   "cell_type": "code",
   "execution_count": null,
   "metadata": {},
   "outputs": [],
   "source": [
    "# DOWNLOAD DATA FROM JA3ER\n",
    "MAX_ROWS = 10000\n",
    "\n",
    "# pull and cache reference files\n",
    "filepath_hashes_and_sigs = disk_cache_reference_data(\"https://ja3er.com/getAllHashesJson\", CACHE_DIRECTORY)\n",
    "\n",
    "# load files into dataframes\n",
    "with open(filepath_hashes_and_sigs) as file:\n",
    "    df = pd.read_json(file,orient='records')\n",
    "    \n",
    "df.drop(['First_reported'], axis=1, inplace=True)\n",
    "    \n",
    "if not MAX_ROWS<=0:\n",
    "    df=df.sample(MAX_ROWS)"
   ]
  },
  {
   "cell_type": "code",
   "execution_count": null,
   "metadata": {},
   "outputs": [],
   "source": [
    "df"
   ]
  },
  {
   "cell_type": "code",
   "execution_count": null,
   "metadata": {},
   "outputs": [],
   "source": [
    "# Split ja3 signatures into parts and components and transform into dataframe\n",
    "ja3_df = ja3_list_to_df(df[\"ja3\"])\n",
    "ja3_df"
   ]
  },
  {
   "cell_type": "markdown",
   "metadata": {},
   "source": [
    "### Option 2 - Pull data from Splunk\n",
    "This method requires that you have successfully configured a connection to a Splunk API where the DSDL App is accessable."
   ]
  },
  {
   "cell_type": "code",
   "execution_count": null,
   "metadata": {},
   "outputs": [],
   "source": [
    "import libs.SplunkSearch as Splunk"
   ]
  },
  {
   "cell_type": "code",
   "execution_count": null,
   "metadata": {},
   "outputs": [],
   "source": [
    "search = Splunk.SplunkSearch(search='| inputlookup zeek_sigs_ja3_sample.csv | table ja3')"
   ]
  },
  {
   "cell_type": "code",
   "execution_count": null,
   "metadata": {},
   "outputs": [],
   "source": [
    "df = search.as_df()\n",
    "df"
   ]
  },
  {
   "cell_type": "markdown",
   "metadata": {},
   "source": [
    "### Option 3 - push data from Splunk\n",
    "In Splunk run a search to send a dataset into the /notebooks/data directory your notebook environment. Utilize the `mode=stage` flag in the in the `| fit` command to do this. \n",
    "\n",
    "The search results are accessible then as csv file with the same model name that is defined in the `into app:<modelname>` part of the fit statement. \n",
    "\n",
    "Additionally, meta data is retrieved and accessible as json file. In the same way you can further work with the meta data object as it is exposed in the fit and apply function definitions below in stage 3 and 4.\n",
    "\n",
    "The search to run is provided here:"
   ]
  },
  {
   "cell_type": "markdown",
   "metadata": {},
   "source": [
    "| inputlookup zeek_sigs_ja3_sample.csv <br>\n",
    "| fit MLTKContainer mode=stage algo=ja3_encoder max_cols=100 ja3 into app:ja3_encoder <br>"
   ]
  },
  {
   "cell_type": "markdown",
   "metadata": {},
   "source": [
    "After you run this search your data set sample is available as a csv inside the container to develop your model. The name is taken from the into keyword (\"ja3_encoder\" in the example above) or set to \"default\" if no into keyword is present. This step is intended to work with a subset of your data to create your custom model."
   ]
  },
  {
   "cell_type": "code",
   "execution_count": 3,
   "metadata": {
    "deletable": false,
    "name": "mltkc_stage"
   },
   "outputs": [],
   "source": [
    "# this cell is not executed from MLTK and should only be used for staging data into the notebook environment\n",
    "# this cell \"stages\" the data pushed from splunk by the above SPL command, which needs to be run in a connected splunk environment whilst the dev container is running\n",
    "def stage(name):\n",
    "    with open(\"data/\"+name+\".csv\", 'r') as f:\n",
    "        df = pd.read_csv(f)\n",
    "    with open(\"data/\"+name+\".json\", 'r') as f:\n",
    "        param = json.load(f)\n",
    "    return df, param"
   ]
  },
  {
   "cell_type": "code",
   "execution_count": 4,
   "metadata": {},
   "outputs": [
    {
     "data": {
      "text/html": [
       "<div>\n",
       "<style scoped>\n",
       "    .dataframe tbody tr th:only-of-type {\n",
       "        vertical-align: middle;\n",
       "    }\n",
       "\n",
       "    .dataframe tbody tr th {\n",
       "        vertical-align: top;\n",
       "    }\n",
       "\n",
       "    .dataframe thead th {\n",
       "        text-align: right;\n",
       "    }\n",
       "</style>\n",
       "<table border=\"1\" class=\"dataframe\">\n",
       "  <thead>\n",
       "    <tr style=\"text-align: right;\">\n",
       "      <th></th>\n",
       "      <th>ja3</th>\n",
       "    </tr>\n",
       "  </thead>\n",
       "  <tbody>\n",
       "    <tr>\n",
       "      <th>0</th>\n",
       "      <td>771,4866-4867-4865-49196-49200-159-52393-52392...</td>\n",
       "    </tr>\n",
       "    <tr>\n",
       "      <th>1</th>\n",
       "      <td>771,4866-4867-4865-49196-49200-159-52393-52392...</td>\n",
       "    </tr>\n",
       "    <tr>\n",
       "      <th>2</th>\n",
       "      <td>771,4866-4867-4865-49196-49200-163-159-52393-5...</td>\n",
       "    </tr>\n",
       "    <tr>\n",
       "      <th>3</th>\n",
       "      <td>771,49169-60-61-49191-49187,13-10,16-19-21-23-...</td>\n",
       "    </tr>\n",
       "    <tr>\n",
       "      <th>4</th>\n",
       "      <td>771,49172-49169-57-53-5-4-60-61-49191-49187,13...</td>\n",
       "    </tr>\n",
       "    <tr>\n",
       "      <th>...</th>\n",
       "      <td>...</td>\n",
       "    </tr>\n",
       "    <tr>\n",
       "      <th>976</th>\n",
       "      <td>771,49200-49196-49192-49188-49172-49162-165-16...</td>\n",
       "    </tr>\n",
       "    <tr>\n",
       "      <th>977</th>\n",
       "      <td>771,49200-49196-49192-49188-49172-49162-165-16...</td>\n",
       "    </tr>\n",
       "    <tr>\n",
       "      <th>978</th>\n",
       "      <td>771,49200-49196-49192-49188-49172-49162-165-16...</td>\n",
       "    </tr>\n",
       "    <tr>\n",
       "      <th>979</th>\n",
       "      <td>771,49200-49196-49199-49195-159-158-157-156-49...</td>\n",
       "    </tr>\n",
       "    <tr>\n",
       "      <th>980</th>\n",
       "      <td>771,49195-49196-52393-49199-49200-52392-49161-...</td>\n",
       "    </tr>\n",
       "  </tbody>\n",
       "</table>\n",
       "<p>981 rows × 1 columns</p>\n",
       "</div>"
      ],
      "text/plain": [
       "                                                   ja3\n",
       "0    771,4866-4867-4865-49196-49200-159-52393-52392...\n",
       "1    771,4866-4867-4865-49196-49200-159-52393-52392...\n",
       "2    771,4866-4867-4865-49196-49200-163-159-52393-5...\n",
       "3    771,49169-60-61-49191-49187,13-10,16-19-21-23-...\n",
       "4    771,49172-49169-57-53-5-4-60-61-49191-49187,13...\n",
       "..                                                 ...\n",
       "976  771,49200-49196-49192-49188-49172-49162-165-16...\n",
       "977  771,49200-49196-49192-49188-49172-49162-165-16...\n",
       "978  771,49200-49196-49192-49188-49172-49162-165-16...\n",
       "979  771,49200-49196-49199-49195-159-158-157-156-49...\n",
       "980  771,49195-49196-52393-49199-49200-52392-49161-...\n",
       "\n",
       "[981 rows x 1 columns]"
      ]
     },
     "execution_count": 4,
     "metadata": {},
     "output_type": "execute_result"
    }
   ],
   "source": [
    "# THIS CELL IS NOT EXPORTED - free notebook cell for testing or development purposes\n",
    "df, param = stage(\"ja3_encoder\")\n",
    "df"
   ]
  },
  {
   "cell_type": "code",
   "execution_count": 5,
   "metadata": {},
   "outputs": [
    {
     "data": {
      "text/plain": [
       "{'options': {'params': {'mode': 'stage',\n",
       "   'algo': 'ja3_encoder',\n",
       "   'max_cols': '100'},\n",
       "  'args': ['ja3'],\n",
       "  'feature_variables': ['ja3'],\n",
       "  'model_name': 'ja3_encoder',\n",
       "  'algo_name': 'MLTKContainer',\n",
       "  'mlspl_limits': {'handle_new_cat': 'default',\n",
       "   'max_distinct_cat_values': '100',\n",
       "   'max_distinct_cat_values_for_classifiers': '100',\n",
       "   'max_distinct_cat_values_for_scoring': '100',\n",
       "   'max_fit_time': '600',\n",
       "   'max_inputs': '100000',\n",
       "   'max_memory_usage_mb': '4000',\n",
       "   'max_model_size_mb': '30',\n",
       "   'max_score_time': '600',\n",
       "   'use_sampling': 'true'},\n",
       "  'kfold_cv': None},\n",
       " 'feature_variables': ['ja3']}"
      ]
     },
     "execution_count": 5,
     "metadata": {},
     "output_type": "execute_result"
    }
   ],
   "source": [
    "param"
   ]
  },
  {
   "cell_type": "markdown",
   "metadata": {},
   "source": [
    "## Stage 2 - create and initialize a model"
   ]
  },
  {
   "cell_type": "code",
   "execution_count": 6,
   "metadata": {
    "deletable": false,
    "name": "mltkc_init"
   },
   "outputs": [],
   "source": [
    "# initialize your model\n",
    "# available inputs: data and parameters\n",
    "# returns the model object which will be used as a reference to call fit, apply and summary subsequently\n",
    "def init(df,param):\n",
    "    model = {}\n",
    "    \n",
    "    model['onehot_max_cols'] = 100\n",
    "    model['output_mode'] = \"umap\" # \"umap\" or \"onehot\"\n",
    "    \n",
    "    # https://umap-learn.readthedocs.io/en/latest/parameters.html\n",
    "    model['umap_min_dist'] = 1.0\n",
    "    model['umap_neighbours'] = 50\n",
    "    model['umap_components'] = 2\n",
    "    model['umap_metric']=\"hamming\"\n",
    "    \n",
    "    if 'options' in param:\n",
    "        if 'params' in param['options']:\n",
    "            if 'onehot_max_cols' in param['options']['params']:\n",
    "                model['onehot_max_cols'] = int(param['options']['params']['onehot_max_cols'])\n",
    "            if 'umap_min_dist' in param['options']['params']:\n",
    "                model['umap_min_dist'] = float(param['options']['params']['umap_min_dist'])\n",
    "            if 'umap_neighbours' in param['options']['params']:\n",
    "                model['umap_neighbours'] = int(param['options']['params']['umap_neighbours'])\n",
    "            if 'output_mode' in param['options']['params']:\n",
    "                model['output_mode'] = param['options']['params']['output_mode']\n",
    "    \n",
    "    model['reducer']=umap.UMAP(n_neighbors=model['umap_neighbours'],\\\n",
    "                               min_dist=model['umap_min_dist'],\\\n",
    "                               n_components=model['umap_components'],\\\n",
    "                               metric=model['umap_metric'])\n",
    "    \n",
    "    return model"
   ]
  },
  {
   "cell_type": "code",
   "execution_count": 7,
   "metadata": {
    "scrolled": true
   },
   "outputs": [],
   "source": [
    "# THIS CELL IS NOT EXPORTED - free notebook cell for testing or development purposes\n",
    "model = init(df,param)"
   ]
  },
  {
   "cell_type": "markdown",
   "metadata": {},
   "source": [
    "## Stage 3 - fit the model"
   ]
  },
  {
   "cell_type": "code",
   "execution_count": 8,
   "metadata": {
    "deletable": false,
    "name": "mltkc_fit"
   },
   "outputs": [],
   "source": [
    "# train the model\n",
    "# returns a fit info json object and may modify the model object\n",
    "def fit(model,df,param):\n",
    "    ja3_df = ja3_list_to_df(df[param['feature_variables'][0]])\n",
    "\n",
    "    # calculate commonly used options for each signature column\n",
    "    model['common_option_lists'] = create_common_lists(ja3_df, model['onehot_max_cols'])\n",
    "    # turn the ja3 col into a dataframe with the correct columns\n",
    "    ja3_df = ja3_list_to_df(df[param['feature_variables'][0]])\n",
    "    # onehot encode on the ja3 dataframe\n",
    "    ja3_df_onehot = onehot_encode_ja3(ja3_df,model['common_option_lists'])\n",
    "    model['reducer'].fit(ja3_df_onehot)\n",
    "    \n",
    "    model['fit_data']=df\n",
    "    model['fit_onehot_features']=ja3_df_onehot\n",
    "    \n",
    "    info = {\"message\": \"model trained\"}    \n",
    "    return info"
   ]
  },
  {
   "cell_type": "code",
   "execution_count": 9,
   "metadata": {},
   "outputs": [
    {
     "name": "stdout",
     "output_type": "stream",
     "text": [
      "finding common SSLVersions\n",
      "['771', '769', '', '768', '2', '770']\n",
      "finding common Ciphers\n",
      "['49199', '49200', '49195', '49196', '49171', '49172', '47', '53', '156', '157', '4866', '4865', '4867', '52392', '52393', '49161', '49162', '10', '60', '49191', '255', '49192', '49187', '61', '49188', '49170', '158', '51', '49160', '57', '159', '103', '107', '50', '56', '64', '106', '163', '162', '49166', '49156', '49157', '49167', '150', '153', '154', '52394', '22', '49190', '49189', '49197', '49198', '49193', '49201', '49194', '49202', '69', '136', '65', '132', '49', '48', '54', '55', '19', '135', '68', '49165', '49155', '152', '151', '16', '13', '165', '161', '105', '104', '62', '63', '160', '164', '7', '5', '49169', '49324', '49325', '49310', '49311', '49309', '49308', '22016', '66', '133', '134', '49159', '67', '49313', '49315', '49327', '49312']\n",
      "finding common SSLExtensions\n",
      "['10', '13', '0', '11', '23', '16', '43', '51', '45', '65281', '5', '35', '21', '18', '27', '41', '13172', '17513', '22', '15', '49', '65284', '', '42', '44', '30032', '50', '20', '28', '17']\n",
      "finding common EllipticCurves\n",
      "['23', '24', '29', '25', '22', '10', '9', '11', '13', '14', '12', '26', '28', '27', '30', '21', '19', '16', '20', '18', '5', '3', '2', '1', '6', '4', '7', '8', '17', '15', '', '256', '257', '258', '259', '260']\n",
      "finding common EllipticCurvePointFormats\n",
      "['0', '1', '2', '']\n"
     ]
    },
    {
     "name": "stderr",
     "output_type": "stream",
     "text": [
      "/usr/local/lib/python3.9/site-packages/umap/umap_.py:1802: UserWarning: gradient function is not yet implemented for hamming distance metric; inverse_transform will be unavailable\n",
      "  warn(\n"
     ]
    },
    {
     "name": "stdout",
     "output_type": "stream",
     "text": [
      "{'message': 'model trained'}\n"
     ]
    }
   ],
   "source": [
    "# THIS CELL IS NOT EXPORTED - free notebook cell for testing or development purposes\n",
    "print(fit(model,df,param))"
   ]
  },
  {
   "cell_type": "markdown",
   "metadata": {},
   "source": [
    "## Stage 4 - apply the model"
   ]
  },
  {
   "cell_type": "code",
   "execution_count": 10,
   "metadata": {
    "deletable": false,
    "name": "mltkc_apply"
   },
   "outputs": [],
   "source": [
    "# returns the calculated results\n",
    "def apply(model,df,param):\n",
    "    if df.equals(model[\"fit_data\"]):\n",
    "        ja3_df_onehot = model['fit_onehot_features']\n",
    "    else:\n",
    "        ja3_df = ja3_list_to_df(df[param['feature_variables'][0]])\n",
    "        ja3_df_onehot = onehot_encode_ja3(ja3_df,model['common_option_lists'])\n",
    "    \n",
    "    result={}\n",
    "    \n",
    "    if model[\"output_mode\"]==\"umap\":\n",
    "        umap_reduced_features=pd.DataFrame( model[\"reducer\"].transform(ja3_df_onehot) )\n",
    "        result = umap_reduced_features\n",
    "        fig = plt.figure(figsize=(5,5))\n",
    "        plt.scatter(result[0],result[1],s=2,color=[0,0.3,0.9,0.1])\n",
    "        SplunkGenerateGraphicsObjects(model,\"ja3_umap_apply\",fig)\n",
    "    else:\n",
    "        if model[\"output_mode\"]==\"onehot\":\n",
    "            result = ja3_df_onehot\n",
    "        else:\n",
    "            result = {\"message\": \"unknown output mode, use \\\"umap\\\" or \\\"onehot\\\"\"}\n",
    "        \n",
    "    return result"
   ]
  },
  {
   "cell_type": "code",
   "execution_count": 11,
   "metadata": {},
   "outputs": [
    {
     "data": {
      "text/plain": [
       "{'ja3_umap_apply': {'container_local_path': '/srv/app/graphicsja3_umap_apply.png',\n",
       "  'external_relative_path': 'graphics/ja3_umap_apply.png'}}"
      ]
     },
     "execution_count": 11,
     "metadata": {},
     "output_type": "execute_result"
    },
    {
     "data": {
      "image/png": "[encoded data removed]",
      "text/plain": [
       "<Figure size 500x500 with 1 Axes>"
      ]
     },
     "metadata": {},
     "output_type": "display_data"
    }
   ],
   "source": [
    "# THIS CELL IS NOT EXPORTED - free notebook cell for testing or development purposes\n",
    "df_umap = apply(model,df,param)\n",
    "model[\"graphics\"]"
   ]
  },
  {
   "cell_type": "markdown",
   "metadata": {},
   "source": [
    "## Stage 5 - save the model"
   ]
  },
  {
   "cell_type": "code",
   "execution_count": null,
   "metadata": {
    "deletable": false,
    "name": "mltkc_save"
   },
   "outputs": [],
   "source": [
    "# save model to name in expected convention \"<algo_name>_<model_name>\"\n",
    "def save(model,name):\n",
    "#    with open(MODEL_DIRECTORY + name + \".json\", 'w') as file:\n",
    "#        json.dump(model, file)\n",
    "    return model"
   ]
  },
  {
   "cell_type": "markdown",
   "metadata": {},
   "source": [
    "## Stage 6 - load the model"
   ]
  },
  {
   "cell_type": "code",
   "execution_count": null,
   "metadata": {
    "deletable": false,
    "name": "mltkc_load"
   },
   "outputs": [],
   "source": [
    "# load model from name in expected convention \"<algo_name>_<model_name>\"\n",
    "def load(name):\n",
    "#    model = {}\n",
    "#    with open(MODEL_DIRECTORY + name + \".json\", 'r') as file:\n",
    "#        model = json.load(file)\n",
    "    return model"
   ]
  },
  {
   "cell_type": "markdown",
   "metadata": {},
   "source": [
    "## Stage 7 - provide a summary of the model"
   ]
  },
  {
   "cell_type": "code",
   "execution_count": null,
   "metadata": {
    "deletable": false,
    "name": "mltkc_summary"
   },
   "outputs": [],
   "source": [
    "# return a model summary\n",
    "def summary(model=None):\n",
    "    returns = {\"version\": {\"numpy\": np.__version__, \"pandas\": pd.__version__}}\n",
    "    return returns"
   ]
  },
  {
   "cell_type": "markdown",
   "metadata": {},
   "source": [
    "## End of Stages\n",
    "All subsequent cells are not tagged and can be used for further freeform code"
   ]
  },
  {
   "cell_type": "code",
   "execution_count": null,
   "metadata": {},
   "outputs": [],
   "source": [
    "summary(model)"
   ]
  },
  {
   "cell_type": "code",
   "execution_count": null,
   "metadata": {},
   "outputs": [],
   "source": []
  }
 ],
 "metadata": {
  "kernelspec": {
   "display_name": "Python 3 (ipykernel)",
   "language": "python",
   "name": "python3"
  },
  "language_info": {
   "codemirror_mode": {
    "name": "ipython",
    "version": 3
   },
   "file_extension": ".py",
   "mimetype": "text/x-python",
   "name": "python",
   "nbconvert_exporter": "python",
   "pygments_lexer": "ipython3",
   "version": "3.9.13"
  }
 },
 "nbformat": 4,
 "nbformat_minor": 4
}
