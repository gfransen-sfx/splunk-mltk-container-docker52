{
 "cells": [
  {
   "cell_type": "markdown",
   "metadata": {},
   "source": [
    "# Splunk App for Data Science and Deep Learning - notebook for RNN (LSTM) based univariate time series forecast"
   ]
  },
  {
   "cell_type": "markdown",
   "metadata": {},
   "source": [
    "This notebook contains an example workflow for how to forecast a univariate time series. "
   ]
  },
  {
   "cell_type": "markdown",
   "metadata": {},
   "source": [
    "## Stage 0 - import libraries\n",
    "At stage 0 we define all imports necessary to run our subsequent code depending on various libraries."
   ]
  },
  {
   "cell_type": "code",
   "execution_count": 1,
   "metadata": {
    "deletable": false,
    "name": "mltkc_import"
   },
   "outputs": [
    {
     "name": "stderr",
     "output_type": "stream",
     "text": [
      "2024-02-01 13:26:35.580205: I tensorflow/core/platform/cpu_feature_guard.cc:182] This TensorFlow binary is optimized to use available CPU instructions in performance-critical operations.\n",
      "To enable the following instructions: AVX2 FMA, in other operations, rebuild TensorFlow with the appropriate compiler flags.\n"
     ]
    }
   ],
   "source": [
    "# this definition exposes all python module imports that should be available in all subsequent commands\n",
    "import json\n",
    "import datetime\n",
    "import numpy as np\n",
    "import pandas as pd\n",
    "import tensorflow as tf\n",
    "import keras\n",
    "\n",
    "# global constants\n",
    "MODEL_DIRECTORY = \"/srv/app/model/data/\""
   ]
  },
  {
   "cell_type": "code",
   "execution_count": 2,
   "metadata": {},
   "outputs": [
    {
     "name": "stdout",
     "output_type": "stream",
     "text": [
      "numpy version: 1.25.2\n",
      "pandas version: 2.1.1\n",
      "TensorFlow version: 2.14.0\n",
      "Keras version: 2.14.0\n"
     ]
    }
   ],
   "source": [
    "# THIS CELL IS NOT EXPORTED - free notebook cell for testing purposes\n",
    "print(\"numpy version: \" + np.__version__)\n",
    "print(\"pandas version: \" + pd.__version__)\n",
    "print(\"TensorFlow version: \" + tf.__version__)\n",
    "print(\"Keras version: \" + keras.__version__)"
   ]
  },
  {
   "cell_type": "markdown",
   "metadata": {},
   "source": [
    "## Stage 1 - get a data sample from Splunk\n",
    "In Splunk run a search to pipe a prepared dataset into this environment."
   ]
  },
  {
   "cell_type": "markdown",
   "metadata": {},
   "source": [
    "| inputlookup internet_traffic.csv \n",
    "| timechart span=120min avg(\"bits_transferred\") as bits_transferred \n",
    "| eval bits_transferred=round(bits_transferred) \n",
    "| fit RobustScaler bits_transferred \n",
    "| fit MLTKContainer algo=univariate_rnn_forecast mode=stage epochs=10 batch_size=3 RS_bits_transferred _time by RS_bits_transferred into app:internet_traffic_forecast_model"
   ]
  },
  {
   "cell_type": "markdown",
   "metadata": {},
   "source": [
    "After you run this search your data set sample is available as a csv inside the container to develop your model. The name is taken from the into keyword (\"internet_traffic_forecast_model\" in the example above) or set to \"default\" if no into keyword is present. This step is intended to work with a subset of your data to create your custom model."
   ]
  },
  {
   "cell_type": "code",
   "execution_count": 3,
   "metadata": {
    "deletable": false,
    "name": "mltkc_stage"
   },
   "outputs": [],
   "source": [
    "# this cell is not executed from MLTK and should only be used for staging data into the notebook environment\n",
    "def stage(name):\n",
    "    with open(\"data/\"+name+\".csv\", 'r') as f:\n",
    "        df = pd.read_csv(f)\n",
    "    with open(\"data/\"+name+\".json\", 'r') as f:\n",
    "        param = json.load(f)\n",
    "    return df, param"
   ]
  },
  {
   "cell_type": "code",
   "execution_count": 14,
   "metadata": {},
   "outputs": [
    {
     "name": "stdout",
     "output_type": "stream",
     "text": [
      "        _time  RS_bits_transferred\n",
      "0  1118152800             0.714191\n",
      "(616, 2)\n",
      "{'options': {'params': {'algo': 'univariate_rnn_forecast', 'mode': 'stage', 'epochs': '10', 'batch_size': '3'}, 'args': ['RS_bits_transferred', '_time'], 'feature_variables': ['RS_bits_transferred', '_time'], 'split_by': ['RS_bits_transferred'], 'model_name': 'internet_traffic_forecast_model', 'algo_name': 'MLTKContainer', 'mlspl_limits': {'disabled': False, 'handle_new_cat': 'default', 'max_distinct_cat_values': '10000', 'max_distinct_cat_values_for_classifiers': '10000', 'max_distinct_cat_values_for_scoring': '10000', 'max_fit_time': '6000', 'max_inputs': '10000000', 'max_memory_usage_mb': '16000', 'max_model_size_mb': '3000', 'max_score_time': '6000', 'use_sampling': '1'}, 'kfold_cv': None}, 'feature_variables': ['RS_bits_transferred', '_time']}\n"
     ]
    },
    {
     "data": {
      "text/html": [
       "<div>\n",
       "<style scoped>\n",
       "    .dataframe tbody tr th:only-of-type {\n",
       "        vertical-align: middle;\n",
       "    }\n",
       "\n",
       "    .dataframe tbody tr th {\n",
       "        vertical-align: top;\n",
       "    }\n",
       "\n",
       "    .dataframe thead th {\n",
       "        text-align: right;\n",
       "    }\n",
       "</style>\n",
       "<table border=\"1\" class=\"dataframe\">\n",
       "  <thead>\n",
       "    <tr style=\"text-align: right;\">\n",
       "      <th></th>\n",
       "      <th>RS_bits_transferred</th>\n",
       "    </tr>\n",
       "  </thead>\n",
       "  <tbody>\n",
       "    <tr>\n",
       "      <th>0</th>\n",
       "      <td>0.714191</td>\n",
       "    </tr>\n",
       "    <tr>\n",
       "      <th>1</th>\n",
       "      <td>1.162206</td>\n",
       "    </tr>\n",
       "    <tr>\n",
       "      <th>2</th>\n",
       "      <td>1.268620</td>\n",
       "    </tr>\n",
       "    <tr>\n",
       "      <th>3</th>\n",
       "      <td>1.268984</td>\n",
       "    </tr>\n",
       "    <tr>\n",
       "      <th>4</th>\n",
       "      <td>1.038817</td>\n",
       "    </tr>\n",
       "    <tr>\n",
       "      <th>...</th>\n",
       "      <td>...</td>\n",
       "    </tr>\n",
       "    <tr>\n",
       "      <th>611</th>\n",
       "      <td>-0.388140</td>\n",
       "    </tr>\n",
       "    <tr>\n",
       "      <th>612</th>\n",
       "      <td>-0.347570</td>\n",
       "    </tr>\n",
       "    <tr>\n",
       "      <th>613</th>\n",
       "      <td>0.120611</td>\n",
       "    </tr>\n",
       "    <tr>\n",
       "      <th>614</th>\n",
       "      <td>0.864492</td>\n",
       "    </tr>\n",
       "    <tr>\n",
       "      <th>615</th>\n",
       "      <td>1.059249</td>\n",
       "    </tr>\n",
       "  </tbody>\n",
       "</table>\n",
       "<p>616 rows × 1 columns</p>\n",
       "</div>"
      ],
      "text/plain": [
       "     RS_bits_transferred\n",
       "0               0.714191\n",
       "1               1.162206\n",
       "2               1.268620\n",
       "3               1.268984\n",
       "4               1.038817\n",
       "..                   ...\n",
       "611            -0.388140\n",
       "612            -0.347570\n",
       "613             0.120611\n",
       "614             0.864492\n",
       "615             1.059249\n",
       "\n",
       "[616 rows x 1 columns]"
      ]
     },
     "execution_count": 14,
     "metadata": {},
     "output_type": "execute_result"
    }
   ],
   "source": [
    "# THIS CELL IS NOT EXPORTED - free notebook cell for testing purposes\n",
    "df, param = stage(\"internet_traffic_forecast_model\")\n",
    "print(df[0:1])\n",
    "print(df.shape)\n",
    "print(str(param))\n",
    "df[param['options']['split_by']]"
   ]
  },
  {
   "cell_type": "markdown",
   "metadata": {},
   "source": [
    "## Stage 2 - create and initialize a model"
   ]
  },
  {
   "cell_type": "code",
   "execution_count": 5,
   "metadata": {
    "deletable": false,
    "name": "mltkc_init"
   },
   "outputs": [],
   "source": [
    "# initialize the model\n",
    "# params: data and parameters\n",
    "# returns the model object which will be used as a reference to call fit, apply and summary subsequently\n",
    "def init(df,param):\n",
    "    # Collect variables\n",
    "    model_batch_size = 3\n",
    "    n_features = 1\n",
    "    hidden_layers = 50\n",
    "    activation_func = 'sigmoid'\n",
    "    if 'options' in param:\n",
    "        if 'params' in param['options']:\n",
    "            if 'batch_size' in param['options']['params']:\n",
    "                model_batch_size = int(param['options']['params']['batch_size'])\n",
    "            if 'hidden_layers' in param['options']['params']:\n",
    "                hidden_layers = int(param['options']['params']['hidden_layers'])\n",
    "            if 'activation' in param['options']['params']:\n",
    "                activation_func = param['options']['params']['activation']\n",
    "    \n",
    "    # define model\n",
    "    model = keras.Sequential()\n",
    "    model.add(keras.layers.LSTM(hidden_layers, activation=activation_func, input_shape=(model_batch_size, n_features)))\n",
    "    model.add(keras.layers.Dense(n_features))\n",
    "    model.compile(optimizer='adam', loss='mse')\n",
    "    return model"
   ]
  },
  {
   "cell_type": "code",
   "execution_count": 6,
   "metadata": {
    "scrolled": true
   },
   "outputs": [
    {
     "name": "stdout",
     "output_type": "stream",
     "text": [
      "Model: \"sequential\"\n",
      "_________________________________________________________________\n",
      " Layer (type)                Output Shape              Param #   \n",
      "=================================================================\n",
      " lstm (LSTM)                 (None, 50)                10400     \n",
      "                                                                 \n",
      " dense (Dense)               (None, 1)                 51        \n",
      "                                                                 \n",
      "=================================================================\n",
      "Total params: 10451 (40.82 KB)\n",
      "Trainable params: 10451 (40.82 KB)\n",
      "Non-trainable params: 0 (0.00 Byte)\n",
      "_________________________________________________________________\n",
      "None\n"
     ]
    }
   ],
   "source": [
    "model = init(df,param)\n",
    "print(model.summary())"
   ]
  },
  {
   "cell_type": "markdown",
   "metadata": {},
   "source": [
    "## Stage 3 - fit the model"
   ]
  },
  {
   "cell_type": "code",
   "execution_count": 7,
   "metadata": {
    "deletable": false,
    "name": "mltkc_fit"
   },
   "outputs": [],
   "source": [
    "# returns a fit info json object\n",
    "# split a univariate sequence into samples\n",
    "def split_sequence(sequence, batch_size):\n",
    "    \n",
    "    X, y = list(), list()\n",
    "    for i in range(len(sequence)):\n",
    "        # find the end of this pattern\n",
    "        end_ix = i + batch_size\n",
    "        # check if we are beyond the sequence\n",
    "        if end_ix > len(sequence)-1:\n",
    "            break\n",
    "        # gather input and output parts of the pattern\n",
    "        seq_x, seq_y = sequence[i:end_ix], sequence[end_ix]\n",
    "        X.append(seq_x)\n",
    "        y.append(seq_y)\n",
    "    return np.array(X), np.array(y)\n",
    "\n",
    "def fit(model,df,param):\n",
    "    returns = {}\n",
    "    \n",
    "    # Collect variables from param file\n",
    "    model_epochs = 10\n",
    "    model_batch_size = 3\n",
    "    holdback = 30\n",
    "    if 'options' in param:\n",
    "        if 'params' in param['options']:\n",
    "            if 'epochs' in param['options']['params']:\n",
    "                model_epochs = int(param['options']['params']['epochs'])\n",
    "            if 'batch_size' in param['options']['params']:\n",
    "                model_batch_size = int(param['options']['params']['batch_size'])\n",
    "            if 'holdback' in param['options']['params']:\n",
    "                holdback = int(param['options']['params']['holdback'])\n",
    "    \n",
    "    \n",
    "    # flatten data frame into an array and extract the training set\n",
    "    full_data = df[param['options']['split_by']].values.tolist()\n",
    "    train_set = list(full_data[:len(full_data)-holdback])\n",
    "    \n",
    "    # split data into samples\n",
    "    X, y = split_sequence(train_set, model_batch_size)\n",
    "    # reshape from [samples, timesteps] into [samples, timesteps, features]\n",
    "    n_features = 1\n",
    "    X = X.reshape((X.shape[0], X.shape[1], 1))\n",
    "    \n",
    "\n",
    "    # connect model training to tensorboard\n",
    "    log_dir=\"/srv/notebooks/logs/fit/\" + datetime.datetime.now().strftime(\"%Y%m%d-%H%M%S\")\n",
    "    tensorboard_callback = tf.keras.callbacks.TensorBoard(log_dir=log_dir, histogram_freq=1)\n",
    "    \n",
    "    # run the training\n",
    "    returns['fit_history'] = model.fit(x=X,\n",
    "                                       y=y, \n",
    "                                       verbose=2, \n",
    "                                       epochs=model_epochs,\n",
    "                                       shuffle=False)\n",
    "    # memorize parameters\n",
    "    returns['model_epochs'] = model_epochs\n",
    "    returns['model_batch_size'] = model_batch_size\n",
    "    returns['model_loss_acc'] = model.evaluate(x = X, y = y)\n",
    "    return returns"
   ]
  },
  {
   "cell_type": "code",
   "execution_count": 8,
   "metadata": {},
   "outputs": [
    {
     "name": "stdout",
     "output_type": "stream",
     "text": [
      "Epoch 1/100\n",
      "19/19 - 1s - loss: 0.6061 - 1s/epoch - 75ms/step\n",
      "Epoch 2/100\n",
      "19/19 - 0s - loss: 0.3339 - 125ms/epoch - 7ms/step\n",
      "Epoch 3/100\n",
      "19/19 - 0s - loss: 0.3134 - 90ms/epoch - 5ms/step\n",
      "Epoch 4/100\n",
      "19/19 - 0s - loss: 0.2943 - 81ms/epoch - 4ms/step\n",
      "Epoch 5/100\n",
      "19/19 - 0s - loss: 0.2801 - 82ms/epoch - 4ms/step\n",
      "Epoch 6/100\n",
      "19/19 - 0s - loss: 0.2657 - 62ms/epoch - 3ms/step\n",
      "Epoch 7/100\n",
      "19/19 - 0s - loss: 0.2519 - 57ms/epoch - 3ms/step\n",
      "Epoch 8/100\n",
      "19/19 - 0s - loss: 0.2386 - 54ms/epoch - 3ms/step\n",
      "Epoch 9/100\n",
      "19/19 - 0s - loss: 0.2258 - 56ms/epoch - 3ms/step\n",
      "Epoch 10/100\n",
      "19/19 - 0s - loss: 0.2136 - 59ms/epoch - 3ms/step\n",
      "Epoch 11/100\n",
      "19/19 - 0s - loss: 0.2022 - 109ms/epoch - 6ms/step\n",
      "Epoch 12/100\n",
      "19/19 - 0s - loss: 0.1916 - 70ms/epoch - 4ms/step\n",
      "Epoch 13/100\n",
      "19/19 - 0s - loss: 0.1818 - 56ms/epoch - 3ms/step\n",
      "Epoch 14/100\n",
      "19/19 - 0s - loss: 0.1730 - 57ms/epoch - 3ms/step\n",
      "Epoch 15/100\n",
      "19/19 - 0s - loss: 0.1651 - 58ms/epoch - 3ms/step\n",
      "Epoch 16/100\n",
      "19/19 - 0s - loss: 0.1580 - 74ms/epoch - 4ms/step\n",
      "Epoch 17/100\n",
      "19/19 - 0s - loss: 0.1519 - 65ms/epoch - 3ms/step\n",
      "Epoch 18/100\n",
      "19/19 - 0s - loss: 0.1464 - 68ms/epoch - 4ms/step\n",
      "Epoch 19/100\n",
      "19/19 - 0s - loss: 0.1416 - 56ms/epoch - 3ms/step\n",
      "Epoch 20/100\n",
      "19/19 - 0s - loss: 0.1373 - 57ms/epoch - 3ms/step\n",
      "Epoch 21/100\n",
      "19/19 - 0s - loss: 0.1333 - 55ms/epoch - 3ms/step\n",
      "Epoch 22/100\n",
      "19/19 - 0s - loss: 0.1297 - 55ms/epoch - 3ms/step\n",
      "Epoch 23/100\n",
      "19/19 - 0s - loss: 0.1262 - 53ms/epoch - 3ms/step\n",
      "Epoch 24/100\n",
      "19/19 - 0s - loss: 0.1229 - 55ms/epoch - 3ms/step\n",
      "Epoch 25/100\n",
      "19/19 - 0s - loss: 0.1197 - 52ms/epoch - 3ms/step\n",
      "Epoch 26/100\n",
      "19/19 - 0s - loss: 0.1165 - 52ms/epoch - 3ms/step\n",
      "Epoch 27/100\n",
      "19/19 - 0s - loss: 0.1134 - 55ms/epoch - 3ms/step\n",
      "Epoch 28/100\n",
      "19/19 - 0s - loss: 0.1104 - 62ms/epoch - 3ms/step\n",
      "Epoch 29/100\n",
      "19/19 - 0s - loss: 0.1074 - 61ms/epoch - 3ms/step\n",
      "Epoch 30/100\n",
      "19/19 - 0s - loss: 0.1044 - 61ms/epoch - 3ms/step\n",
      "Epoch 31/100\n",
      "19/19 - 0s - loss: 0.1015 - 74ms/epoch - 4ms/step\n",
      "Epoch 32/100\n",
      "19/19 - 0s - loss: 0.0986 - 51ms/epoch - 3ms/step\n",
      "Epoch 33/100\n",
      "19/19 - 0s - loss: 0.0957 - 52ms/epoch - 3ms/step\n",
      "Epoch 34/100\n",
      "19/19 - 0s - loss: 0.0927 - 50ms/epoch - 3ms/step\n",
      "Epoch 35/100\n",
      "19/19 - 0s - loss: 0.0898 - 51ms/epoch - 3ms/step\n",
      "Epoch 36/100\n",
      "19/19 - 0s - loss: 0.0869 - 53ms/epoch - 3ms/step\n",
      "Epoch 37/100\n",
      "19/19 - 0s - loss: 0.0840 - 51ms/epoch - 3ms/step\n",
      "Epoch 38/100\n",
      "19/19 - 0s - loss: 0.0810 - 51ms/epoch - 3ms/step\n",
      "Epoch 39/100\n",
      "19/19 - 0s - loss: 0.0780 - 50ms/epoch - 3ms/step\n",
      "Epoch 40/100\n",
      "19/19 - 0s - loss: 0.0750 - 51ms/epoch - 3ms/step\n",
      "Epoch 41/100\n",
      "19/19 - 0s - loss: 0.0720 - 67ms/epoch - 4ms/step\n",
      "Epoch 42/100\n",
      "19/19 - 0s - loss: 0.0690 - 51ms/epoch - 3ms/step\n",
      "Epoch 43/100\n",
      "19/19 - 0s - loss: 0.0661 - 49ms/epoch - 3ms/step\n",
      "Epoch 44/100\n",
      "19/19 - 0s - loss: 0.0633 - 59ms/epoch - 3ms/step\n",
      "Epoch 45/100\n",
      "19/19 - 0s - loss: 0.0606 - 75ms/epoch - 4ms/step\n",
      "Epoch 46/100\n",
      "19/19 - 0s - loss: 0.0581 - 64ms/epoch - 3ms/step\n",
      "Epoch 47/100\n",
      "19/19 - 0s - loss: 0.0558 - 49ms/epoch - 3ms/step\n",
      "Epoch 48/100\n",
      "19/19 - 0s - loss: 0.0537 - 49ms/epoch - 3ms/step\n",
      "Epoch 49/100\n",
      "19/19 - 0s - loss: 0.0518 - 53ms/epoch - 3ms/step\n",
      "Epoch 50/100\n",
      "19/19 - 0s - loss: 0.0501 - 49ms/epoch - 3ms/step\n",
      "Epoch 51/100\n",
      "19/19 - 0s - loss: 0.0486 - 51ms/epoch - 3ms/step\n",
      "Epoch 52/100\n",
      "19/19 - 0s - loss: 0.0473 - 50ms/epoch - 3ms/step\n",
      "Epoch 53/100\n",
      "19/19 - 0s - loss: 0.0462 - 51ms/epoch - 3ms/step\n",
      "Epoch 54/100\n",
      "19/19 - 0s - loss: 0.0452 - 51ms/epoch - 3ms/step\n",
      "Epoch 55/100\n",
      "19/19 - 0s - loss: 0.0444 - 49ms/epoch - 3ms/step\n",
      "Epoch 56/100\n",
      "19/19 - 0s - loss: 0.0436 - 63ms/epoch - 3ms/step\n",
      "Epoch 57/100\n",
      "19/19 - 0s - loss: 0.0430 - 50ms/epoch - 3ms/step\n",
      "Epoch 58/100\n",
      "19/19 - 0s - loss: 0.0424 - 52ms/epoch - 3ms/step\n",
      "Epoch 59/100\n",
      "19/19 - 0s - loss: 0.0419 - 50ms/epoch - 3ms/step\n",
      "Epoch 60/100\n",
      "19/19 - 0s - loss: 0.0414 - 56ms/epoch - 3ms/step\n",
      "Epoch 61/100\n",
      "19/19 - 0s - loss: 0.0410 - 56ms/epoch - 3ms/step\n",
      "Epoch 62/100\n",
      "19/19 - 0s - loss: 0.0406 - 58ms/epoch - 3ms/step\n",
      "Epoch 63/100\n",
      "19/19 - 0s - loss: 0.0403 - 60ms/epoch - 3ms/step\n",
      "Epoch 64/100\n",
      "19/19 - 0s - loss: 0.0399 - 55ms/epoch - 3ms/step\n",
      "Epoch 65/100\n",
      "19/19 - 0s - loss: 0.0397 - 59ms/epoch - 3ms/step\n",
      "Epoch 66/100\n",
      "19/19 - 0s - loss: 0.0394 - 53ms/epoch - 3ms/step\n",
      "Epoch 67/100\n",
      "19/19 - 0s - loss: 0.0391 - 50ms/epoch - 3ms/step\n",
      "Epoch 68/100\n",
      "19/19 - 0s - loss: 0.0389 - 50ms/epoch - 3ms/step\n",
      "Epoch 69/100\n",
      "19/19 - 0s - loss: 0.0386 - 51ms/epoch - 3ms/step\n",
      "Epoch 70/100\n",
      "19/19 - 0s - loss: 0.0384 - 52ms/epoch - 3ms/step\n",
      "Epoch 71/100\n",
      "19/19 - 0s - loss: 0.0382 - 53ms/epoch - 3ms/step\n",
      "Epoch 72/100\n",
      "19/19 - 0s - loss: 0.0380 - 80ms/epoch - 4ms/step\n",
      "Epoch 73/100\n",
      "19/19 - 0s - loss: 0.0379 - 55ms/epoch - 3ms/step\n",
      "Epoch 74/100\n",
      "19/19 - 0s - loss: 0.0377 - 56ms/epoch - 3ms/step\n",
      "Epoch 75/100\n",
      "19/19 - 0s - loss: 0.0375 - 56ms/epoch - 3ms/step\n",
      "Epoch 76/100\n",
      "19/19 - 0s - loss: 0.0374 - 55ms/epoch - 3ms/step\n",
      "Epoch 77/100\n",
      "19/19 - 0s - loss: 0.0372 - 61ms/epoch - 3ms/step\n",
      "Epoch 78/100\n",
      "19/19 - 0s - loss: 0.0371 - 57ms/epoch - 3ms/step\n",
      "Epoch 79/100\n",
      "19/19 - 0s - loss: 0.0369 - 56ms/epoch - 3ms/step\n",
      "Epoch 80/100\n",
      "19/19 - 0s - loss: 0.0368 - 59ms/epoch - 3ms/step\n",
      "Epoch 81/100\n",
      "19/19 - 0s - loss: 0.0367 - 53ms/epoch - 3ms/step\n",
      "Epoch 82/100\n",
      "19/19 - 0s - loss: 0.0365 - 53ms/epoch - 3ms/step\n",
      "Epoch 83/100\n",
      "19/19 - 0s - loss: 0.0364 - 56ms/epoch - 3ms/step\n",
      "Epoch 84/100\n",
      "19/19 - 0s - loss: 0.0363 - 52ms/epoch - 3ms/step\n",
      "Epoch 85/100\n",
      "19/19 - 0s - loss: 0.0362 - 52ms/epoch - 3ms/step\n",
      "Epoch 86/100\n",
      "19/19 - 0s - loss: 0.0361 - 51ms/epoch - 3ms/step\n",
      "Epoch 87/100\n",
      "19/19 - 0s - loss: 0.0360 - 50ms/epoch - 3ms/step\n",
      "Epoch 88/100\n",
      "19/19 - 0s - loss: 0.0359 - 51ms/epoch - 3ms/step\n",
      "Epoch 89/100\n",
      "19/19 - 0s - loss: 0.0358 - 53ms/epoch - 3ms/step\n",
      "Epoch 90/100\n",
      "19/19 - 0s - loss: 0.0357 - 50ms/epoch - 3ms/step\n",
      "Epoch 91/100\n",
      "19/19 - 0s - loss: 0.0356 - 52ms/epoch - 3ms/step\n",
      "Epoch 92/100\n",
      "19/19 - 0s - loss: 0.0355 - 55ms/epoch - 3ms/step\n",
      "Epoch 93/100\n",
      "19/19 - 0s - loss: 0.0354 - 50ms/epoch - 3ms/step\n",
      "Epoch 94/100\n",
      "19/19 - 0s - loss: 0.0354 - 52ms/epoch - 3ms/step\n",
      "Epoch 95/100\n",
      "19/19 - 0s - loss: 0.0353 - 52ms/epoch - 3ms/step\n",
      "Epoch 96/100\n",
      "19/19 - 0s - loss: 0.0352 - 50ms/epoch - 3ms/step\n",
      "Epoch 97/100\n",
      "19/19 - 0s - loss: 0.0351 - 54ms/epoch - 3ms/step\n",
      "Epoch 98/100\n",
      "19/19 - 0s - loss: 0.0350 - 51ms/epoch - 3ms/step\n",
      "Epoch 99/100\n",
      "19/19 - 0s - loss: 0.0350 - 49ms/epoch - 3ms/step\n",
      "Epoch 100/100\n",
      "19/19 - 0s - loss: 0.0349 - 66ms/epoch - 3ms/step\n",
      "19/19 [==============================] - 0s 2ms/step - loss: 0.0346\n",
      "0.03462288901209831\n"
     ]
    }
   ],
   "source": [
    "returns = fit(model,df,param)\n",
    "print(returns['model_loss_acc'])"
   ]
  },
  {
   "cell_type": "markdown",
   "metadata": {},
   "source": [
    "## Stage 4 - apply the model"
   ]
  },
  {
   "cell_type": "code",
   "execution_count": 9,
   "metadata": {
    "deletable": false,
    "name": "mltkc_apply"
   },
   "outputs": [],
   "source": [
    "def apply(model,df,param):\n",
    "    \n",
    "    # Collect variables\n",
    "    model_batch_size = 3\n",
    "    future_steps = 30\n",
    "    holdback = 30\n",
    "    if 'options' in param:\n",
    "        if 'params' in param['options']:\n",
    "            if 'batch_size' in param['options']['params']:\n",
    "                model_batch_size = int(param['options']['params']['batch_size'])\n",
    "            if 'future_steps' in param['options']['params']:\n",
    "                future_steps = int(param['options']['params']['future_steps'])\n",
    "            if 'holdback' in param['options']['params']:\n",
    "                holdback = int(param['options']['params']['holdback'])\n",
    "    \n",
    "    # select training data\n",
    "    X = df[param['options']['split_by']].values\n",
    "\n",
    "    test_set = X[len(X)-holdback-model_batch_size:]\n",
    "    predictions = list(X[:len(X)-holdback])\n",
    "    # generate forecast\n",
    "    for i in range(0, holdback+future_steps):\n",
    "        if i<holdback:\n",
    "            X_batch = test_set[i:i+model_batch_size].reshape(1,model_batch_size,1)\n",
    "            y_pred = model.predict(x = X_batch, verbose=1)\n",
    "            predictions.append(list(y_pred[0]))\n",
    "        else:\n",
    "            X_batch = test_set[i:i+model_batch_size].reshape(1,model_batch_size,1)\n",
    "            y_pred = model.predict(x = X_batch, verbose=1)\n",
    "            predictions.append(list(y_pred[0]))\n",
    "            test_set = np.append(test_set, y_pred[0])\n",
    "            \n",
    "    # append predictions to time series to return a data frame\n",
    "    return predictions"
   ]
  },
  {
   "cell_type": "code",
   "execution_count": 10,
   "metadata": {},
   "outputs": [
    {
     "name": "stdout",
     "output_type": "stream",
     "text": [
      "1/1 [==============================] - 0s 146ms/step\n",
      "1/1 [==============================] - 0s 18ms/step\n",
      "1/1 [==============================] - 0s 17ms/step\n",
      "1/1 [==============================] - 0s 17ms/step\n",
      "1/1 [==============================] - 0s 17ms/step\n",
      "1/1 [==============================] - 0s 17ms/step\n",
      "1/1 [==============================] - 0s 17ms/step\n",
      "1/1 [==============================] - 0s 17ms/step\n",
      "1/1 [==============================] - 0s 17ms/step\n",
      "1/1 [==============================] - 0s 18ms/step\n",
      "1/1 [==============================] - 0s 17ms/step\n",
      "1/1 [==============================] - 0s 18ms/step\n",
      "1/1 [==============================] - 0s 17ms/step\n",
      "1/1 [==============================] - 0s 17ms/step\n",
      "1/1 [==============================] - 0s 17ms/step\n",
      "1/1 [==============================] - 0s 17ms/step\n",
      "1/1 [==============================] - 0s 17ms/step\n",
      "1/1 [==============================] - 0s 17ms/step\n",
      "1/1 [==============================] - 0s 17ms/step\n",
      "1/1 [==============================] - 0s 17ms/step\n",
      "1/1 [==============================] - 0s 18ms/step\n",
      "1/1 [==============================] - 0s 17ms/step\n",
      "1/1 [==============================] - 0s 17ms/step\n",
      "1/1 [==============================] - 0s 17ms/step\n",
      "1/1 [==============================] - 0s 17ms/step\n",
      "1/1 [==============================] - 0s 17ms/step\n",
      "1/1 [==============================] - 0s 17ms/step\n",
      "1/1 [==============================] - 0s 17ms/step\n",
      "1/1 [==============================] - 0s 17ms/step\n",
      "1/1 [==============================] - 0s 17ms/step\n",
      "1/1 [==============================] - 0s 17ms/step\n",
      "1/1 [==============================] - 0s 17ms/step\n",
      "1/1 [==============================] - 0s 17ms/step\n",
      "1/1 [==============================] - 0s 17ms/step\n",
      "1/1 [==============================] - 0s 17ms/step\n",
      "1/1 [==============================] - 0s 17ms/step\n",
      "1/1 [==============================] - 0s 16ms/step\n",
      "1/1 [==============================] - 0s 17ms/step\n",
      "1/1 [==============================] - 0s 17ms/step\n",
      "1/1 [==============================] - 0s 16ms/step\n",
      "1/1 [==============================] - 0s 17ms/step\n",
      "1/1 [==============================] - 0s 17ms/step\n",
      "1/1 [==============================] - 0s 16ms/step\n",
      "1/1 [==============================] - 0s 17ms/step\n",
      "1/1 [==============================] - 0s 17ms/step\n",
      "1/1 [==============================] - 0s 17ms/step\n",
      "1/1 [==============================] - 0s 16ms/step\n",
      "1/1 [==============================] - 0s 16ms/step\n",
      "1/1 [==============================] - 0s 16ms/step\n",
      "1/1 [==============================] - 0s 16ms/step\n",
      "1/1 [==============================] - 0s 16ms/step\n",
      "1/1 [==============================] - 0s 16ms/step\n",
      "1/1 [==============================] - 0s 16ms/step\n",
      "1/1 [==============================] - 0s 17ms/step\n",
      "1/1 [==============================] - 0s 17ms/step\n",
      "1/1 [==============================] - 0s 16ms/step\n",
      "1/1 [==============================] - 0s 16ms/step\n",
      "1/1 [==============================] - 0s 17ms/step\n",
      "1/1 [==============================] - 0s 16ms/step\n",
      "1/1 [==============================] - 0s 16ms/step\n",
      "646\n"
     ]
    },
    {
     "data": {
      "text/plain": [
       "[array([0.328399]),\n",
       " array([0.18502462]),\n",
       " array([-9.24839172e-05]),\n",
       " [-0.18433131],\n",
       " [-0.40613493],\n",
       " [-0.3430692],\n",
       " [-0.18706305],\n",
       " [0.22450112],\n",
       " [1.1597309],\n",
       " [1.049991],\n",
       " [0.8072523],\n",
       " [0.8397156],\n",
       " [0.28609508],\n",
       " [-0.25401887],\n",
       " [-0.092605375],\n",
       " [-0.22912826],\n",
       " [-0.40081954],\n",
       " [-0.32573462],\n",
       " [-0.14790122],\n",
       " [0.4640284],\n",
       " [1.1799085],\n",
       " [0.8323026],\n",
       " [0.8625082],\n",
       " [0.6905907],\n",
       " [0.1306457],\n",
       " [-0.21588266],\n",
       " [-0.14817986],\n",
       " [-0.28637725],\n",
       " [-0.390876],\n",
       " [-0.24938466],\n",
       " [-0.10019874],\n",
       " [0.5665841],\n",
       " [1.1777023],\n",
       " [0.9197202],\n",
       " [0.6521806],\n",
       " [0.34945074],\n",
       " [0.043898452],\n",
       " [-0.23721667],\n",
       " [-0.44206655],\n",
       " [-0.48465672],\n",
       " [-0.2919399],\n",
       " [0.10340036],\n",
       " [0.5186891],\n",
       " [0.71201044],\n",
       " [0.6396202],\n",
       " [0.42244515],\n",
       " [0.15298317],\n",
       " [-0.11898451],\n",
       " [-0.3463007],\n",
       " [-0.45795026],\n",
       " [-0.37327763],\n",
       " [-0.074530296],\n",
       " [0.32684472],\n",
       " [0.61068285],\n",
       " [0.63792217],\n",
       " [0.4754449],\n",
       " [0.22911565],\n",
       " [-0.037797473],\n",
       " [-0.2783923],\n",
       " [-0.4301117],\n",
       " [-0.41228074],\n",
       " [-0.18069844],\n",
       " [0.19766054]]"
      ]
     },
     "execution_count": 10,
     "metadata": {},
     "output_type": "execute_result"
    }
   ],
   "source": [
    "training_instance = apply(model,df,param)\n",
    "print(len(training_instance))\n",
    "training_instance[583:]"
   ]
  },
  {
   "cell_type": "markdown",
   "metadata": {},
   "source": [
    "## Stage 5 - save the model"
   ]
  },
  {
   "cell_type": "code",
   "execution_count": 11,
   "metadata": {
    "deletable": false,
    "name": "mltkc_save"
   },
   "outputs": [],
   "source": [
    "# save model to name in expected convention \"<algo_name>_<model_name>.h5\"\n",
    "def save(model,name):\n",
    "    # save keras model to keras file\n",
    "    model.save(MODEL_DIRECTORY + name + \".keras\")\n",
    "    return model"
   ]
  },
  {
   "cell_type": "markdown",
   "metadata": {},
   "source": [
    "## Stage 6 - load the model"
   ]
  },
  {
   "cell_type": "code",
   "execution_count": 12,
   "metadata": {
    "deletable": false,
    "name": "mltkc_load"
   },
   "outputs": [],
   "source": [
    "# load model from name in expected convention \"<algo_name>_<model_name>.h5\"\n",
    "def load(name):\n",
    "    model = keras.models.load_model(MODEL_DIRECTORY + name + \".keras\")\n",
    "    return model"
   ]
  },
  {
   "cell_type": "markdown",
   "metadata": {},
   "source": [
    "## Stage 7 - provide a summary of the model"
   ]
  },
  {
   "cell_type": "code",
   "execution_count": 13,
   "metadata": {
    "deletable": false,
    "name": "mltkc_summary"
   },
   "outputs": [],
   "source": [
    "# return model summary\n",
    "def summary(model=None):\n",
    "    returns = {\"version\": {\"tensorflow\": tf.__version__, \"keras\": keras.__version__} }\n",
    "    if model is not None:\n",
    "        # Save keras model summary to string:\n",
    "        s = []\n",
    "        model.summary(print_fn=lambda x: s.append(x+'\\n'))\n",
    "        returns[\"summary\"] = ''.join(s)\n",
    "    return returns"
   ]
  },
  {
   "cell_type": "markdown",
   "metadata": {},
   "source": [
    "## End of Stages\n",
    "All subsequent cells are not tagged and can be used for further freeform code"
   ]
  },
  {
   "cell_type": "code",
   "execution_count": null,
   "metadata": {},
   "outputs": [],
   "source": []
  }
 ],
 "metadata": {
  "kernelspec": {
   "display_name": "Python 3 (ipykernel)",
   "language": "python",
   "name": "python3"
  },
  "language_info": {
   "codemirror_mode": {
    "name": "ipython",
    "version": 3
   },
   "file_extension": ".py",
   "mimetype": "text/x-python",
   "name": "python",
   "nbconvert_exporter": "python",
   "pygments_lexer": "ipython3",
   "version": "3.9.13"
  }
 },
 "nbformat": 4,
 "nbformat_minor": 4
}
