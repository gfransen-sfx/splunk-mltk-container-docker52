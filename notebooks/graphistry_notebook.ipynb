{
 "cells": [
  {
   "cell_type": "markdown",
   "metadata": {},
   "source": [
    "# Splunk App for Data Science and Deep Learning - Graphistry Notebook for Graph Exploration"
   ]
  },
  {
   "cell_type": "markdown",
   "metadata": {},
   "source": [
    "This notebook contains an example how to connect to graphistry for advanced graph explorations. Please note that this notebook is more suited for ad hoc investigations on Splunk data. Therefore the operationalization functions for fit, apply and summary are intentionally left empty but you can fill and use them as shown in most other DSDL notebook examples. More information about graphistry: https://www.graphistry.com/"
   ]
  },
  {
   "cell_type": "markdown",
   "metadata": {},
   "source": [
    "Note: By default every time you save this notebook the cells are exported into a python module which is then invoked by Splunk MLTK commands like <code> | fit ... | apply ... | summary </code>. Please read the Model Development Guide in the DSDL app docs for more information: https://docs.splunk.com/Documentation/DSDL"
   ]
  },
  {
   "cell_type": "markdown",
   "metadata": {},
   "source": [
    "## Stage 0 - import libraries\n",
    "At stage 0 we define all imports necessary to run our subsequent code depending on various libraries."
   ]
  },
  {
   "cell_type": "code",
   "execution_count": 13,
   "metadata": {
    "deletable": false,
    "name": "mltkc_import"
   },
   "outputs": [],
   "source": [
    "# this definition exposes all python module imports that should be available in all subsequent commands\n",
    "import json\n",
    "import numpy as np\n",
    "import pandas as pd\n",
    "import networkx as nx\n",
    "import graphistry\n",
    "# please use your graphistry credentials to use their services.\n",
    "# security note: your graph data is sent to graphistry hub, so please ensure all your data security and compliance is in sync with this operation\n",
    "graphistry.register(api=3, protocol=\"https\", server=\"hub.graphistry.com\", username=\"username\", password=\"XXXXXXXXX\")    \n",
    "\n",
    "# ...\n",
    "# global constants\n",
    "MODEL_DIRECTORY = \"/srv/app/model/data/\""
   ]
  },
  {
   "cell_type": "code",
   "execution_count": 14,
   "metadata": {},
   "outputs": [
    {
     "name": "stdout",
     "output_type": "stream",
     "text": [
      "numpy version: 1.20.3\n",
      "pandas version: 1.3.5\n",
      "networkx version: 2.6.3\n",
      "graphistry 0.28.7\n"
     ]
    }
   ],
   "source": [
    "# THIS CELL IS NOT EXPORTED - free notebook cell for testing or development purposes\n",
    "print(\"numpy version: \" + np.__version__)\n",
    "print(\"pandas version: \" + pd.__version__)\n",
    "print(\"networkx version: \" + nx.__version__)\n",
    "print('graphistry', graphistry.__version__)"
   ]
  },
  {
   "cell_type": "markdown",
   "metadata": {},
   "source": [
    "## Stage 1 - get a data sample from Splunk\n",
    "\n",
    "### Option 1 push data from Splunk\n",
    "In Splunk run a search to pipe a dataset into your notebook environment. Note: mode=stage is used in the | fit command to do this."
   ]
  },
  {
   "cell_type": "markdown",
   "metadata": {},
   "source": [
    "| inputlookup firewall_traffic.csv<br>\n",
    "| fit MLTKContainer mode=stage algo=graphistry_notebook * into app:graphistry_firewall_traffic"
   ]
  },
  {
   "cell_type": "markdown",
   "metadata": {},
   "source": [
    "After you run this search your data set sample is available as a csv inside the container to develop your model. The name is taken from the into keyword (\"barebone_model\" in the example above) or set to \"default\" if no into keyword is present. This step is intended to work with a subset of your data to create your custom model."
   ]
  },
  {
   "cell_type": "code",
   "execution_count": 15,
   "metadata": {
    "deletable": false,
    "name": "mltkc_stage"
   },
   "outputs": [],
   "source": [
    "# this cell is not executed from MLTK and should only be used for staging data into the notebook environment\n",
    "def stage(name):\n",
    "    with open(\"data/\"+name+\".csv\", 'r') as f:\n",
    "        df = pd.read_csv(f)\n",
    "    with open(\"data/\"+name+\".json\", 'r') as f:\n",
    "        param = json.load(f)\n",
    "    return df, param"
   ]
  },
  {
   "cell_type": "code",
   "execution_count": 16,
   "metadata": {},
   "outputs": [],
   "source": [
    "# THIS CELL IS NOT EXPORTED - free notebook cell for testing or development purposes\n",
    "df, param = stage(\"graphistry_firewall_traffic\")"
   ]
  },
  {
   "cell_type": "code",
   "execution_count": 17,
   "metadata": {},
   "outputs": [
    {
     "data": {
      "text/html": [
       "<div>\n",
       "<style scoped>\n",
       "    .dataframe tbody tr th:only-of-type {\n",
       "        vertical-align: middle;\n",
       "    }\n",
       "\n",
       "    .dataframe tbody tr th {\n",
       "        vertical-align: top;\n",
       "    }\n",
       "\n",
       "    .dataframe thead th {\n",
       "        text-align: right;\n",
       "    }\n",
       "</style>\n",
       "<table border=\"1\" class=\"dataframe\">\n",
       "  <thead>\n",
       "    <tr style=\"text-align: right;\">\n",
       "      <th></th>\n",
       "      <th>receive_time</th>\n",
       "      <th>serial_number</th>\n",
       "      <th>session_id</th>\n",
       "      <th>src_ip</th>\n",
       "      <th>dst_ip</th>\n",
       "      <th>bytes_sent</th>\n",
       "      <th>bytes_received</th>\n",
       "      <th>packets_sent</th>\n",
       "      <th>packets_received</th>\n",
       "      <th>dest_port</th>\n",
       "      <th>src_port</th>\n",
       "      <th>used_by_malware</th>\n",
       "      <th>has_known_vulnerability</th>\n",
       "    </tr>\n",
       "  </thead>\n",
       "  <tbody>\n",
       "    <tr>\n",
       "      <th>0</th>\n",
       "      <td>10/7/15 23:59</td>\n",
       "      <td>sn_1606046662</td>\n",
       "      <td>sid_14787</td>\n",
       "      <td>138.52.78.14</td>\n",
       "      <td>73.147.88.91</td>\n",
       "      <td>85</td>\n",
       "      <td>170</td>\n",
       "      <td>1</td>\n",
       "      <td>1</td>\n",
       "      <td>p_53</td>\n",
       "      <td>p_57375</td>\n",
       "      <td>yes</td>\n",
       "      <td>yes</td>\n",
       "    </tr>\n",
       "    <tr>\n",
       "      <th>1</th>\n",
       "      <td>10/7/15 23:59</td>\n",
       "      <td>sn_1606046662</td>\n",
       "      <td>sid_1838</td>\n",
       "      <td>205.77.248.110</td>\n",
       "      <td>73.147.88.91</td>\n",
       "      <td>75</td>\n",
       "      <td>107</td>\n",
       "      <td>1</td>\n",
       "      <td>1</td>\n",
       "      <td>p_53</td>\n",
       "      <td>p_6289</td>\n",
       "      <td>yes</td>\n",
       "      <td>yes</td>\n",
       "    </tr>\n",
       "    <tr>\n",
       "      <th>2</th>\n",
       "      <td>10/7/15 23:59</td>\n",
       "      <td>sn_1606046662</td>\n",
       "      <td>sid_17519</td>\n",
       "      <td>44.165.220.174</td>\n",
       "      <td>27.90.179.152</td>\n",
       "      <td>76</td>\n",
       "      <td>108</td>\n",
       "      <td>1</td>\n",
       "      <td>1</td>\n",
       "      <td>p_53</td>\n",
       "      <td>p_45700</td>\n",
       "      <td>yes</td>\n",
       "      <td>yes</td>\n",
       "    </tr>\n",
       "    <tr>\n",
       "      <th>3</th>\n",
       "      <td>10/7/15 23:59</td>\n",
       "      <td>sn_1606046662</td>\n",
       "      <td>sid_36258</td>\n",
       "      <td>227.45.212.95</td>\n",
       "      <td>73.147.88.91</td>\n",
       "      <td>85</td>\n",
       "      <td>170</td>\n",
       "      <td>1</td>\n",
       "      <td>1</td>\n",
       "      <td>p_53</td>\n",
       "      <td>p_33298</td>\n",
       "      <td>yes</td>\n",
       "      <td>yes</td>\n",
       "    </tr>\n",
       "    <tr>\n",
       "      <th>4</th>\n",
       "      <td>10/7/15 23:59</td>\n",
       "      <td>sn_1606046662</td>\n",
       "      <td>sid_48945</td>\n",
       "      <td>40.149.50.140</td>\n",
       "      <td>226.58.156.109</td>\n",
       "      <td>1872</td>\n",
       "      <td>4620</td>\n",
       "      <td>19</td>\n",
       "      <td>18</td>\n",
       "      <td>p_443</td>\n",
       "      <td>p_55362</td>\n",
       "      <td>no</td>\n",
       "      <td>no</td>\n",
       "    </tr>\n",
       "    <tr>\n",
       "      <th>...</th>\n",
       "      <td>...</td>\n",
       "      <td>...</td>\n",
       "      <td>...</td>\n",
       "      <td>...</td>\n",
       "      <td>...</td>\n",
       "      <td>...</td>\n",
       "      <td>...</td>\n",
       "      <td>...</td>\n",
       "      <td>...</td>\n",
       "      <td>...</td>\n",
       "      <td>...</td>\n",
       "      <td>...</td>\n",
       "      <td>...</td>\n",
       "    </tr>\n",
       "    <tr>\n",
       "      <th>98938</th>\n",
       "      <td>10/7/15 23:53</td>\n",
       "      <td>sn_0009C101998</td>\n",
       "      <td>sid_34900121</td>\n",
       "      <td>64.73.95.187</td>\n",
       "      <td>216.148.42.38</td>\n",
       "      <td>482</td>\n",
       "      <td>66</td>\n",
       "      <td>3</td>\n",
       "      <td>1</td>\n",
       "      <td>p_8089</td>\n",
       "      <td>p_60076</td>\n",
       "      <td>yes</td>\n",
       "      <td>yes</td>\n",
       "    </tr>\n",
       "    <tr>\n",
       "      <th>98939</th>\n",
       "      <td>10/7/15 23:53</td>\n",
       "      <td>sn_0009C101998</td>\n",
       "      <td>sid_389256</td>\n",
       "      <td>109.197.174.142</td>\n",
       "      <td>42.93.13.188</td>\n",
       "      <td>570</td>\n",
       "      <td>570</td>\n",
       "      <td>5</td>\n",
       "      <td>5</td>\n",
       "      <td>p_0</td>\n",
       "      <td>p_0</td>\n",
       "      <td>no</td>\n",
       "      <td>yes</td>\n",
       "    </tr>\n",
       "    <tr>\n",
       "      <th>98940</th>\n",
       "      <td>10/7/15 23:53</td>\n",
       "      <td>sn_0009C101998</td>\n",
       "      <td>sid_444276</td>\n",
       "      <td>109.197.174.142</td>\n",
       "      <td>20.205.92.188</td>\n",
       "      <td>570</td>\n",
       "      <td>570</td>\n",
       "      <td>5</td>\n",
       "      <td>5</td>\n",
       "      <td>p_0</td>\n",
       "      <td>p_0</td>\n",
       "      <td>no</td>\n",
       "      <td>yes</td>\n",
       "    </tr>\n",
       "    <tr>\n",
       "      <th>98941</th>\n",
       "      <td>10/7/15 23:53</td>\n",
       "      <td>sn_0009C101998</td>\n",
       "      <td>sid_61729</td>\n",
       "      <td>109.197.174.142</td>\n",
       "      <td>143.232.70.184</td>\n",
       "      <td>570</td>\n",
       "      <td>570</td>\n",
       "      <td>5</td>\n",
       "      <td>5</td>\n",
       "      <td>p_0</td>\n",
       "      <td>p_0</td>\n",
       "      <td>no</td>\n",
       "      <td>yes</td>\n",
       "    </tr>\n",
       "    <tr>\n",
       "      <th>98942</th>\n",
       "      <td>10/7/15 23:53</td>\n",
       "      <td>sn_0009C101998</td>\n",
       "      <td>sid_138461</td>\n",
       "      <td>109.197.174.142</td>\n",
       "      <td>99.4.3.180</td>\n",
       "      <td>570</td>\n",
       "      <td>570</td>\n",
       "      <td>5</td>\n",
       "      <td>5</td>\n",
       "      <td>p_0</td>\n",
       "      <td>p_0</td>\n",
       "      <td>no</td>\n",
       "      <td>yes</td>\n",
       "    </tr>\n",
       "  </tbody>\n",
       "</table>\n",
       "<p>98943 rows × 13 columns</p>\n",
       "</div>"
      ],
      "text/plain": [
       "        receive_time   serial_number    session_id           src_ip  \\\n",
       "0      10/7/15 23:59   sn_1606046662     sid_14787     138.52.78.14   \n",
       "1      10/7/15 23:59   sn_1606046662      sid_1838   205.77.248.110   \n",
       "2      10/7/15 23:59   sn_1606046662     sid_17519   44.165.220.174   \n",
       "3      10/7/15 23:59   sn_1606046662     sid_36258    227.45.212.95   \n",
       "4      10/7/15 23:59   sn_1606046662     sid_48945    40.149.50.140   \n",
       "...              ...             ...           ...              ...   \n",
       "98938  10/7/15 23:53  sn_0009C101998  sid_34900121     64.73.95.187   \n",
       "98939  10/7/15 23:53  sn_0009C101998    sid_389256  109.197.174.142   \n",
       "98940  10/7/15 23:53  sn_0009C101998    sid_444276  109.197.174.142   \n",
       "98941  10/7/15 23:53  sn_0009C101998     sid_61729  109.197.174.142   \n",
       "98942  10/7/15 23:53  sn_0009C101998    sid_138461  109.197.174.142   \n",
       "\n",
       "               dst_ip  bytes_sent  bytes_received  packets_sent  \\\n",
       "0        73.147.88.91          85             170             1   \n",
       "1        73.147.88.91          75             107             1   \n",
       "2       27.90.179.152          76             108             1   \n",
       "3        73.147.88.91          85             170             1   \n",
       "4      226.58.156.109        1872            4620            19   \n",
       "...               ...         ...             ...           ...   \n",
       "98938   216.148.42.38         482              66             3   \n",
       "98939    42.93.13.188         570             570             5   \n",
       "98940   20.205.92.188         570             570             5   \n",
       "98941  143.232.70.184         570             570             5   \n",
       "98942      99.4.3.180         570             570             5   \n",
       "\n",
       "       packets_received dest_port src_port used_by_malware  \\\n",
       "0                     1      p_53  p_57375             yes   \n",
       "1                     1      p_53   p_6289             yes   \n",
       "2                     1      p_53  p_45700             yes   \n",
       "3                     1      p_53  p_33298             yes   \n",
       "4                    18     p_443  p_55362              no   \n",
       "...                 ...       ...      ...             ...   \n",
       "98938                 1    p_8089  p_60076             yes   \n",
       "98939                 5       p_0      p_0              no   \n",
       "98940                 5       p_0      p_0              no   \n",
       "98941                 5       p_0      p_0              no   \n",
       "98942                 5       p_0      p_0              no   \n",
       "\n",
       "      has_known_vulnerability  \n",
       "0                         yes  \n",
       "1                         yes  \n",
       "2                         yes  \n",
       "3                         yes  \n",
       "4                          no  \n",
       "...                       ...  \n",
       "98938                     yes  \n",
       "98939                     yes  \n",
       "98940                     yes  \n",
       "98941                     yes  \n",
       "98942                     yes  \n",
       "\n",
       "[98943 rows x 13 columns]"
      ]
     },
     "execution_count": 17,
     "metadata": {},
     "output_type": "execute_result"
    }
   ],
   "source": [
    "df"
   ]
  },
  {
   "cell_type": "markdown",
   "metadata": {},
   "source": [
    "### Option 2 - interactively get a data sample from Splunk\n",
    "Note you need to setup a splunk access token and configure the DSDL app to use this functionality"
   ]
  },
  {
   "cell_type": "code",
   "execution_count": 8,
   "metadata": {},
   "outputs": [],
   "source": [
    "import libs.SplunkSearch as SplunkSearch"
   ]
  },
  {
   "cell_type": "code",
   "execution_count": 9,
   "metadata": {},
   "outputs": [
    {
     "data": {
      "application/vnd.jupyter.widget-view+json": {
       "model_id": "f22299250dbb47fea7cb82500d29c3d2",
       "version_major": 2,
       "version_minor": 0
      },
      "text/plain": [
       "VBox(children=(HBox(children=(Textarea(value='| inputlookup firewall_traffic.csv\\n| fit MLTKContainer mode=sta…"
      ]
     },
     "metadata": {},
     "output_type": "display_data"
    }
   ],
   "source": [
    "search = SplunkSearch.SplunkSearch(search='| inputlookup firewall_traffic.csv\\n| fit MLTKContainer mode=stage algo=graphistry_notebook * into app:graphistry_firewall_traffic')"
   ]
  },
  {
   "cell_type": "code",
   "execution_count": 19,
   "metadata": {},
   "outputs": [
    {
     "data": {
      "text/html": [
       "<div>\n",
       "<style scoped>\n",
       "    .dataframe tbody tr th:only-of-type {\n",
       "        vertical-align: middle;\n",
       "    }\n",
       "\n",
       "    .dataframe tbody tr th {\n",
       "        vertical-align: top;\n",
       "    }\n",
       "\n",
       "    .dataframe thead th {\n",
       "        text-align: right;\n",
       "    }\n",
       "</style>\n",
       "<table border=\"1\" class=\"dataframe\">\n",
       "  <thead>\n",
       "    <tr style=\"text-align: right;\">\n",
       "      <th></th>\n",
       "    </tr>\n",
       "  </thead>\n",
       "  <tbody>\n",
       "  </tbody>\n",
       "</table>\n",
       "</div>"
      ],
      "text/plain": [
       "Empty DataFrame\n",
       "Columns: []\n",
       "Index: []"
      ]
     },
     "execution_count": 19,
     "metadata": {},
     "output_type": "execute_result"
    }
   ],
   "source": [
    "df2 = search.as_df()\n",
    "df2"
   ]
  },
  {
   "cell_type": "markdown",
   "metadata": {},
   "source": [
    "## Interactive Graph Exploration with Graphistry\n",
    "This section shows a few simple examples how to work with graphistry and the Splunk data received from above interactively in this notebook.\n",
    "### Example 1 - simple graph from defined source and destination pairs"
   ]
  },
  {
   "cell_type": "code",
   "execution_count": 18,
   "metadata": {},
   "outputs": [
    {
     "data": {
      "text/html": [
       "\n",
       "            <iframe id=\"cc902c78-7799-410c-b511-f63576b3ef18\" src=\"https://hub.graphistry.com/graph/graph.html?dataset=9407644ed4ce4a5f8715a23ba046cc05&type=arrow&viztoken=fab9ee4d-63ac-4154-8dee-8a573991bf4c&usertag=cb143e0b-pygraphistry-0.28.7&splashAfter=1675936597&info=true\"\n",
       "                    allowfullscreen=\"true\" webkitallowfullscreen=\"true\" mozallowfullscreen=\"true\"\n",
       "                    oallowfullscreen=\"true\" msallowfullscreen=\"true\"\n",
       "                    style=\"width:100%; height:500px; border: 1px solid #DDD; overflow: hidden\"\n",
       "                    \n",
       "            >\n",
       "            </iframe>\n",
       "        \n",
       "            <script>\n",
       "                try {\n",
       "                  $(\"#cc902c78-7799-410c-b511-f63576b3ef18\").bind('mousewheel', function(e) { e.preventDefault(); });\n",
       "                } catch (e) { console.error('exn catching scroll', e); }\n",
       "            </script>\n",
       "        "
      ],
      "text/plain": [
       "<IPython.core.display.HTML object>"
      ]
     },
     "execution_count": 18,
     "metadata": {},
     "output_type": "execute_result"
    }
   ],
   "source": [
    "g1 = graphistry.edges(df).bind(source='src_ip', destination='dst_ip')\n",
    "g1.plot()"
   ]
  },
  {
   "cell_type": "markdown",
   "metadata": {},
   "source": [
    "### Example 2 - explore a subset of this dataset with a hypergraph\n",
    "In Splunk run a search to pipe a dataset into your notebook environment. Note: mode=stage is used in the | fit command to do this."
   ]
  },
  {
   "cell_type": "markdown",
   "metadata": {},
   "source": [
    "| inputlookup firewall_traffic.csv<br/>\n",
    "| stats count by src_ip dst_ip serial_number used_by_malware<br/>\n",
    "| fit MLTKContainer mode=stage algo=graphistry_notebook * into app:graphistry_firewall_traffic_hypergraph"
   ]
  },
  {
   "cell_type": "code",
   "execution_count": 18,
   "metadata": {},
   "outputs": [],
   "source": [
    "df2, param = stage(\"graphistry_firewall_traffic_hypergraph\")"
   ]
  },
  {
   "cell_type": "code",
   "execution_count": 19,
   "metadata": {},
   "outputs": [
    {
     "name": "stdout",
     "output_type": "stream",
     "text": [
      "# links 72155\n",
      "# events 14431\n",
      "# attrib entities 10348\n"
     ]
    },
    {
     "data": {
      "text/html": [
       "\n",
       "            <iframe id=\"86b94b6e-6854-47cf-a5a0-5d61b807048a\" src=\"https://hub.graphistry.com/graph/graph.html?dataset=01faa834176c41be8c7a53f332ccfa3a&type=arrow&viztoken=1ef0f671-63e9-4be2-9914-745fcddf9f20&usertag=09ab3d4a-pygraphistry-0.28.7&splashAfter=1675856726&info=true\"\n",
       "                    allowfullscreen=\"true\" webkitallowfullscreen=\"true\" mozallowfullscreen=\"true\"\n",
       "                    oallowfullscreen=\"true\" msallowfullscreen=\"true\"\n",
       "                    style=\"width:100%; height:500px; border: 1px solid #DDD; overflow: hidden\"\n",
       "                    \n",
       "            >\n",
       "            </iframe>\n",
       "        \n",
       "            <script>\n",
       "                try {\n",
       "                  $(\"#86b94b6e-6854-47cf-a5a0-5d61b807048a\").bind('mousewheel', function(e) { e.preventDefault(); });\n",
       "                } catch (e) { console.error('exn catching scroll', e); }\n",
       "            </script>\n",
       "        "
      ],
      "text/plain": [
       "<IPython.core.display.HTML object>"
      ]
     },
     "execution_count": 19,
     "metadata": {},
     "output_type": "execute_result"
    }
   ],
   "source": [
    "g2 = graphistry.hypergraph(df2)\n",
    "g2['graph'].plot()"
   ]
  },
  {
   "cell_type": "markdown",
   "metadata": {},
   "source": [
    "## Stage 2 - create and initialize a model"
   ]
  },
  {
   "cell_type": "code",
   "execution_count": 31,
   "metadata": {
    "deletable": false,
    "name": "mltkc_init"
   },
   "outputs": [],
   "source": [
    "# initialize your model\n",
    "# available inputs: data and parameters\n",
    "# returns the model object which will be used as a reference to call fit, apply and summary subsequently\n",
    "def init(df,param):\n",
    "    model = graphistry.edges(df).bind(source='src_ip', destination='dst_ip')\n",
    "    return model"
   ]
  },
  {
   "cell_type": "code",
   "execution_count": 36,
   "metadata": {
    "scrolled": true
   },
   "outputs": [],
   "source": [
    "# THIS CELL IS NOT EXPORTED - free notebook cell for testing or development purposes\n",
    "model = init(df,param)"
   ]
  },
  {
   "cell_type": "markdown",
   "metadata": {},
   "source": [
    "## Stage 3 - fit the model"
   ]
  },
  {
   "cell_type": "code",
   "execution_count": 34,
   "metadata": {
    "deletable": false,
    "name": "mltkc_fit"
   },
   "outputs": [],
   "source": [
    "# train your model\n",
    "# returns a fit info json object and may modify the model object\n",
    "def fit(model,df,param):\n",
    "    model = graphistry.edges(df).bind(source='src_ip', destination='dst_ip')\n",
    "    return model"
   ]
  },
  {
   "cell_type": "code",
   "execution_count": 35,
   "metadata": {},
   "outputs": [
    {
     "data": {
      "text/plain": [
       "{'bindings': {'edges':         receive_time   serial_number    session_id           src_ip  \\\n",
       "  0      10/7/15 23:59   sn_1606046662     sid_14787     138.52.78.14   \n",
       "  1      10/7/15 23:59   sn_1606046662      sid_1838   205.77.248.110   \n",
       "  2      10/7/15 23:59   sn_1606046662     sid_17519   44.165.220.174   \n",
       "  3      10/7/15 23:59   sn_1606046662     sid_36258    227.45.212.95   \n",
       "  4      10/7/15 23:59   sn_1606046662     sid_48945    40.149.50.140   \n",
       "  ...              ...             ...           ...              ...   \n",
       "  98938  10/7/15 23:53  sn_0009C101998  sid_34900121     64.73.95.187   \n",
       "  98939  10/7/15 23:53  sn_0009C101998    sid_389256  109.197.174.142   \n",
       "  98940  10/7/15 23:53  sn_0009C101998    sid_444276  109.197.174.142   \n",
       "  98941  10/7/15 23:53  sn_0009C101998     sid_61729  109.197.174.142   \n",
       "  98942  10/7/15 23:53  sn_0009C101998    sid_138461  109.197.174.142   \n",
       "  \n",
       "                 dst_ip  bytes_sent  bytes_received  packets_sent  \\\n",
       "  0        73.147.88.91          85             170             1   \n",
       "  1        73.147.88.91          75             107             1   \n",
       "  2       27.90.179.152          76             108             1   \n",
       "  3        73.147.88.91          85             170             1   \n",
       "  4      226.58.156.109        1872            4620            19   \n",
       "  ...               ...         ...             ...           ...   \n",
       "  98938   216.148.42.38         482              66             3   \n",
       "  98939    42.93.13.188         570             570             5   \n",
       "  98940   20.205.92.188         570             570             5   \n",
       "  98941  143.232.70.184         570             570             5   \n",
       "  98942      99.4.3.180         570             570             5   \n",
       "  \n",
       "         packets_received dest_port src_port used_by_malware  \\\n",
       "  0                     1      p_53  p_57375             yes   \n",
       "  1                     1      p_53   p_6289             yes   \n",
       "  2                     1      p_53  p_45700             yes   \n",
       "  3                     1      p_53  p_33298             yes   \n",
       "  4                    18     p_443  p_55362              no   \n",
       "  ...                 ...       ...      ...             ...   \n",
       "  98938                 1    p_8089  p_60076             yes   \n",
       "  98939                 5       p_0      p_0              no   \n",
       "  98940                 5       p_0      p_0              no   \n",
       "  98941                 5       p_0      p_0              no   \n",
       "  98942                 5       p_0      p_0              no   \n",
       "  \n",
       "        has_known_vulnerability  \n",
       "  0                         yes  \n",
       "  1                         yes  \n",
       "  2                         yes  \n",
       "  3                         yes  \n",
       "  4                          no  \n",
       "  ...                       ...  \n",
       "  98938                     yes  \n",
       "  98939                     yes  \n",
       "  98940                     yes  \n",
       "  98941                     yes  \n",
       "  98942                     yes  \n",
       "  \n",
       "  [98943 rows x 13 columns],\n",
       "  'nodes': None,\n",
       "  'source': 'src_ip',\n",
       "  'destination': 'dst_ip',\n",
       "  'node': None,\n",
       "  'edge_label': None,\n",
       "  'edge_color': None,\n",
       "  'edge_size': None,\n",
       "  'edge_weight': None,\n",
       "  'edge_title': None,\n",
       "  'edge_icon': None,\n",
       "  'edge_opacity': None,\n",
       "  'edge_source_color': None,\n",
       "  'edge_destination_color': None,\n",
       "  'point_label': None,\n",
       "  'point_color': None,\n",
       "  'point_size': None,\n",
       "  'point_weight': None,\n",
       "  'point_title': None,\n",
       "  'point_icon': None,\n",
       "  'point_opacity': None,\n",
       "  'point_x': None,\n",
       "  'point_y': None},\n",
       " 'settings': {'height': 500, 'url_params': {'info': 'true'}}}"
      ]
     },
     "execution_count": 35,
     "metadata": {},
     "output_type": "execute_result"
    }
   ],
   "source": [
    "# THIS CELL IS NOT EXPORTED - free notebook cell for testing or development purposes\n",
    "g = fit(model,df,param)\n",
    "g"
   ]
  },
  {
   "cell_type": "markdown",
   "metadata": {},
   "source": [
    "## Stage 4 - apply the model"
   ]
  },
  {
   "cell_type": "code",
   "execution_count": 37,
   "metadata": {
    "deletable": false,
    "name": "mltkc_apply"
   },
   "outputs": [],
   "source": [
    "# apply the model\n",
    "# returns the calculated results\n",
    "def apply(model,df,param):\n",
    "    # example to utilize graphistry functions to derive insights from the graph and return to Splunk\n",
    "    topo = model.get_topological_levels()\n",
    "    return topo._nodes\n"
   ]
  },
  {
   "cell_type": "code",
   "execution_count": 38,
   "metadata": {},
   "outputs": [
    {
     "name": "stderr",
     "output_type": "stream",
     "text": [
      "Cycle on computing level 7Cycle on computing level 12Cycle on computing level 16Cycle on computing level 18Cycle on computing level 20Cycle on computing level 22Cycle on computing level 26Cycle on computing level 28Cycle on computing level 33Cycle on computing level 36"
     ]
    },
    {
     "data": {
      "text/html": [
       "<div>\n",
       "<style scoped>\n",
       "    .dataframe tbody tr th:only-of-type {\n",
       "        vertical-align: middle;\n",
       "    }\n",
       "\n",
       "    .dataframe tbody tr th {\n",
       "        vertical-align: top;\n",
       "    }\n",
       "\n",
       "    .dataframe thead th {\n",
       "        text-align: right;\n",
       "    }\n",
       "</style>\n",
       "<table border=\"1\" class=\"dataframe\">\n",
       "  <thead>\n",
       "    <tr style=\"text-align: right;\">\n",
       "      <th></th>\n",
       "      <th>id</th>\n",
       "      <th>level</th>\n",
       "    </tr>\n",
       "  </thead>\n",
       "  <tbody>\n",
       "    <tr>\n",
       "      <th>0</th>\n",
       "      <td>138.52.78.14</td>\n",
       "      <td>0</td>\n",
       "    </tr>\n",
       "    <tr>\n",
       "      <th>1</th>\n",
       "      <td>205.77.248.110</td>\n",
       "      <td>0</td>\n",
       "    </tr>\n",
       "    <tr>\n",
       "      <th>2</th>\n",
       "      <td>44.165.220.174</td>\n",
       "      <td>0</td>\n",
       "    </tr>\n",
       "    <tr>\n",
       "      <th>3</th>\n",
       "      <td>227.45.212.95</td>\n",
       "      <td>0</td>\n",
       "    </tr>\n",
       "    <tr>\n",
       "      <th>4</th>\n",
       "      <td>40.149.50.140</td>\n",
       "      <td>0</td>\n",
       "    </tr>\n",
       "    <tr>\n",
       "      <th>...</th>\n",
       "      <td>...</td>\n",
       "      <td>...</td>\n",
       "    </tr>\n",
       "    <tr>\n",
       "      <th>2</th>\n",
       "      <td>56.42.67.133</td>\n",
       "      <td>36</td>\n",
       "    </tr>\n",
       "    <tr>\n",
       "      <th>0</th>\n",
       "      <td>16.44.180.233</td>\n",
       "      <td>37</td>\n",
       "    </tr>\n",
       "    <tr>\n",
       "      <th>1</th>\n",
       "      <td>176.226.66.23</td>\n",
       "      <td>37</td>\n",
       "    </tr>\n",
       "    <tr>\n",
       "      <th>2</th>\n",
       "      <td>165.116.26.184</td>\n",
       "      <td>37</td>\n",
       "    </tr>\n",
       "    <tr>\n",
       "      <th>3</th>\n",
       "      <td>24.9.66.33</td>\n",
       "      <td>37</td>\n",
       "    </tr>\n",
       "  </tbody>\n",
       "</table>\n",
       "<p>9673 rows × 2 columns</p>\n",
       "</div>"
      ],
      "text/plain": [
       "                id  level\n",
       "0     138.52.78.14      0\n",
       "1   205.77.248.110      0\n",
       "2   44.165.220.174      0\n",
       "3    227.45.212.95      0\n",
       "4    40.149.50.140      0\n",
       "..             ...    ...\n",
       "2     56.42.67.133     36\n",
       "0    16.44.180.233     37\n",
       "1    176.226.66.23     37\n",
       "2   165.116.26.184     37\n",
       "3       24.9.66.33     37\n",
       "\n",
       "[9673 rows x 2 columns]"
      ]
     },
     "execution_count": 38,
     "metadata": {},
     "output_type": "execute_result"
    }
   ],
   "source": [
    "# THIS CELL IS NOT EXPORTED - free notebook cell for testing or development purposes\n",
    "results = apply(model,df,param)\n",
    "results"
   ]
  },
  {
   "cell_type": "markdown",
   "metadata": {},
   "source": [
    "## Stage 5 - save the model"
   ]
  },
  {
   "cell_type": "code",
   "execution_count": 16,
   "metadata": {
    "deletable": false,
    "name": "mltkc_save"
   },
   "outputs": [],
   "source": [
    "# save model to name in expected convention \"<algo_name>_<model_name>\"\n",
    "def save(model,name):\n",
    "    # with open(MODEL_DIRECTORY + name + \".json\", 'w') as file:\n",
    "    #    json.dump(model, file)\n",
    "    return model"
   ]
  },
  {
   "cell_type": "markdown",
   "metadata": {},
   "source": [
    "## Stage 6 - load the model"
   ]
  },
  {
   "cell_type": "code",
   "execution_count": 17,
   "metadata": {
    "deletable": false,
    "name": "mltkc_load"
   },
   "outputs": [],
   "source": [
    "# load model from name in expected convention \"<algo_name>_<model_name>\"\n",
    "def load(name):\n",
    "    model = init(None,None)\n",
    "    # with open(MODEL_DIRECTORY + name + \".json\", 'r') as file:\n",
    "    #    model = json.load(file)\n",
    "    return model"
   ]
  },
  {
   "cell_type": "markdown",
   "metadata": {},
   "source": [
    "## Stage 7 - provide a summary of the model"
   ]
  },
  {
   "cell_type": "code",
   "execution_count": 40,
   "metadata": {
    "deletable": false,
    "name": "mltkc_summary"
   },
   "outputs": [],
   "source": [
    "# return a model summary\n",
    "def summary(model=None):\n",
    "    returns = {\"version\": {\"numpy\": np.__version__, \"pandas\": pd.__version__, \"graphistry\": graphistry.__version__} }\n",
    "    return returns"
   ]
  },
  {
   "cell_type": "code",
   "execution_count": 41,
   "metadata": {},
   "outputs": [
    {
     "data": {
      "text/plain": [
       "{'version': {'numpy': '1.20.3', 'pandas': '1.3.5', 'graphistry': '0.28.7'}}"
      ]
     },
     "execution_count": 41,
     "metadata": {},
     "output_type": "execute_result"
    }
   ],
   "source": [
    "summary()"
   ]
  },
  {
   "cell_type": "markdown",
   "metadata": {},
   "source": [
    "## End of Stages\n",
    "All subsequent cells are not tagged and can be used for further freeform code"
   ]
  },
  {
   "cell_type": "code",
   "execution_count": null,
   "metadata": {},
   "outputs": [],
   "source": []
  }
 ],
 "metadata": {
  "kernelspec": {
   "display_name": "Python 3",
   "language": "python",
   "name": "python3"
  },
  "language_info": {
   "codemirror_mode": {
    "name": "ipython",
    "version": 3
   },
   "file_extension": ".py",
   "mimetype": "text/x-python",
   "name": "python",
   "nbconvert_exporter": "python",
   "pygments_lexer": "ipython3",
   "version": "3.8.12"
  }
 },
 "nbformat": 4,
 "nbformat_minor": 4
}
