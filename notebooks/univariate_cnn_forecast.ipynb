{
 "cells": [
  {
   "cell_type": "markdown",
   "metadata": {},
   "source": [
    "# Splunk App for Data Science and Deep Learning - notebook for CNN based time series forecast"
   ]
  },
  {
   "cell_type": "markdown",
   "metadata": {},
   "source": [
    "This notebook contains an example workflow for how to forecast a univariate time series. "
   ]
  },
  {
   "cell_type": "markdown",
   "metadata": {},
   "source": [
    "## Stage 0 - import libraries\n",
    "At stage 0 we define all imports necessary to run our subsequent code depending on various libraries."
   ]
  },
  {
   "cell_type": "code",
   "execution_count": 1,
   "metadata": {
    "deletable": false,
    "name": "mltkc_import"
   },
   "outputs": [
    {
     "name": "stderr",
     "output_type": "stream",
     "text": [
      "2024-02-01 12:31:38.976129: I tensorflow/core/platform/cpu_feature_guard.cc:182] This TensorFlow binary is optimized to use available CPU instructions in performance-critical operations.\n",
      "To enable the following instructions: AVX2 FMA, in other operations, rebuild TensorFlow with the appropriate compiler flags.\n"
     ]
    }
   ],
   "source": [
    "# this definition exposes all python module imports that should be available in all subsequent commands\n",
    "import json\n",
    "import datetime\n",
    "import numpy as np\n",
    "import pandas as pd\n",
    "import tensorflow as tf\n",
    "import keras\n",
    "\n",
    "# global constants\n",
    "MODEL_DIRECTORY = \"/srv/app/model/data/\""
   ]
  },
  {
   "cell_type": "code",
   "execution_count": 2,
   "metadata": {},
   "outputs": [
    {
     "name": "stdout",
     "output_type": "stream",
     "text": [
      "numpy version: 1.25.2\n",
      "pandas version: 2.1.1\n",
      "TensorFlow version: 2.14.0\n",
      "Keras version: 2.14.0\n"
     ]
    }
   ],
   "source": [
    "# THIS CELL IS NOT EXPORTED - free notebook cell for testing purposes\n",
    "print(\"numpy version: \" + np.__version__)\n",
    "print(\"pandas version: \" + pd.__version__)\n",
    "print(\"TensorFlow version: \" + tf.__version__)\n",
    "print(\"Keras version: \" + keras.__version__)"
   ]
  },
  {
   "cell_type": "markdown",
   "metadata": {},
   "source": [
    "## Stage 1 - get a data sample from Splunk\n",
    "In Splunk run a search to pipe a prepared dataset into this environment."
   ]
  },
  {
   "cell_type": "markdown",
   "metadata": {},
   "source": [
    "| inputlookup internet_traffic.csv \n",
    "| timechart span=120min avg(\"bits_transferred\") as bits_transferred \n",
    "| eval bits_transferred=round(bits_transferred) \n",
    "| fit RobustScaler bits_transferred \n",
    "| fit MLTKContainer algo=univariate_cnn_forecast mode=stage epochs=100 batch_size=3 RS_bits_transferred _time by RS_bits_transferred into app:internet_traffic_forecast_model"
   ]
  },
  {
   "cell_type": "markdown",
   "metadata": {},
   "source": [
    "After you run this search your data set sample is available as a csv inside the container to develop your model. The name is taken from the into keyword (\"internet_traffic_forecast_model\" in the example above) or set to \"default\" if no into keyword is present. This step is intended to work with a subset of your data to create your custom model."
   ]
  },
  {
   "cell_type": "code",
   "execution_count": 5,
   "metadata": {
    "deletable": false,
    "name": "mltkc_stage"
   },
   "outputs": [],
   "source": [
    "# this cell is not executed from MLTK and should only be used for staging data into the notebook environment\n",
    "def stage(name):\n",
    "    with open(\"data/\"+name+\".csv\", 'r') as f:\n",
    "        df = pd.read_csv(f)\n",
    "    with open(\"data/\"+name+\".json\", 'r') as f:\n",
    "        param = json.load(f)\n",
    "    return df, param"
   ]
  },
  {
   "cell_type": "code",
   "execution_count": 6,
   "metadata": {},
   "outputs": [
    {
     "name": "stdout",
     "output_type": "stream",
     "text": [
      "        _time  RS_bits_transferred\n",
      "0  1118152800             0.714191\n",
      "(616, 2)\n",
      "{'options': {'params': {'algo': 'forecast_rnn_internet_traffic', 'mode': 'stage', 'epochs': '100', 'batch_size': '3'}, 'args': ['RS_bits_transferred', '_time'], 'feature_variables': ['RS_bits_transferred', '_time'], 'split_by': ['RS_bits_transferred'], 'model_name': 'internet_traffic_forecast_model', 'algo_name': 'MLTKContainer', 'mlspl_limits': {'disabled': False, 'handle_new_cat': 'default', 'max_distinct_cat_values': '10000', 'max_distinct_cat_values_for_classifiers': '10000', 'max_distinct_cat_values_for_scoring': '10000', 'max_fit_time': '6000', 'max_inputs': '10000000', 'max_memory_usage_mb': '16000', 'max_model_size_mb': '3000', 'max_score_time': '6000', 'use_sampling': '1'}, 'kfold_cv': None}, 'feature_variables': ['RS_bits_transferred', '_time']}\n"
     ]
    },
    {
     "data": {
      "text/plain": [
       "{'algo': 'forecast_rnn_internet_traffic',\n",
       " 'mode': 'stage',\n",
       " 'epochs': '100',\n",
       " 'batch_size': '3'}"
      ]
     },
     "execution_count": 6,
     "metadata": {},
     "output_type": "execute_result"
    }
   ],
   "source": [
    "# THIS CELL IS NOT EXPORTED - free notebook cell for testing purposes\n",
    "df, param = stage(\"internet_traffic_forecast_model\")\n",
    "print(df[0:1])\n",
    "print(df.shape)\n",
    "print(str(param))\n",
    "param['options']['params']"
   ]
  },
  {
   "cell_type": "markdown",
   "metadata": {},
   "source": [
    "## Stage 2 - create and initialize a model"
   ]
  },
  {
   "cell_type": "code",
   "execution_count": 7,
   "metadata": {
    "deletable": false,
    "name": "mltkc_init"
   },
   "outputs": [],
   "source": [
    "# initialize the model\n",
    "# params: data and parameters\n",
    "# returns the model object which will be used as a reference to call fit, apply and summary subsequently\n",
    "def init(df,param):\n",
    "    # Collect variables\n",
    "    model_batch_size = 3\n",
    "    n_features = 1\n",
    "    hidden_layers = 50\n",
    "    activation_func = 'sigmoid'\n",
    "    if 'options' in param:\n",
    "        if 'params' in param['options']:\n",
    "            if 'batch_size' in param['options']['params']:\n",
    "                model_batch_size = int(param['options']['params']['batch_size'])\n",
    "            if 'hidden_layers' in param['options']['params']:\n",
    "                hidden_layers = int(param['options']['params']['hidden_layers'])\n",
    "            if 'activation' in param['options']['params']:\n",
    "                activation_func = param['options']['params']['activation']\n",
    "    \n",
    "    # define model\n",
    "    model = keras.Sequential()\n",
    "    model.add(keras.layers.Conv1D(filters=64, kernel_size=2, activation=activation_func, input_shape=(model_batch_size, n_features)))\n",
    "    model.add(keras.layers.MaxPooling1D(pool_size=2))\n",
    "    model.add(keras.layers.Flatten())\n",
    "    model.add(keras.layers.Dense(hidden_layers,activation=activation_func))\n",
    "    model.add(keras.layers.Dense(1))\n",
    "    model.compile(optimizer='adam', loss='mse')\n",
    "    return model"
   ]
  },
  {
   "cell_type": "code",
   "execution_count": 8,
   "metadata": {
    "scrolled": true
   },
   "outputs": [
    {
     "name": "stdout",
     "output_type": "stream",
     "text": [
      "Model: \"sequential\"\n",
      "_________________________________________________________________\n",
      " Layer (type)                Output Shape              Param #   \n",
      "=================================================================\n",
      " conv1d (Conv1D)             (None, 2, 64)             192       \n",
      "                                                                 \n",
      " max_pooling1d (MaxPooling1  (None, 1, 64)             0         \n",
      " D)                                                              \n",
      "                                                                 \n",
      " flatten (Flatten)           (None, 64)                0         \n",
      "                                                                 \n",
      " dense (Dense)               (None, 50)                3250      \n",
      "                                                                 \n",
      " dense_1 (Dense)             (None, 1)                 51        \n",
      "                                                                 \n",
      "=================================================================\n",
      "Total params: 3493 (13.64 KB)\n",
      "Trainable params: 3493 (13.64 KB)\n",
      "Non-trainable params: 0 (0.00 Byte)\n",
      "_________________________________________________________________\n",
      "None\n"
     ]
    }
   ],
   "source": [
    "# test mltkc_stage_create_model\n",
    "model = init(df,param)\n",
    "print(model.summary())"
   ]
  },
  {
   "cell_type": "markdown",
   "metadata": {},
   "source": [
    "## Stage 3 - fit the model"
   ]
  },
  {
   "cell_type": "code",
   "execution_count": 9,
   "metadata": {
    "deletable": false,
    "name": "mltkc_fit"
   },
   "outputs": [],
   "source": [
    "# returns a fit info json object\n",
    "# split a univariate sequence into samples\n",
    "def split_sequence(sequence, batch_size):\n",
    "    \n",
    "    X, y = list(), list()\n",
    "    for i in range(len(sequence)):\n",
    "        # find the end of this pattern\n",
    "        end_ix = i + batch_size\n",
    "        # check if we are beyond the sequence\n",
    "        if end_ix > len(sequence)-1:\n",
    "            break\n",
    "        # gather input and output parts of the pattern\n",
    "        seq_x, seq_y = sequence[i:end_ix], sequence[end_ix]\n",
    "        X.append(seq_x)\n",
    "        y.append(seq_y)\n",
    "    return np.array(X), np.array(y)\n",
    "\n",
    "def fit(model,df,param):\n",
    "    returns = {}\n",
    "    \n",
    "    # Collect variables from param file\n",
    "    model_epochs = 100\n",
    "    model_batch_size = 3\n",
    "    holdback = 30\n",
    "    if 'options' in param:\n",
    "        if 'params' in param['options']:\n",
    "            if 'epochs' in param['options']['params']:\n",
    "                model_epochs = int(param['options']['params']['epochs'])\n",
    "            if 'batch_size' in param['options']['params']:\n",
    "                model_batch_size = int(param['options']['params']['batch_size'])\n",
    "            if 'holdback' in param['options']['params']:\n",
    "                holdback = int(param['options']['params']['holdback'])\n",
    "    \n",
    "    \n",
    "    # flatten data frame into an array and extract the training set\n",
    "    full_data = df[param['options']['split_by']].values.tolist()\n",
    "    train_set = list(full_data[:len(full_data)-holdback])\n",
    "    \n",
    "    # split data into samples\n",
    "    X, y = split_sequence(train_set, model_batch_size)\n",
    "    # reshape from [samples, timesteps] into [samples, timesteps, features]\n",
    "    n_features = 1\n",
    "    X = X.reshape((X.shape[0], X.shape[1], 1))\n",
    "    \n",
    "\n",
    "    # connect model training to tensorboard\n",
    "    log_dir=\"/srv/notebooks/logs/fit/\" + datetime.datetime.now().strftime(\"%Y%m%d-%H%M%S\")\n",
    "    tensorboard_callback = tf.keras.callbacks.TensorBoard(log_dir=log_dir, histogram_freq=1)\n",
    "    \n",
    "    # run the training\n",
    "    returns['fit_history'] = model.fit(x=X,\n",
    "                                       y=y, \n",
    "                                       verbose=2, \n",
    "                                       epochs=model_epochs,\n",
    "                                       shuffle=False,\n",
    "                                       callbacks=[tensorboard_callback])\n",
    "    # memorize parameters\n",
    "    returns['model_epochs'] = model_epochs\n",
    "    returns['model_batch_size'] = model_batch_size\n",
    "    returns['model_loss_acc'] = model.evaluate(x = X, y = y)\n",
    "    return returns"
   ]
  },
  {
   "cell_type": "code",
   "execution_count": 10,
   "metadata": {
    "collapsed": true,
    "jupyter": {
     "outputs_hidden": true
    }
   },
   "outputs": [
    {
     "name": "stdout",
     "output_type": "stream",
     "text": [
      "Epoch 1/100\n",
      "19/19 - 1s - loss: 0.9331 - 689ms/epoch - 36ms/step\n",
      "Epoch 2/100\n",
      "19/19 - 0s - loss: 0.4053 - 90ms/epoch - 5ms/step\n",
      "Epoch 3/100\n",
      "19/19 - 0s - loss: 0.3465 - 134ms/epoch - 7ms/step\n",
      "Epoch 4/100\n",
      "19/19 - 0s - loss: 0.3392 - 83ms/epoch - 4ms/step\n",
      "Epoch 5/100\n",
      "19/19 - 0s - loss: 0.3308 - 98ms/epoch - 5ms/step\n",
      "Epoch 6/100\n",
      "19/19 - 0s - loss: 0.3228 - 81ms/epoch - 4ms/step\n",
      "Epoch 7/100\n",
      "19/19 - 0s - loss: 0.3149 - 64ms/epoch - 3ms/step\n",
      "Epoch 8/100\n",
      "19/19 - 0s - loss: 0.3067 - 81ms/epoch - 4ms/step\n",
      "Epoch 9/100\n",
      "19/19 - 0s - loss: 0.2983 - 78ms/epoch - 4ms/step\n",
      "Epoch 10/100\n",
      "19/19 - 0s - loss: 0.2899 - 92ms/epoch - 5ms/step\n",
      "Epoch 11/100\n",
      "19/19 - 0s - loss: 0.2815 - 88ms/epoch - 5ms/step\n",
      "Epoch 12/100\n",
      "19/19 - 0s - loss: 0.2732 - 79ms/epoch - 4ms/step\n",
      "Epoch 13/100\n",
      "19/19 - 0s - loss: 0.2652 - 83ms/epoch - 4ms/step\n",
      "Epoch 14/100\n",
      "19/19 - 0s - loss: 0.2576 - 87ms/epoch - 5ms/step\n",
      "Epoch 15/100\n",
      "19/19 - 0s - loss: 0.2505 - 83ms/epoch - 4ms/step\n",
      "Epoch 16/100\n",
      "19/19 - 0s - loss: 0.2437 - 77ms/epoch - 4ms/step\n",
      "Epoch 17/100\n",
      "19/19 - 0s - loss: 0.2375 - 80ms/epoch - 4ms/step\n",
      "Epoch 18/100\n",
      "19/19 - 0s - loss: 0.2315 - 82ms/epoch - 4ms/step\n",
      "Epoch 19/100\n",
      "19/19 - 0s - loss: 0.2259 - 73ms/epoch - 4ms/step\n",
      "Epoch 20/100\n",
      "19/19 - 0s - loss: 0.2205 - 69ms/epoch - 4ms/step\n",
      "Epoch 21/100\n",
      "19/19 - 0s - loss: 0.2152 - 72ms/epoch - 4ms/step\n",
      "Epoch 22/100\n",
      "19/19 - 0s - loss: 0.2099 - 66ms/epoch - 3ms/step\n",
      "Epoch 23/100\n",
      "19/19 - 0s - loss: 0.2046 - 78ms/epoch - 4ms/step\n",
      "Epoch 24/100\n",
      "19/19 - 0s - loss: 0.1992 - 76ms/epoch - 4ms/step\n",
      "Epoch 25/100\n",
      "19/19 - 0s - loss: 0.1936 - 73ms/epoch - 4ms/step\n",
      "Epoch 26/100\n",
      "19/19 - 0s - loss: 0.1879 - 70ms/epoch - 4ms/step\n",
      "Epoch 27/100\n",
      "19/19 - 0s - loss: 0.1820 - 72ms/epoch - 4ms/step\n",
      "Epoch 28/100\n",
      "19/19 - 0s - loss: 0.1759 - 77ms/epoch - 4ms/step\n",
      "Epoch 29/100\n",
      "19/19 - 0s - loss: 0.1696 - 68ms/epoch - 4ms/step\n",
      "Epoch 30/100\n",
      "19/19 - 0s - loss: 0.1631 - 75ms/epoch - 4ms/step\n",
      "Epoch 31/100\n",
      "19/19 - 0s - loss: 0.1564 - 74ms/epoch - 4ms/step\n",
      "Epoch 32/100\n",
      "19/19 - 0s - loss: 0.1496 - 62ms/epoch - 3ms/step\n",
      "Epoch 33/100\n",
      "19/19 - 0s - loss: 0.1426 - 71ms/epoch - 4ms/step\n",
      "Epoch 34/100\n",
      "19/19 - 0s - loss: 0.1355 - 67ms/epoch - 4ms/step\n",
      "Epoch 35/100\n",
      "19/19 - 0s - loss: 0.1283 - 81ms/epoch - 4ms/step\n",
      "Epoch 36/100\n",
      "19/19 - 0s - loss: 0.1212 - 67ms/epoch - 4ms/step\n",
      "Epoch 37/100\n",
      "19/19 - 0s - loss: 0.1141 - 70ms/epoch - 4ms/step\n",
      "Epoch 38/100\n",
      "19/19 - 0s - loss: 0.1072 - 71ms/epoch - 4ms/step\n",
      "Epoch 39/100\n",
      "19/19 - 0s - loss: 0.1006 - 62ms/epoch - 3ms/step\n",
      "Epoch 40/100\n",
      "19/19 - 0s - loss: 0.0942 - 73ms/epoch - 4ms/step\n",
      "Epoch 41/100\n",
      "19/19 - 0s - loss: 0.0883 - 70ms/epoch - 4ms/step\n",
      "Epoch 42/100\n",
      "19/19 - 0s - loss: 0.0828 - 75ms/epoch - 4ms/step\n",
      "Epoch 43/100\n",
      "19/19 - 0s - loss: 0.0778 - 68ms/epoch - 4ms/step\n",
      "Epoch 44/100\n",
      "19/19 - 0s - loss: 0.0733 - 74ms/epoch - 4ms/step\n",
      "Epoch 45/100\n",
      "19/19 - 0s - loss: 0.0694 - 86ms/epoch - 5ms/step\n",
      "Epoch 46/100\n",
      "19/19 - 0s - loss: 0.0660 - 88ms/epoch - 5ms/step\n",
      "Epoch 47/100\n",
      "19/19 - 0s - loss: 0.0632 - 70ms/epoch - 4ms/step\n",
      "Epoch 48/100\n",
      "19/19 - 0s - loss: 0.0608 - 67ms/epoch - 4ms/step\n",
      "Epoch 49/100\n",
      "19/19 - 0s - loss: 0.0589 - 66ms/epoch - 3ms/step\n",
      "Epoch 50/100\n",
      "19/19 - 0s - loss: 0.0573 - 67ms/epoch - 4ms/step\n",
      "Epoch 51/100\n",
      "19/19 - 0s - loss: 0.0560 - 67ms/epoch - 4ms/step\n",
      "Epoch 52/100\n",
      "19/19 - 0s - loss: 0.0550 - 70ms/epoch - 4ms/step\n",
      "Epoch 53/100\n",
      "19/19 - 0s - loss: 0.0542 - 61ms/epoch - 3ms/step\n",
      "Epoch 54/100\n",
      "19/19 - 0s - loss: 0.0536 - 64ms/epoch - 3ms/step\n",
      "Epoch 55/100\n",
      "19/19 - 0s - loss: 0.0530 - 70ms/epoch - 4ms/step\n",
      "Epoch 56/100\n",
      "19/19 - 0s - loss: 0.0526 - 66ms/epoch - 3ms/step\n",
      "Epoch 57/100\n",
      "19/19 - 0s - loss: 0.0523 - 67ms/epoch - 4ms/step\n",
      "Epoch 58/100\n",
      "19/19 - 0s - loss: 0.0520 - 62ms/epoch - 3ms/step\n",
      "Epoch 59/100\n",
      "19/19 - 0s - loss: 0.0518 - 67ms/epoch - 4ms/step\n",
      "Epoch 60/100\n",
      "19/19 - 0s - loss: 0.0515 - 71ms/epoch - 4ms/step\n",
      "Epoch 61/100\n",
      "19/19 - 0s - loss: 0.0513 - 84ms/epoch - 4ms/step\n",
      "Epoch 62/100\n",
      "19/19 - 0s - loss: 0.0512 - 63ms/epoch - 3ms/step\n",
      "Epoch 63/100\n",
      "19/19 - 0s - loss: 0.0510 - 65ms/epoch - 3ms/step\n",
      "Epoch 64/100\n",
      "19/19 - 0s - loss: 0.0509 - 67ms/epoch - 4ms/step\n",
      "Epoch 65/100\n",
      "19/19 - 0s - loss: 0.0507 - 66ms/epoch - 3ms/step\n",
      "Epoch 66/100\n",
      "19/19 - 0s - loss: 0.0506 - 72ms/epoch - 4ms/step\n",
      "Epoch 67/100\n",
      "19/19 - 0s - loss: 0.0504 - 66ms/epoch - 3ms/step\n",
      "Epoch 68/100\n",
      "19/19 - 0s - loss: 0.0503 - 65ms/epoch - 3ms/step\n",
      "Epoch 69/100\n",
      "19/19 - 0s - loss: 0.0502 - 68ms/epoch - 4ms/step\n",
      "Epoch 70/100\n",
      "19/19 - 0s - loss: 0.0500 - 67ms/epoch - 4ms/step\n",
      "Epoch 71/100\n",
      "19/19 - 0s - loss: 0.0499 - 66ms/epoch - 3ms/step\n",
      "Epoch 72/100\n",
      "19/19 - 0s - loss: 0.0498 - 68ms/epoch - 4ms/step\n",
      "Epoch 73/100\n",
      "19/19 - 0s - loss: 0.0497 - 67ms/epoch - 4ms/step\n",
      "Epoch 74/100\n",
      "19/19 - 0s - loss: 0.0496 - 67ms/epoch - 4ms/step\n",
      "Epoch 75/100\n",
      "19/19 - 0s - loss: 0.0495 - 66ms/epoch - 3ms/step\n",
      "Epoch 76/100\n",
      "19/19 - 0s - loss: 0.0493 - 65ms/epoch - 3ms/step\n",
      "Epoch 77/100\n",
      "19/19 - 0s - loss: 0.0492 - 71ms/epoch - 4ms/step\n",
      "Epoch 78/100\n",
      "19/19 - 0s - loss: 0.0491 - 64ms/epoch - 3ms/step\n",
      "Epoch 79/100\n",
      "19/19 - 0s - loss: 0.0490 - 65ms/epoch - 3ms/step\n",
      "Epoch 80/100\n",
      "19/19 - 0s - loss: 0.0489 - 68ms/epoch - 4ms/step\n",
      "Epoch 81/100\n",
      "19/19 - 0s - loss: 0.0488 - 63ms/epoch - 3ms/step\n",
      "Epoch 82/100\n",
      "19/19 - 0s - loss: 0.0487 - 68ms/epoch - 4ms/step\n",
      "Epoch 83/100\n",
      "19/19 - 0s - loss: 0.0486 - 69ms/epoch - 4ms/step\n",
      "Epoch 84/100\n",
      "19/19 - 0s - loss: 0.0485 - 60ms/epoch - 3ms/step\n",
      "Epoch 85/100\n",
      "19/19 - 0s - loss: 0.0484 - 68ms/epoch - 4ms/step\n",
      "Epoch 86/100\n",
      "19/19 - 0s - loss: 0.0483 - 63ms/epoch - 3ms/step\n",
      "Epoch 87/100\n",
      "19/19 - 0s - loss: 0.0482 - 84ms/epoch - 4ms/step\n",
      "Epoch 88/100\n",
      "19/19 - 0s - loss: 0.0481 - 68ms/epoch - 4ms/step\n",
      "Epoch 89/100\n",
      "19/19 - 0s - loss: 0.0481 - 73ms/epoch - 4ms/step\n",
      "Epoch 90/100\n",
      "19/19 - 0s - loss: 0.0480 - 66ms/epoch - 3ms/step\n",
      "Epoch 91/100\n",
      "19/19 - 0s - loss: 0.0479 - 67ms/epoch - 4ms/step\n",
      "Epoch 92/100\n",
      "19/19 - 0s - loss: 0.0478 - 66ms/epoch - 3ms/step\n",
      "Epoch 93/100\n",
      "19/19 - 0s - loss: 0.0477 - 67ms/epoch - 4ms/step\n",
      "Epoch 94/100\n",
      "19/19 - 0s - loss: 0.0477 - 65ms/epoch - 3ms/step\n",
      "Epoch 95/100\n",
      "19/19 - 0s - loss: 0.0476 - 68ms/epoch - 4ms/step\n",
      "Epoch 96/100\n",
      "19/19 - 0s - loss: 0.0475 - 62ms/epoch - 3ms/step\n",
      "Epoch 97/100\n",
      "19/19 - 0s - loss: 0.0474 - 63ms/epoch - 3ms/step\n",
      "Epoch 98/100\n",
      "19/19 - 0s - loss: 0.0474 - 61ms/epoch - 3ms/step\n",
      "Epoch 99/100\n",
      "19/19 - 0s - loss: 0.0473 - 73ms/epoch - 4ms/step\n",
      "Epoch 100/100\n",
      "19/19 - 0s - loss: 0.0472 - 71ms/epoch - 4ms/step\n",
      "19/19 [==============================] - 0s 2ms/step - loss: 0.0472\n",
      "0.04716542735695839\n"
     ]
    }
   ],
   "source": [
    "returns = fit(model,df,param)\n",
    "print(returns['model_loss_acc'])"
   ]
  },
  {
   "cell_type": "markdown",
   "metadata": {},
   "source": [
    "## Stage 4 - apply the model"
   ]
  },
  {
   "cell_type": "code",
   "execution_count": 11,
   "metadata": {
    "deletable": false,
    "name": "mltkc_apply"
   },
   "outputs": [],
   "source": [
    "def apply(model,df,param):\n",
    "    \n",
    "    # Collect variables\n",
    "    model_batch_size = 3\n",
    "    future_steps = 30\n",
    "    holdback = 30\n",
    "    if 'options' in param:\n",
    "        if 'params' in param['options']:\n",
    "            if 'batch_size' in param['options']['params']:\n",
    "                model_batch_size = int(param['options']['params']['batch_size'])\n",
    "            if 'future_steps' in param['options']['params']:\n",
    "                future_steps = int(param['options']['params']['future_steps'])\n",
    "            if 'holdback' in param['options']['params']:\n",
    "                holdback = int(param['options']['params']['holdback'])\n",
    "    \n",
    "    # select training data\n",
    "    X = df[param['options']['split_by']].values\n",
    "\n",
    "    test_set = X[len(X)-holdback-model_batch_size:]\n",
    "    predictions = list(X[:len(X)-holdback])\n",
    "    # generate forecast\n",
    "    for i in range(0, holdback+future_steps):\n",
    "        if i<holdback:\n",
    "            X_batch = test_set[i:i+model_batch_size].reshape(1,model_batch_size,1)\n",
    "            y_pred = model.predict(x = X_batch, verbose=1)\n",
    "            predictions.append(list(y_pred[0]))\n",
    "        else:\n",
    "            X_batch = test_set[i:i+model_batch_size].reshape(1,model_batch_size,1)\n",
    "            y_pred = model.predict(x = X_batch, verbose=1)\n",
    "            predictions.append(list(y_pred[0]))\n",
    "            test_set = np.append(test_set, y_pred[0])\n",
    "            \n",
    "    # append predictions to time series to return a data frame\n",
    "    return predictions"
   ]
  },
  {
   "cell_type": "code",
   "execution_count": 12,
   "metadata": {},
   "outputs": [
    {
     "name": "stdout",
     "output_type": "stream",
     "text": [
      "1/1 [==============================] - 0s 78ms/step\n",
      "1/1 [==============================] - 0s 16ms/step\n",
      "1/1 [==============================] - 0s 17ms/step\n",
      "1/1 [==============================] - 0s 17ms/step\n",
      "1/1 [==============================] - 0s 17ms/step\n",
      "1/1 [==============================] - 0s 27ms/step\n",
      "1/1 [==============================] - 0s 18ms/step\n",
      "1/1 [==============================] - 0s 17ms/step\n",
      "1/1 [==============================] - 0s 18ms/step\n",
      "1/1 [==============================] - 0s 17ms/step\n",
      "1/1 [==============================] - 0s 17ms/step\n",
      "1/1 [==============================] - 0s 17ms/step\n",
      "1/1 [==============================] - 0s 17ms/step\n",
      "1/1 [==============================] - 0s 17ms/step\n",
      "1/1 [==============================] - 0s 17ms/step\n",
      "1/1 [==============================] - 0s 18ms/step\n",
      "1/1 [==============================] - 0s 17ms/step\n",
      "1/1 [==============================] - 0s 18ms/step\n",
      "1/1 [==============================] - 0s 18ms/step\n",
      "1/1 [==============================] - 0s 17ms/step\n",
      "1/1 [==============================] - 0s 17ms/step\n",
      "1/1 [==============================] - 0s 16ms/step\n",
      "1/1 [==============================] - 0s 16ms/step\n",
      "1/1 [==============================] - 0s 16ms/step\n",
      "1/1 [==============================] - 0s 17ms/step\n",
      "1/1 [==============================] - 0s 16ms/step\n",
      "1/1 [==============================] - 0s 16ms/step\n",
      "1/1 [==============================] - 0s 16ms/step\n",
      "1/1 [==============================] - 0s 15ms/step\n",
      "1/1 [==============================] - 0s 16ms/step\n",
      "1/1 [==============================] - 0s 16ms/step\n",
      "1/1 [==============================] - 0s 17ms/step\n",
      "1/1 [==============================] - 0s 16ms/step\n",
      "1/1 [==============================] - 0s 17ms/step\n",
      "1/1 [==============================] - 0s 16ms/step\n",
      "1/1 [==============================] - 0s 16ms/step\n",
      "1/1 [==============================] - 0s 16ms/step\n",
      "1/1 [==============================] - 0s 16ms/step\n",
      "1/1 [==============================] - 0s 16ms/step\n",
      "1/1 [==============================] - 0s 16ms/step\n",
      "1/1 [==============================] - 0s 17ms/step\n",
      "1/1 [==============================] - 0s 17ms/step\n",
      "1/1 [==============================] - 0s 17ms/step\n",
      "1/1 [==============================] - 0s 16ms/step\n",
      "1/1 [==============================] - 0s 16ms/step\n",
      "1/1 [==============================] - 0s 17ms/step\n",
      "1/1 [==============================] - 0s 16ms/step\n",
      "1/1 [==============================] - 0s 16ms/step\n",
      "1/1 [==============================] - 0s 17ms/step\n",
      "1/1 [==============================] - 0s 16ms/step\n",
      "1/1 [==============================] - 0s 18ms/step\n",
      "1/1 [==============================] - 0s 16ms/step\n",
      "1/1 [==============================] - 0s 17ms/step\n",
      "1/1 [==============================] - 0s 16ms/step\n",
      "1/1 [==============================] - 0s 16ms/step\n",
      "1/1 [==============================] - 0s 16ms/step\n",
      "1/1 [==============================] - 0s 16ms/step\n",
      "1/1 [==============================] - 0s 16ms/step\n",
      "1/1 [==============================] - 0s 18ms/step\n",
      "1/1 [==============================] - 0s 17ms/step\n",
      "646\n"
     ]
    },
    {
     "data": {
      "text/plain": [
       "[array([0.328399]),\n",
       " array([0.18502462]),\n",
       " array([-9.24839172e-05]),\n",
       " [-0.0953756],\n",
       " [-0.2724685],\n",
       " [-0.36768532],\n",
       " [-0.25154704],\n",
       " [0.13848017],\n",
       " [1.0742664],\n",
       " [1.2467495],\n",
       " [0.9159776],\n",
       " [0.5980304],\n",
       " [0.4464996],\n",
       " [-0.2050779],\n",
       " [-0.19790936],\n",
       " [-0.10597366],\n",
       " [-0.29441327],\n",
       " [-0.36397767],\n",
       " [-0.22809334],\n",
       " [0.35760197],\n",
       " [1.1380372],\n",
       " [1.1604118],\n",
       " [0.7387321],\n",
       " [0.628437],\n",
       " [0.27152884],\n",
       " [-0.26238215],\n",
       " [-0.20401311],\n",
       " [-0.17258857],\n",
       " [-0.33285034],\n",
       " [-0.30834076],\n",
       " [-0.17403547],\n",
       " [0.46485665],\n",
       " [1.1610049],\n",
       " [1.1802484],\n",
       " [0.8335834],\n",
       " [0.6336271],\n",
       " [0.13165574],\n",
       " [-0.021384852],\n",
       " [-0.2857948],\n",
       " [-0.2622921],\n",
       " [-0.21963409],\n",
       " [-0.07609786],\n",
       " [0.09566988],\n",
       " [0.24868257],\n",
       " [0.33310157],\n",
       " [0.33902824],\n",
       " [0.28239062],\n",
       " [0.19052932],\n",
       " [0.08408539],\n",
       " [-0.008798974],\n",
       " [-0.07755573],\n",
       " [-0.10699496],\n",
       " [-0.09610684],\n",
       " [-0.04688935],\n",
       " [0.027080877],\n",
       " [0.101846986],\n",
       " [0.15443543],\n",
       " [0.17117937],\n",
       " [0.15777183],\n",
       " [0.12082516],\n",
       " [0.075496376],\n",
       " [0.028129516],\n",
       " [-0.007014947]]"
      ]
     },
     "execution_count": 12,
     "metadata": {},
     "output_type": "execute_result"
    }
   ],
   "source": [
    "training_instance = apply(model,df,param)\n",
    "print(len(training_instance))\n",
    "training_instance[583:]"
   ]
  },
  {
   "cell_type": "markdown",
   "metadata": {},
   "source": [
    "## Stage 5 - save the model"
   ]
  },
  {
   "cell_type": "code",
   "execution_count": 13,
   "metadata": {
    "deletable": false,
    "name": "mltkc_save"
   },
   "outputs": [],
   "source": [
    "# save model to name in expected convention \"<algo_name>_<model_name>.h5\"\n",
    "def save(model,name):\n",
    "    # save keras model to keras file\n",
    "    model.save(MODEL_DIRECTORY + name + \".keras\")\n",
    "    return model"
   ]
  },
  {
   "cell_type": "markdown",
   "metadata": {},
   "source": [
    "## Stage 6 - load the model"
   ]
  },
  {
   "cell_type": "code",
   "execution_count": 14,
   "metadata": {
    "deletable": false,
    "name": "mltkc_load"
   },
   "outputs": [],
   "source": [
    "# load model from name in expected convention \"<algo_name>_<model_name>.h5\"\n",
    "def load(name):\n",
    "    model = keras.models.load_model(MODEL_DIRECTORY + name + \".keras\")\n",
    "    return model"
   ]
  },
  {
   "cell_type": "markdown",
   "metadata": {},
   "source": [
    "## Stage 7 - provide a summary of the model"
   ]
  },
  {
   "cell_type": "code",
   "execution_count": 15,
   "metadata": {
    "deletable": false,
    "name": "mltkc_summary"
   },
   "outputs": [],
   "source": [
    "# return model summary\n",
    "def summary(model=None):\n",
    "    returns = {\"version\": {\"tensorflow\": tf.__version__, \"keras\": keras.__version__} }\n",
    "    if model is not None:\n",
    "        # Save keras model summary to string:\n",
    "        s = []\n",
    "        model.summary(print_fn=lambda x: s.append(x+'\\n'))\n",
    "        returns[\"summary\"] = ''.join(s)\n",
    "    return returns"
   ]
  },
  {
   "cell_type": "markdown",
   "metadata": {},
   "source": [
    "## End of Stages\n",
    "All subsequent cells are not tagged and can be used for further freeform code"
   ]
  },
  {
   "cell_type": "code",
   "execution_count": null,
   "metadata": {},
   "outputs": [],
   "source": []
  },
  {
   "cell_type": "code",
   "execution_count": null,
   "metadata": {},
   "outputs": [],
   "source": []
  },
  {
   "cell_type": "code",
   "execution_count": null,
   "metadata": {},
   "outputs": [],
   "source": []
  },
  {
   "cell_type": "code",
   "execution_count": null,
   "metadata": {},
   "outputs": [],
   "source": []
  },
  {
   "cell_type": "code",
   "execution_count": null,
   "metadata": {},
   "outputs": [],
   "source": []
  }
 ],
 "metadata": {
  "kernelspec": {
   "display_name": "Python 3 (ipykernel)",
   "language": "python",
   "name": "python3"
  },
  "language_info": {
   "codemirror_mode": {
    "name": "ipython",
    "version": 3
   },
   "file_extension": ".py",
   "mimetype": "text/x-python",
   "name": "python",
   "nbconvert_exporter": "python",
   "pygments_lexer": "ipython3",
   "version": "3.9.13"
  }
 },
 "nbformat": 4,
 "nbformat_minor": 4
}
