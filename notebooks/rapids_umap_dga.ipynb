{
 "cells": [
  {
   "cell_type": "markdown",
   "metadata": {},
   "source": [
    "# Deep Learning Toolkit for Splunk - Rapids UMAP"
   ]
  },
  {
   "cell_type": "markdown",
   "metadata": {},
   "source": [
    "This notebook contains an example workflow how to work on custom containerized code that seamlessly interfaces with the Deep Learning Toolkit for Splunk."
   ]
  },
  {
   "cell_type": "markdown",
   "metadata": {},
   "source": [
    "Note: By default every time you save this notebook the cells are exported into a python module which is then invoked by Splunk MLTK commands like <code> | fit ... | apply ... | summary </code>. Please read the Model Development Guide in the Deep Learning Toolkit app for more information."
   ]
  },
  {
   "cell_type": "markdown",
   "metadata": {},
   "source": [
    "## Stage 0 - import libraries\n",
    "At stage 0 we define all imports necessary to run our subsequent code depending on various libraries."
   ]
  },
  {
   "cell_type": "code",
   "execution_count": 1,
   "metadata": {
    "deletable": false,
    "name": "mltkc_import"
   },
   "outputs": [],
   "source": [
    "# this definition exposes all python module imports that should be available in all subsequent commands\n",
    "import json\n",
    "import numpy as np\n",
    "import pandas as pd\n",
    "import seaborn as sns\n",
    "import matplotlib.pyplot as plt\n",
    "import datashader as ds\n",
    "import datashader.transfer_functions as tf\n",
    "import base64\n",
    "import io \n",
    "\n",
    "import cudf\n",
    "from cuml.manifold.umap import UMAP as cumlUMAP\n",
    "# ...\n",
    "# global constants\n",
    "MODEL_DIRECTORY = \"/srv/app/model/data/\""
   ]
  },
  {
   "cell_type": "code",
   "execution_count": 2,
   "metadata": {},
   "outputs": [
    {
     "name": "stdout",
     "output_type": "stream",
     "text": [
      "numpy version: 1.20.3\n",
      "pandas version: 1.3.5\n"
     ]
    }
   ],
   "source": [
    "# THIS CELL IS NOT EXPORTED - free notebook cell for testing or development purposes\n",
    "print(\"numpy version: \" + np.__version__)\n",
    "print(\"pandas version: \" + pd.__version__)"
   ]
  },
  {
   "cell_type": "markdown",
   "metadata": {},
   "source": [
    "## Stage 1 - get a data sample from Splunk\n",
    "In Splunk run a search to pipe a dataset into your notebook environment. Note: mode=stage is used in the | fit command to do this."
   ]
  },
  {
   "cell_type": "markdown",
   "metadata": {},
   "source": [
    "| inputlookup dga_domains_features.csv</br>\n",
    "| fit MLTKContainer mode=stage algo=rapids_umap plot=\"datashader\" class from ut* PC* into app:dga_rapids_umap\n"
   ]
  },
  {
   "cell_type": "markdown",
   "metadata": {},
   "source": [
    "After you run this search your data set sample is available as a csv inside the container to develop your model. The name is taken from the into keyword (\"barebone_model\" in the example above) or set to \"default\" if no into keyword is present. This step is intended to work with a subset of your data to create your custom model."
   ]
  },
  {
   "cell_type": "code",
   "execution_count": 5,
   "metadata": {
    "deletable": false,
    "name": "mltkc_stage"
   },
   "outputs": [],
   "source": [
    "# this cell is not executed from MLTK and should only be used for staging data into the notebook environment\n",
    "def stage(name):\n",
    "    with open(\"data/\"+name+\".csv\", 'r') as f:\n",
    "        df = pd.read_csv(f)\n",
    "    with open(\"data/\"+name+\".json\", 'r') as f:\n",
    "        param = json.load(f)\n",
    "    return df, param"
   ]
  },
  {
   "cell_type": "code",
   "execution_count": 6,
   "metadata": {},
   "outputs": [
    {
     "name": "stdout",
     "output_type": "stream",
     "text": [
      "               PC_1          PC_2          PC_3  ut_consonant_ratio  \\\n",
      "count  1.000000e+05  1.000000e+05  1.000000e+05       100000.000000   \n",
      "mean   1.975309e-17  3.637979e-17 -5.684342e-18            0.663744   \n",
      "std    3.009696e-01  2.765589e-01  2.462737e-01            0.116289   \n",
      "min   -6.329973e-01 -4.584986e-01 -4.336646e-01            0.157895   \n",
      "25%   -2.302163e-01 -1.668876e-01 -9.667460e-02            0.600000   \n",
      "50%    2.829819e-02 -7.662479e-02 -4.886633e-02            0.666667   \n",
      "75%    1.429489e-01  1.020035e-01  4.465652e-02            0.714286   \n",
      "max    7.522650e-01  8.231569e-01  8.860410e-01            1.000000   \n",
      "\n",
      "       ut_digit_ratio  ut_domain_length  ut_meaning_ratio     ut_shannon  \\\n",
      "count   100000.000000     100000.000000     100000.000000  100000.000000   \n",
      "mean         0.112564         21.387000          0.292602       3.690800   \n",
      "std          0.132294          7.703738          0.213134       0.425123   \n",
      "min          0.000000          1.000000          0.000000       0.000000   \n",
      "25%          0.000000         16.000000          0.125000       3.392747   \n",
      "50%          0.050000         20.000000          0.238095       3.721928   \n",
      "75%          0.222222         28.000000          0.454545       4.021928   \n",
      "max          0.625000         82.000000          1.000000       4.771600   \n",
      "\n",
      "       ut_vowel_ratio  \n",
      "count   100000.000000  \n",
      "mean         0.224831  \n",
      "std          0.099821  \n",
      "min          0.000000  \n",
      "25%          0.150000  \n",
      "50%          0.222222  \n",
      "75%          0.300000  \n",
      "max          0.833333  \n",
      "{'options': {'params': {'mode': 'stage', 'algo': 'rapids_umap_dga', 'plot': '\"datashader\"'}, 'args': ['class', 'ut*', 'PC*'], 'target_variable': ['class'], 'feature_variables': ['ut*', 'PC*'], 'model_name': 'dga_rapids_umap', 'algo_name': 'MLTKContainer', 'mlspl_limits': {'disabled': False, 'handle_new_cat': 'default', 'max_distinct_cat_values': '10000', 'max_distinct_cat_values_for_classifiers': '10000', 'max_distinct_cat_values_for_scoring': '10000', 'max_fit_time': '6000', 'max_inputs': '100000000', 'max_memory_usage_mb': '50000', 'max_model_size_mb': '5000', 'max_score_time': '6000', 'streaming_apply': '0', 'use_sampling': '1'}, 'kfold_cv': None}, 'feature_variables': ['ut_consonant_ratio', 'ut_digit_ratio', 'ut_domain_length', 'ut_meaning_ratio', 'ut_shannon', 'ut_vowel_ratio', 'PC_1', 'PC_2', 'PC_3'], 'target_variables': ['class']}\n"
     ]
    }
   ],
   "source": [
    "# THIS CELL IS NOT EXPORTED - free notebook cell for testing or development purposes\n",
    "df, param = stage(\"dga_rapids_umap\")\n",
    "print(df.describe())\n",
    "print(param)"
   ]
  },
  {
   "cell_type": "code",
   "execution_count": 7,
   "metadata": {},
   "outputs": [
    {
     "data": {
      "text/plain": [
       "['ut_consonant_ratio',\n",
       " 'ut_digit_ratio',\n",
       " 'ut_domain_length',\n",
       " 'ut_meaning_ratio',\n",
       " 'ut_shannon',\n",
       " 'ut_vowel_ratio',\n",
       " 'PC_1',\n",
       " 'PC_2',\n",
       " 'PC_3',\n",
       " 'class']"
      ]
     },
     "execution_count": 7,
     "metadata": {},
     "output_type": "execute_result"
    }
   ],
   "source": [
    "param['feature_variables'] + param['target_variables']"
   ]
  },
  {
   "cell_type": "code",
   "execution_count": null,
   "metadata": {},
   "outputs": [],
   "source": []
  },
  {
   "cell_type": "markdown",
   "metadata": {},
   "source": [
    "## Stage 2 - create and initialize a model"
   ]
  },
  {
   "cell_type": "code",
   "execution_count": 8,
   "metadata": {
    "deletable": false,
    "name": "mltkc_init"
   },
   "outputs": [],
   "source": [
    "# initialize your model\n",
    "# available inputs: data and parameters\n",
    "# returns the model object which will be used as a reference to call fit, apply and summary subsequently\n",
    "def init(df,param):\n",
    "    model = {}\n",
    "    return model"
   ]
  },
  {
   "cell_type": "code",
   "execution_count": 9,
   "metadata": {
    "scrolled": true
   },
   "outputs": [
    {
     "name": "stdout",
     "output_type": "stream",
     "text": [
      "{}\n"
     ]
    }
   ],
   "source": [
    "# THIS CELL IS NOT EXPORTED - free notebook cell for testing or development purposes\n",
    "model = init(df,param)\n",
    "print(model)"
   ]
  },
  {
   "cell_type": "markdown",
   "metadata": {},
   "source": [
    "## Stage 3 - fit the model"
   ]
  },
  {
   "cell_type": "code",
   "execution_count": 10,
   "metadata": {
    "deletable": false,
    "name": "mltkc_fit"
   },
   "outputs": [],
   "source": [
    "# train your model\n",
    "# returns a fit info json object and may modify the model object\n",
    "def fit(model,df,param):\n",
    "    # model.fit()\n",
    "    info = {\"message\": \"no fit needed\"}\n",
    "    return info"
   ]
  },
  {
   "cell_type": "code",
   "execution_count": 11,
   "metadata": {},
   "outputs": [
    {
     "name": "stdout",
     "output_type": "stream",
     "text": [
      "{'message': 'no fit needed'}\n"
     ]
    }
   ],
   "source": [
    "# THIS CELL IS NOT EXPORTED - free notebook cell for testing or development purposes\n",
    "print(fit(model,df,param))"
   ]
  },
  {
   "cell_type": "markdown",
   "metadata": {},
   "source": [
    "## Stage 4 - apply the model"
   ]
  },
  {
   "cell_type": "code",
   "execution_count": 16,
   "metadata": {
    "deletable": false,
    "name": "mltkc_apply"
   },
   "outputs": [],
   "source": [
    "# apply your model\n",
    "# returns the calculated results\n",
    "def plot_to_base64(plot):\n",
    "    pic_IObytes = io.BytesIO()\n",
    "    if hasattr(plot,'fig'):\n",
    "        plot.fig.savefig(pic_IObytes, format='png')\n",
    "    elif hasattr(plot,'figure'):\n",
    "        plot.figure.savefig(pic_IObytes, format='png')\n",
    "    pic_IObytes.seek(0)\n",
    "    pic_hash = base64.b64encode(pic_IObytes.read())\n",
    "    pic_IObytes.close()\n",
    "    return pic_hash\n",
    "\n",
    "def plot_datashader_as_base64(df,param):\n",
    "    cat = param['target_variables'][0]\n",
    "    dfr = df.astype({cat: 'category'})\n",
    "    squ = 25.0\n",
    "    dfr = dfr[dfr[\"UMAP1\"].between(-squ, squ) & dfr[\"UMAP2\"].between(-squ, squ)]\n",
    "    cvs = ds.Canvas(plot_width=800, plot_height=600)\n",
    "    agg = cvs.points(dfr, 'UMAP1', 'UMAP2', ds.count_cat(cat))\n",
    "    color_key_dga = {'dga':'red', 'legit':'blue'}\n",
    "\n",
    "    img = tf.shade(agg, cmap=color_key_dga, how=\"eq_hist\")\n",
    "\n",
    "    #img.plot()\n",
    "    pic_IObytes = img.to_bytesio()\n",
    "    pic_IObytes.seek(0)\n",
    "    pic_hash = base64.b64encode(pic_IObytes.read())\n",
    "    return str(pic_hash)\n",
    "\n",
    "\n",
    "def plot_scatter_as_base64(df,param):\n",
    "    hue=None\n",
    "    if 'options' in param:\n",
    "        if 'target_variable' in param['options']:\n",
    "            hue=str(param['options']['target_variable'][0])\n",
    "    #plot = sns.pairplot(df,hue=hue, palette=\"husl\")\n",
    "    sns.set()\n",
    "    plot = sns.scatterplot(x=\"UMAP1\", y=\"UMAP2\", data=df)\n",
    "    res = str(plot_to_base64(plot))\n",
    "    return res\n",
    "\n",
    "def apply(model,df,param):\n",
    "    # param['options']['model_name']\n",
    "    dfeatures = df[param['feature_variables']]\n",
    "    cuml_umap = cumlUMAP()\n",
    "    #model['umap'] = cuml_umap\n",
    "    gdf = cudf.DataFrame.from_pandas(dfeatures)\n",
    "    embedding = cuml_umap.fit_transform(gdf)\n",
    "    result = embedding.rename(columns={0: \"UMAP1\", 1: \"UMAP2\"}).to_pandas()\n",
    "    result_plot = df[param['target_variables']].join(result)\n",
    "    if 'plot' in param['options']['params']:\n",
    "        plots = param['options']['params']['plot'].lstrip(\"\\\"\").rstrip(\"\\\"\").lower().split(',')\n",
    "        for plot in plots:\n",
    "            if plot=='scatter':\n",
    "                model[\"plot_scatter\"] = plot_scatter_as_base64(result,param)\n",
    "            elif plot=='datashader':\n",
    "                model[\"plot_datashader\"] = plot_datashader_as_base64(result_plot,param)\n",
    "            else:\n",
    "                continue\n",
    "\n",
    "    return result_plot\n"
   ]
  },
  {
   "cell_type": "code",
   "execution_count": 17,
   "metadata": {},
   "outputs": [
    {
     "data": {
      "text/html": [
       "<div>\n",
       "<style scoped>\n",
       "    .dataframe tbody tr th:only-of-type {\n",
       "        vertical-align: middle;\n",
       "    }\n",
       "\n",
       "    .dataframe tbody tr th {\n",
       "        vertical-align: top;\n",
       "    }\n",
       "\n",
       "    .dataframe thead th {\n",
       "        text-align: right;\n",
       "    }\n",
       "</style>\n",
       "<table border=\"1\" class=\"dataframe\">\n",
       "  <thead>\n",
       "    <tr style=\"text-align: right;\">\n",
       "      <th></th>\n",
       "      <th>class</th>\n",
       "      <th>UMAP1</th>\n",
       "      <th>UMAP2</th>\n",
       "    </tr>\n",
       "  </thead>\n",
       "  <tbody>\n",
       "    <tr>\n",
       "      <th>0</th>\n",
       "      <td>legit</td>\n",
       "      <td>-1.802462</td>\n",
       "      <td>-6.495295</td>\n",
       "    </tr>\n",
       "    <tr>\n",
       "      <th>1</th>\n",
       "      <td>legit</td>\n",
       "      <td>-5.769072</td>\n",
       "      <td>1.108213</td>\n",
       "    </tr>\n",
       "    <tr>\n",
       "      <th>2</th>\n",
       "      <td>legit</td>\n",
       "      <td>10.214314</td>\n",
       "      <td>3.142128</td>\n",
       "    </tr>\n",
       "    <tr>\n",
       "      <th>3</th>\n",
       "      <td>legit</td>\n",
       "      <td>-0.559514</td>\n",
       "      <td>5.116375</td>\n",
       "    </tr>\n",
       "    <tr>\n",
       "      <th>4</th>\n",
       "      <td>legit</td>\n",
       "      <td>-4.194596</td>\n",
       "      <td>7.710491</td>\n",
       "    </tr>\n",
       "    <tr>\n",
       "      <th>...</th>\n",
       "      <td>...</td>\n",
       "      <td>...</td>\n",
       "      <td>...</td>\n",
       "    </tr>\n",
       "    <tr>\n",
       "      <th>99995</th>\n",
       "      <td>dga</td>\n",
       "      <td>-3.578046</td>\n",
       "      <td>6.605667</td>\n",
       "    </tr>\n",
       "    <tr>\n",
       "      <th>99996</th>\n",
       "      <td>dga</td>\n",
       "      <td>5.818362</td>\n",
       "      <td>5.178204</td>\n",
       "    </tr>\n",
       "    <tr>\n",
       "      <th>99997</th>\n",
       "      <td>dga</td>\n",
       "      <td>-7.442810</td>\n",
       "      <td>-3.122769</td>\n",
       "    </tr>\n",
       "    <tr>\n",
       "      <th>99998</th>\n",
       "      <td>dga</td>\n",
       "      <td>7.841946</td>\n",
       "      <td>-4.337856</td>\n",
       "    </tr>\n",
       "    <tr>\n",
       "      <th>99999</th>\n",
       "      <td>dga</td>\n",
       "      <td>-6.321964</td>\n",
       "      <td>-4.531877</td>\n",
       "    </tr>\n",
       "  </tbody>\n",
       "</table>\n",
       "<p>100000 rows × 3 columns</p>\n",
       "</div>"
      ],
      "text/plain": [
       "       class      UMAP1     UMAP2\n",
       "0      legit  -1.802462 -6.495295\n",
       "1      legit  -5.769072  1.108213\n",
       "2      legit  10.214314  3.142128\n",
       "3      legit  -0.559514  5.116375\n",
       "4      legit  -4.194596  7.710491\n",
       "...      ...        ...       ...\n",
       "99995    dga  -3.578046  6.605667\n",
       "99996    dga   5.818362  5.178204\n",
       "99997    dga  -7.442810 -3.122769\n",
       "99998    dga   7.841946 -4.337856\n",
       "99999    dga  -6.321964 -4.531877\n",
       "\n",
       "[100000 rows x 3 columns]"
      ]
     },
     "execution_count": 17,
     "metadata": {},
     "output_type": "execute_result"
    }
   ],
   "source": [
    "# THIS CELL IS NOT EXPORTED - free notebook cell for testing or development purposes\n",
    "result = apply(model,df,param)\n",
    "result"
   ]
  },
  {
   "cell_type": "code",
   "execution_count": 18,
   "metadata": {},
   "outputs": [
    {
     "data": {
      "text/plain": [
       "<AxesSubplot:xlabel='UMAP1', ylabel='UMAP2'>"
      ]
     },
     "execution_count": 18,
     "metadata": {},
     "output_type": "execute_result"
    },
    {
     "data": {
      "image/png": "[encoded data removed]",
      "text/plain": [
       "<Figure size 432x288 with 1 Axes>"
      ]
     },
     "metadata": {
      "needs_background": "light"
     },
     "output_type": "display_data"
    }
   ],
   "source": [
    "plot = sns.scatterplot(x=\"UMAP1\", y=\"UMAP2\", data=result)\n",
    "plot\n"
   ]
  },
  {
   "cell_type": "markdown",
   "metadata": {},
   "source": [
    "## Stage 5 - save the model"
   ]
  },
  {
   "cell_type": "code",
   "execution_count": 104,
   "metadata": {
    "deletable": false,
    "name": "mltkc_save"
   },
   "outputs": [],
   "source": [
    "# save model to name in expected convention \"<algo_name>_<model_name>\"\n",
    "def save(model,name):\n",
    "    with open(MODEL_DIRECTORY + name + \".json\", 'w') as file:\n",
    "        json.dump(model, file)\n",
    "    return model"
   ]
  },
  {
   "cell_type": "code",
   "execution_count": 109,
   "metadata": {},
   "outputs": [],
   "source": [
    "model  = save(model,'umap_dga')"
   ]
  },
  {
   "cell_type": "markdown",
   "metadata": {},
   "source": [
    "## Stage 6 - load the model"
   ]
  },
  {
   "cell_type": "code",
   "execution_count": 110,
   "metadata": {
    "deletable": false,
    "name": "mltkc_load"
   },
   "outputs": [],
   "source": [
    "# load model from name in expected convention \"<algo_name>_<model_name>\"\n",
    "def load(name):\n",
    "    model = {}\n",
    "    with open(MODEL_DIRECTORY + name + \".json\", 'r') as file:\n",
    "        model = json.load(file)\n",
    "    return model"
   ]
  },
  {
   "cell_type": "code",
   "execution_count": 111,
   "metadata": {},
   "outputs": [],
   "source": [
    "model = load('umap_dga')"
   ]
  },
  {
   "cell_type": "markdown",
   "metadata": {},
   "source": [
    "## Stage 7 - provide a summary of the model"
   ]
  },
  {
   "cell_type": "code",
   "execution_count": 112,
   "metadata": {
    "deletable": false,
    "name": "mltkc_summary"
   },
   "outputs": [],
   "source": [
    "# return a model summary\n",
    "def summary(model=None):\n",
    "    returns = {\"version\": {\"numpy\": np.__version__, \"pandas\": pd.__version__} }\n",
    "    return returns"
   ]
  },
  {
   "cell_type": "markdown",
   "metadata": {},
   "source": [
    "## End of Stages\n",
    "All subsequent cells are not tagged and can be used for further freeform code"
   ]
  },
  {
   "cell_type": "code",
   "execution_count": 15,
   "metadata": {},
   "outputs": [
    {
     "name": "stdout",
     "output_type": "stream",
     "text": [
      "{'version': {'numpy': '1.18.1', 'pandas': '0.25.3'}}\n"
     ]
    }
   ],
   "source": [
    "print(summary(model))"
   ]
  },
  {
   "cell_type": "code",
   "execution_count": null,
   "metadata": {},
   "outputs": [],
   "source": []
  }
 ],
 "metadata": {
  "kernelspec": {
   "display_name": "Python 3",
   "language": "python",
   "name": "python3"
  },
  "language_info": {
   "codemirror_mode": {
    "name": "ipython",
    "version": 3
   },
   "file_extension": ".py",
   "mimetype": "text/x-python",
   "name": "python",
   "nbconvert_exporter": "python",
   "pygments_lexer": "ipython3",
   "version": "3.7.12"
  }
 },
 "nbformat": 4,
 "nbformat_minor": 4
}
