{
 "cells": [
  {
   "cell_type": "markdown",
   "metadata": {},
   "source": [
    "# Splunk App for Data Science and Deep Learning - Multivariate LSTM Example"
   ]
  },
  {
   "cell_type": "markdown",
   "metadata": {},
   "source": [
    "This notebook contains an example workflow for training and applying a multivariate LSTM."
   ]
  },
  {
   "cell_type": "markdown",
   "metadata": {},
   "source": [
    "## Stage 0 - import libraries\n",
    "At stage 0 we define all imports necessary to run our subsequent code depending on various libraries."
   ]
  },
  {
   "cell_type": "code",
   "execution_count": 2,
   "metadata": {
    "deletable": false,
    "name": "mltkc_import"
   },
   "outputs": [],
   "source": [
    "# this definition exposes all python module imports that should be available in all subsequent commands\n",
    "import json\n",
    "import numpy as np\n",
    "import pandas as pd\n",
    "from sklearn.preprocessing import MinMaxScaler\n",
    "from tensorflow.keras.models import Sequential\n",
    "from tensorflow.keras.layers import Dense\n",
    "from tensorflow.keras.layers import LSTM\n",
    "from tensorflow.keras.models import load_model\n",
    "import tensorflow as tf\n",
    "# restrict GPU memory https://www.tensorflow.org/guide/gpu#limiting_gpu_memory_growth\n",
    "gpus = tf.config.experimental.list_physical_devices('GPU')\n",
    "if gpus:\n",
    "    try:\n",
    "        # Currently, memory growth needs to be the same across GPUs\n",
    "        for gpu in gpus:\n",
    "            tf.config.experimental.set_memory_growth(gpu, True)\n",
    "            #logical_gpus = tf.config.experimental.list_logical_devices('GPU')\n",
    "            # print(len(gpus), \"Physical GPUs,\", len(logical_gpus), \"Logical GPUs\")\n",
    "    except RuntimeError as e:\n",
    "        # Memory growth must be set before GPUs have been initialized\n",
    "        print(e)\n",
    "\n",
    "# ...\n",
    "# global constants\n",
    "MODEL_DIRECTORY = \"/srv/app/model/data/\""
   ]
  },
  {
   "cell_type": "code",
   "execution_count": 3,
   "metadata": {},
   "outputs": [
    {
     "name": "stdout",
     "output_type": "stream",
     "text": [
      "numpy version: 1.26.4\n",
      "pandas version: 2.2.0\n"
     ]
    }
   ],
   "source": [
    "# THIS CELL IS NOT EXPORTED - free notebook cell for testing or development purposes\n",
    "print(\"numpy version: \" + np.__version__)\n",
    "print(\"pandas version: \" + pd.__version__)"
   ]
  },
  {
   "cell_type": "markdown",
   "metadata": {},
   "source": [
    "## Stage 1 - get a data sample from Splunk\n",
    "In Splunk run a search to pipe a dataset into your notebook environment. Note: mode=stage is used in the | fit command to do this."
   ]
  },
  {
   "cell_type": "markdown",
   "metadata": {},
   "source": [
    "| inputlookup server_power.csv <br/>\n",
    "| streamstats count <br/>\n",
    "| eventstats max(count) as records <br/>\n",
    "| eval train_split=round(records*0.7) <br/>\n",
    "| appendpipe <br/>\n",
    "    \\[| where count<train_split <br/>\n",
    "    | fit MLTKContainer mode=stage algo=multivariate_lstm \"ac_power\" from \"total-unhalted_core_cycles\" \"total-instructions_retired\" \"total-last_level_cache_references\" \"total-memory_bus_transactions\" \"total-cpu-utilization\" \"total-disk-accesses\" \"total-disk-blocks\" \"total-disk-utilization\" epochs=5 batch_size=50 previous_steps=2 into app:lstm_ac_power\\] "
   ]
  },
  {
   "cell_type": "markdown",
   "metadata": {},
   "source": [
    "After you run this search your data set sample is available as a csv inside the container to develop your model. The name is taken from the into keyword (\"barebone_model\" in the example above) or set to \"default\" if no into keyword is present. This step is intended to work with a subset of your data to create your custom model."
   ]
  },
  {
   "cell_type": "code",
   "execution_count": 8,
   "metadata": {
    "deletable": false,
    "name": "mltkc_stage"
   },
   "outputs": [],
   "source": [
    "# this cell is not executed from MLTK and should only be used for staging data into the notebook environment\n",
    "def stage(name):\n",
    "    with open(\"data/\"+name+\".csv\", 'r') as f:\n",
    "        df = pd.read_csv(f)\n",
    "    with open(\"data/\"+name+\".json\", 'r') as f:\n",
    "        param = json.load(f)\n",
    "    return df, param"
   ]
  },
  {
   "cell_type": "code",
   "execution_count": 9,
   "metadata": {},
   "outputs": [
    {
     "data": {
      "text/plain": [
       "{'options': {'params': {'mode': 'stage',\n",
       "   'algo': 'multivariate_lstm',\n",
       "   'epochs': '5',\n",
       "   'batch_size': '50',\n",
       "   'previous_steps': '2'},\n",
       "  'args': ['ac_power',\n",
       "   'total-unhalted_core_cycles',\n",
       "   'total-instructions_retired',\n",
       "   'total-last_level_cache_references',\n",
       "   'total-memory_bus_transactions',\n",
       "   'total-cpu-utilization',\n",
       "   'total-disk-accesses',\n",
       "   'total-disk-blocks',\n",
       "   'total-disk-utilization'],\n",
       "  'target_variable': ['ac_power'],\n",
       "  'feature_variables': ['total-unhalted_core_cycles',\n",
       "   'total-instructions_retired',\n",
       "   'total-last_level_cache_references',\n",
       "   'total-memory_bus_transactions',\n",
       "   'total-cpu-utilization',\n",
       "   'total-disk-accesses',\n",
       "   'total-disk-blocks',\n",
       "   'total-disk-utilization'],\n",
       "  'model_name': 'lstm_ac_power',\n",
       "  'algo_name': 'MLTKContainer',\n",
       "  'mlspl_limits': {'disabled': False,\n",
       "   'handle_new_cat': 'default',\n",
       "   'max_distinct_cat_values': '10000',\n",
       "   'max_distinct_cat_values_for_classifiers': '10000',\n",
       "   'max_distinct_cat_values_for_scoring': '10000',\n",
       "   'max_fit_time': '6000',\n",
       "   'max_inputs': '10000000',\n",
       "   'max_memory_usage_mb': '16000',\n",
       "   'max_model_size_mb': '3000',\n",
       "   'max_score_time': '6000',\n",
       "   'use_sampling': '1'},\n",
       "  'kfold_cv': None},\n",
       " 'feature_variables': ['total-unhalted_core_cycles',\n",
       "  'total-instructions_retired',\n",
       "  'total-last_level_cache_references',\n",
       "  'total-memory_bus_transactions',\n",
       "  'total-cpu-utilization',\n",
       "  'total-disk-accesses',\n",
       "  'total-disk-blocks',\n",
       "  'total-disk-utilization'],\n",
       " 'target_variables': ['ac_power']}"
      ]
     },
     "execution_count": 9,
     "metadata": {},
     "output_type": "execute_result"
    }
   ],
   "source": [
    "# THIS CELL IS NOT EXPORTED - free notebook cell for testing or development purposes\n",
    "df, param = stage(\"lstm_ac_power\")\n",
    "param"
   ]
  },
  {
   "cell_type": "markdown",
   "metadata": {},
   "source": [
    "## Stage 2 - create and initialize a model"
   ]
  },
  {
   "cell_type": "code",
   "execution_count": 10,
   "metadata": {
    "deletable": false,
    "name": "mltkc_init"
   },
   "outputs": [],
   "source": [
    "# initialize your model\n",
    "# available inputs: data and parameters\n",
    "# returns the model object which will be used as a reference to call fit, apply and summary subsequently\n",
    "def init(df,param):\n",
    "    # Determine the number of features in the data\n",
    "    n_features = df[param['feature_variables']].shape[1]\n",
    "    \n",
    "    # Set the model parameters depending on the input variables\n",
    "    previous_steps = 3\n",
    "    hidden_layers = 30\n",
    "    activation_func = 'tanh'\n",
    "    \n",
    "    if 'options' in param:\n",
    "        if 'params' in param['options']:\n",
    "            if 'previous_steps' in param['options']['params']:\n",
    "                previous_steps = int(param['options']['params']['previous_steps'])\n",
    "            if 'hidden_layers' in param['options']['params']:\n",
    "                hidden_layers = int(param['options']['params']['hidden_layers'])\n",
    "            if 'activation' in param['options']['params']:\n",
    "                activation_func = param['options']['params']['activation']\n",
    "    \n",
    "    model = Sequential()\n",
    "    model.add(LSTM(units=hidden_layers, activation=activation_func, return_sequences=True, input_shape=(previous_steps, n_features)))\n",
    "    model.add(LSTM(units=hidden_layers))\n",
    "    model.add(Dense(1))\n",
    "    model.compile(loss='mae', optimizer='adam')\n",
    "    return model"
   ]
  },
  {
   "cell_type": "code",
   "execution_count": 11,
   "metadata": {
    "scrolled": true
   },
   "outputs": [
    {
     "name": "stdout",
     "output_type": "stream",
     "text": [
      "<keras.src.engine.sequential.Sequential object at 0x7fb5f5f4adf0>\n"
     ]
    }
   ],
   "source": [
    "# THIS CELL IS NOT EXPORTED - free notebook cell for testing or development purposes\n",
    "print(init(df,param))\n",
    "model=init(df,param)"
   ]
  },
  {
   "cell_type": "markdown",
   "metadata": {},
   "source": [
    "## Stage 3 - fit the model"
   ]
  },
  {
   "cell_type": "code",
   "execution_count": 12,
   "metadata": {
    "deletable": false,
    "name": "mltkc_fit"
   },
   "outputs": [],
   "source": [
    "# train your model\n",
    "# returns a fit info json object and may modify the model object\n",
    "def fit(model,df,param):\n",
    "    X = df[param['feature_variables']]\n",
    "    y = df[param['target_variables']]\n",
    "    \n",
    "    # Determine how many features are in the dataset\n",
    "    n_features = X.shape[1]\n",
    "    \n",
    "    # Determine the batch size and epochs\n",
    "    previous_steps=3\n",
    "    model_batch_size=10\n",
    "    model_epochs=100\n",
    "\n",
    "    if 'options' in param:\n",
    "        if 'params' in param['options']:\n",
    "            if 'previous_steps' in param['options']['params']:\n",
    "                previous_steps = int(param['options']['params']['previous_steps'])\n",
    "            if 'epochs' in param['options']['params']:\n",
    "                model_epochs = int(param['options']['params']['epochs'])\n",
    "            if 'batch_size' in param['options']['params']:\n",
    "                model_batch_size = int(param['options']['params']['batch_size'])\n",
    "\n",
    "    # Scale the input data\n",
    "    scaler = MinMaxScaler()\n",
    "    X_ss = scaler.fit_transform(X)\n",
    "\n",
    "    # Loop through the data to ensure you have the correct input and output for the LSTM\n",
    "    input_data=[]\n",
    "    output_data=[]\n",
    "    for i in range(X_ss.shape[0]-previous_steps-1):\n",
    "        t=[]\n",
    "        for j in range(0,previous_steps):\n",
    "            t.append(X_ss[i+j])\n",
    "\n",
    "        input_data.append(t)\n",
    "        output_data.append(y.iloc[i+previous_steps])\n",
    "\n",
    "    X = np.array(input_data)\n",
    "    y = np.array(output_data)\n",
    "\n",
    "    X = X.reshape(X.shape[0],previous_steps, n_features)\n",
    "\n",
    "    print(\"Training data contains \", X.shape[0], \" records of shape \", X.shape)\n",
    "    \n",
    "    # fit network\n",
    "    history = model.fit(X, y, epochs=model_epochs, batch_size=model_batch_size, validation_data=(X, y), verbose=2, shuffle=False)\n",
    "    info = {\"message\": \"model trained\"}\n",
    "    return info"
   ]
  },
  {
   "cell_type": "code",
   "execution_count": 13,
   "metadata": {},
   "outputs": [
    {
     "name": "stdout",
     "output_type": "stream",
     "text": [
      "Training data contains  21885  records of shape  (21885, 2, 8)\n",
      "Epoch 1/5\n",
      "438/438 - 6s - loss: 221.5606 - val_loss: 210.6462 - 6s/epoch - 14ms/step\n",
      "Epoch 2/5\n",
      "438/438 - 3s - loss: 203.1495 - val_loss: 195.9071 - 3s/epoch - 6ms/step\n",
      "Epoch 3/5\n",
      "438/438 - 3s - loss: 189.0107 - val_loss: 182.1509 - 3s/epoch - 6ms/step\n",
      "Epoch 4/5\n",
      "438/438 - 3s - loss: 175.4334 - val_loss: 168.7080 - 3s/epoch - 6ms/step\n",
      "Epoch 5/5\n",
      "438/438 - 3s - loss: 162.0700 - val_loss: 155.4087 - 3s/epoch - 6ms/step\n",
      "{'message': 'model trained'}\n",
      "Training in seconds:  18.098248720169067\n"
     ]
    }
   ],
   "source": [
    "# THIS CELL IS NOT EXPORTED - free notebook cell for testing or development purposes\n",
    "import time\n",
    "start = time.time()\n",
    "print(fit(model,df,param))\n",
    "end = time.time()\n",
    "elapsed = end-start\n",
    "print(\"Training in seconds: \", elapsed)"
   ]
  },
  {
   "cell_type": "markdown",
   "metadata": {},
   "source": [
    "## Stage 4 - apply the model"
   ]
  },
  {
   "cell_type": "code",
   "execution_count": 14,
   "metadata": {
    "deletable": false,
    "name": "mltkc_apply"
   },
   "outputs": [],
   "source": [
    "# apply your model\n",
    "# returns the calculated results\n",
    "def apply(model,df,param):\n",
    "    y_hat = np.zeros(df.shape[0]) \n",
    "    \n",
    "    X = df[param['feature_variables']]\n",
    "    n_features = X.shape[1]\n",
    "    \n",
    "    # Determine the batch size and epochs\n",
    "    previous_steps=3\n",
    "\n",
    "    if 'options' in param:\n",
    "        if 'params' in param['options']:\n",
    "            if 'previous_steps' in param['options']['params']:\n",
    "                previous_steps = int(param['options']['params']['previous_steps'])\n",
    "    \n",
    "    # Scale the input data\n",
    "    scaler = MinMaxScaler()\n",
    "    X_ss = scaler.fit_transform(X)\n",
    "\n",
    "    # Loop through the data to ensure you have the correct input and output for the LSTM\n",
    "    input_data=[]\n",
    "    output_data=[]\n",
    "    for i in range(X_ss.shape[0]-previous_steps-1):\n",
    "        t=[]\n",
    "        for j in range(0,previous_steps):\n",
    "            t.append(X_ss[i+j])\n",
    "\n",
    "        input_data.append(t)\n",
    "\n",
    "    X = np.array(input_data)\n",
    "    X = X.reshape(X.shape[0],previous_steps, n_features)\n",
    "    \n",
    "    predictions = model.predict(X)\n",
    "    \n",
    "    for k in range(y_hat.shape[0]):\n",
    "        if k > previous_steps:\n",
    "            y_hat[k]=predictions[k-previous_steps-1]\n",
    "    \n",
    "    result = pd.DataFrame(y_hat, columns=['prediction'])\n",
    "    return result"
   ]
  },
  {
   "cell_type": "code",
   "execution_count": 15,
   "metadata": {},
   "outputs": [
    {
     "name": "stdout",
     "output_type": "stream",
     "text": [
      "684/684 [==============================] - 2s 2ms/step\n",
      "       prediction\n",
      "0        0.000000\n",
      "1        0.000000\n",
      "2        0.000000\n",
      "3       79.906837\n",
      "4       79.913437\n",
      "...           ...\n",
      "21883   79.949142\n",
      "21884   79.949142\n",
      "21885   79.949142\n",
      "21886   79.949142\n",
      "21887   79.949135\n",
      "\n",
      "[21888 rows x 1 columns]\n",
      " 28/684 [>.............................] - ETA: 1s "
     ]
    },
    {
     "name": "stderr",
     "output_type": "stream",
     "text": [
      "/tmp/ipykernel_1297/3732361808.py:38: DeprecationWarning: Conversion of an array with ndim > 0 to a scalar is deprecated, and will error in future. Ensure you extract a single element from your array before performing this operation. (Deprecated NumPy 1.25.)\n",
      "  y_hat[k]=predictions[k-previous_steps-1]\n"
     ]
    },
    {
     "name": "stdout",
     "output_type": "stream",
     "text": [
      "684/684 [==============================] - 1s 2ms/step\n"
     ]
    },
    {
     "name": "stderr",
     "output_type": "stream",
     "text": [
      "/tmp/ipykernel_1297/3732361808.py:38: DeprecationWarning: Conversion of an array with ndim > 0 to a scalar is deprecated, and will error in future. Ensure you extract a single element from your array before performing this operation. (Deprecated NumPy 1.25.)\n",
      "  y_hat[k]=predictions[k-previous_steps-1]\n"
     ]
    },
    {
     "name": "stdout",
     "output_type": "stream",
     "text": [
      "21888\n"
     ]
    },
    {
     "data": {
      "text/plain": [
       "[<matplotlib.lines.Line2D at 0x7fb5d19511c0>]"
      ]
     },
     "execution_count": 15,
     "metadata": {},
     "output_type": "execute_result"
    },
    {
     "data": {
      "image/png": "[encoded data removed]",
      "text/plain": [
       "<Figure size 640x480 with 1 Axes>"
      ]
     },
     "metadata": {},
     "output_type": "display_data"
    }
   ],
   "source": [
    "# THIS CELL IS NOT EXPORTED - free notebook cell for testing or development purposes\n",
    "print(apply(model,df,param))\n",
    "predictions=apply(model,df,param)\n",
    "\n",
    "print(df.shape[0])\n",
    "\n",
    "import matplotlib.pyplot as plt\n",
    "%matplotlib inline\n",
    "\n",
    "plt.plot(predictions)"
   ]
  },
  {
   "cell_type": "markdown",
   "metadata": {},
   "source": [
    "## Stage 5 - save the model"
   ]
  },
  {
   "cell_type": "code",
   "execution_count": 16,
   "metadata": {
    "deletable": false,
    "name": "mltkc_save"
   },
   "outputs": [],
   "source": [
    "# save model to name in expected convention \"<algo_name>_<model_name>\"\n",
    "def save(model,name):\n",
    "    model.save(MODEL_DIRECTORY + name + \".keras\")\n",
    "    return model"
   ]
  },
  {
   "cell_type": "code",
   "execution_count": 17,
   "metadata": {},
   "outputs": [
    {
     "data": {
      "text/plain": [
       "<keras.src.engine.sequential.Sequential at 0x7fb676424340>"
      ]
     },
     "execution_count": 17,
     "metadata": {},
     "output_type": "execute_result"
    }
   ],
   "source": [
    "save(model,\"lstm_ac_power\")"
   ]
  },
  {
   "cell_type": "markdown",
   "metadata": {},
   "source": [
    "## Stage 6 - load the model"
   ]
  },
  {
   "cell_type": "code",
   "execution_count": 19,
   "metadata": {
    "deletable": false,
    "name": "mltkc_load"
   },
   "outputs": [],
   "source": [
    "# load model from name in expected convention \"<algo_name>_<model_name>\"\n",
    "def load(name):\n",
    "    model = load_model(MODEL_DIRECTORY + name + \".keras\")\n",
    "    return model"
   ]
  },
  {
   "cell_type": "code",
   "execution_count": 21,
   "metadata": {},
   "outputs": [
    {
     "data": {
      "text/plain": [
       "<keras.src.engine.sequential.Sequential at 0x7fb5d183dbe0>"
      ]
     },
     "execution_count": 21,
     "metadata": {},
     "output_type": "execute_result"
    }
   ],
   "source": [
    "model2 = load(\"lstm_ac_power\")\n",
    "model2"
   ]
  },
  {
   "cell_type": "markdown",
   "metadata": {},
   "source": [
    "## Stage 7 - provide a summary of the model"
   ]
  },
  {
   "cell_type": "code",
   "execution_count": 22,
   "metadata": {
    "deletable": false,
    "name": "mltkc_summary"
   },
   "outputs": [],
   "source": [
    "# return a model summary\n",
    "def summary(model=None):\n",
    "    returns = {\"version\": {\"numpy\": np.__version__, \"pandas\": pd.__version__} }\n",
    "    return returns"
   ]
  },
  {
   "cell_type": "markdown",
   "metadata": {},
   "source": [
    "## End of Stages\n",
    "All subsequent cells are not tagged and can be used for further freeform code"
   ]
  },
  {
   "cell_type": "code",
   "execution_count": null,
   "metadata": {},
   "outputs": [],
   "source": []
  },
  {
   "cell_type": "code",
   "execution_count": null,
   "metadata": {},
   "outputs": [],
   "source": []
  }
 ],
 "metadata": {
  "kernelspec": {
   "display_name": "Python 3 (ipykernel)",
   "language": "python",
   "name": "python3"
  },
  "language_info": {
   "codemirror_mode": {
    "name": "ipython",
    "version": 3
   },
   "file_extension": ".py",
   "mimetype": "text/x-python",
   "name": "python",
   "nbconvert_exporter": "python",
   "pygments_lexer": "ipython3",
   "version": "3.9.13"
  }
 },
 "nbformat": 4,
 "nbformat_minor": 4
}
