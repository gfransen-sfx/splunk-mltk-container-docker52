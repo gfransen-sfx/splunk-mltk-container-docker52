{
 "cells": [
  {
   "cell_type": "markdown",
   "metadata": {},
   "source": [
    "# Deep Learning Toolkit for Splunk - Notebook for STL - Seasonality and Trend Decomposition"
   ]
  },
  {
   "cell_type": "markdown",
   "metadata": {},
   "source": [
    "This notebook contains a barebone example workflow how to work on custom containerized code that seamlessly interfaces with the Deep Learning Toolkit for Splunk."
   ]
  },
  {
   "cell_type": "markdown",
   "metadata": {},
   "source": [
    "Note: By default every time you save this notebook the cells are exported into a python module which is then invoked by Splunk MLTK commands like <code> | fit ... | apply ... | summary </code>. Please read the Model Development Guide in the Deep Learning Toolkit app for more information."
   ]
  },
  {
   "cell_type": "markdown",
   "metadata": {},
   "source": [
    "## Stage 0 - import libraries\n",
    "At stage 0 we define all imports necessary to run our subsequent code depending on various libraries."
   ]
  },
  {
   "cell_type": "code",
   "execution_count": 1,
   "metadata": {
    "deletable": false,
    "name": "mltkc_import"
   },
   "outputs": [],
   "source": [
    "# this definition exposes all python module imports that should be available in all subsequent commands\n",
    "import json\n",
    "import numpy as np\n",
    "import pandas as pd\n",
    "from statsmodels.tsa.seasonal import STL\n",
    "import statsmodels as sm\n",
    "# ...\n",
    "# global constants\n",
    "MODEL_DIRECTORY = \"/srv/app/model/data/\""
   ]
  },
  {
   "cell_type": "code",
   "execution_count": 2,
   "metadata": {},
   "outputs": [
    {
     "name": "stdout",
     "output_type": "stream",
     "text": [
      "numpy version: 1.19.2\n",
      "pandas version: 1.1.3\n",
      "statsmodels version: 0.12.0\n"
     ]
    }
   ],
   "source": [
    "# THIS CELL IS NOT EXPORTED - free notebook cell for testing or development purposes\n",
    "print(\"numpy version: \" + np.__version__)\n",
    "print(\"pandas version: \" + pd.__version__)\n",
    "print(\"statsmodels version: \" + sm.__version__)"
   ]
  },
  {
   "cell_type": "markdown",
   "metadata": {},
   "source": [
    "## Stage 1 - get a data sample from Splunk\n",
    "In Splunk run a search to pipe a dataset into your notebook environment. Note: mode=stage is used in the | fit command to do this."
   ]
  },
  {
   "cell_type": "markdown",
   "metadata": {},
   "source": [
    "| inputlookup cyclical_business_process.csv<br>\n",
    "| fit MLTKContainer mode=stage algo=seasonality_and_trend_decomposition _time logons"
   ]
  },
  {
   "cell_type": "markdown",
   "metadata": {},
   "source": [
    "After you run this search your data set sample is available as a csv inside the container to develop your model. The name is taken from the into keyword (\"barebone_model\" in the example above) or set to \"default\" if no into keyword is present. This step is intended to work with a subset of your data to create your custom model."
   ]
  },
  {
   "cell_type": "code",
   "execution_count": 63,
   "metadata": {
    "deletable": false,
    "name": "mltkc_stage"
   },
   "outputs": [],
   "source": [
    "# this cell is not executed from MLTK and should only be used for staging data into the notebook environment\n",
    "def stage(name):\n",
    "    with open(\"data/\"+name+\".csv\", 'r') as f:\n",
    "        df = pd.read_csv(f)\n",
    "    with open(\"data/\"+name+\".json\", 'r') as f:\n",
    "        param = json.load(f)\n",
    "    return df, param"
   ]
  },
  {
   "cell_type": "code",
   "execution_count": 74,
   "metadata": {},
   "outputs": [
    {
     "name": "stdout",
     "output_type": "stream",
     "text": [
      "             logons\n",
      "count  11042.000000\n",
      "mean      55.689006\n",
      "std       44.706658\n",
      "min        0.000000\n",
      "25%       18.000000\n",
      "50%       42.000000\n",
      "75%       86.000000\n",
      "max      286.200000\n",
      "{'options': {'params': {'mode': 'stage', 'algo': 'seasonality_and_trend_decomposition'}, 'args': ['*'], 'feature_variables': ['*'], 'algo_name': 'MLTKContainer', 'mlspl_limits': {'disabled': False, 'handle_new_cat': 'default', 'max_distinct_cat_values': '100', 'max_distinct_cat_values_for_classifiers': '100', 'max_distinct_cat_values_for_scoring': '100', 'max_fit_time': '1200', 'max_inputs': '500000', 'max_memory_usage_mb': '6000', 'max_model_size_mb': '15', 'max_score_time': '600', 'streaming_apply': '0', 'use_sampling': '1'}, 'kfold_cv': None}, 'feature_variables': ['_time', 'logons']}\n"
     ]
    }
   ],
   "source": [
    "# THIS CELL IS NOT EXPORTED - free notebook cell for testing or development purposes\n",
    "df, param = stage(\"default\")\n",
    "print(df.describe())\n",
    "print(param)"
   ]
  },
  {
   "cell_type": "markdown",
   "metadata": {},
   "source": [
    "## Stage 2 - create and initialize a model"
   ]
  },
  {
   "cell_type": "code",
   "execution_count": 13,
   "metadata": {
    "deletable": false,
    "name": "mltkc_init"
   },
   "outputs": [],
   "source": [
    "# initialize your model\n",
    "# available inputs: data and parameters\n",
    "# returns the model object which will be used as a reference to call fit, apply and summary subsequently\n",
    "def init(df,param):\n",
    "    model = {}\n",
    "    return model"
   ]
  },
  {
   "cell_type": "code",
   "execution_count": 17,
   "metadata": {
    "scrolled": true
   },
   "outputs": [
    {
     "name": "stdout",
     "output_type": "stream",
     "text": [
      "{}\n"
     ]
    }
   ],
   "source": [
    "# THIS CELL IS NOT EXPORTED - free notebook cell for testing or development purposes\n",
    "print(init(df,param))\n",
    "model=init(df,param)"
   ]
  },
  {
   "cell_type": "markdown",
   "metadata": {},
   "source": [
    "## Stage 3 - fit the model"
   ]
  },
  {
   "cell_type": "code",
   "execution_count": 18,
   "metadata": {
    "deletable": false,
    "name": "mltkc_fit"
   },
   "outputs": [],
   "source": [
    "# train your model\n",
    "# returns a fit info json object and may modify the model object\n",
    "def fit(model,df,param):\n",
    "    return \"info\""
   ]
  },
  {
   "cell_type": "code",
   "execution_count": 19,
   "metadata": {},
   "outputs": [
    {
     "name": "stdout",
     "output_type": "stream",
     "text": [
      "info\n"
     ]
    }
   ],
   "source": [
    "# THIS CELL IS NOT EXPORTED - free notebook cell for testing or development purposes\n",
    "print(fit(model,df,param))"
   ]
  },
  {
   "cell_type": "markdown",
   "metadata": {},
   "source": [
    "## Stage 4 - apply the model"
   ]
  },
  {
   "cell_type": "code",
   "execution_count": 149,
   "metadata": {
    "deletable": false,
    "name": "mltkc_apply"
   },
   "outputs": [],
   "source": [
    "# apply your model\n",
    "# returns the calculated results\n",
    "def apply(model,df,param):\n",
    "    data=df\n",
    "    data['_time']=pd.to_datetime(data['_time'])\n",
    "    data = data.set_index('_time') # Set the index to datetime object.\n",
    "    data=data.asfreq('h')\n",
    "    \n",
    "    res=STL(data).fit()\n",
    "    results=pd.DataFrame({\"seasonality\": res.seasonal, \"trend\": res.trend, \"residual\": res.resid})\n",
    "    results.reset_index(level=0, inplace=True)\n",
    "    return results"
   ]
  },
  {
   "cell_type": "code",
   "execution_count": 150,
   "metadata": {},
   "outputs": [
    {
     "data": {
      "text/html": [
       "<div>\n",
       "<style scoped>\n",
       "    .dataframe tbody tr th:only-of-type {\n",
       "        vertical-align: middle;\n",
       "    }\n",
       "\n",
       "    .dataframe tbody tr th {\n",
       "        vertical-align: top;\n",
       "    }\n",
       "\n",
       "    .dataframe thead th {\n",
       "        text-align: right;\n",
       "    }\n",
       "</style>\n",
       "<table border=\"1\" class=\"dataframe\">\n",
       "  <thead>\n",
       "    <tr style=\"text-align: right;\">\n",
       "      <th></th>\n",
       "      <th>seasonality</th>\n",
       "      <th>trend</th>\n",
       "      <th>residual</th>\n",
       "    </tr>\n",
       "    <tr>\n",
       "      <th>_time</th>\n",
       "      <th></th>\n",
       "      <th></th>\n",
       "      <th></th>\n",
       "    </tr>\n",
       "  </thead>\n",
       "  <tbody>\n",
       "    <tr>\n",
       "      <th>2018-08-04 00:00:00-07:00</th>\n",
       "      <td>-18.539007</td>\n",
       "      <td>21.048721</td>\n",
       "      <td>-2.509714</td>\n",
       "    </tr>\n",
       "    <tr>\n",
       "      <th>2018-08-04 01:00:00-07:00</th>\n",
       "      <td>-16.283760</td>\n",
       "      <td>21.414126</td>\n",
       "      <td>-2.130367</td>\n",
       "    </tr>\n",
       "    <tr>\n",
       "      <th>2018-08-04 02:00:00-07:00</th>\n",
       "      <td>-14.912778</td>\n",
       "      <td>21.772331</td>\n",
       "      <td>-2.859553</td>\n",
       "    </tr>\n",
       "    <tr>\n",
       "      <th>2018-08-04 03:00:00-07:00</th>\n",
       "      <td>-15.487972</td>\n",
       "      <td>22.122890</td>\n",
       "      <td>-2.634919</td>\n",
       "    </tr>\n",
       "    <tr>\n",
       "      <th>2018-08-04 04:00:00-07:00</th>\n",
       "      <td>-17.417354</td>\n",
       "      <td>22.465436</td>\n",
       "      <td>-0.048082</td>\n",
       "    </tr>\n",
       "    <tr>\n",
       "      <th>...</th>\n",
       "      <td>...</td>\n",
       "      <td>...</td>\n",
       "      <td>...</td>\n",
       "    </tr>\n",
       "    <tr>\n",
       "      <th>2018-09-11 04:00:00-07:00</th>\n",
       "      <td>-40.159651</td>\n",
       "      <td>64.758349</td>\n",
       "      <td>-9.598698</td>\n",
       "    </tr>\n",
       "    <tr>\n",
       "      <th>2018-09-11 05:00:00-07:00</th>\n",
       "      <td>-37.880478</td>\n",
       "      <td>64.413210</td>\n",
       "      <td>-8.532731</td>\n",
       "    </tr>\n",
       "    <tr>\n",
       "      <th>2018-09-11 06:00:00-07:00</th>\n",
       "      <td>-24.266634</td>\n",
       "      <td>64.036520</td>\n",
       "      <td>-1.769886</td>\n",
       "    </tr>\n",
       "    <tr>\n",
       "      <th>2018-09-11 07:00:00-07:00</th>\n",
       "      <td>-18.754625</td>\n",
       "      <td>63.629974</td>\n",
       "      <td>4.124650</td>\n",
       "    </tr>\n",
       "    <tr>\n",
       "      <th>2018-09-11 08:00:00-07:00</th>\n",
       "      <td>-33.342094</td>\n",
       "      <td>63.195244</td>\n",
       "      <td>-18.853150</td>\n",
       "    </tr>\n",
       "  </tbody>\n",
       "</table>\n",
       "<p>921 rows × 3 columns</p>\n",
       "</div>"
      ],
      "text/plain": [
       "                           seasonality      trend   residual\n",
       "_time                                                       \n",
       "2018-08-04 00:00:00-07:00   -18.539007  21.048721  -2.509714\n",
       "2018-08-04 01:00:00-07:00   -16.283760  21.414126  -2.130367\n",
       "2018-08-04 02:00:00-07:00   -14.912778  21.772331  -2.859553\n",
       "2018-08-04 03:00:00-07:00   -15.487972  22.122890  -2.634919\n",
       "2018-08-04 04:00:00-07:00   -17.417354  22.465436  -0.048082\n",
       "...                                ...        ...        ...\n",
       "2018-09-11 04:00:00-07:00   -40.159651  64.758349  -9.598698\n",
       "2018-09-11 05:00:00-07:00   -37.880478  64.413210  -8.532731\n",
       "2018-09-11 06:00:00-07:00   -24.266634  64.036520  -1.769886\n",
       "2018-09-11 07:00:00-07:00   -18.754625  63.629974   4.124650\n",
       "2018-09-11 08:00:00-07:00   -33.342094  63.195244 -18.853150\n",
       "\n",
       "[921 rows x 3 columns]"
      ]
     },
     "execution_count": 150,
     "metadata": {},
     "output_type": "execute_result"
    }
   ],
   "source": [
    "# THIS CELL IS NOT EXPORTED - free notebook cell for testing or development purposes\n",
    "apply(model,df,param)"
   ]
  },
  {
   "cell_type": "markdown",
   "metadata": {},
   "source": [
    "## Stage 5 - save the model"
   ]
  },
  {
   "cell_type": "code",
   "execution_count": null,
   "metadata": {
    "deletable": false,
    "name": "mltkc_save"
   },
   "outputs": [],
   "source": [
    "# save model to name in expected convention \"<algo_name>_<model_name>\"\n",
    "def save(model,name):\n",
    "    \n",
    "    return model"
   ]
  },
  {
   "cell_type": "markdown",
   "metadata": {},
   "source": [
    "## Stage 6 - load the model"
   ]
  },
  {
   "cell_type": "code",
   "execution_count": null,
   "metadata": {
    "deletable": false,
    "name": "mltkc_load"
   },
   "outputs": [],
   "source": [
    "# load model from name in expected convention \"<algo_name>_<model_name>\"\n",
    "def load(name):\n",
    "    \n",
    "    return model"
   ]
  },
  {
   "cell_type": "markdown",
   "metadata": {},
   "source": [
    "## Stage 7 - provide a summary of the model"
   ]
  },
  {
   "cell_type": "code",
   "execution_count": null,
   "metadata": {
    "deletable": false,
    "name": "mltkc_summary"
   },
   "outputs": [],
   "source": [
    "# return a model summary\n",
    "def summary(model=None):\n",
    "    returns = {\"version\": {\"numpy\": np.__version__, \"pandas\": pd.__version__} }\n",
    "    return returns"
   ]
  },
  {
   "cell_type": "markdown",
   "metadata": {},
   "source": [
    "## End of Stages\n",
    "All subsequent cells are not tagged and can be used for further freeform code"
   ]
  },
  {
   "cell_type": "code",
   "execution_count": null,
   "metadata": {},
   "outputs": [],
   "source": []
  },
  {
   "cell_type": "code",
   "execution_count": null,
   "metadata": {},
   "outputs": [],
   "source": []
  },
  {
   "cell_type": "code",
   "execution_count": null,
   "metadata": {},
   "outputs": [],
   "source": []
  },
  {
   "cell_type": "code",
   "execution_count": null,
   "metadata": {},
   "outputs": [],
   "source": []
  }
 ],
 "metadata": {
  "kernelspec": {
   "display_name": "Python 3",
   "language": "python",
   "name": "python3"
  },
  "language_info": {
   "codemirror_mode": {
    "name": "ipython",
    "version": 3
   },
   "file_extension": ".py",
   "mimetype": "text/x-python",
   "name": "python",
   "nbconvert_exporter": "python",
   "pygments_lexer": "ipython3",
   "version": "3.8.5"
  }
 },
 "nbformat": 4,
 "nbformat_minor": 4
}
