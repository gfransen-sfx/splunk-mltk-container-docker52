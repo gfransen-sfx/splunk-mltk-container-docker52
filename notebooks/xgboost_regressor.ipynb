{
 "cells": [
  {
   "cell_type": "markdown",
   "metadata": {},
   "source": [
    "# xgboost regressor "
   ]
  },
  {
   "cell_type": "markdown",
   "metadata": {},
   "source": [
    "## Stage 0 - import libraries"
   ]
  },
  {
   "cell_type": "code",
   "execution_count": 1,
   "metadata": {
    "deletable": false,
    "name": "mltkc_import"
   },
   "outputs": [],
   "source": [
    "# this definition exposes all python module imports that should be available in all subsequent commands\n",
    "import json\n",
    "import numpy as np\n",
    "import pandas as pd\n",
    "from sklearn.model_selection import train_test_split\n",
    "from sklearn.metrics import mean_absolute_error\n",
    "from xgboost import XGBRegressor\n",
    "# ...\n",
    "# global constants\n",
    "MODEL_DIRECTORY = \"/srv/app/model/data/\""
   ]
  },
  {
   "cell_type": "code",
   "execution_count": 2,
   "metadata": {},
   "outputs": [
    {
     "name": "stdout",
     "output_type": "stream",
     "text": [
      "numpy version: 1.18.1\n",
      "pandas version: 1.0.1\n"
     ]
    }
   ],
   "source": [
    "# THIS CELL IS NOT EXPORTED - free notebook cell for testing or development purposes\n",
    "print(\"numpy version: \" + np.__version__)\n",
    "print(\"pandas version: \" + pd.__version__)"
   ]
  },
  {
   "cell_type": "markdown",
   "metadata": {},
   "source": [
    "## Stage 1 - get a data sample from Splunk"
   ]
  },
  {
   "cell_type": "markdown",
   "metadata": {},
   "source": [
    "| inputlookup server_power.csv <br>\n",
    "| fields - total-cpu-utilization <br>\n",
    "| fit MLTKContainer mode=stage algo=xgboost_regressor ac_power from total* into app:mj_model <br>"
   ]
  },
  {
   "cell_type": "code",
   "execution_count": 9,
   "metadata": {
    "deletable": false,
    "name": "mltkc_stage"
   },
   "outputs": [],
   "source": [
    "# this cell is not executed from MLTK and should only be used for staging data into the notebook environment\n",
    "def stage(name):\n",
    "    with open(\"data/\"+name+\".csv\", 'r') as f:\n",
    "        df = pd.read_csv(f)\n",
    "    with open(\"data/\"+name+\".json\", 'r') as f:\n",
    "        param = json.load(f)\n",
    "    return df, param"
   ]
  },
  {
   "cell_type": "code",
   "execution_count": 10,
   "metadata": {},
   "outputs": [
    {
     "name": "stdout",
     "output_type": "stream",
     "text": [
      "   ac_power  total-unhalted_core_cycles  total-instructions_retired  \\\n",
      "0     220.0                   4708152.0                   3924639.0   \n",
      "\n",
      "   total-last_level_cache_references  total-memory_bus_transactions  \\\n",
      "0                            75140.0                         5130.0   \n",
      "\n",
      "   total-cpu-utilization  total-disk-accesses  total-disk-blocks  \\\n",
      "0                   0.99                  0.0                0.0   \n",
      "\n",
      "   total-disk-utilization  \n",
      "0                     0.0  \n",
      "(31271, 9)\n",
      "{'options': {'params': {'mode': 'stage', 'algo': 'xgboost_mj'}, 'args': ['ac_power', 'total*'], 'target_variable': ['ac_power'], 'feature_variables': ['total*'], 'model_name': 'mj_model', 'algo_name': 'MLTKContainer', 'mlspl_limits': {'handle_new_cat': 'default', 'max_distinct_cat_values': '100', 'max_distinct_cat_values_for_classifiers': '100', 'max_distinct_cat_values_for_scoring': '100', 'max_fit_time': '600', 'max_inputs': '100000', 'max_memory_usage_mb': '1000', 'max_model_size_mb': '15', 'max_score_time': '600', 'streaming_apply': 'false', 'use_sampling': 'true'}, 'kfold_cv': None}, 'feature_variables': ['total-unhalted_core_cycles', 'total-instructions_retired', 'total-last_level_cache_references', 'total-memory_bus_transactions', 'total-cpu-utilization', 'total-disk-accesses', 'total-disk-blocks', 'total-disk-utilization'], 'target_variables': ['ac_power']}\n"
     ]
    }
   ],
   "source": [
    "df, param = stage(\"mj_model\")\n",
    "print(df[0:1])\n",
    "print(df.shape)\n",
    "print(str(param))"
   ]
  },
  {
   "cell_type": "markdown",
   "metadata": {},
   "source": [
    "## Stage 2 - create and initialize a model"
   ]
  },
  {
   "cell_type": "code",
   "execution_count": 11,
   "metadata": {
    "deletable": false,
    "name": "mltkc_init"
   },
   "outputs": [],
   "source": [
    "# initialize your model\n",
    "# available inputs: data and parameters\n",
    "# returns the model object which will be used as a reference to call fit, apply and summary subsequently\n",
    "def init(df,param):\n",
    "    #model = {}\n",
    "    #model['hyperparameter'] = 42.0\n",
    "    model = XGBRegressor()\n",
    "    return model"
   ]
  },
  {
   "cell_type": "code",
   "execution_count": 12,
   "metadata": {
    "scrolled": true
   },
   "outputs": [
    {
     "name": "stdout",
     "output_type": "stream",
     "text": [
      "XGBRegressor(base_score=None, booster=None, colsample_bylevel=None,\n",
      "             colsample_bynode=None, colsample_bytree=None, gamma=None,\n",
      "             gpu_id=None, importance_type='gain', interaction_constraints=None,\n",
      "             learning_rate=None, max_delta_step=None, max_depth=None,\n",
      "             min_child_weight=None, missing=nan, monotone_constraints=None,\n",
      "             n_estimators=100, n_jobs=None, num_parallel_tree=None,\n",
      "             objective='reg:squarederror', random_state=None, reg_alpha=None,\n",
      "             reg_lambda=None, scale_pos_weight=None, subsample=None,\n",
      "             tree_method=None, validate_parameters=None, verbosity=None)\n"
     ]
    }
   ],
   "source": [
    "# test mltkc_stage_create_model\n",
    "model = init(df,param)\n",
    "print(model)"
   ]
  },
  {
   "cell_type": "markdown",
   "metadata": {},
   "source": [
    "## Stage 3 - fit the model"
   ]
  },
  {
   "cell_type": "code",
   "execution_count": 13,
   "metadata": {
    "deletable": false,
    "name": "mltkc_fit"
   },
   "outputs": [],
   "source": [
    "# train your model\n",
    "# returns a fit info json object and may modify the model object\n",
    "def fit(model,df,param):\n",
    "    returns = {}\n",
    "    X = df[param['feature_variables']]\n",
    "    y = df[param['target_variables']]\n",
    "    #train_X, test_X, train_y, test_y = train_test_split(X, y, test_size=0.3)\n",
    "    #model.fit(train_X, train_y, verbose=False)\n",
    "    #predictions = model.predict(test_X)\n",
    "    #returns['Mean_Absolute_Error'] = str(mean_absolute_error(predictions, test_y))\n",
    "    \n",
    "    model.fit(X, y, verbose=False)\n",
    "    \n",
    "    info = {\"message\": \"model trained\"}\n",
    "    return info"
   ]
  },
  {
   "cell_type": "code",
   "execution_count": 14,
   "metadata": {},
   "outputs": [
    {
     "name": "stdout",
     "output_type": "stream",
     "text": [
      "{'message': 'model trained'}\n"
     ]
    }
   ],
   "source": [
    "returns = fit(model,df,param)\n",
    "print(returns)"
   ]
  },
  {
   "cell_type": "markdown",
   "metadata": {},
   "source": [
    "## Stage 4 - apply the model"
   ]
  },
  {
   "cell_type": "code",
   "execution_count": 17,
   "metadata": {
    "deletable": false,
    "name": "mltkc_apply"
   },
   "outputs": [],
   "source": [
    "# apply your model\n",
    "# returns the calculated results\n",
    "def apply(model,df,param):\n",
    "    \n",
    "    X = df[param['feature_variables']]    \n",
    "    y_hat = model.predict(X)\n",
    "    result = pd.DataFrame(y_hat, columns=['predicted_value'])\n",
    "    \n",
    "    return result"
   ]
  },
  {
   "cell_type": "code",
   "execution_count": 18,
   "metadata": {},
   "outputs": [
    {
     "name": "stdout",
     "output_type": "stream",
     "text": [
      "       predicted_value  total-unhalted_core_cycles  \\\n",
      "0           220.204880                4.708152e+06   \n",
      "1           220.855728                4.082736e+07   \n",
      "2           222.982483                2.171773e+07   \n",
      "3           220.731644                5.042548e+06   \n",
      "4           220.139694                4.418062e+06   \n",
      "...                ...                         ...   \n",
      "31266       248.072601                2.337313e+09   \n",
      "31267       248.036270                2.338347e+09   \n",
      "31268       248.091721                2.337886e+09   \n",
      "31269       248.141388                2.337613e+09   \n",
      "31270       242.140778                2.337861e+09   \n",
      "\n",
      "       total-instructions_retired  total-last_level_cache_references  \\\n",
      "0                    3.924639e+06                            75140.0   \n",
      "1                    2.843336e+07                           590082.0   \n",
      "2                    1.041723e+07                           360018.0   \n",
      "3                    3.985700e+06                            80619.0   \n",
      "4                    3.788243e+06                            68477.0   \n",
      "...                           ...                                ...   \n",
      "31266                2.294631e+09                        176001075.0   \n",
      "31267                2.295590e+09                        176023038.0   \n",
      "31268                2.294742e+09                        176013933.0   \n",
      "31269                2.294874e+09                        175966627.0   \n",
      "31270                2.294434e+09                        175980883.0   \n",
      "\n",
      "       total-memory_bus_transactions  total-cpu-utilization  \\\n",
      "0                             5130.0                   0.99   \n",
      "1                           180003.0                   1.15   \n",
      "2                           111197.0                   0.99   \n",
      "3                             9450.0                   0.00   \n",
      "4                             3582.0                   0.99   \n",
      "...                              ...                    ...   \n",
      "31266                      8021266.0                 100.00   \n",
      "31267                      8030083.0                 100.00   \n",
      "31268                      8027505.0                 100.00   \n",
      "31269                      8023215.0                 100.00   \n",
      "31270                      8027970.0                  97.31   \n",
      "\n",
      "       total-disk-accesses  total-disk-blocks  total-disk-utilization  \n",
      "0                     0.00               0.00                    0.00  \n",
      "1                     5.49             214.63                    3.66  \n",
      "2                    30.43             817.39                   30.43  \n",
      "3                     0.00               0.00                    0.00  \n",
      "4                     0.00               0.00                    0.00  \n",
      "...                    ...                ...                     ...  \n",
      "31266                 0.00               0.00                    0.00  \n",
      "31267                12.00             144.00                   10.00  \n",
      "31268                 1.00               8.00                    2.80  \n",
      "31269                 0.00               0.00                    0.00  \n",
      "31270                 0.00               0.00                    0.00  \n",
      "\n",
      "[31271 rows x 9 columns]\n"
     ]
    }
   ],
   "source": [
    "returns = apply(model,df,param)\n",
    "print(returns)"
   ]
  },
  {
   "cell_type": "markdown",
   "metadata": {},
   "source": [
    "## Stage 5 - save the model"
   ]
  },
  {
   "cell_type": "code",
   "execution_count": 20,
   "metadata": {
    "deletable": false,
    "name": "mltkc_save"
   },
   "outputs": [],
   "source": [
    "# save model to name in expected convention \"<algo_name>_<model_name>\"\n",
    "def save(model,name):\n",
    "    path = MODEL_DIRECTORY + name + \".json\"\n",
    "    model.save_model(path)\n",
    "    \n",
    "    return model"
   ]
  },
  {
   "cell_type": "markdown",
   "metadata": {},
   "source": [
    "## Stage 6 - load the model"
   ]
  },
  {
   "cell_type": "code",
   "execution_count": 21,
   "metadata": {
    "deletable": false,
    "name": "mltkc_load"
   },
   "outputs": [],
   "source": [
    "# load model from name in expected convention \"<algo_name>_<model_name>\"\n",
    "def load(name):\n",
    "    model = XGBRegressor()\n",
    "    model.load_model(MODEL_DIRECTORY + name + \".json\")\n",
    "    return model"
   ]
  },
  {
   "cell_type": "markdown",
   "metadata": {},
   "source": [
    "## Stage 7 - provide a summary of the model"
   ]
  },
  {
   "cell_type": "code",
   "execution_count": 22,
   "metadata": {
    "deletable": false,
    "name": "mltkc_summary"
   },
   "outputs": [],
   "source": [
    "# return a model summary\n",
    "def summary(model=None):\n",
    "    returns = {\"version\": {\"numpy\": np.__version__, \"pandas\": pd.__version__} }\n",
    "    return returns"
   ]
  }
 ],
 "metadata": {
  "kernelspec": {
   "display_name": "Python 3",
   "language": "python",
   "name": "python3"
  },
  "language_info": {
   "codemirror_mode": {
    "name": "ipython",
    "version": 3
   },
   "file_extension": ".py",
   "mimetype": "text/x-python",
   "name": "python",
   "nbconvert_exporter": "python",
   "pygments_lexer": "ipython3",
   "version": "3.7.6"
  }
 },
 "nbformat": 4,
 "nbformat_minor": 4
}
